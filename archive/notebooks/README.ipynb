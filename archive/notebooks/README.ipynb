{
 "cells": [
  {
   "cell_type": "markdown",
   "id": "9ce7c26f",
   "metadata": {},
   "source": [
    "# Health Insurance Cross-Sell\n",
    "\n",
    "## This project aims to order a potential client list by propensity score\n",
    "\n",
    "#### This project was made by {cookiecutter.author}}."
   ]
  },
  {
   "cell_type": "markdown",
   "id": "250c6004",
   "metadata": {},
   "source": [
    "## Disclaimer"
   ]
  },
  {
   "cell_type": "markdown",
   "id": "c8e97198",
   "metadata": {},
   "source": [
    "This project is based on the dataset available in kaggle website and the context is fictitious.\n",
    "\n",
    "The datasets used can be acessed by the link below: \n",
    "\n",
    "https://www.kaggle.com/anmolkumar/health-insurance-cross-sell-prediction"
   ]
  },
  {
   "cell_type": "markdown",
   "id": "2ac4cc4d",
   "metadata": {},
   "source": [
    "# 1. Business Problem."
   ]
  },
  {
   "cell_type": "markdown",
   "id": "629eff2c",
   "metadata": {},
   "source": [
    "The Insurance All company sell actually health insurance and the business team are planning to start sell vehicle insurance to their clients. \n",
    "\n",
    "Last year the marketing team consulted 380000 clients about their interest in vehicle insurance, and they responded if they like or not to take the vehicle insurance. To realize the project the company will provide the dataset with the results of this search.\n",
    "\n",
    "By now, the company has acumulated about 127000 new clients and the business team wants to offer the vehicle insurance to this new clients. The problem is that the campaign will be made in the shortest period possible and the capacity of calls of the marketing team is limited to 20000 call during the period of the campaing.\n",
    "\n",
    "This data science project will provide a classified list with the clients that are more prone to accept the offer of vehicle insurance. So the number of calls will be made more eficiently than a random call selection and the revenue of the campaing will be more optimized."
   ]
  },
  {
   "cell_type": "markdown",
   "id": "5b767e21",
   "metadata": {},
   "source": [
    "# 2. Business Assumptions."
   ]
  },
  {
   "cell_type": "markdown",
   "id": "345d11a4",
   "metadata": {},
   "source": [
    "The features provided by the dataset are described below and the target feature is **Response**.\n",
    "\n",
    "- **id:** Unique ID for the customer\n",
    "- **Gender:** Gender of the customer\n",
    "- **Age:** Age of the customer\n",
    "- **Driving_License:** 0 -> Customer does not have DL, 1 -> Customer already has DL\n",
    "- **Region_Code:** Unique code for the region of the customer\n",
    "- **Previously_Insured:** 1 -> Customer already has Vehicle Insurance, 0 -> Customer doesn't have Vehicle Insurance\n",
    "- **Vehicle_Age:** Age of the Vehicle\n",
    "- **Vehicle_Damage:** 1 -> Customer got his/her vehicle damaged in the past, 0 -> Customer didn't get his/her vehicle damaged in the past\n",
    "- **Annual_Premium:** The amount customer needs to pay as premium in the year\n",
    "- **PolicySalesChannel:** Anonymized Code for the channel of outreaching to the customer ie. Different Agents, Over Mail, Over Phone, In Person, etc\n",
    "- **Vintage:** Number of Days, Customer has been associated with the company\n",
    "- **Response:** 1 -> Customer is interested, 0 -> Customer is not interested"
   ]
  },
  {
   "cell_type": "markdown",
   "id": "10ae2b49",
   "metadata": {},
   "source": [
    "# 3. Solution Strategy"
   ]
  },
  {
   "cell_type": "markdown",
   "id": "0ec8dc8e",
   "metadata": {},
   "source": [
    "## 3.1 Final Product"
   ]
  },
  {
   "cell_type": "markdown",
   "id": "91748ce2",
   "metadata": {},
   "source": [
    "It will be delivered a google sheet with a classifier button so the marketing team need only to upload the list of clients and prees the button to classificate the best contacts to call."
   ]
  },
  {
   "cell_type": "markdown",
   "id": "60c5b80c",
   "metadata": {},
   "source": [
    "## 3.2 Tools"
   ]
  },
  {
   "cell_type": "markdown",
   "id": "0a0e9fc4",
   "metadata": {},
   "source": [
    "Python 3.8.0\n",
    "\n",
    "Jupyter Notebook\n",
    "\n",
    "Google Sheets\n",
    "\n",
    "Git and Github"
   ]
  },
  {
   "cell_type": "markdown",
   "id": "ab30bc4e",
   "metadata": {},
   "source": [
    "## 3.3 Process"
   ]
  },
  {
   "cell_type": "markdown",
   "id": "7e4ffe16",
   "metadata": {},
   "source": [
    "**Step 01. Data Description:** in this step some adaptations are made in the dataset so it is possible to identify dimension, types, presence of nan values and change types. Identify numerical and categorical features and appply some statistical metrics to analyze mean, median, maximum, minimum, range, skew, kurtosis and standard deviation.\n",
    "\n",
    "**Step 02. Feature Engineering:** in this step new features are created and some are modified to better understand the columns.\n",
    "\n",
    "**Step 03. Data Filtering:** in this step some rows and columns are dropped if it doesn’t make sense for the project scope or there isn’t enough information to deal with that feature.\n",
    "\n",
    "**Step 04. Exploratory Data Analysis:** in this step the data is analyzed to better understand the impact of the features in the project and model learn, and get insights from results.\n",
    "\n",
    "**Step 05. Data Preparation:** in this step some transformations such as numerical and nature transformation are made to prepare the data for the machine learning model.\n",
    "\n",
    "**Step 06. Feature Selection:** in this step some algorithms used to select the attributes that better represents the target feature (positive interest) and use them to train the model.\n",
    "\n",
    "**Step 07. Machine Learning Modelling:** in this step the machine learning model training is made and based in the precision@k and recall@k metrics the best model is selected.\n",
    "\n",
    "**Step 08. Hyperparameter Fine Tunning:** in this step the machine learning model choosed in step 07 is tuned with some aditional hyperparameters to get the final model.\n",
    "\n",
    "**Step 09. Understang Model Performance for Business Results:** this is the most important step where the model performance is translated to a business results.\n",
    "\n",
    "**Step 10. Deploy Model to Production:** in this step the model is published in a cloud platform for other peoples or devices access the solution proposed. The cloud platform choosed was Heroku.\n",
    "\n",
    "**Step 11. Telegram Bot:** in this step the already online tool is made available for the user from the Google Sheets. The user will be able to request the beste classified list by pressing the classifier button in the sheet."
   ]
  },
  {
   "cell_type": "markdown",
   "id": "03be95cf",
   "metadata": {},
   "source": [
    "# 4. Top 3 Data Insights"
   ]
  },
  {
   "cell_type": "markdown",
   "id": "a9a1a2c8",
   "metadata": {},
   "source": [
    "## **Hypothesis 01:** h8\n",
    "\n",
    "Customers with higher health insurance expenses are more likely to purchase a new product. \n",
    "\n",
    "**False:** There is a concentration of positive answers around of mean of annual premiums paid."
   ]
  },
  {
   "cell_type": "markdown",
   "id": "6f20b0e4",
   "metadata": {},
   "source": [
    "## **Hypothesis 03:** h6\n",
    "\n",
    "People with newer vehicles are more likely to take out car insurance.\n",
    "\n",
    "**False:** The interest in car insurance is larger about owners of vehicles with 1 and 2 years old."
   ]
  },
  {
   "cell_type": "markdown",
   "id": "ca466533",
   "metadata": {},
   "source": [
    "## **Hypothesis 03:** h2\n",
    "\n",
    "Older people are more interested in the vehicle insurance proposal.\n",
    "\n",
    "**False:** There are more clients interested in vehicle insurance with age between 38 and 49 years."
   ]
  },
  {
   "cell_type": "markdown",
   "id": "e652f965",
   "metadata": {
    "ExecuteTime": {
     "end_time": "2022-03-01T12:44:15.818789Z",
     "start_time": "2022-03-01T12:44:15.805550Z"
    }
   },
   "source": [
    "# 5. Machine Learning Model Applied"
   ]
  },
  {
   "cell_type": "markdown",
   "id": "cab059af",
   "metadata": {},
   "source": []
  },
  {
   "cell_type": "markdown",
   "id": "5e14db73",
   "metadata": {},
   "source": [
    "# 6. Machine Learning Model Performance"
   ]
  },
  {
   "cell_type": "markdown",
   "id": "191882b0",
   "metadata": {
    "ExecuteTime": {
     "end_time": "2022-03-01T12:44:16.163345Z",
     "start_time": "2022-03-01T12:44:16.150173Z"
    },
    "heading_collapsed": true
   },
   "source": [
    "# 7. Business Results"
   ]
  },
  {
   "cell_type": "markdown",
   "id": "2f5b6916",
   "metadata": {
    "hidden": true
   },
   "source": [
    "- The most relevant attributes of clients with interest in vehicle insurance are vehicle_damage, policy_sales_channel, vehicle_age, previously_insured, vintage, annual_premium, age, region_code and damage_per_rcode\n",
    "\n",
    "- The percentage of clients interested in vehicle insurance that will be contacted with 20.000 calls are 47.9%\n",
    "\n",
    "- The percentage of clients interested in vehicle insurance that will be contacted with 40.000 calls are 81.3%\n",
    "\n",
    "- To contact 80% of clients interested in vehicle insurance the marketing team needs to make 23369 calls"
   ]
  },
  {
   "cell_type": "markdown",
   "id": "a67da923",
   "metadata": {
    "heading_collapsed": true
   },
   "source": [
    "# 8. Conclusions"
   ]
  },
  {
   "cell_type": "markdown",
   "id": "ec6a4b62",
   "metadata": {
    "ExecuteTime": {
     "end_time": "2022-03-01T12:44:16.798008Z",
     "start_time": "2022-03-01T12:44:16.785997Z"
    },
    "heading_collapsed": true
   },
   "source": [
    "# 9. Lessons Learned"
   ]
  },
  {
   "cell_type": "markdown",
   "id": "871a7336",
   "metadata": {
    "heading_collapsed": true
   },
   "source": [
    "# 10. Next Steps to Improve"
   ]
  },
  {
   "cell_type": "markdown",
   "id": "7aa1d7a7",
   "metadata": {
    "heading_collapsed": true
   },
   "source": [
    "# LICENSE"
   ]
  },
  {
   "cell_type": "markdown",
   "id": "8e80c39c",
   "metadata": {
    "hidden": true
   },
   "source": [
    "### All Rights Reserved - Comunidade DS 2021"
   ]
  }
 ],
 "metadata": {
  "kernelspec": {
   "display_name": "HealthInsurance",
   "language": "python",
   "name": "healthinsurance"
  },
  "language_info": {
   "codemirror_mode": {
    "name": "ipython",
    "version": 3
   },
   "file_extension": ".py",
   "mimetype": "text/x-python",
   "name": "python",
   "nbconvert_exporter": "python",
   "pygments_lexer": "ipython3",
   "version": "3.8.0"
  },
  "varInspector": {
   "cols": {
    "lenName": 16,
    "lenType": 16,
    "lenVar": 40
   },
   "kernels_config": {
    "python": {
     "delete_cmd_postfix": "",
     "delete_cmd_prefix": "del ",
     "library": "var_list.py",
     "varRefreshCmd": "print(var_dic_list())"
    },
    "r": {
     "delete_cmd_postfix": ") ",
     "delete_cmd_prefix": "rm(",
     "library": "var_list.r",
     "varRefreshCmd": "cat(var_dic_list()) "
    }
   },
   "types_to_exclude": [
    "module",
    "function",
    "builtin_function_or_method",
    "instance",
    "_Feature"
   ],
   "window_display": false
  }
 },
 "nbformat": 4,
 "nbformat_minor": 5
}
