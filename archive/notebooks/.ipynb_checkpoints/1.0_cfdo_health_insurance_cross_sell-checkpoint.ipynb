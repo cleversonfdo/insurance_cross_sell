{
 "cells": [
  {
   "cell_type": "markdown",
   "id": "d748473c",
   "metadata": {
    "heading_collapsed": true
   },
   "source": [
    "# 0.0. Imports"
   ]
  },
  {
   "cell_type": "code",
   "execution_count": 2,
   "id": "b6d293ab",
   "metadata": {
    "ExecuteTime": {
     "end_time": "2022-03-15T20:08:23.126398Z",
     "start_time": "2022-03-15T20:08:13.984245Z"
    },
    "hidden": true
   },
   "outputs": [],
   "source": [
    "import numpy  as np\n",
    "import pandas as pd\n",
    "import boruta as bt\n",
    "import scikitplot as skplt\n",
    "import pickle\n",
    "\n",
    "import seaborn as sns\n",
    "\n",
    "from matplotlib import pyplot as plt\n",
    "\n",
    "from sklearn import preprocessing   as pp\n",
    "from sklearn import linear_model    as lm\n",
    "from sklearn import model_selection as ms\n",
    "from sklearn import ensemble        as en\n",
    "from sklearn import neighbors       as nh\n",
    "\n",
    "import warnings\n",
    "warnings.filterwarnings('ignore')"
   ]
  },
  {
   "cell_type": "code",
   "execution_count": 3,
   "id": "cd2060d8",
   "metadata": {
    "ExecuteTime": {
     "end_time": "2022-03-15T20:08:23.152174Z",
     "start_time": "2022-03-15T20:08:23.137908Z"
    },
    "hidden": true
   },
   "outputs": [],
   "source": [
    "pd.options.mode.chained_assignment = None  # default='warn'"
   ]
  },
  {
   "cell_type": "markdown",
   "id": "2b481191",
   "metadata": {
    "hidden": true
   },
   "source": [
    "## 0.1. Helper Function"
   ]
  },
  {
   "cell_type": "code",
   "execution_count": 4,
   "id": "96060c79",
   "metadata": {
    "ExecuteTime": {
     "end_time": "2022-03-15T20:08:23.196025Z",
     "start_time": "2022-03-15T20:08:23.161750Z"
    },
    "hidden": true
   },
   "outputs": [],
   "source": [
    "def jupyter_settings():\n",
    "    %matplotlib inline\n",
    "    %pylab inline\n",
    "    \n",
    "    plt.style.use( 'bmh' )\n",
    "    plt.rcParams['figure.figsize'] = [25, 12]\n",
    "    plt.rcParams['font.size'] = 24\n",
    "    \n",
    "    display( HTML( '<style>.container { width:100% !important; }</style>') )\n",
    "    pd.options.display.max_columns = None\n",
    "    pd.options.display.max_rows = None\n",
    "    pd.set_option( 'display.expand_frame_repr', False )\n",
    "    \n",
    "    sns.set()"
   ]
  },
  {
   "cell_type": "markdown",
   "id": "b6e45760",
   "metadata": {
    "ExecuteTime": {
     "end_time": "2022-02-28T21:33:09.513356Z",
     "start_time": "2022-02-28T21:33:09.332182Z"
    },
    "hidden": true
   },
   "source": [
    "## 0.2. Load dataset"
   ]
  },
  {
   "cell_type": "code",
   "execution_count": 7,
   "id": "c8f01e19",
   "metadata": {
    "ExecuteTime": {
     "end_time": "2022-03-15T20:08:23.285862Z",
     "start_time": "2022-03-15T20:08:23.209973Z"
    },
    "hidden": true
   },
   "outputs": [],
   "source": [
    "# Connect database\n",
    "import pandas   as pd\n",
    "import psycopg2 as pg"
   ]
  },
  {
   "cell_type": "code",
   "execution_count": 8,
   "id": "3324d97e",
   "metadata": {
    "ExecuteTime": {
     "end_time": "2022-03-15T20:08:45.490503Z",
     "start_time": "2022-03-15T20:08:23.298605Z"
    },
    "hidden": true
   },
   "outputs": [],
   "source": [
    "HOST = 'comunidade-ds-postgres.c50pcakiuwi3.us-east-1.rds.amazonaws.com'\n",
    "PORT = '5432'\n",
    "DATABASE = 'comunidadedsdb'\n",
    "USER = 'member'\n",
    "PASSWORD ='cdspa'\n",
    "\n",
    "conn = pg.connect(host=HOST,\n",
    "                  database=DATABASE,\n",
    "                  port=PORT,\n",
    "                  user=USER,\n",
    "                  password=PASSWORD)\n",
    "\n",
    "query = \"\"\"\n",
    "    SELECT *\n",
    "    FROM pa004.users u INNER JOIN pa004.vehicle v ON (u.id = v.id)\n",
    "                       INNER JOIN pa004.insurance i ON (u.id = i.id)\n",
    "\"\"\"\n",
    "\n",
    "data = pd.read_sql(query, conn)"
   ]
  },
  {
   "cell_type": "code",
   "execution_count": 9,
   "id": "e2840cd0",
   "metadata": {
    "ExecuteTime": {
     "end_time": "2022-03-15T20:08:45.590992Z",
     "start_time": "2022-03-15T20:08:45.499593Z"
    },
    "hidden": true
   },
   "outputs": [
    {
     "data": {
      "text/html": [
       "<div>\n",
       "<style scoped>\n",
       "    .dataframe tbody tr th:only-of-type {\n",
       "        vertical-align: middle;\n",
       "    }\n",
       "\n",
       "    .dataframe tbody tr th {\n",
       "        vertical-align: top;\n",
       "    }\n",
       "\n",
       "    .dataframe thead th {\n",
       "        text-align: right;\n",
       "    }\n",
       "</style>\n",
       "<table border=\"1\" class=\"dataframe\">\n",
       "  <thead>\n",
       "    <tr style=\"text-align: right;\">\n",
       "      <th></th>\n",
       "      <th>id</th>\n",
       "      <th>gender</th>\n",
       "      <th>age</th>\n",
       "      <th>region_code</th>\n",
       "      <th>policy_sales_channel</th>\n",
       "      <th>id</th>\n",
       "      <th>driving_license</th>\n",
       "      <th>vehicle_age</th>\n",
       "      <th>vehicle_damage</th>\n",
       "      <th>id</th>\n",
       "      <th>previously_insured</th>\n",
       "      <th>annual_premium</th>\n",
       "      <th>vintage</th>\n",
       "      <th>response</th>\n",
       "    </tr>\n",
       "  </thead>\n",
       "  <tbody>\n",
       "    <tr>\n",
       "      <th>0</th>\n",
       "      <td>7</td>\n",
       "      <td>Male</td>\n",
       "      <td>23</td>\n",
       "      <td>11.0</td>\n",
       "      <td>152.0</td>\n",
       "      <td>7</td>\n",
       "      <td>1</td>\n",
       "      <td>&lt; 1 Year</td>\n",
       "      <td>Yes</td>\n",
       "      <td>7</td>\n",
       "      <td>0</td>\n",
       "      <td>23367.0</td>\n",
       "      <td>249</td>\n",
       "      <td>0</td>\n",
       "    </tr>\n",
       "    <tr>\n",
       "      <th>1</th>\n",
       "      <td>13</td>\n",
       "      <td>Female</td>\n",
       "      <td>41</td>\n",
       "      <td>15.0</td>\n",
       "      <td>14.0</td>\n",
       "      <td>13</td>\n",
       "      <td>1</td>\n",
       "      <td>1-2 Year</td>\n",
       "      <td>No</td>\n",
       "      <td>13</td>\n",
       "      <td>1</td>\n",
       "      <td>31409.0</td>\n",
       "      <td>221</td>\n",
       "      <td>0</td>\n",
       "    </tr>\n",
       "    <tr>\n",
       "      <th>2</th>\n",
       "      <td>18</td>\n",
       "      <td>Female</td>\n",
       "      <td>25</td>\n",
       "      <td>35.0</td>\n",
       "      <td>152.0</td>\n",
       "      <td>18</td>\n",
       "      <td>1</td>\n",
       "      <td>&lt; 1 Year</td>\n",
       "      <td>No</td>\n",
       "      <td>18</td>\n",
       "      <td>1</td>\n",
       "      <td>46622.0</td>\n",
       "      <td>299</td>\n",
       "      <td>0</td>\n",
       "    </tr>\n",
       "    <tr>\n",
       "      <th>3</th>\n",
       "      <td>31</td>\n",
       "      <td>Female</td>\n",
       "      <td>26</td>\n",
       "      <td>8.0</td>\n",
       "      <td>160.0</td>\n",
       "      <td>31</td>\n",
       "      <td>1</td>\n",
       "      <td>&lt; 1 Year</td>\n",
       "      <td>No</td>\n",
       "      <td>31</td>\n",
       "      <td>0</td>\n",
       "      <td>2630.0</td>\n",
       "      <td>136</td>\n",
       "      <td>0</td>\n",
       "    </tr>\n",
       "    <tr>\n",
       "      <th>4</th>\n",
       "      <td>39</td>\n",
       "      <td>Male</td>\n",
       "      <td>45</td>\n",
       "      <td>8.0</td>\n",
       "      <td>124.0</td>\n",
       "      <td>39</td>\n",
       "      <td>1</td>\n",
       "      <td>1-2 Year</td>\n",
       "      <td>Yes</td>\n",
       "      <td>39</td>\n",
       "      <td>0</td>\n",
       "      <td>42297.0</td>\n",
       "      <td>264</td>\n",
       "      <td>0</td>\n",
       "    </tr>\n",
       "  </tbody>\n",
       "</table>\n",
       "</div>"
      ],
      "text/plain": [
       "   id  gender  age  region_code  policy_sales_channel  id  driving_license  \\\n",
       "0   7    Male   23         11.0                 152.0   7                1   \n",
       "1  13  Female   41         15.0                  14.0  13                1   \n",
       "2  18  Female   25         35.0                 152.0  18                1   \n",
       "3  31  Female   26          8.0                 160.0  31                1   \n",
       "4  39    Male   45          8.0                 124.0  39                1   \n",
       "\n",
       "  vehicle_age vehicle_damage  id  previously_insured  annual_premium  vintage  \\\n",
       "0    < 1 Year            Yes   7                   0         23367.0      249   \n",
       "1    1-2 Year             No  13                   1         31409.0      221   \n",
       "2    < 1 Year             No  18                   1         46622.0      299   \n",
       "3    < 1 Year             No  31                   0          2630.0      136   \n",
       "4    1-2 Year            Yes  39                   0         42297.0      264   \n",
       "\n",
       "   response  \n",
       "0         0  \n",
       "1         0  \n",
       "2         0  \n",
       "3         0  \n",
       "4         0  "
      ]
     },
     "execution_count": 9,
     "metadata": {},
     "output_type": "execute_result"
    }
   ],
   "source": [
    "data.head()"
   ]
  },
  {
   "cell_type": "code",
   "execution_count": 10,
   "id": "84dabcb4",
   "metadata": {
    "ExecuteTime": {
     "end_time": "2022-03-15T20:08:57.285401Z",
     "start_time": "2022-03-15T20:08:45.602104Z"
    },
    "hidden": true
   },
   "outputs": [],
   "source": [
    "data.to_csv('../data/raw/train.csv', index=False)"
   ]
  },
  {
   "cell_type": "code",
   "execution_count": 11,
   "id": "f96a4184",
   "metadata": {
    "ExecuteTime": {
     "end_time": "2022-03-15T20:08:58.591202Z",
     "start_time": "2022-03-15T20:08:57.293346Z"
    },
    "hidden": true
   },
   "outputs": [],
   "source": [
    "df_raw = pd.read_csv('../data/raw/train.csv')"
   ]
  },
  {
   "cell_type": "code",
   "execution_count": 12,
   "id": "b20ed65f",
   "metadata": {
    "ExecuteTime": {
     "end_time": "2022-03-15T20:08:58.669549Z",
     "start_time": "2022-03-15T20:08:58.598289Z"
    },
    "hidden": true
   },
   "outputs": [
    {
     "data": {
      "text/html": [
       "<div>\n",
       "<style scoped>\n",
       "    .dataframe tbody tr th:only-of-type {\n",
       "        vertical-align: middle;\n",
       "    }\n",
       "\n",
       "    .dataframe tbody tr th {\n",
       "        vertical-align: top;\n",
       "    }\n",
       "\n",
       "    .dataframe thead th {\n",
       "        text-align: right;\n",
       "    }\n",
       "</style>\n",
       "<table border=\"1\" class=\"dataframe\">\n",
       "  <thead>\n",
       "    <tr style=\"text-align: right;\">\n",
       "      <th></th>\n",
       "      <th>id</th>\n",
       "      <th>gender</th>\n",
       "      <th>age</th>\n",
       "      <th>region_code</th>\n",
       "      <th>policy_sales_channel</th>\n",
       "      <th>id.1</th>\n",
       "      <th>driving_license</th>\n",
       "      <th>vehicle_age</th>\n",
       "      <th>vehicle_damage</th>\n",
       "      <th>id.2</th>\n",
       "      <th>previously_insured</th>\n",
       "      <th>annual_premium</th>\n",
       "      <th>vintage</th>\n",
       "      <th>response</th>\n",
       "    </tr>\n",
       "  </thead>\n",
       "  <tbody>\n",
       "    <tr>\n",
       "      <th>0</th>\n",
       "      <td>7</td>\n",
       "      <td>Male</td>\n",
       "      <td>23</td>\n",
       "      <td>11.0</td>\n",
       "      <td>152.0</td>\n",
       "      <td>7</td>\n",
       "      <td>1</td>\n",
       "      <td>&lt; 1 Year</td>\n",
       "      <td>Yes</td>\n",
       "      <td>7</td>\n",
       "      <td>0</td>\n",
       "      <td>23367.0</td>\n",
       "      <td>249</td>\n",
       "      <td>0</td>\n",
       "    </tr>\n",
       "    <tr>\n",
       "      <th>1</th>\n",
       "      <td>13</td>\n",
       "      <td>Female</td>\n",
       "      <td>41</td>\n",
       "      <td>15.0</td>\n",
       "      <td>14.0</td>\n",
       "      <td>13</td>\n",
       "      <td>1</td>\n",
       "      <td>1-2 Year</td>\n",
       "      <td>No</td>\n",
       "      <td>13</td>\n",
       "      <td>1</td>\n",
       "      <td>31409.0</td>\n",
       "      <td>221</td>\n",
       "      <td>0</td>\n",
       "    </tr>\n",
       "    <tr>\n",
       "      <th>2</th>\n",
       "      <td>18</td>\n",
       "      <td>Female</td>\n",
       "      <td>25</td>\n",
       "      <td>35.0</td>\n",
       "      <td>152.0</td>\n",
       "      <td>18</td>\n",
       "      <td>1</td>\n",
       "      <td>&lt; 1 Year</td>\n",
       "      <td>No</td>\n",
       "      <td>18</td>\n",
       "      <td>1</td>\n",
       "      <td>46622.0</td>\n",
       "      <td>299</td>\n",
       "      <td>0</td>\n",
       "    </tr>\n",
       "    <tr>\n",
       "      <th>3</th>\n",
       "      <td>31</td>\n",
       "      <td>Female</td>\n",
       "      <td>26</td>\n",
       "      <td>8.0</td>\n",
       "      <td>160.0</td>\n",
       "      <td>31</td>\n",
       "      <td>1</td>\n",
       "      <td>&lt; 1 Year</td>\n",
       "      <td>No</td>\n",
       "      <td>31</td>\n",
       "      <td>0</td>\n",
       "      <td>2630.0</td>\n",
       "      <td>136</td>\n",
       "      <td>0</td>\n",
       "    </tr>\n",
       "    <tr>\n",
       "      <th>4</th>\n",
       "      <td>39</td>\n",
       "      <td>Male</td>\n",
       "      <td>45</td>\n",
       "      <td>8.0</td>\n",
       "      <td>124.0</td>\n",
       "      <td>39</td>\n",
       "      <td>1</td>\n",
       "      <td>1-2 Year</td>\n",
       "      <td>Yes</td>\n",
       "      <td>39</td>\n",
       "      <td>0</td>\n",
       "      <td>42297.0</td>\n",
       "      <td>264</td>\n",
       "      <td>0</td>\n",
       "    </tr>\n",
       "  </tbody>\n",
       "</table>\n",
       "</div>"
      ],
      "text/plain": [
       "   id  gender  age  region_code  policy_sales_channel  id.1  driving_license  \\\n",
       "0   7    Male   23         11.0                 152.0     7                1   \n",
       "1  13  Female   41         15.0                  14.0    13                1   \n",
       "2  18  Female   25         35.0                 152.0    18                1   \n",
       "3  31  Female   26          8.0                 160.0    31                1   \n",
       "4  39    Male   45          8.0                 124.0    39                1   \n",
       "\n",
       "  vehicle_age vehicle_damage  id.2  previously_insured  annual_premium  \\\n",
       "0    < 1 Year            Yes     7                   0         23367.0   \n",
       "1    1-2 Year             No    13                   1         31409.0   \n",
       "2    < 1 Year             No    18                   1         46622.0   \n",
       "3    < 1 Year             No    31                   0          2630.0   \n",
       "4    1-2 Year            Yes    39                   0         42297.0   \n",
       "\n",
       "   vintage  response  \n",
       "0      249         0  \n",
       "1      221         0  \n",
       "2      299         0  \n",
       "3      136         0  \n",
       "4      264         0  "
      ]
     },
     "execution_count": 12,
     "metadata": {},
     "output_type": "execute_result"
    }
   ],
   "source": [
    "df_raw.head()"
   ]
  },
  {
   "cell_type": "code",
   "execution_count": 13,
   "id": "79aaae57",
   "metadata": {
    "ExecuteTime": {
     "end_time": "2022-03-15T20:08:58.815446Z",
     "start_time": "2022-03-15T20:08:58.694600Z"
    },
    "hidden": true
   },
   "outputs": [
    {
     "data": {
      "text/html": [
       "<div>\n",
       "<style scoped>\n",
       "    .dataframe tbody tr th:only-of-type {\n",
       "        vertical-align: middle;\n",
       "    }\n",
       "\n",
       "    .dataframe tbody tr th {\n",
       "        vertical-align: top;\n",
       "    }\n",
       "\n",
       "    .dataframe thead th {\n",
       "        text-align: right;\n",
       "    }\n",
       "</style>\n",
       "<table border=\"1\" class=\"dataframe\">\n",
       "  <thead>\n",
       "    <tr style=\"text-align: right;\">\n",
       "      <th></th>\n",
       "      <th>id</th>\n",
       "      <th>gender</th>\n",
       "      <th>age</th>\n",
       "      <th>region_code</th>\n",
       "      <th>policy_sales_channel</th>\n",
       "      <th>driving_license</th>\n",
       "      <th>vehicle_age</th>\n",
       "      <th>vehicle_damage</th>\n",
       "      <th>previously_insured</th>\n",
       "      <th>annual_premium</th>\n",
       "      <th>vintage</th>\n",
       "      <th>response</th>\n",
       "    </tr>\n",
       "  </thead>\n",
       "  <tbody>\n",
       "    <tr>\n",
       "      <th>0</th>\n",
       "      <td>7</td>\n",
       "      <td>Male</td>\n",
       "      <td>23</td>\n",
       "      <td>11.0</td>\n",
       "      <td>152.0</td>\n",
       "      <td>1</td>\n",
       "      <td>&lt; 1 Year</td>\n",
       "      <td>Yes</td>\n",
       "      <td>0</td>\n",
       "      <td>23367.0</td>\n",
       "      <td>249</td>\n",
       "      <td>0</td>\n",
       "    </tr>\n",
       "    <tr>\n",
       "      <th>1</th>\n",
       "      <td>13</td>\n",
       "      <td>Female</td>\n",
       "      <td>41</td>\n",
       "      <td>15.0</td>\n",
       "      <td>14.0</td>\n",
       "      <td>1</td>\n",
       "      <td>1-2 Year</td>\n",
       "      <td>No</td>\n",
       "      <td>1</td>\n",
       "      <td>31409.0</td>\n",
       "      <td>221</td>\n",
       "      <td>0</td>\n",
       "    </tr>\n",
       "    <tr>\n",
       "      <th>2</th>\n",
       "      <td>18</td>\n",
       "      <td>Female</td>\n",
       "      <td>25</td>\n",
       "      <td>35.0</td>\n",
       "      <td>152.0</td>\n",
       "      <td>1</td>\n",
       "      <td>&lt; 1 Year</td>\n",
       "      <td>No</td>\n",
       "      <td>1</td>\n",
       "      <td>46622.0</td>\n",
       "      <td>299</td>\n",
       "      <td>0</td>\n",
       "    </tr>\n",
       "    <tr>\n",
       "      <th>3</th>\n",
       "      <td>31</td>\n",
       "      <td>Female</td>\n",
       "      <td>26</td>\n",
       "      <td>8.0</td>\n",
       "      <td>160.0</td>\n",
       "      <td>1</td>\n",
       "      <td>&lt; 1 Year</td>\n",
       "      <td>No</td>\n",
       "      <td>0</td>\n",
       "      <td>2630.0</td>\n",
       "      <td>136</td>\n",
       "      <td>0</td>\n",
       "    </tr>\n",
       "    <tr>\n",
       "      <th>4</th>\n",
       "      <td>39</td>\n",
       "      <td>Male</td>\n",
       "      <td>45</td>\n",
       "      <td>8.0</td>\n",
       "      <td>124.0</td>\n",
       "      <td>1</td>\n",
       "      <td>1-2 Year</td>\n",
       "      <td>Yes</td>\n",
       "      <td>0</td>\n",
       "      <td>42297.0</td>\n",
       "      <td>264</td>\n",
       "      <td>0</td>\n",
       "    </tr>\n",
       "  </tbody>\n",
       "</table>\n",
       "</div>"
      ],
      "text/plain": [
       "   id  gender  age  region_code  policy_sales_channel  driving_license  \\\n",
       "0   7    Male   23         11.0                 152.0                1   \n",
       "1  13  Female   41         15.0                  14.0                1   \n",
       "2  18  Female   25         35.0                 152.0                1   \n",
       "3  31  Female   26          8.0                 160.0                1   \n",
       "4  39    Male   45          8.0                 124.0                1   \n",
       "\n",
       "  vehicle_age vehicle_damage  previously_insured  annual_premium  vintage  \\\n",
       "0    < 1 Year            Yes                   0         23367.0      249   \n",
       "1    1-2 Year             No                   1         31409.0      221   \n",
       "2    < 1 Year             No                   1         46622.0      299   \n",
       "3    < 1 Year             No                   0          2630.0      136   \n",
       "4    1-2 Year            Yes                   0         42297.0      264   \n",
       "\n",
       "   response  \n",
       "0         0  \n",
       "1         0  \n",
       "2         0  \n",
       "3         0  \n",
       "4         0  "
      ]
     },
     "execution_count": 13,
     "metadata": {},
     "output_type": "execute_result"
    }
   ],
   "source": [
    "df_raw = df_raw.drop(df_raw.columns[[5, 9]], axis = 1)\n",
    "df_raw.head()"
   ]
  },
  {
   "cell_type": "markdown",
   "id": "1cbfdb0d",
   "metadata": {
    "heading_collapsed": true
   },
   "source": [
    "# 1.0. Data Description"
   ]
  },
  {
   "cell_type": "code",
   "execution_count": 14,
   "id": "a24dca9e",
   "metadata": {
    "ExecuteTime": {
     "end_time": "2022-03-15T20:08:58.860927Z",
     "start_time": "2022-03-15T20:08:58.827221Z"
    },
    "hidden": true
   },
   "outputs": [],
   "source": [
    "df1 = df_raw.copy()"
   ]
  },
  {
   "cell_type": "markdown",
   "id": "56f083f1",
   "metadata": {
    "hidden": true
   },
   "source": [
    "## 1.1. Rename Columns"
   ]
  },
  {
   "cell_type": "code",
   "execution_count": 15,
   "id": "09a2e50e",
   "metadata": {
    "ExecuteTime": {
     "end_time": "2022-03-15T20:08:58.906855Z",
     "start_time": "2022-03-15T20:08:58.874748Z"
    },
    "hidden": true
   },
   "outputs": [
    {
     "data": {
      "text/plain": [
       "Index(['id', 'gender', 'age', 'region_code', 'policy_sales_channel',\n",
       "       'driving_license', 'vehicle_age', 'vehicle_damage',\n",
       "       'previously_insured', 'annual_premium', 'vintage', 'response'],\n",
       "      dtype='object')"
      ]
     },
     "execution_count": 15,
     "metadata": {},
     "output_type": "execute_result"
    }
   ],
   "source": [
    "df1.columns"
   ]
  },
  {
   "cell_type": "markdown",
   "id": "a8564880",
   "metadata": {
    "hidden": true
   },
   "source": [
    "## 1.2. Data Dimensions"
   ]
  },
  {
   "cell_type": "code",
   "execution_count": 16,
   "id": "150d686b",
   "metadata": {
    "ExecuteTime": {
     "end_time": "2022-03-15T20:08:58.950775Z",
     "start_time": "2022-03-15T20:08:58.924408Z"
    },
    "hidden": true
   },
   "outputs": [
    {
     "name": "stdout",
     "output_type": "stream",
     "text": [
      "Number of Rows: 381109\n",
      "Number of Cols: 12\n"
     ]
    }
   ],
   "source": [
    "print(f'Number of Rows: {df1.shape[0]}')\n",
    "print(f'Number of Cols: {df1.shape[1]}')"
   ]
  },
  {
   "cell_type": "markdown",
   "id": "f0338a07",
   "metadata": {
    "hidden": true
   },
   "source": [
    "## 1.3. Data Types"
   ]
  },
  {
   "cell_type": "code",
   "execution_count": 17,
   "id": "3cb9f713",
   "metadata": {
    "ExecuteTime": {
     "end_time": "2022-03-15T20:08:58.999292Z",
     "start_time": "2022-03-15T20:08:58.962874Z"
    },
    "hidden": true
   },
   "outputs": [
    {
     "data": {
      "text/plain": [
       "id                        int64\n",
       "gender                   object\n",
       "age                       int64\n",
       "region_code             float64\n",
       "policy_sales_channel    float64\n",
       "driving_license           int64\n",
       "vehicle_age              object\n",
       "vehicle_damage           object\n",
       "previously_insured        int64\n",
       "annual_premium          float64\n",
       "vintage                   int64\n",
       "response                  int64\n",
       "dtype: object"
      ]
     },
     "execution_count": 17,
     "metadata": {},
     "output_type": "execute_result"
    }
   ],
   "source": [
    "df1.dtypes"
   ]
  },
  {
   "cell_type": "markdown",
   "id": "5e44ff67",
   "metadata": {
    "hidden": true
   },
   "source": [
    "## 1.4. Check NA"
   ]
  },
  {
   "cell_type": "code",
   "execution_count": 18,
   "id": "22412694",
   "metadata": {
    "ExecuteTime": {
     "end_time": "2022-03-15T20:09:00.286068Z",
     "start_time": "2022-03-15T20:08:59.010225Z"
    },
    "hidden": true
   },
   "outputs": [
    {
     "data": {
      "text/plain": [
       "id                      0\n",
       "gender                  0\n",
       "age                     0\n",
       "region_code             0\n",
       "policy_sales_channel    0\n",
       "driving_license         0\n",
       "vehicle_age             0\n",
       "vehicle_damage          0\n",
       "previously_insured      0\n",
       "annual_premium          0\n",
       "vintage                 0\n",
       "response                0\n",
       "dtype: int64"
      ]
     },
     "execution_count": 18,
     "metadata": {},
     "output_type": "execute_result"
    }
   ],
   "source": [
    "df1.isna().sum()"
   ]
  },
  {
   "cell_type": "markdown",
   "id": "8cf936fc",
   "metadata": {
    "hidden": true
   },
   "source": [
    "## 1.5. Data Descriptive"
   ]
  },
  {
   "cell_type": "code",
   "execution_count": 19,
   "id": "7b97c02c",
   "metadata": {
    "ExecuteTime": {
     "end_time": "2022-03-15T20:09:00.320842Z",
     "start_time": "2022-03-15T20:09:00.299876Z"
    },
    "hidden": true
   },
   "outputs": [],
   "source": [
    "num_attributes = df1.select_dtypes(include=['int64', 'float64'])\n",
    "cat_attributes = df1.select_dtypes(exclude=['int64', 'float64', 'datetime64[ns]'])"
   ]
  },
  {
   "cell_type": "markdown",
   "id": "4d4ce01a",
   "metadata": {
    "hidden": true
   },
   "source": [
    "### 1.5.1. Numerical Attributes"
   ]
  },
  {
   "cell_type": "code",
   "execution_count": 20,
   "id": "cdc68c25",
   "metadata": {
    "ExecuteTime": {
     "end_time": "2022-03-15T20:09:05.153962Z",
     "start_time": "2022-03-15T20:09:00.332406Z"
    },
    "hidden": true
   },
   "outputs": [
    {
     "data": {
      "text/html": [
       "<div>\n",
       "<style scoped>\n",
       "    .dataframe tbody tr th:only-of-type {\n",
       "        vertical-align: middle;\n",
       "    }\n",
       "\n",
       "    .dataframe tbody tr th {\n",
       "        vertical-align: top;\n",
       "    }\n",
       "\n",
       "    .dataframe thead th {\n",
       "        text-align: right;\n",
       "    }\n",
       "</style>\n",
       "<table border=\"1\" class=\"dataframe\">\n",
       "  <thead>\n",
       "    <tr style=\"text-align: right;\">\n",
       "      <th></th>\n",
       "      <th>attributes</th>\n",
       "      <th>min</th>\n",
       "      <th>max</th>\n",
       "      <th>range</th>\n",
       "      <th>mean</th>\n",
       "      <th>median</th>\n",
       "      <th>std</th>\n",
       "      <th>skew</th>\n",
       "      <th>kurtosis</th>\n",
       "    </tr>\n",
       "  </thead>\n",
       "  <tbody>\n",
       "    <tr>\n",
       "      <th>0</th>\n",
       "      <td>id</td>\n",
       "      <td>1.0</td>\n",
       "      <td>381109.0</td>\n",
       "      <td>381108.0</td>\n",
       "      <td>190555.000000</td>\n",
       "      <td>190555.0</td>\n",
       "      <td>110016.691870</td>\n",
       "      <td>-8.071174e-18</td>\n",
       "      <td>-1.200000</td>\n",
       "    </tr>\n",
       "    <tr>\n",
       "      <th>1</th>\n",
       "      <td>age</td>\n",
       "      <td>20.0</td>\n",
       "      <td>85.0</td>\n",
       "      <td>65.0</td>\n",
       "      <td>38.822584</td>\n",
       "      <td>36.0</td>\n",
       "      <td>15.511591</td>\n",
       "      <td>6.725390e-01</td>\n",
       "      <td>-0.565655</td>\n",
       "    </tr>\n",
       "    <tr>\n",
       "      <th>2</th>\n",
       "      <td>region_code</td>\n",
       "      <td>0.0</td>\n",
       "      <td>52.0</td>\n",
       "      <td>52.0</td>\n",
       "      <td>26.388807</td>\n",
       "      <td>28.0</td>\n",
       "      <td>13.229871</td>\n",
       "      <td>-1.152664e-01</td>\n",
       "      <td>-0.867857</td>\n",
       "    </tr>\n",
       "    <tr>\n",
       "      <th>3</th>\n",
       "      <td>policy_sales_channel</td>\n",
       "      <td>1.0</td>\n",
       "      <td>163.0</td>\n",
       "      <td>162.0</td>\n",
       "      <td>112.034295</td>\n",
       "      <td>133.0</td>\n",
       "      <td>54.203924</td>\n",
       "      <td>-9.000081e-01</td>\n",
       "      <td>-0.970810</td>\n",
       "    </tr>\n",
       "    <tr>\n",
       "      <th>4</th>\n",
       "      <td>driving_license</td>\n",
       "      <td>0.0</td>\n",
       "      <td>1.0</td>\n",
       "      <td>1.0</td>\n",
       "      <td>0.997869</td>\n",
       "      <td>1.0</td>\n",
       "      <td>0.046109</td>\n",
       "      <td>-2.159518e+01</td>\n",
       "      <td>464.354302</td>\n",
       "    </tr>\n",
       "    <tr>\n",
       "      <th>5</th>\n",
       "      <td>previously_insured</td>\n",
       "      <td>0.0</td>\n",
       "      <td>1.0</td>\n",
       "      <td>1.0</td>\n",
       "      <td>0.458210</td>\n",
       "      <td>0.0</td>\n",
       "      <td>0.498251</td>\n",
       "      <td>1.677471e-01</td>\n",
       "      <td>-1.971871</td>\n",
       "    </tr>\n",
       "    <tr>\n",
       "      <th>6</th>\n",
       "      <td>annual_premium</td>\n",
       "      <td>2630.0</td>\n",
       "      <td>540165.0</td>\n",
       "      <td>537535.0</td>\n",
       "      <td>30564.389581</td>\n",
       "      <td>31669.0</td>\n",
       "      <td>17213.132474</td>\n",
       "      <td>1.766087e+00</td>\n",
       "      <td>34.004569</td>\n",
       "    </tr>\n",
       "    <tr>\n",
       "      <th>7</th>\n",
       "      <td>vintage</td>\n",
       "      <td>10.0</td>\n",
       "      <td>299.0</td>\n",
       "      <td>289.0</td>\n",
       "      <td>154.347397</td>\n",
       "      <td>154.0</td>\n",
       "      <td>83.671194</td>\n",
       "      <td>3.029517e-03</td>\n",
       "      <td>-1.200688</td>\n",
       "    </tr>\n",
       "    <tr>\n",
       "      <th>8</th>\n",
       "      <td>response</td>\n",
       "      <td>0.0</td>\n",
       "      <td>1.0</td>\n",
       "      <td>1.0</td>\n",
       "      <td>0.122563</td>\n",
       "      <td>0.0</td>\n",
       "      <td>0.327935</td>\n",
       "      <td>2.301906e+00</td>\n",
       "      <td>3.298788</td>\n",
       "    </tr>\n",
       "  </tbody>\n",
       "</table>\n",
       "</div>"
      ],
      "text/plain": [
       "             attributes     min       max     range           mean    median  \\\n",
       "0                    id     1.0  381109.0  381108.0  190555.000000  190555.0   \n",
       "1                   age    20.0      85.0      65.0      38.822584      36.0   \n",
       "2           region_code     0.0      52.0      52.0      26.388807      28.0   \n",
       "3  policy_sales_channel     1.0     163.0     162.0     112.034295     133.0   \n",
       "4       driving_license     0.0       1.0       1.0       0.997869       1.0   \n",
       "5    previously_insured     0.0       1.0       1.0       0.458210       0.0   \n",
       "6        annual_premium  2630.0  540165.0  537535.0   30564.389581   31669.0   \n",
       "7               vintage    10.0     299.0     289.0     154.347397     154.0   \n",
       "8              response     0.0       1.0       1.0       0.122563       0.0   \n",
       "\n",
       "             std          skew    kurtosis  \n",
       "0  110016.691870 -8.071174e-18   -1.200000  \n",
       "1      15.511591  6.725390e-01   -0.565655  \n",
       "2      13.229871 -1.152664e-01   -0.867857  \n",
       "3      54.203924 -9.000081e-01   -0.970810  \n",
       "4       0.046109 -2.159518e+01  464.354302  \n",
       "5       0.498251  1.677471e-01   -1.971871  \n",
       "6   17213.132474  1.766087e+00   34.004569  \n",
       "7      83.671194  3.029517e-03   -1.200688  \n",
       "8       0.327935  2.301906e+00    3.298788  "
      ]
     },
     "execution_count": 20,
     "metadata": {},
     "output_type": "execute_result"
    }
   ],
   "source": [
    "# Central Tendency - Mean, Median\n",
    "ct1 = pd.DataFrame(num_attributes.apply(np.mean)).T\n",
    "ct2 = pd.DataFrame(num_attributes.apply(np.median)).T\n",
    "\n",
    "# dispersion - std, min, max, range, skew, kurtosis\n",
    "d1 = pd.DataFrame(num_attributes.apply(np.std)).T \n",
    "d2 = pd.DataFrame(num_attributes.apply(min)).T \n",
    "d3 = pd.DataFrame(num_attributes.apply(max)).T \n",
    "d4 = pd.DataFrame(num_attributes.apply(lambda x: x.max() - x.min())).T \n",
    "d5 = pd.DataFrame(num_attributes.apply(lambda x: x.skew())).T \n",
    "d6 = pd.DataFrame(num_attributes.apply(lambda x: x.kurtosis())).T \n",
    "\n",
    "# concatenar\n",
    "m = pd.concat([d2, d3, d4, ct1, ct2, d1, d5, d6]).T.reset_index()\n",
    "m.columns = ['attributes', 'min', 'max', 'range', 'mean', 'median', 'std', 'skew', 'kurtosis']\n",
    "m"
   ]
  },
  {
   "cell_type": "markdown",
   "id": "5b598994",
   "metadata": {
    "hidden": true
   },
   "source": [
    "### 1.5.2. Categorical Attributes"
   ]
  },
  {
   "cell_type": "code",
   "execution_count": 21,
   "id": "a23b2c3a",
   "metadata": {
    "ExecuteTime": {
     "end_time": "2022-03-15T20:09:05.289975Z",
     "start_time": "2022-03-15T20:09:05.189179Z"
    },
    "hidden": true,
    "scrolled": true
   },
   "outputs": [
    {
     "data": {
      "text/html": [
       "<div>\n",
       "<style scoped>\n",
       "    .dataframe tbody tr th:only-of-type {\n",
       "        vertical-align: middle;\n",
       "    }\n",
       "\n",
       "    .dataframe tbody tr th {\n",
       "        vertical-align: top;\n",
       "    }\n",
       "\n",
       "    .dataframe thead th {\n",
       "        text-align: right;\n",
       "    }\n",
       "</style>\n",
       "<table border=\"1\" class=\"dataframe\">\n",
       "  <thead>\n",
       "    <tr style=\"text-align: right;\">\n",
       "      <th></th>\n",
       "      <th>gender</th>\n",
       "      <th>vehicle_age</th>\n",
       "      <th>vehicle_damage</th>\n",
       "    </tr>\n",
       "  </thead>\n",
       "  <tbody>\n",
       "    <tr>\n",
       "      <th>0</th>\n",
       "      <td>Male</td>\n",
       "      <td>&lt; 1 Year</td>\n",
       "      <td>Yes</td>\n",
       "    </tr>\n",
       "    <tr>\n",
       "      <th>1</th>\n",
       "      <td>Female</td>\n",
       "      <td>1-2 Year</td>\n",
       "      <td>No</td>\n",
       "    </tr>\n",
       "    <tr>\n",
       "      <th>2</th>\n",
       "      <td>Female</td>\n",
       "      <td>&lt; 1 Year</td>\n",
       "      <td>No</td>\n",
       "    </tr>\n",
       "    <tr>\n",
       "      <th>3</th>\n",
       "      <td>Female</td>\n",
       "      <td>&lt; 1 Year</td>\n",
       "      <td>No</td>\n",
       "    </tr>\n",
       "    <tr>\n",
       "      <th>4</th>\n",
       "      <td>Male</td>\n",
       "      <td>1-2 Year</td>\n",
       "      <td>Yes</td>\n",
       "    </tr>\n",
       "    <tr>\n",
       "      <th>...</th>\n",
       "      <td>...</td>\n",
       "      <td>...</td>\n",
       "      <td>...</td>\n",
       "    </tr>\n",
       "    <tr>\n",
       "      <th>381104</th>\n",
       "      <td>Male</td>\n",
       "      <td>&lt; 1 Year</td>\n",
       "      <td>No</td>\n",
       "    </tr>\n",
       "    <tr>\n",
       "      <th>381105</th>\n",
       "      <td>Female</td>\n",
       "      <td>1-2 Year</td>\n",
       "      <td>Yes</td>\n",
       "    </tr>\n",
       "    <tr>\n",
       "      <th>381106</th>\n",
       "      <td>Female</td>\n",
       "      <td>1-2 Year</td>\n",
       "      <td>No</td>\n",
       "    </tr>\n",
       "    <tr>\n",
       "      <th>381107</th>\n",
       "      <td>Female</td>\n",
       "      <td>1-2 Year</td>\n",
       "      <td>Yes</td>\n",
       "    </tr>\n",
       "    <tr>\n",
       "      <th>381108</th>\n",
       "      <td>Female</td>\n",
       "      <td>1-2 Year</td>\n",
       "      <td>Yes</td>\n",
       "    </tr>\n",
       "  </tbody>\n",
       "</table>\n",
       "<p>381109 rows × 3 columns</p>\n",
       "</div>"
      ],
      "text/plain": [
       "        gender vehicle_age vehicle_damage\n",
       "0         Male    < 1 Year            Yes\n",
       "1       Female    1-2 Year             No\n",
       "2       Female    < 1 Year             No\n",
       "3       Female    < 1 Year             No\n",
       "4         Male    1-2 Year            Yes\n",
       "...        ...         ...            ...\n",
       "381104    Male    < 1 Year             No\n",
       "381105  Female    1-2 Year            Yes\n",
       "381106  Female    1-2 Year             No\n",
       "381107  Female    1-2 Year            Yes\n",
       "381108  Female    1-2 Year            Yes\n",
       "\n",
       "[381109 rows x 3 columns]"
      ]
     },
     "execution_count": 21,
     "metadata": {},
     "output_type": "execute_result"
    }
   ],
   "source": [
    "cat_attributes"
   ]
  },
  {
   "cell_type": "code",
   "execution_count": 22,
   "id": "bbd8bf4a",
   "metadata": {
    "ExecuteTime": {
     "end_time": "2022-03-15T20:09:16.351900Z",
     "start_time": "2022-03-15T20:09:05.309003Z"
    },
    "hidden": true
   },
   "outputs": [],
   "source": [
    "df1.to_csv('../data/interim/df1.csv', index=False)"
   ]
  },
  {
   "cell_type": "markdown",
   "id": "eab70903",
   "metadata": {
    "heading_collapsed": true
   },
   "source": [
    "# 2.0. Feature Engineering"
   ]
  },
  {
   "cell_type": "code",
   "execution_count": 23,
   "id": "a323fe92",
   "metadata": {
    "ExecuteTime": {
     "end_time": "2022-03-15T20:09:17.932632Z",
     "start_time": "2022-03-15T20:09:16.363379Z"
    },
    "hidden": true
   },
   "outputs": [],
   "source": [
    "df2 = pd.read_csv('../data/interim/df1.csv')"
   ]
  },
  {
   "cell_type": "code",
   "execution_count": 24,
   "id": "c9feee41",
   "metadata": {
    "ExecuteTime": {
     "end_time": "2022-03-15T20:09:19.686856Z",
     "start_time": "2022-03-15T20:09:17.946341Z"
    },
    "hidden": true
   },
   "outputs": [],
   "source": [
    "# Vehicle Damage Number - Binary Categorical -> Binary Numeric\n",
    "df2['vehicle_damage'] = df2['vehicle_damage'].apply(lambda x: \n",
    "                                                 1 if x == 'Yes' else\n",
    "                                                 0)\n",
    "\n",
    "# Vehicle Age\n",
    "df2['vehicle_age'] = df2['vehicle_age'].apply(lambda x:\n",
    "                            'over_2_years' if x == '> 2 Years' else\n",
    "                        'between_1_2_year' if x == '1-2 Year'  else\n",
    "                            'below_1_year')"
   ]
  },
  {
   "cell_type": "code",
   "execution_count": 25,
   "id": "8108ad64",
   "metadata": {
    "ExecuteTime": {
     "end_time": "2022-03-15T20:09:30.433279Z",
     "start_time": "2022-03-15T20:09:19.694306Z"
    },
    "hidden": true
   },
   "outputs": [],
   "source": [
    "df2.to_csv('../data/interim/df2.csv', index=False)"
   ]
  },
  {
   "cell_type": "markdown",
   "id": "c18bf217",
   "metadata": {
    "heading_collapsed": true
   },
   "source": [
    "# 3.0. Data Filtering"
   ]
  },
  {
   "cell_type": "code",
   "execution_count": 26,
   "id": "e6fd22ad",
   "metadata": {
    "ExecuteTime": {
     "end_time": "2022-03-15T20:09:31.529374Z",
     "start_time": "2022-03-15T20:09:30.447159Z"
    },
    "hidden": true
   },
   "outputs": [],
   "source": [
    "df3 = pd.read_csv('../data/interim/df2.csv')"
   ]
  },
  {
   "cell_type": "code",
   "execution_count": 27,
   "id": "d34876b8",
   "metadata": {
    "ExecuteTime": {
     "end_time": "2022-03-15T20:09:40.764462Z",
     "start_time": "2022-03-15T20:09:31.537078Z"
    },
    "hidden": true
   },
   "outputs": [],
   "source": [
    "df3.to_csv('../data/interim/df3.csv', index=False)"
   ]
  },
  {
   "cell_type": "code",
   "execution_count": 28,
   "id": "6d6e62ba",
   "metadata": {
    "ExecuteTime": {
     "end_time": "2022-03-15T20:09:50.082956Z",
     "start_time": "2022-03-15T20:09:40.772500Z"
    },
    "hidden": true
   },
   "outputs": [],
   "source": [
    "# to test the api in heroku\n",
    "df3.to_csv('../data/interim/df_teste.csv', index=False)"
   ]
  },
  {
   "cell_type": "markdown",
   "id": "b10ab934",
   "metadata": {
    "heading_collapsed": true
   },
   "source": [
    "# 4.0. Exploratoriy Data Analysis"
   ]
  },
  {
   "cell_type": "code",
   "execution_count": 29,
   "id": "185b2f36",
   "metadata": {
    "ExecuteTime": {
     "end_time": "2022-03-15T20:09:52.038562Z",
     "start_time": "2022-03-15T20:09:50.090715Z"
    },
    "hidden": true
   },
   "outputs": [],
   "source": [
    "df4 = pd.read_csv('../data/interim/df3.csv')"
   ]
  },
  {
   "cell_type": "markdown",
   "id": "3d996731",
   "metadata": {
    "hidden": true
   },
   "source": [
    "## 4.1. Univariate Analysis"
   ]
  },
  {
   "cell_type": "markdown",
   "id": "1fd1c42d",
   "metadata": {
    "hidden": true
   },
   "source": [
    "We need to find variates that are separate in relation to response variable, so these variables helps the algorithm to classificate the data in a better way.\n",
    "\n",
    "If we have variables that merge some behavior of the features, these variables will not help the algorithm."
   ]
  },
  {
   "cell_type": "code",
   "execution_count": 30,
   "id": "72302bcd",
   "metadata": {
    "ExecuteTime": {
     "end_time": "2022-03-15T20:09:52.075816Z",
     "start_time": "2022-03-15T20:09:52.049221Z"
    },
    "hidden": true
   },
   "outputs": [
    {
     "data": {
      "text/plain": [
       "Index(['id', 'gender', 'age', 'region_code', 'policy_sales_channel',\n",
       "       'driving_license', 'vehicle_age', 'vehicle_damage',\n",
       "       'previously_insured', 'annual_premium', 'vintage', 'response'],\n",
       "      dtype='object')"
      ]
     },
     "execution_count": 30,
     "metadata": {},
     "output_type": "execute_result"
    }
   ],
   "source": [
    "df4.columns"
   ]
  },
  {
   "cell_type": "markdown",
   "id": "e2a67fa4",
   "metadata": {
    "hidden": true
   },
   "source": [
    "### 4.1.1 Age"
   ]
  },
  {
   "cell_type": "code",
   "execution_count": 31,
   "id": "be96a278",
   "metadata": {
    "ExecuteTime": {
     "end_time": "2022-03-15T20:09:52.916416Z",
     "start_time": "2022-03-15T20:09:52.130015Z"
    },
    "hidden": true,
    "scrolled": true
   },
   "outputs": [
    {
     "data": {
      "text/plain": [
       "<AxesSubplot:xlabel='response', ylabel='age'>"
      ]
     },
     "execution_count": 31,
     "metadata": {},
     "output_type": "execute_result"
    },
    {
     "data": {
      "image/png": "[encoded data removed]",
      "text/plain": [
       "<Figure size 432x288 with 1 Axes>"
      ]
     },
     "metadata": {
      "needs_background": "light"
     },
     "output_type": "display_data"
    }
   ],
   "source": [
    "sns.boxplot(x = 'response', y = 'age', data = df4)"
   ]
  },
  {
   "cell_type": "code",
   "execution_count": 32,
   "id": "2a7ebc23",
   "metadata": {
    "ExecuteTime": {
     "end_time": "2022-03-15T20:09:55.078493Z",
     "start_time": "2022-03-15T20:09:52.925389Z"
    },
    "cell_style": "split",
    "hidden": true,
    "scrolled": true
   },
   "outputs": [
    {
     "data": {
      "text/plain": [
       "<AxesSubplot:xlabel='age', ylabel='Count'>"
      ]
     },
     "execution_count": 32,
     "metadata": {},
     "output_type": "execute_result"
    },
    {
     "data": {
      "image/png": "[encoded data removed]",
      "text/plain": [
       "<Figure size 432x288 with 1 Axes>"
      ]
     },
     "metadata": {
      "needs_background": "light"
     },
     "output_type": "display_data"
    }
   ],
   "source": [
    "num_no = df4.loc[df4['response'] == 0, 'age']\n",
    "sns.histplot(num_no)"
   ]
  },
  {
   "cell_type": "code",
   "execution_count": 33,
   "id": "211f54c5",
   "metadata": {
    "ExecuteTime": {
     "end_time": "2022-03-15T20:09:56.705794Z",
     "start_time": "2022-03-15T20:09:55.088017Z"
    },
    "cell_style": "split",
    "hidden": true
   },
   "outputs": [
    {
     "data": {
      "text/plain": [
       "<AxesSubplot:xlabel='age', ylabel='Count'>"
      ]
     },
     "execution_count": 33,
     "metadata": {},
     "output_type": "execute_result"
    },
    {
     "data": {
      "image/png": "[encoded data removed]",
      "text/plain": [
       "<Figure size 432x288 with 1 Axes>"
      ]
     },
     "metadata": {
      "needs_background": "light"
     },
     "output_type": "display_data"
    }
   ],
   "source": [
    "num_yes = df4.loc[df4['response'] == 1, 'age']\n",
    "sns.histplot(num_yes)"
   ]
  },
  {
   "cell_type": "markdown",
   "id": "d38b9d57",
   "metadata": {
    "hidden": true
   },
   "source": [
    "### 4.1.2 Gender"
   ]
  },
  {
   "cell_type": "code",
   "execution_count": 34,
   "id": "face46fe",
   "metadata": {
    "ExecuteTime": {
     "end_time": "2022-03-15T20:09:57.770091Z",
     "start_time": "2022-03-15T20:09:56.721300Z"
    },
    "cell_style": "split",
    "hidden": true
   },
   "outputs": [
    {
     "data": {
      "text/plain": [
       "<AxesSubplot:xlabel='response', ylabel='gender'>"
      ]
     },
     "execution_count": 34,
     "metadata": {},
     "output_type": "execute_result"
    },
    {
     "data": {
      "image/png": "[encoded data removed]",
      "text/plain": [
       "<Figure size 432x288 with 1 Axes>"
      ]
     },
     "metadata": {
      "needs_background": "light"
     },
     "output_type": "display_data"
    }
   ],
   "source": [
    "gend_m = df4[df4['gender'] == 'Male']\n",
    "gend_m = gend_m[['gender', 'response']].groupby('response').count().reset_index()\n",
    "sns.barplot(x = 'response', y = 'gender', data = gend_m)"
   ]
  },
  {
   "cell_type": "code",
   "execution_count": 35,
   "id": "38c63f74",
   "metadata": {
    "ExecuteTime": {
     "end_time": "2022-03-15T20:09:58.645869Z",
     "start_time": "2022-03-15T20:09:57.778342Z"
    },
    "cell_style": "split",
    "hidden": true
   },
   "outputs": [
    {
     "data": {
      "text/plain": [
       "<AxesSubplot:xlabel='response', ylabel='gender'>"
      ]
     },
     "execution_count": 35,
     "metadata": {},
     "output_type": "execute_result"
    },
    {
     "data": {
      "image/png": "[encoded data removed]",
      "text/plain": [
       "<Figure size 432x288 with 1 Axes>"
      ]
     },
     "metadata": {
      "needs_background": "light"
     },
     "output_type": "display_data"
    }
   ],
   "source": [
    "gend_f = df4[df4['gender'] == 'Female']\n",
    "gend_f = gend_f[['gender', 'response']].groupby('response').count().reset_index()\n",
    "sns.barplot(x = 'response', y = 'gender', data = gend_f)"
   ]
  },
  {
   "cell_type": "markdown",
   "id": "14ae69fe",
   "metadata": {
    "hidden": true
   },
   "source": [
    "### 4.1.3 Region Code"
   ]
  },
  {
   "cell_type": "code",
   "execution_count": 36,
   "id": "bcafd573",
   "metadata": {
    "ExecuteTime": {
     "end_time": "2022-03-15T20:09:58.697119Z",
     "start_time": "2022-03-15T20:09:58.657780Z"
    },
    "hidden": true
   },
   "outputs": [
    {
     "data": {
      "text/plain": [
       "array([11., 15., 35.,  8., 28., 39., 29., 30., 25., 22., 36.,  0., 26.,\n",
       "        6., 48., 47., 33., 41., 46., 43.,  2., 37., 40.,  4., 10., 18.,\n",
       "        9.,  3., 50., 32., 24., 27., 34., 21., 45., 12.,  5., 49., 14.,\n",
       "       16., 13., 31., 23.,  1., 42.,  7., 17., 44., 19., 38., 20., 52.,\n",
       "       51.])"
      ]
     },
     "execution_count": 36,
     "metadata": {},
     "output_type": "execute_result"
    }
   ],
   "source": [
    "df4['region_code'].unique()"
   ]
  },
  {
   "cell_type": "code",
   "execution_count": 37,
   "id": "23d18511",
   "metadata": {
    "ExecuteTime": {
     "end_time": "2022-03-15T20:09:59.683808Z",
     "start_time": "2022-03-15T20:09:58.707160Z"
    },
    "hidden": true
   },
   "outputs": [
    {
     "data": {
      "text/plain": [
       "<AxesSubplot:xlabel='region_code', ylabel='id'>"
      ]
     },
     "execution_count": 37,
     "metadata": {},
     "output_type": "execute_result"
    },
    {
     "data": {
      "image/png": "[encoded data removed]",
      "text/plain": [
       "<Figure size 432x288 with 1 Axes>"
      ]
     },
     "metadata": {
      "needs_background": "light"
     },
     "output_type": "display_data"
    }
   ],
   "source": [
    "reg_cod = df4[['id', 'region_code', 'response']].groupby(['region_code', 'response']).count().reset_index()\n",
    "\n",
    "sns.scatterplot(x = 'region_code', y = 'id', hue = 'response', data = reg_cod)\n",
    "\n",
    "# region_code x vehicle_damage x previously_insured"
   ]
  },
  {
   "cell_type": "markdown",
   "id": "f40c9b59",
   "metadata": {
    "hidden": true
   },
   "source": [
    "### 4.1.4 Policy Sales Channel"
   ]
  },
  {
   "cell_type": "markdown",
   "id": "8ca57f9c",
   "metadata": {
    "hidden": true
   },
   "source": [
    "For 2nd cycle implement stacked percentage bar chart"
   ]
  },
  {
   "cell_type": "code",
   "execution_count": 38,
   "id": "59f5bb22",
   "metadata": {
    "ExecuteTime": {
     "end_time": "2022-03-15T20:09:59.814522Z",
     "start_time": "2022-03-15T20:09:59.693486Z"
    },
    "cell_style": "split",
    "hidden": true
   },
   "outputs": [
    {
     "data": {
      "text/html": [
       "<div>\n",
       "<style scoped>\n",
       "    .dataframe tbody tr th:only-of-type {\n",
       "        vertical-align: middle;\n",
       "    }\n",
       "\n",
       "    .dataframe tbody tr th {\n",
       "        vertical-align: top;\n",
       "    }\n",
       "\n",
       "    .dataframe thead th {\n",
       "        text-align: right;\n",
       "    }\n",
       "</style>\n",
       "<table border=\"1\" class=\"dataframe\">\n",
       "  <thead>\n",
       "    <tr style=\"text-align: right;\">\n",
       "      <th></th>\n",
       "      <th>response</th>\n",
       "    </tr>\n",
       "    <tr>\n",
       "      <th>policy_sales_channel</th>\n",
       "      <th></th>\n",
       "    </tr>\n",
       "  </thead>\n",
       "  <tbody>\n",
       "    <tr>\n",
       "      <th>1.0</th>\n",
       "      <td>1039</td>\n",
       "    </tr>\n",
       "    <tr>\n",
       "      <th>2.0</th>\n",
       "      <td>3</td>\n",
       "    </tr>\n",
       "    <tr>\n",
       "      <th>3.0</th>\n",
       "      <td>364</td>\n",
       "    </tr>\n",
       "    <tr>\n",
       "      <th>4.0</th>\n",
       "      <td>407</td>\n",
       "    </tr>\n",
       "    <tr>\n",
       "      <th>6.0</th>\n",
       "      <td>3</td>\n",
       "    </tr>\n",
       "  </tbody>\n",
       "</table>\n",
       "</div>"
      ],
      "text/plain": [
       "                      response\n",
       "policy_sales_channel          \n",
       "1.0                       1039\n",
       "2.0                          3\n",
       "3.0                        364\n",
       "4.0                        407\n",
       "6.0                          3"
      ]
     },
     "execution_count": 38,
     "metadata": {},
     "output_type": "execute_result"
    }
   ],
   "source": [
    "pol_sal_no = df4[df4['response'] == 0]\n",
    "pol_sal_no = pol_sal_no[['policy_sales_channel', 'response']].groupby('policy_sales_channel').count()\n",
    "pol_sal_no.head()"
   ]
  },
  {
   "cell_type": "code",
   "execution_count": 39,
   "id": "d1ebfd28",
   "metadata": {
    "ExecuteTime": {
     "end_time": "2022-03-15T20:09:59.929848Z",
     "start_time": "2022-03-15T20:09:59.826093Z"
    },
    "cell_style": "split",
    "hidden": true
   },
   "outputs": [
    {
     "data": {
      "text/html": [
       "<div>\n",
       "<style scoped>\n",
       "    .dataframe tbody tr th:only-of-type {\n",
       "        vertical-align: middle;\n",
       "    }\n",
       "\n",
       "    .dataframe tbody tr th {\n",
       "        vertical-align: top;\n",
       "    }\n",
       "\n",
       "    .dataframe thead th {\n",
       "        text-align: right;\n",
       "    }\n",
       "</style>\n",
       "<table border=\"1\" class=\"dataframe\">\n",
       "  <thead>\n",
       "    <tr style=\"text-align: right;\">\n",
       "      <th></th>\n",
       "      <th>response</th>\n",
       "    </tr>\n",
       "    <tr>\n",
       "      <th>policy_sales_channel</th>\n",
       "      <th></th>\n",
       "    </tr>\n",
       "  </thead>\n",
       "  <tbody>\n",
       "    <tr>\n",
       "      <th>1.0</th>\n",
       "      <td>35</td>\n",
       "    </tr>\n",
       "    <tr>\n",
       "      <th>2.0</th>\n",
       "      <td>1</td>\n",
       "    </tr>\n",
       "    <tr>\n",
       "      <th>3.0</th>\n",
       "      <td>159</td>\n",
       "    </tr>\n",
       "    <tr>\n",
       "      <th>4.0</th>\n",
       "      <td>102</td>\n",
       "    </tr>\n",
       "    <tr>\n",
       "      <th>7.0</th>\n",
       "      <td>182</td>\n",
       "    </tr>\n",
       "  </tbody>\n",
       "</table>\n",
       "</div>"
      ],
      "text/plain": [
       "                      response\n",
       "policy_sales_channel          \n",
       "1.0                         35\n",
       "2.0                          1\n",
       "3.0                        159\n",
       "4.0                        102\n",
       "7.0                        182"
      ]
     },
     "execution_count": 39,
     "metadata": {},
     "output_type": "execute_result"
    }
   ],
   "source": [
    "pol_sal_yes = df4[df4['response'] == 1]\n",
    "pol_sal_yes = pol_sal_yes[['policy_sales_channel', 'response']].groupby('policy_sales_channel').sum()\n",
    "pol_sal_yes.head()"
   ]
  },
  {
   "cell_type": "code",
   "execution_count": 40,
   "id": "979477c2",
   "metadata": {
    "ExecuteTime": {
     "end_time": "2022-03-15T20:10:00.066977Z",
     "start_time": "2022-03-15T20:09:59.940833Z"
    },
    "hidden": true,
    "scrolled": true
   },
   "outputs": [
    {
     "data": {
      "text/html": [
       "<div>\n",
       "<style scoped>\n",
       "    .dataframe tbody tr th:only-of-type {\n",
       "        vertical-align: middle;\n",
       "    }\n",
       "\n",
       "    .dataframe tbody tr th {\n",
       "        vertical-align: top;\n",
       "    }\n",
       "\n",
       "    .dataframe thead th {\n",
       "        text-align: right;\n",
       "    }\n",
       "</style>\n",
       "<table border=\"1\" class=\"dataframe\">\n",
       "  <thead>\n",
       "    <tr style=\"text-align: right;\">\n",
       "      <th></th>\n",
       "      <th>policy_sales_channel</th>\n",
       "      <th>response_0</th>\n",
       "      <th>response_1</th>\n",
       "      <th>total_responses</th>\n",
       "      <th>perc_response_1</th>\n",
       "    </tr>\n",
       "  </thead>\n",
       "  <tbody>\n",
       "    <tr>\n",
       "      <th>0</th>\n",
       "      <td>1.0</td>\n",
       "      <td>1039</td>\n",
       "      <td>35</td>\n",
       "      <td>1074</td>\n",
       "      <td>3.258845</td>\n",
       "    </tr>\n",
       "    <tr>\n",
       "      <th>1</th>\n",
       "      <td>2.0</td>\n",
       "      <td>3</td>\n",
       "      <td>1</td>\n",
       "      <td>4</td>\n",
       "      <td>25.000000</td>\n",
       "    </tr>\n",
       "    <tr>\n",
       "      <th>2</th>\n",
       "      <td>3.0</td>\n",
       "      <td>364</td>\n",
       "      <td>159</td>\n",
       "      <td>523</td>\n",
       "      <td>30.401530</td>\n",
       "    </tr>\n",
       "    <tr>\n",
       "      <th>3</th>\n",
       "      <td>4.0</td>\n",
       "      <td>407</td>\n",
       "      <td>102</td>\n",
       "      <td>509</td>\n",
       "      <td>20.039293</td>\n",
       "    </tr>\n",
       "    <tr>\n",
       "      <th>4</th>\n",
       "      <td>7.0</td>\n",
       "      <td>1416</td>\n",
       "      <td>182</td>\n",
       "      <td>1598</td>\n",
       "      <td>11.389237</td>\n",
       "    </tr>\n",
       "  </tbody>\n",
       "</table>\n",
       "</div>"
      ],
      "text/plain": [
       "   policy_sales_channel  response_0  response_1  total_responses  \\\n",
       "0                   1.0        1039          35             1074   \n",
       "1                   2.0           3           1                4   \n",
       "2                   3.0         364         159              523   \n",
       "3                   4.0         407         102              509   \n",
       "4                   7.0        1416         182             1598   \n",
       "\n",
       "   perc_response_1  \n",
       "0         3.258845  \n",
       "1        25.000000  \n",
       "2        30.401530  \n",
       "3        20.039293  \n",
       "4        11.389237  "
      ]
     },
     "execution_count": 40,
     "metadata": {},
     "output_type": "execute_result"
    }
   ],
   "source": [
    "pol_sal = pd.merge(pol_sal_no, pol_sal_yes, how = 'inner', on = 'policy_sales_channel')\n",
    "\n",
    "pol_sal = pol_sal.rename(columns = {'policy_sales_channel': 'policy_sales_channel', 'response_x':'response_0', 'response_y':'response_1'})\n",
    "\n",
    "pol_sal['total_responses'] = df4[['id', 'policy_sales_channel']].groupby('policy_sales_channel').size()\n",
    "\n",
    "pol_sal['perc_response_1'] = (pol_sal['response_1']/pol_sal['total_responses'])*100\n",
    "pol_sal = pol_sal.reset_index()\n",
    "pol_sal.head()"
   ]
  },
  {
   "cell_type": "code",
   "execution_count": 41,
   "id": "5f57fa44",
   "metadata": {
    "ExecuteTime": {
     "end_time": "2022-03-15T20:10:00.154090Z",
     "start_time": "2022-03-15T20:10:00.079162Z"
    },
    "hidden": true,
    "scrolled": false
   },
   "outputs": [
    {
     "data": {
      "text/html": [
       "<div>\n",
       "<style scoped>\n",
       "    .dataframe tbody tr th:only-of-type {\n",
       "        vertical-align: middle;\n",
       "    }\n",
       "\n",
       "    .dataframe tbody tr th {\n",
       "        vertical-align: top;\n",
       "    }\n",
       "\n",
       "    .dataframe thead th {\n",
       "        text-align: right;\n",
       "    }\n",
       "</style>\n",
       "<table border=\"1\" class=\"dataframe\">\n",
       "  <thead>\n",
       "    <tr style=\"text-align: right;\">\n",
       "      <th></th>\n",
       "      <th>policy_sales_channel</th>\n",
       "      <th>response_0</th>\n",
       "      <th>response_1</th>\n",
       "      <th>total_responses</th>\n",
       "      <th>perc_response_1</th>\n",
       "    </tr>\n",
       "  </thead>\n",
       "  <tbody>\n",
       "    <tr>\n",
       "      <th>112</th>\n",
       "      <td>155.0</td>\n",
       "      <td>839</td>\n",
       "      <td>395</td>\n",
       "      <td>1234</td>\n",
       "      <td>32.009724</td>\n",
       "    </tr>\n",
       "    <tr>\n",
       "      <th>118</th>\n",
       "      <td>163.0</td>\n",
       "      <td>2013</td>\n",
       "      <td>880</td>\n",
       "      <td>2893</td>\n",
       "      <td>30.418251</td>\n",
       "    </tr>\n",
       "    <tr>\n",
       "      <th>114</th>\n",
       "      <td>157.0</td>\n",
       "      <td>4890</td>\n",
       "      <td>1794</td>\n",
       "      <td>6684</td>\n",
       "      <td>26.840215</td>\n",
       "    </tr>\n",
       "    <tr>\n",
       "      <th>111</th>\n",
       "      <td>154.0</td>\n",
       "      <td>4519</td>\n",
       "      <td>1474</td>\n",
       "      <td>5993</td>\n",
       "      <td>24.595361</td>\n",
       "    </tr>\n",
       "    <tr>\n",
       "      <th>113</th>\n",
       "      <td>156.0</td>\n",
       "      <td>8364</td>\n",
       "      <td>2297</td>\n",
       "      <td>10661</td>\n",
       "      <td>21.545821</td>\n",
       "    </tr>\n",
       "    <tr>\n",
       "      <th>22</th>\n",
       "      <td>25.0</td>\n",
       "      <td>1479</td>\n",
       "      <td>369</td>\n",
       "      <td>1848</td>\n",
       "      <td>19.967532</td>\n",
       "    </tr>\n",
       "    <tr>\n",
       "      <th>23</th>\n",
       "      <td>26.0</td>\n",
       "      <td>63809</td>\n",
       "      <td>15891</td>\n",
       "      <td>79700</td>\n",
       "      <td>19.938519</td>\n",
       "    </tr>\n",
       "    <tr>\n",
       "      <th>90</th>\n",
       "      <td>124.0</td>\n",
       "      <td>59999</td>\n",
       "      <td>13996</td>\n",
       "      <td>73995</td>\n",
       "      <td>18.914792</td>\n",
       "    </tr>\n",
       "    <tr>\n",
       "      <th>89</th>\n",
       "      <td>122.0</td>\n",
       "      <td>8210</td>\n",
       "      <td>1720</td>\n",
       "      <td>9930</td>\n",
       "      <td>17.321249</td>\n",
       "    </tr>\n",
       "    <tr>\n",
       "      <th>45</th>\n",
       "      <td>55.0</td>\n",
       "      <td>1075</td>\n",
       "      <td>189</td>\n",
       "      <td>1264</td>\n",
       "      <td>14.952532</td>\n",
       "    </tr>\n",
       "    <tr>\n",
       "      <th>10</th>\n",
       "      <td>13.0</td>\n",
       "      <td>1590</td>\n",
       "      <td>275</td>\n",
       "      <td>1865</td>\n",
       "      <td>14.745308</td>\n",
       "    </tr>\n",
       "    <tr>\n",
       "      <th>91</th>\n",
       "      <td>125.0</td>\n",
       "      <td>899</td>\n",
       "      <td>127</td>\n",
       "      <td>1026</td>\n",
       "      <td>12.378168</td>\n",
       "    </tr>\n",
       "    <tr>\n",
       "      <th>4</th>\n",
       "      <td>7.0</td>\n",
       "      <td>1416</td>\n",
       "      <td>182</td>\n",
       "      <td>1598</td>\n",
       "      <td>11.389237</td>\n",
       "    </tr>\n",
       "    <tr>\n",
       "      <th>27</th>\n",
       "      <td>30.0</td>\n",
       "      <td>1254</td>\n",
       "      <td>156</td>\n",
       "      <td>1410</td>\n",
       "      <td>11.063830</td>\n",
       "    </tr>\n",
       "    <tr>\n",
       "      <th>42</th>\n",
       "      <td>52.0</td>\n",
       "      <td>940</td>\n",
       "      <td>115</td>\n",
       "      <td>1055</td>\n",
       "      <td>10.900474</td>\n",
       "    </tr>\n",
       "    <tr>\n",
       "      <th>8</th>\n",
       "      <td>11.0</td>\n",
       "      <td>1095</td>\n",
       "      <td>108</td>\n",
       "      <td>1203</td>\n",
       "      <td>8.977556</td>\n",
       "    </tr>\n",
       "    <tr>\n",
       "      <th>5</th>\n",
       "      <td>8.0</td>\n",
       "      <td>1390</td>\n",
       "      <td>125</td>\n",
       "      <td>1515</td>\n",
       "      <td>8.250825</td>\n",
       "    </tr>\n",
       "    <tr>\n",
       "      <th>0</th>\n",
       "      <td>1.0</td>\n",
       "      <td>1039</td>\n",
       "      <td>35</td>\n",
       "      <td>1074</td>\n",
       "      <td>3.258845</td>\n",
       "    </tr>\n",
       "    <tr>\n",
       "      <th>108</th>\n",
       "      <td>151.0</td>\n",
       "      <td>3763</td>\n",
       "      <td>122</td>\n",
       "      <td>3885</td>\n",
       "      <td>3.140283</td>\n",
       "    </tr>\n",
       "    <tr>\n",
       "      <th>109</th>\n",
       "      <td>152.0</td>\n",
       "      <td>130926</td>\n",
       "      <td>3858</td>\n",
       "      <td>134784</td>\n",
       "      <td>2.862358</td>\n",
       "    </tr>\n",
       "    <tr>\n",
       "      <th>117</th>\n",
       "      <td>160.0</td>\n",
       "      <td>21304</td>\n",
       "      <td>475</td>\n",
       "      <td>21779</td>\n",
       "      <td>2.181000</td>\n",
       "    </tr>\n",
       "  </tbody>\n",
       "</table>\n",
       "</div>"
      ],
      "text/plain": [
       "     policy_sales_channel  response_0  response_1  total_responses  \\\n",
       "112                 155.0         839         395             1234   \n",
       "118                 163.0        2013         880             2893   \n",
       "114                 157.0        4890        1794             6684   \n",
       "111                 154.0        4519        1474             5993   \n",
       "113                 156.0        8364        2297            10661   \n",
       "22                   25.0        1479         369             1848   \n",
       "23                   26.0       63809       15891            79700   \n",
       "90                  124.0       59999       13996            73995   \n",
       "89                  122.0        8210        1720             9930   \n",
       "45                   55.0        1075         189             1264   \n",
       "10                   13.0        1590         275             1865   \n",
       "91                  125.0         899         127             1026   \n",
       "4                     7.0        1416         182             1598   \n",
       "27                   30.0        1254         156             1410   \n",
       "42                   52.0         940         115             1055   \n",
       "8                    11.0        1095         108             1203   \n",
       "5                     8.0        1390         125             1515   \n",
       "0                     1.0        1039          35             1074   \n",
       "108                 151.0        3763         122             3885   \n",
       "109                 152.0      130926        3858           134784   \n",
       "117                 160.0       21304         475            21779   \n",
       "\n",
       "     perc_response_1  \n",
       "112        32.009724  \n",
       "118        30.418251  \n",
       "114        26.840215  \n",
       "111        24.595361  \n",
       "113        21.545821  \n",
       "22         19.967532  \n",
       "23         19.938519  \n",
       "90         18.914792  \n",
       "89         17.321249  \n",
       "45         14.952532  \n",
       "10         14.745308  \n",
       "91         12.378168  \n",
       "4          11.389237  \n",
       "27         11.063830  \n",
       "42         10.900474  \n",
       "8           8.977556  \n",
       "5           8.250825  \n",
       "0           3.258845  \n",
       "108         3.140283  \n",
       "109         2.862358  \n",
       "117         2.181000  "
      ]
     },
     "execution_count": 41,
     "metadata": {},
     "output_type": "execute_result"
    }
   ],
   "source": [
    "pol_sal_1000 = pol_sal[pol_sal['total_responses'] >= 1000]\n",
    "pol_sal_1000.sort_values(['perc_response_1'], ascending=False)"
   ]
  },
  {
   "cell_type": "code",
   "execution_count": 42,
   "id": "c9992b7b",
   "metadata": {
    "ExecuteTime": {
     "end_time": "2022-03-15T20:10:07.732475Z",
     "start_time": "2022-03-15T20:10:00.163492Z"
    },
    "hidden": true,
    "scrolled": false
   },
   "outputs": [
    {
     "data": {
      "image/png": "[encoded data removed]",
      "text/plain": [
       "<Figure size 1728x864 with 1 Axes>"
      ]
     },
     "metadata": {
      "needs_background": "light"
     },
     "output_type": "display_data"
    }
   ],
   "source": [
    "plt.figure(figsize = (24, 12))\n",
    "pol_sal = df4[['policy_sales_channel', 'response']].groupby('policy_sales_channel').sum().reset_index()\n",
    "sns.barplot(x = 'response', y = 'policy_sales_channel', data = pol_sal)\n",
    "plt.xticks(rotation=90);"
   ]
  },
  {
   "cell_type": "markdown",
   "id": "91e79973",
   "metadata": {
    "hidden": true
   },
   "source": [
    "### 4.1.5 Driving License"
   ]
  },
  {
   "cell_type": "code",
   "execution_count": 43,
   "id": "10756867",
   "metadata": {
    "ExecuteTime": {
     "end_time": "2022-03-15T20:10:07.798818Z",
     "start_time": "2022-03-15T20:10:07.748805Z"
    },
    "hidden": true
   },
   "outputs": [
    {
     "data": {
      "text/html": [
       "<div>\n",
       "<style scoped>\n",
       "    .dataframe tbody tr th:only-of-type {\n",
       "        vertical-align: middle;\n",
       "    }\n",
       "\n",
       "    .dataframe tbody tr th {\n",
       "        vertical-align: top;\n",
       "    }\n",
       "\n",
       "    .dataframe thead th {\n",
       "        text-align: right;\n",
       "    }\n",
       "</style>\n",
       "<table border=\"1\" class=\"dataframe\">\n",
       "  <thead>\n",
       "    <tr style=\"text-align: right;\">\n",
       "      <th></th>\n",
       "      <th>driving_license</th>\n",
       "      <th>response</th>\n",
       "    </tr>\n",
       "  </thead>\n",
       "  <tbody>\n",
       "    <tr>\n",
       "      <th>0</th>\n",
       "      <td>1</td>\n",
       "      <td>0</td>\n",
       "    </tr>\n",
       "    <tr>\n",
       "      <th>1</th>\n",
       "      <td>1</td>\n",
       "      <td>0</td>\n",
       "    </tr>\n",
       "    <tr>\n",
       "      <th>2</th>\n",
       "      <td>1</td>\n",
       "      <td>0</td>\n",
       "    </tr>\n",
       "    <tr>\n",
       "      <th>3</th>\n",
       "      <td>1</td>\n",
       "      <td>0</td>\n",
       "    </tr>\n",
       "    <tr>\n",
       "      <th>4</th>\n",
       "      <td>1</td>\n",
       "      <td>0</td>\n",
       "    </tr>\n",
       "  </tbody>\n",
       "</table>\n",
       "</div>"
      ],
      "text/plain": [
       "   driving_license  response\n",
       "0                1         0\n",
       "1                1         0\n",
       "2                1         0\n",
       "3                1         0\n",
       "4                1         0"
      ]
     },
     "execution_count": 43,
     "metadata": {},
     "output_type": "execute_result"
    }
   ],
   "source": [
    "df4[['driving_license', 'response']].head()"
   ]
  },
  {
   "cell_type": "code",
   "execution_count": 44,
   "id": "58365353",
   "metadata": {
    "ExecuteTime": {
     "end_time": "2022-03-15T20:10:07.859578Z",
     "start_time": "2022-03-15T20:10:07.807752Z"
    },
    "hidden": true
   },
   "outputs": [
    {
     "data": {
      "text/plain": [
       "array([1, 0])"
      ]
     },
     "execution_count": 44,
     "metadata": {},
     "output_type": "execute_result"
    }
   ],
   "source": [
    "df4['driving_license'].unique()"
   ]
  },
  {
   "cell_type": "code",
   "execution_count": 45,
   "id": "6436edcc",
   "metadata": {
    "ExecuteTime": {
     "end_time": "2022-03-15T20:10:08.502322Z",
     "start_time": "2022-03-15T20:10:07.875421Z"
    },
    "hidden": true,
    "scrolled": true
   },
   "outputs": [
    {
     "data": {
      "text/plain": [
       "<AxesSubplot:xlabel='response', ylabel='driving_license'>"
      ]
     },
     "execution_count": 45,
     "metadata": {},
     "output_type": "execute_result"
    },
    {
     "data": {
      "image/png": "[encoded data removed]",
      "text/plain": [
       "<Figure size 432x288 with 1 Axes>"
      ]
     },
     "metadata": {
      "needs_background": "light"
     },
     "output_type": "display_data"
    }
   ],
   "source": [
    "driv_lic = df4[['driving_license', 'response']].groupby('response').sum().reset_index()\n",
    "sns.barplot(x = 'response', y = 'driving_license', data = driv_lic)"
   ]
  },
  {
   "cell_type": "code",
   "execution_count": 46,
   "id": "1e77e5da",
   "metadata": {
    "ExecuteTime": {
     "end_time": "2022-03-15T20:10:08.559978Z",
     "start_time": "2022-03-15T20:10:08.514450Z"
    },
    "hidden": true
   },
   "outputs": [
    {
     "data": {
      "text/html": [
       "<div>\n",
       "<style scoped>\n",
       "    .dataframe tbody tr th:only-of-type {\n",
       "        vertical-align: middle;\n",
       "    }\n",
       "\n",
       "    .dataframe tbody tr th {\n",
       "        vertical-align: top;\n",
       "    }\n",
       "\n",
       "    .dataframe thead th {\n",
       "        text-align: right;\n",
       "    }\n",
       "</style>\n",
       "<table border=\"1\" class=\"dataframe\">\n",
       "  <thead>\n",
       "    <tr style=\"text-align: right;\">\n",
       "      <th></th>\n",
       "      <th>response</th>\n",
       "      <th>driving_license</th>\n",
       "      <th>driving_license_perc</th>\n",
       "    </tr>\n",
       "  </thead>\n",
       "  <tbody>\n",
       "    <tr>\n",
       "      <th>0</th>\n",
       "      <td>0</td>\n",
       "      <td>333628</td>\n",
       "      <td>0.877283</td>\n",
       "    </tr>\n",
       "    <tr>\n",
       "      <th>1</th>\n",
       "      <td>1</td>\n",
       "      <td>46669</td>\n",
       "      <td>0.122717</td>\n",
       "    </tr>\n",
       "  </tbody>\n",
       "</table>\n",
       "</div>"
      ],
      "text/plain": [
       "   response  driving_license  driving_license_perc\n",
       "0         0           333628              0.877283\n",
       "1         1            46669              0.122717"
      ]
     },
     "execution_count": 46,
     "metadata": {},
     "output_type": "execute_result"
    }
   ],
   "source": [
    "driv_lic['driving_license_perc'] = driv_lic['driving_license']/driv_lic['driving_license'].sum()\n",
    "driv_lic"
   ]
  },
  {
   "cell_type": "markdown",
   "id": "b641084f",
   "metadata": {
    "hidden": true
   },
   "source": [
    "### 4.1.6 Vehicle Age"
   ]
  },
  {
   "cell_type": "code",
   "execution_count": 47,
   "id": "de58b2ac",
   "metadata": {
    "ExecuteTime": {
     "end_time": "2022-03-15T20:10:08.814899Z",
     "start_time": "2022-03-15T20:10:08.570022Z"
    },
    "hidden": true
   },
   "outputs": [
    {
     "data": {
      "text/html": [
       "<div>\n",
       "<style scoped>\n",
       "    .dataframe tbody tr th:only-of-type {\n",
       "        vertical-align: middle;\n",
       "    }\n",
       "\n",
       "    .dataframe tbody tr th {\n",
       "        vertical-align: top;\n",
       "    }\n",
       "\n",
       "    .dataframe thead th {\n",
       "        text-align: right;\n",
       "    }\n",
       "</style>\n",
       "<table border=\"1\" class=\"dataframe\">\n",
       "  <thead>\n",
       "    <tr style=\"text-align: right;\">\n",
       "      <th></th>\n",
       "      <th>vehicle_age</th>\n",
       "      <th>response</th>\n",
       "      <th>0</th>\n",
       "    </tr>\n",
       "  </thead>\n",
       "  <tbody>\n",
       "    <tr>\n",
       "      <th>0</th>\n",
       "      <td>between_1_2_year</td>\n",
       "      <td>0</td>\n",
       "      <td>0.434285</td>\n",
       "    </tr>\n",
       "    <tr>\n",
       "      <th>1</th>\n",
       "      <td>below_1_year</td>\n",
       "      <td>0</td>\n",
       "      <td>0.413488</td>\n",
       "    </tr>\n",
       "    <tr>\n",
       "      <th>2</th>\n",
       "      <td>between_1_2_year</td>\n",
       "      <td>1</td>\n",
       "      <td>0.091328</td>\n",
       "    </tr>\n",
       "    <tr>\n",
       "      <th>3</th>\n",
       "      <td>over_2_years</td>\n",
       "      <td>0</td>\n",
       "      <td>0.029663</td>\n",
       "    </tr>\n",
       "    <tr>\n",
       "      <th>4</th>\n",
       "      <td>below_1_year</td>\n",
       "      <td>1</td>\n",
       "      <td>0.018897</td>\n",
       "    </tr>\n",
       "    <tr>\n",
       "      <th>5</th>\n",
       "      <td>over_2_years</td>\n",
       "      <td>1</td>\n",
       "      <td>0.012338</td>\n",
       "    </tr>\n",
       "  </tbody>\n",
       "</table>\n",
       "</div>"
      ],
      "text/plain": [
       "        vehicle_age  response         0\n",
       "0  between_1_2_year         0  0.434285\n",
       "1      below_1_year         0  0.413488\n",
       "2  between_1_2_year         1  0.091328\n",
       "3      over_2_years         0  0.029663\n",
       "4      below_1_year         1  0.018897\n",
       "5      over_2_years         1  0.012338"
      ]
     },
     "execution_count": 47,
     "metadata": {},
     "output_type": "execute_result"
    }
   ],
   "source": [
    "df4[['vehicle_age', 'response']].value_counts(normalize = True).reset_index()"
   ]
  },
  {
   "cell_type": "markdown",
   "id": "c68df917",
   "metadata": {
    "hidden": true
   },
   "source": [
    "### 4.1.7 Vehicle Damage"
   ]
  },
  {
   "cell_type": "code",
   "execution_count": 48,
   "id": "accdb083",
   "metadata": {
    "ExecuteTime": {
     "end_time": "2022-03-15T20:10:09.417561Z",
     "start_time": "2022-03-15T20:10:08.828094Z"
    },
    "hidden": true
   },
   "outputs": [
    {
     "data": {
      "text/plain": [
       "<AxesSubplot:xlabel='response', ylabel='vehicle_damage'>"
      ]
     },
     "execution_count": 48,
     "metadata": {},
     "output_type": "execute_result"
    },
    {
     "data": {
      "image/png": "[encoded data removed]",
      "text/plain": [
       "<Figure size 432x288 with 1 Axes>"
      ]
     },
     "metadata": {
      "needs_background": "light"
     },
     "output_type": "display_data"
    }
   ],
   "source": [
    "vehi_dam = df4[['vehicle_damage', 'response']].groupby('response').sum().reset_index()\n",
    "sns.barplot(x = 'response', y = 'vehicle_damage', data = vehi_dam)"
   ]
  },
  {
   "cell_type": "code",
   "execution_count": 49,
   "id": "04ae5531",
   "metadata": {
    "ExecuteTime": {
     "end_time": "2022-03-15T20:10:09.462041Z",
     "start_time": "2022-03-15T20:10:09.428540Z"
    },
    "hidden": true
   },
   "outputs": [
    {
     "data": {
      "text/html": [
       "<div>\n",
       "<style scoped>\n",
       "    .dataframe tbody tr th:only-of-type {\n",
       "        vertical-align: middle;\n",
       "    }\n",
       "\n",
       "    .dataframe tbody tr th {\n",
       "        vertical-align: top;\n",
       "    }\n",
       "\n",
       "    .dataframe thead th {\n",
       "        text-align: right;\n",
       "    }\n",
       "</style>\n",
       "<table border=\"1\" class=\"dataframe\">\n",
       "  <thead>\n",
       "    <tr style=\"text-align: right;\">\n",
       "      <th></th>\n",
       "      <th>response</th>\n",
       "      <th>vehicle_damage</th>\n",
       "    </tr>\n",
       "  </thead>\n",
       "  <tbody>\n",
       "    <tr>\n",
       "      <th>0</th>\n",
       "      <td>0</td>\n",
       "      <td>146685</td>\n",
       "    </tr>\n",
       "    <tr>\n",
       "      <th>1</th>\n",
       "      <td>1</td>\n",
       "      <td>45728</td>\n",
       "    </tr>\n",
       "  </tbody>\n",
       "</table>\n",
       "</div>"
      ],
      "text/plain": [
       "   response  vehicle_damage\n",
       "0         0          146685\n",
       "1         1           45728"
      ]
     },
     "execution_count": 49,
     "metadata": {},
     "output_type": "execute_result"
    }
   ],
   "source": [
    "vehi_dam"
   ]
  },
  {
   "cell_type": "markdown",
   "id": "8ea61302",
   "metadata": {
    "hidden": true
   },
   "source": [
    "### 4.1.8 Previously Insured"
   ]
  },
  {
   "cell_type": "markdown",
   "id": "1229882a",
   "metadata": {
    "hidden": true
   },
   "source": [
    "It need to be careful because this feature can tell to the model that people that already have vehicle insurance will not be interested in the offer of the company, that is not true. \n",
    "\n",
    "This would be a data lackage."
   ]
  },
  {
   "cell_type": "code",
   "execution_count": 50,
   "id": "91d8027b",
   "metadata": {
    "ExecuteTime": {
     "end_time": "2022-03-15T20:10:09.510513Z",
     "start_time": "2022-03-15T20:10:09.471597Z"
    },
    "hidden": true
   },
   "outputs": [
    {
     "data": {
      "text/plain": [
       "array([0, 1])"
      ]
     },
     "execution_count": 50,
     "metadata": {},
     "output_type": "execute_result"
    }
   ],
   "source": [
    "df4['previously_insured'].unique()"
   ]
  },
  {
   "cell_type": "code",
   "execution_count": 51,
   "id": "6fd001bd",
   "metadata": {
    "ExecuteTime": {
     "end_time": "2022-03-15T20:10:09.673675Z",
     "start_time": "2022-03-15T20:10:09.520660Z"
    },
    "hidden": true
   },
   "outputs": [
    {
     "data": {
      "text/html": [
       "<div>\n",
       "<style scoped>\n",
       "    .dataframe tbody tr th:only-of-type {\n",
       "        vertical-align: middle;\n",
       "    }\n",
       "\n",
       "    .dataframe tbody tr th {\n",
       "        vertical-align: top;\n",
       "    }\n",
       "\n",
       "    .dataframe thead th {\n",
       "        text-align: right;\n",
       "    }\n",
       "</style>\n",
       "<table border=\"1\" class=\"dataframe\">\n",
       "  <thead>\n",
       "    <tr style=\"text-align: right;\">\n",
       "      <th>response</th>\n",
       "      <th>0</th>\n",
       "      <th>1</th>\n",
       "    </tr>\n",
       "    <tr>\n",
       "      <th>previously_insured</th>\n",
       "      <th></th>\n",
       "      <th></th>\n",
       "    </tr>\n",
       "  </thead>\n",
       "  <tbody>\n",
       "    <tr>\n",
       "      <th>0</th>\n",
       "      <td>0.774546</td>\n",
       "      <td>0.225454</td>\n",
       "    </tr>\n",
       "    <tr>\n",
       "      <th>1</th>\n",
       "      <td>0.999095</td>\n",
       "      <td>0.000905</td>\n",
       "    </tr>\n",
       "  </tbody>\n",
       "</table>\n",
       "</div>"
      ],
      "text/plain": [
       "response                   0         1\n",
       "previously_insured                    \n",
       "0                   0.774546  0.225454\n",
       "1                   0.999095  0.000905"
      ]
     },
     "execution_count": 51,
     "metadata": {},
     "output_type": "execute_result"
    }
   ],
   "source": [
    "# Contingency table\n",
    "pd.crosstab(df4['previously_insured'], df4['response']).apply(lambda x: x/x.sum(), axis = 1)"
   ]
  },
  {
   "cell_type": "code",
   "execution_count": 52,
   "id": "39056a21",
   "metadata": {
    "ExecuteTime": {
     "end_time": "2022-03-15T20:10:10.724397Z",
     "start_time": "2022-03-15T20:10:09.686164Z"
    },
    "hidden": true,
    "scrolled": true
   },
   "outputs": [
    {
     "data": {
      "text/plain": [
       "<AxesSubplot:xlabel='previously_insured', ylabel='id'>"
      ]
     },
     "execution_count": 52,
     "metadata": {},
     "output_type": "execute_result"
    },
    {
     "data": {
      "image/png": "[encoded data removed]",
      "text/plain": [
       "<Figure size 432x288 with 1 Axes>"
      ]
     },
     "metadata": {
      "needs_background": "light"
     },
     "output_type": "display_data"
    }
   ],
   "source": [
    "pre_ins = df4[['id', 'previously_insured', 'response']].groupby(['previously_insured', 'response']).count().reset_index()\n",
    "\n",
    "sns.scatterplot(x = 'previously_insured', y = 'id', hue = 'response', data = pre_ins)"
   ]
  },
  {
   "cell_type": "code",
   "execution_count": 53,
   "id": "0fb211b5",
   "metadata": {
    "ExecuteTime": {
     "end_time": "2022-03-15T20:10:10.764294Z",
     "start_time": "2022-03-15T20:10:10.736116Z"
    },
    "hidden": true
   },
   "outputs": [
    {
     "data": {
      "text/plain": [
       "array([0, 1])"
      ]
     },
     "execution_count": 53,
     "metadata": {},
     "output_type": "execute_result"
    }
   ],
   "source": [
    "df4['response'].unique()"
   ]
  },
  {
   "cell_type": "markdown",
   "id": "7de742ba",
   "metadata": {
    "hidden": true
   },
   "source": [
    "### 4.1.9 Annual Premium"
   ]
  },
  {
   "cell_type": "code",
   "execution_count": 54,
   "id": "42a3ec2c",
   "metadata": {
    "ExecuteTime": {
     "end_time": "2022-03-15T20:10:11.601687Z",
     "start_time": "2022-03-15T20:10:10.773628Z"
    },
    "hidden": true
   },
   "outputs": [
    {
     "data": {
      "text/plain": [
       "<AxesSubplot:xlabel='response', ylabel='annual_premium'>"
      ]
     },
     "execution_count": 54,
     "metadata": {},
     "output_type": "execute_result"
    },
    {
     "data": {
      "image/png": "[encoded data removed]",
      "text/plain": [
       "<Figure size 432x288 with 1 Axes>"
      ]
     },
     "metadata": {
      "needs_background": "light"
     },
     "output_type": "display_data"
    }
   ],
   "source": [
    "ann_pre = df4[df4['annual_premium'] < 80000]\n",
    "sns.boxplot(x = 'response', y = 'annual_premium', data = ann_pre)"
   ]
  },
  {
   "cell_type": "code",
   "execution_count": 55,
   "id": "88ed6f91",
   "metadata": {
    "ExecuteTime": {
     "end_time": "2022-03-15T20:10:11.677057Z",
     "start_time": "2022-03-15T20:10:11.611785Z"
    },
    "hidden": true
   },
   "outputs": [],
   "source": [
    "df = df4[(df4['annual_premium'] > 10000) & (df4['annual_premium'] < 80000)]"
   ]
  },
  {
   "cell_type": "code",
   "execution_count": 56,
   "id": "b35c107f",
   "metadata": {
    "ExecuteTime": {
     "end_time": "2022-03-15T20:10:14.624233Z",
     "start_time": "2022-03-15T20:10:11.685830Z"
    },
    "cell_style": "split",
    "hidden": true
   },
   "outputs": [
    {
     "data": {
      "text/plain": [
       "<AxesSubplot:xlabel='annual_premium', ylabel='Count'>"
      ]
     },
     "execution_count": 56,
     "metadata": {},
     "output_type": "execute_result"
    },
    {
     "data": {
      "image/png": "[encoded data removed]",
      "text/plain": [
       "<Figure size 432x288 with 1 Axes>"
      ]
     },
     "metadata": {
      "needs_background": "light"
     },
     "output_type": "display_data"
    }
   ],
   "source": [
    "num_no = df.loc[df['response'] == 0, 'annual_premium']\n",
    "sns.histplot(num_no)"
   ]
  },
  {
   "cell_type": "code",
   "execution_count": 57,
   "id": "c788cdf1",
   "metadata": {
    "ExecuteTime": {
     "end_time": "2022-03-15T20:10:16.159587Z",
     "start_time": "2022-03-15T20:10:14.634294Z"
    },
    "cell_style": "split",
    "hidden": true
   },
   "outputs": [
    {
     "data": {
      "text/plain": [
       "<AxesSubplot:xlabel='annual_premium', ylabel='Count'>"
      ]
     },
     "execution_count": 57,
     "metadata": {},
     "output_type": "execute_result"
    },
    {
     "data": {
      "image/png": "[encoded data removed]",
      "text/plain": [
       "<Figure size 432x288 with 1 Axes>"
      ]
     },
     "metadata": {
      "needs_background": "light"
     },
     "output_type": "display_data"
    }
   ],
   "source": [
    "num_yes = df.loc[df['response'] == 1, 'annual_premium']\n",
    "sns.histplot(num_yes)"
   ]
  },
  {
   "cell_type": "markdown",
   "id": "16918415",
   "metadata": {
    "hidden": true
   },
   "source": [
    "### 4.1.10 Vintage"
   ]
  },
  {
   "cell_type": "code",
   "execution_count": 58,
   "id": "10fa38fe",
   "metadata": {
    "ExecuteTime": {
     "end_time": "2022-03-15T20:10:16.844832Z",
     "start_time": "2022-03-15T20:10:16.168317Z"
    },
    "hidden": true
   },
   "outputs": [
    {
     "data": {
      "text/plain": [
       "<AxesSubplot:xlabel='response', ylabel='vintage'>"
      ]
     },
     "execution_count": 58,
     "metadata": {},
     "output_type": "execute_result"
    },
    {
     "data": {
      "image/png": "[encoded data removed]",
      "text/plain": [
       "<Figure size 432x288 with 1 Axes>"
      ]
     },
     "metadata": {
      "needs_background": "light"
     },
     "output_type": "display_data"
    }
   ],
   "source": [
    "sns.boxplot(x = 'response', y = 'vintage', data = df4)"
   ]
  },
  {
   "cell_type": "code",
   "execution_count": 59,
   "id": "e84b5061",
   "metadata": {
    "ExecuteTime": {
     "end_time": "2022-03-15T20:10:18.976878Z",
     "start_time": "2022-03-15T20:10:16.854767Z"
    },
    "cell_style": "split",
    "hidden": true
   },
   "outputs": [
    {
     "data": {
      "text/plain": [
       "<AxesSubplot:xlabel='vintage', ylabel='Count'>"
      ]
     },
     "execution_count": 59,
     "metadata": {},
     "output_type": "execute_result"
    },
    {
     "data": {
      "image/png": "[encoded data removed]",
      "text/plain": [
       "<Figure size 432x288 with 1 Axes>"
      ]
     },
     "metadata": {
      "needs_background": "light"
     },
     "output_type": "display_data"
    }
   ],
   "source": [
    "vint_no = df4.loc[df4['response'] == 0, 'vintage']\n",
    "sns.histplot(vint_no)"
   ]
  },
  {
   "cell_type": "code",
   "execution_count": 60,
   "id": "9ff969b6",
   "metadata": {
    "ExecuteTime": {
     "end_time": "2022-03-15T20:10:20.205176Z",
     "start_time": "2022-03-15T20:10:18.987009Z"
    },
    "cell_style": "split",
    "hidden": true
   },
   "outputs": [
    {
     "data": {
      "text/plain": [
       "<AxesSubplot:xlabel='vintage', ylabel='Count'>"
      ]
     },
     "execution_count": 60,
     "metadata": {},
     "output_type": "execute_result"
    },
    {
     "data": {
      "image/png": "[encoded data removed]",
      "text/plain": [
       "<Figure size 432x288 with 1 Axes>"
      ]
     },
     "metadata": {
      "needs_background": "light"
     },
     "output_type": "display_data"
    }
   ],
   "source": [
    "vint_yes = df4.loc[df4['response'] == 1, 'vintage']\n",
    "sns.histplot(vint_yes)"
   ]
  },
  {
   "cell_type": "markdown",
   "id": "f28fbdde",
   "metadata": {
    "hidden": true
   },
   "source": [
    "## 4.2 Bivariate Analysis"
   ]
  },
  {
   "cell_type": "code",
   "execution_count": 61,
   "id": "23499f8a",
   "metadata": {
    "ExecuteTime": {
     "end_time": "2022-03-15T20:10:29.974567Z",
     "start_time": "2022-03-15T20:10:20.217050Z"
    },
    "hidden": true
   },
   "outputs": [],
   "source": [
    "df4.to_csv('../data/interim/df4.csv', index=False)"
   ]
  },
  {
   "cell_type": "markdown",
   "id": "cb0f9ed3",
   "metadata": {
    "heading_collapsed": true
   },
   "source": [
    "# 5.0 Data Preparation"
   ]
  },
  {
   "cell_type": "code",
   "execution_count": 9,
   "id": "d61e0d22",
   "metadata": {
    "ExecuteTime": {
     "end_time": "2022-03-15T20:10:31.335517Z",
     "start_time": "2022-03-15T20:10:29.986521Z"
    },
    "hidden": true
   },
   "outputs": [],
   "source": [
    "df5 = pd.read_csv('../data/interim/df4.csv')"
   ]
  },
  {
   "cell_type": "code",
   "execution_count": 10,
   "id": "d8d40d5c",
   "metadata": {
    "ExecuteTime": {
     "end_time": "2022-03-15T20:10:31.365339Z",
     "start_time": "2022-03-15T20:10:31.344504Z"
    },
    "hidden": true
   },
   "outputs": [
    {
     "data": {
      "text/plain": [
       "Index(['id', 'gender', 'age', 'region_code', 'policy_sales_channel',\n",
       "       'driving_license', 'vehicle_age', 'vehicle_damage',\n",
       "       'previously_insured', 'annual_premium', 'vintage', 'response'],\n",
       "      dtype='object')"
      ]
     },
     "execution_count": 10,
     "metadata": {},
     "output_type": "execute_result"
    }
   ],
   "source": [
    "df5.columns"
   ]
  },
  {
   "cell_type": "code",
   "execution_count": 11,
   "id": "eb10a4dc",
   "metadata": {
    "ExecuteTime": {
     "end_time": "2022-03-15T20:10:31.642694Z",
     "start_time": "2022-03-15T20:10:31.381179Z"
    },
    "hidden": true
   },
   "outputs": [],
   "source": [
    "# splitting the train dataset in train and validation\n",
    "X = df5.drop('response', axis=1)\n",
    "y = df5['response'].copy()\n",
    "\n",
    "x_train, x_validation, y_train, y_validation = ms.train_test_split(X, y, test_size = 0.20)\n",
    "\n",
    "df5 = pd.concat([x_train, y_train], axis=1)"
   ]
  },
  {
   "cell_type": "markdown",
   "id": "8f75def7",
   "metadata": {
    "hidden": true
   },
   "source": [
    "## 5.1 Standardization"
   ]
  },
  {
   "cell_type": "code",
   "execution_count": 13,
   "id": "534bb1c4",
   "metadata": {
    "ExecuteTime": {
     "end_time": "2022-03-15T20:10:31.712177Z",
     "start_time": "2022-03-15T20:10:31.651155Z"
    },
    "hidden": true
   },
   "outputs": [
    {
     "data": {
      "text/plain": [
       "array([[41804.],\n",
       "       [32172.],\n",
       "       [30856.],\n",
       "       ...,\n",
       "       [ 2630.],\n",
       "       [35689.],\n",
       "       [56140.]])"
      ]
     },
     "execution_count": 13,
     "metadata": {},
     "output_type": "execute_result"
    }
   ],
   "source": [
    "df5[['annual_premium']].values"
   ]
  },
  {
   "cell_type": "code",
   "execution_count": 14,
   "id": "13a27c57",
   "metadata": {
    "ExecuteTime": {
     "end_time": "2022-03-15T20:10:31.780516Z",
     "start_time": "2022-03-15T20:10:31.726304Z"
    },
    "hidden": true
   },
   "outputs": [],
   "source": [
    "# annual_premium -> to be already like a normal distribution, in the first cycle the outliers will be maintained\n",
    "ss = pp.StandardScaler()\n",
    "\n",
    "df5['annual_premium'] = ss.fit_transform(df5[['annual_premium']].values)\n",
    "#df5['annual_premium']\n",
    "# saving pickles to deploy\n",
    "pickle.dump(ss, open('../src/features/annual_premium_scaler.pkl', 'wb'))"
   ]
  },
  {
   "cell_type": "markdown",
   "id": "5a9aaac8",
   "metadata": {
    "hidden": true
   },
   "source": [
    "## 5.2 Rescaling"
   ]
  },
  {
   "cell_type": "code",
   "execution_count": 15,
   "id": "1d1d26da",
   "metadata": {
    "ExecuteTime": {
     "end_time": "2022-03-15T20:10:31.839818Z",
     "start_time": "2022-03-15T20:10:31.788754Z"
    },
    "hidden": true,
    "scrolled": true
   },
   "outputs": [],
   "source": [
    "# Age -> because it isn't a normal distribution\n",
    "aux = df5['age']\n",
    "\n",
    "mms_age = pp.MinMaxScaler()\n",
    "\n",
    "df5['age'] = mms_age.fit_transform(df5[['age']].values)\n",
    "\n",
    "# saving the pickles to deploy\n",
    "pickle.dump(mms_age, open('../src/features/age_scaler.pkl', 'wb'))"
   ]
  },
  {
   "cell_type": "code",
   "execution_count": 68,
   "id": "7bb7c166",
   "metadata": {
    "ExecuteTime": {
     "end_time": "2022-03-15T20:10:34.256670Z",
     "start_time": "2022-03-15T20:10:31.850102Z"
    },
    "cell_style": "split",
    "hidden": true
   },
   "outputs": [
    {
     "data": {
      "text/plain": [
       "<AxesSubplot:xlabel='age', ylabel='Count'>"
      ]
     },
     "execution_count": 68,
     "metadata": {},
     "output_type": "execute_result"
    },
    {
     "data": {
      "image/png": "[encoded data removed]",
      "text/plain": [
       "<Figure size 432x288 with 1 Axes>"
      ]
     },
     "metadata": {
      "needs_background": "light"
     },
     "output_type": "display_data"
    }
   ],
   "source": [
    "sns.histplot(df5['age'])"
   ]
  },
  {
   "cell_type": "code",
   "execution_count": 69,
   "id": "f1933a97",
   "metadata": {
    "ExecuteTime": {
     "end_time": "2022-03-15T20:10:36.404645Z",
     "start_time": "2022-03-15T20:10:34.267922Z"
    },
    "cell_style": "split",
    "hidden": true
   },
   "outputs": [
    {
     "data": {
      "text/plain": [
       "<AxesSubplot:xlabel='age', ylabel='Count'>"
      ]
     },
     "execution_count": 69,
     "metadata": {},
     "output_type": "execute_result"
    },
    {
     "data": {
      "image/png": "[encoded data removed]",
      "text/plain": [
       "<Figure size 432x288 with 1 Axes>"
      ]
     },
     "metadata": {
      "needs_background": "light"
     },
     "output_type": "display_data"
    }
   ],
   "source": [
    "sns.histplot(aux)"
   ]
  },
  {
   "cell_type": "code",
   "execution_count": 16,
   "id": "c26c806f",
   "metadata": {
    "ExecuteTime": {
     "end_time": "2022-03-15T20:10:36.468404Z",
     "start_time": "2022-03-15T20:10:36.416699Z"
    },
    "hidden": true
   },
   "outputs": [],
   "source": [
    "# vintage\n",
    "aux = df5['vintage']\n",
    "\n",
    "mms_vintage = pp.MinMaxScaler()\n",
    "\n",
    "df5['vintage'] = mms_vintage.fit_transform(df5[['vintage']].values)\n",
    "\n",
    "# saving the pickles to deploy\n",
    "pickle.dump(mms_vintage, open('../src/features/vintage_scaler.pkl', 'wb'))"
   ]
  },
  {
   "cell_type": "code",
   "execution_count": 71,
   "id": "3b0c61fe",
   "metadata": {
    "ExecuteTime": {
     "end_time": "2022-03-15T20:10:39.049576Z",
     "start_time": "2022-03-15T20:10:36.477048Z"
    },
    "cell_style": "split",
    "hidden": true
   },
   "outputs": [
    {
     "data": {
      "text/plain": [
       "<AxesSubplot:xlabel='vintage', ylabel='Count'>"
      ]
     },
     "execution_count": 71,
     "metadata": {},
     "output_type": "execute_result"
    },
    {
     "data": {
      "image/png": "[encoded data removed]",
      "text/plain": [
       "<Figure size 432x288 with 1 Axes>"
      ]
     },
     "metadata": {
      "needs_background": "light"
     },
     "output_type": "display_data"
    }
   ],
   "source": [
    "sns.histplot(df5['vintage'])"
   ]
  },
  {
   "cell_type": "code",
   "execution_count": 72,
   "id": "9060b550",
   "metadata": {
    "ExecuteTime": {
     "end_time": "2022-03-15T20:10:40.948713Z",
     "start_time": "2022-03-15T20:10:39.061553Z"
    },
    "cell_style": "split",
    "hidden": true
   },
   "outputs": [
    {
     "data": {
      "text/plain": [
       "<AxesSubplot:xlabel='vintage', ylabel='Count'>"
      ]
     },
     "execution_count": 72,
     "metadata": {},
     "output_type": "execute_result"
    },
    {
     "data": {
      "image/png": "[encoded data removed]",
      "text/plain": [
       "<Figure size 432x288 with 1 Axes>"
      ]
     },
     "metadata": {
      "needs_background": "light"
     },
     "output_type": "display_data"
    }
   ],
   "source": [
    "sns.histplot(aux)"
   ]
  },
  {
   "cell_type": "markdown",
   "id": "2839e838",
   "metadata": {
    "hidden": true
   },
   "source": [
    "## 5.3 Transformation"
   ]
  },
  {
   "cell_type": "markdown",
   "id": "b53b1695",
   "metadata": {
    "hidden": true
   },
   "source": [
    "### 5.3.1 Encoding"
   ]
  },
  {
   "cell_type": "code",
   "execution_count": 73,
   "id": "677afa1f",
   "metadata": {
    "ExecuteTime": {
     "end_time": "2022-03-15T20:10:40.975714Z",
     "start_time": "2022-03-15T20:10:40.959711Z"
    },
    "hidden": true
   },
   "outputs": [],
   "source": [
    "# driving_license: its already a code (0 or 1 -> label encoding)\n",
    "# previously_insured: its already a code (0 or 1 -> label encoding)\n",
    "# vehicle_damage: its already a code (0 or 1 -> label encoding)"
   ]
  },
  {
   "cell_type": "code",
   "execution_count": 17,
   "id": "9b0cebb5",
   "metadata": {
    "ExecuteTime": {
     "end_time": "2022-03-15T20:10:41.164205Z",
     "start_time": "2022-03-15T20:10:40.987748Z"
    },
    "hidden": true
   },
   "outputs": [],
   "source": [
    "# gender - One hot encoding / **Target encoding**\n",
    "target_encode_gender = df5.groupby('gender')['response'].mean()\n",
    "df5.loc[:, 'gender'] = df5['gender'].map(target_encode_gender)\n",
    "\n",
    "# saving the pickles to deploy\n",
    "pickle.dump(target_encode_gender, open('../src/features/target_encode_gender_scaler.pkl', 'wb'))\n",
    "\n",
    "#target_encode_gender\n",
    "#df5['gender']"
   ]
  },
  {
   "cell_type": "code",
   "execution_count": 18,
   "id": "771e5b73",
   "metadata": {
    "ExecuteTime": {
     "end_time": "2022-03-15T20:10:41.257364Z",
     "start_time": "2022-03-15T20:10:41.172047Z"
    },
    "hidden": true
   },
   "outputs": [],
   "source": [
    "# region_code (it has so much levels) - **Target Encoding**/ Frequency Encoding\n",
    "target_encode_region_code = df5.groupby('region_code')['response'].mean()\n",
    "df5.loc[:, 'region_code'] = df5['region_code'].map(target_encode_region_code)\n",
    "\n",
    "# saving the pickles to deploy\n",
    "pickle.dump(target_encode_region_code, open('../src/features/target_encode_region_code_scaler.pkl', 'wb'))\n",
    "\n",
    "#target_encode_region_code\n",
    "#df5['region_code']"
   ]
  },
  {
   "cell_type": "code",
   "execution_count": 19,
   "id": "ca87ea9d",
   "metadata": {
    "ExecuteTime": {
     "end_time": "2022-03-15T20:10:41.469604Z",
     "start_time": "2022-03-15T20:10:41.267260Z"
    },
    "hidden": true
   },
   "outputs": [],
   "source": [
    "# vehicle_age: if considered only two year as double of one year, cars that are 14 months old aren't doubly old than a car with 6 months (**One hot Encoding**/ Order Encoding/ Frequency Encoding)\n",
    "df_aux = pd.get_dummies(df5, prefix='vehicle_age', columns=['vehicle_age'])\n",
    "df5 = df_aux\n",
    "\n",
    "# It could be made by pickles too, but the transformations will be made only by pandas\n",
    "\n",
    "#df_aux"
   ]
  },
  {
   "cell_type": "code",
   "execution_count": 20,
   "id": "e484fe14",
   "metadata": {
    "ExecuteTime": {
     "end_time": "2022-03-15T20:10:41.563806Z",
     "start_time": "2022-03-15T20:10:41.478270Z"
    },
    "hidden": true
   },
   "outputs": [],
   "source": [
    "# policy_sales_channel: Targer Enconding/ **Frequency Encoding**\n",
    "fe_policy_sales_channel = df5.groupby('policy_sales_channel').size() / len(df5)\n",
    "df5.loc[:, 'policy_sales_channel'] = df5['policy_sales_channel'].map(fe_policy_sales_channel)\n",
    "\n",
    "# saving the pickles to deploy\n",
    "pickle.dump(fe_policy_sales_channel, open('../src/features/fe_policy_sales_channel_scaler.pkl', 'wb'))\n",
    "\n",
    "#fe_policy_sales_channel\n",
    "#df5['policy_sales_channel']"
   ]
  },
  {
   "cell_type": "markdown",
   "id": "6f784e50",
   "metadata": {
    "hidden": true
   },
   "source": [
    "## 5.4 Preparation of Validation"
   ]
  },
  {
   "cell_type": "code",
   "execution_count": 21,
   "id": "1f6c061b",
   "metadata": {
    "ExecuteTime": {
     "end_time": "2022-03-15T20:10:41.865257Z",
     "start_time": "2022-03-15T20:10:41.572733Z"
    },
    "hidden": true
   },
   "outputs": [],
   "source": [
    "# gender\n",
    "x_validation.loc[:, 'gender'] = x_validation.loc[:, 'gender'].map(target_encode_gender)\n",
    "\n",
    "# age (applying just transform metho, so it don't add new measures of mean an std values to the feature that are different of the training dataset)\n",
    "x_validation.loc[:, 'age'] = mms_age.transform(x_validation[['age']].values)\n",
    "\n",
    "# region_code\n",
    "x_validation.loc[:, 'region_code'] = x_validation.loc[:, 'region_code'].map(target_encode_region_code)\n",
    "\n",
    "# vehicle_age\n",
    "x_validation = pd.get_dummies(x_validation, prefix='vehicle_age', columns=['vehicle_age'])\n",
    "\n",
    "# annual_premium\n",
    "x_validation.loc[:, 'annual_premium'] = ss.transform(x_validation[['annual_premium']].values)\n",
    "\n",
    "# policy_sales_channel\n",
    "x_validation.loc[:, 'policy_sales_channel'] = x_validation['policy_sales_channel'].map(fe_policy_sales_channel)\n",
    "\n",
    "# vintage\n",
    "x_validation.loc[:, 'vintage'] = mms_vintage.transform(x_validation[['vintage']].values)\n",
    "\n",
    "# fillna -> if there is any value tha is on validation but is not in train dataset\n",
    "x_validation = x_validation.fillna(0)"
   ]
  },
  {
   "cell_type": "code",
   "execution_count": 79,
   "id": "7d7a820a",
   "metadata": {
    "ExecuteTime": {
     "end_time": "2022-03-15T20:10:58.390291Z",
     "start_time": "2022-03-15T20:10:41.873720Z"
    },
    "hidden": true
   },
   "outputs": [],
   "source": [
    "df5.to_csv('../data/interim/df5.csv', index=False)"
   ]
  },
  {
   "cell_type": "markdown",
   "id": "d9452f35",
   "metadata": {
    "heading_collapsed": true
   },
   "source": [
    "# 6.0 Feature Selection"
   ]
  },
  {
   "cell_type": "code",
   "execution_count": 80,
   "id": "d6cf3b51",
   "metadata": {
    "ExecuteTime": {
     "end_time": "2022-03-15T20:11:00.211961Z",
     "start_time": "2022-03-15T20:10:58.407308Z"
    },
    "hidden": true
   },
   "outputs": [],
   "source": [
    "df6 = pd.read_csv('../data/interim/df5.csv')"
   ]
  },
  {
   "cell_type": "markdown",
   "id": "ac978fe9",
   "metadata": {
    "hidden": true
   },
   "source": [
    "## 6.1 Boruta Algorithm"
   ]
  },
  {
   "cell_type": "markdown",
   "id": "8515a46f",
   "metadata": {
    "hidden": true
   },
   "source": [
    "## 6.2 Features Importance"
   ]
  },
  {
   "cell_type": "code",
   "execution_count": 81,
   "id": "b1f597d0",
   "metadata": {
    "ExecuteTime": {
     "end_time": "2022-03-15T20:13:00.759215Z",
     "start_time": "2022-03-15T20:11:00.220462Z"
    },
    "hidden": true
   },
   "outputs": [
    {
     "data": {
      "text/plain": [
       "ExtraTreesClassifier(n_estimators=250, n_jobs=-1, random_state=0)"
      ]
     },
     "execution_count": 81,
     "metadata": {},
     "output_type": "execute_result"
    }
   ],
   "source": [
    "# model definition\n",
    "forest = en.ExtraTreesClassifier(n_estimators=250, random_state=0, n_jobs=-1)\n",
    "\n",
    "# data preparation\n",
    "x_train_n = df6.drop(['id', 'response'], axis=1)\n",
    "y_train_n = y_train.values\n",
    "forest.fit(x_train_n, y_train_n)"
   ]
  },
  {
   "cell_type": "code",
   "execution_count": 82,
   "id": "4356e47a",
   "metadata": {
    "ExecuteTime": {
     "end_time": "2022-03-15T20:13:04.229064Z",
     "start_time": "2022-03-15T20:13:00.769092Z"
    },
    "hidden": true,
    "scrolled": true
   },
   "outputs": [
    {
     "name": "stdout",
     "output_type": "stream",
     "text": [
      "Feature ranking:\n",
      "                        feature  importance\n",
      "0                       vintage    0.272215\n",
      "0                annual_premium    0.244333\n",
      "0                           age    0.165755\n",
      "0                   region_code    0.105585\n",
      "0                vehicle_damage    0.069166\n",
      "0          policy_sales_channel    0.059155\n",
      "0            previously_insured    0.055970\n",
      "0      vehicle_age_below_1_year    0.014171\n",
      "0  vehicle_age_between_1_2_year    0.006095\n",
      "0                        gender    0.004910\n",
      "0      vehicle_age_over_2_years    0.002162\n",
      "0               driving_license    0.000483\n"
     ]
    },
    {
     "data": {
      "image/png": "[encoded data removed]",
      "text/plain": [
       "<Figure size 432x288 with 1 Axes>"
      ]
     },
     "metadata": {
      "needs_background": "light"
     },
     "output_type": "display_data"
    }
   ],
   "source": [
    "importances = forest.feature_importances_\n",
    "std = np.std([tree.feature_importances_ for tree in forest.estimators_], axis=0)\n",
    "indices = np.argsort(importances)[::-1]\n",
    "\n",
    "# Print the feature ranking\n",
    "print(\"Feature ranking:\")\n",
    "df = pd.DataFrame()\n",
    "for i, j in zip( x_train_n, forest.feature_importances_ ):\n",
    "    aux = pd.DataFrame( {'feature': i, 'importance': j}, index=[0] )\n",
    "    df = pd.concat( [df, aux], axis=0 )\n",
    "    \n",
    "print( df.sort_values( 'importance', ascending=False ) )\n",
    "\n",
    "# Plot the impurity-based feature importances of the forest\n",
    "plt.figure()\n",
    "plt.title(\"Feature importances\")\n",
    "plt.bar(range(x_train_n.shape[1]), importances[indices], color=\"r\", yerr=std[indices], align=\"center\")\n",
    "plt.xticks(range(x_train_n.shape[1]), indices)\n",
    "plt.xlim([-1, x_train_n.shape[1]])\n",
    "plt.show()"
   ]
  },
  {
   "cell_type": "code",
   "execution_count": 83,
   "id": "3bff3287",
   "metadata": {
    "ExecuteTime": {
     "end_time": "2022-03-15T20:13:19.935943Z",
     "start_time": "2022-03-15T20:13:04.239403Z"
    },
    "hidden": true
   },
   "outputs": [],
   "source": [
    "df6.to_csv('../data/interim/df6.csv', index=False)"
   ]
  },
  {
   "cell_type": "markdown",
   "id": "a2d46291",
   "metadata": {
    "heading_collapsed": true
   },
   "source": [
    "# 7.0 Machine Learning"
   ]
  },
  {
   "cell_type": "code",
   "execution_count": 5,
   "id": "c6168f40",
   "metadata": {
    "ExecuteTime": {
     "end_time": "2022-03-15T20:13:22.138827Z",
     "start_time": "2022-03-15T20:13:19.944697Z"
    },
    "hidden": true
   },
   "outputs": [],
   "source": [
    "df7 = pd.read_csv('../data/interim/df6.csv')"
   ]
  },
  {
   "cell_type": "code",
   "execution_count": 6,
   "id": "ab30503e",
   "metadata": {
    "ExecuteTime": {
     "end_time": "2022-03-15T20:13:22.227400Z",
     "start_time": "2022-03-15T20:13:22.217607Z"
    },
    "hidden": true
   },
   "outputs": [],
   "source": [
    "cols_selected_importance = ['vintage', 'annual_premium', 'age', 'region_code', 'vehicle_damage', 'policy_sales_channel', 'previously_insured']"
   ]
  },
  {
   "cell_type": "code",
   "execution_count": 22,
   "id": "34bb0693",
   "metadata": {
    "ExecuteTime": {
     "end_time": "2022-03-15T20:13:22.285692Z",
     "start_time": "2022-03-15T20:13:22.239038Z"
    },
    "hidden": true
   },
   "outputs": [],
   "source": [
    "x_train = df7[cols_selected_importance]\n",
    "\n",
    "x_val = x_validation[cols_selected_importance]\n",
    "y_val = y_validation"
   ]
  },
  {
   "cell_type": "markdown",
   "id": "95929c95",
   "metadata": {
    "heading_collapsed": true,
    "hidden": true
   },
   "source": [
    "## 7.1 KNN Classifier"
   ]
  },
  {
   "cell_type": "code",
   "execution_count": 87,
   "id": "562b23c8",
   "metadata": {
    "ExecuteTime": {
     "end_time": "2022-03-15T20:13:31.851460Z",
     "start_time": "2022-03-15T20:13:22.296603Z"
    },
    "hidden": true
   },
   "outputs": [],
   "source": [
    "# model definition\n",
    "knn_model = nh.KNeighborsClassifier(n_neighbors=7)\n",
    "\n",
    "# model training\n",
    "knn_model.fit(x_train, y_train)\n",
    "\n",
    "# model prediction - Generalization\n",
    "yhat_knn = knn_model.predict_proba(x_val)"
   ]
  },
  {
   "cell_type": "markdown",
   "id": "200e3fb9",
   "metadata": {
    "hidden": true
   },
   "source": [
    "Because the problem is a ordened list we need some metrics of ordenation"
   ]
  },
  {
   "cell_type": "code",
   "execution_count": 88,
   "id": "885a459a",
   "metadata": {
    "ExecuteTime": {
     "end_time": "2022-03-15T20:13:32.947351Z",
     "start_time": "2022-03-15T20:13:31.860006Z"
    },
    "cell_style": "split",
    "hidden": true,
    "hide_input": false
   },
   "outputs": [
    {
     "data": {
      "text/plain": [
       "<AxesSubplot:title={'center':'Cumulative Gains Curve'}, xlabel='Percentage of sample', ylabel='Gain'>"
      ]
     },
     "execution_count": 88,
     "metadata": {},
     "output_type": "execute_result"
    },
    {
     "data": {
      "image/png": "[encoded data removed]",
      "text/plain": [
       "<Figure size 432x288 with 1 Axes>"
      ]
     },
     "metadata": {
      "needs_background": "light"
     },
     "output_type": "display_data"
    }
   ],
   "source": [
    "# Accumulative Gain\n",
    "skplt.metrics.plot_cumulative_gain(y_val, yhat_knn)"
   ]
  },
  {
   "cell_type": "code",
   "execution_count": 89,
   "id": "20eec2aa",
   "metadata": {
    "ExecuteTime": {
     "end_time": "2022-03-15T20:13:33.828305Z",
     "start_time": "2022-03-15T20:13:32.967998Z"
    },
    "cell_style": "split",
    "hidden": true,
    "hide_input": true
   },
   "outputs": [
    {
     "data": {
      "text/plain": [
       "<AxesSubplot:title={'center':'Lift Curve'}, xlabel='Percentage of sample', ylabel='Lift'>"
      ]
     },
     "execution_count": 89,
     "metadata": {},
     "output_type": "execute_result"
    },
    {
     "data": {
      "image/png": "[encoded data removed]",
      "text/plain": [
       "<Figure size 432x288 with 1 Axes>"
      ]
     },
     "metadata": {
      "needs_background": "light"
     },
     "output_type": "display_data"
    }
   ],
   "source": [
    "# says how much the prediction is better with the model im comparison with no model.\n",
    "skplt.metrics.plot_lift_curve(y_val, yhat_knn)"
   ]
  },
  {
   "cell_type": "markdown",
   "id": "528a954b",
   "metadata": {
    "heading_collapsed": true,
    "hidden": true
   },
   "source": [
    "## 7.2 Logistic Regresion"
   ]
  },
  {
   "cell_type": "code",
   "execution_count": 90,
   "id": "dd08d2fc",
   "metadata": {
    "ExecuteTime": {
     "end_time": "2022-03-15T20:13:36.774014Z",
     "start_time": "2022-03-15T20:13:33.839627Z"
    },
    "hidden": true
   },
   "outputs": [],
   "source": [
    "# model definition\n",
    "lr_model = lm.LogisticRegression(random_state=42)\n",
    "\n",
    "# model training\n",
    "lr_model.fit(x_train, y_train)\n",
    "\n",
    "# model prediction\n",
    "yhat_lr = lr_model.predict_proba(x_val)"
   ]
  },
  {
   "cell_type": "code",
   "execution_count": 91,
   "id": "9b712e7a",
   "metadata": {
    "ExecuteTime": {
     "end_time": "2022-03-15T20:13:37.795391Z",
     "start_time": "2022-03-15T20:13:36.782465Z"
    },
    "cell_style": "split",
    "hidden": true
   },
   "outputs": [
    {
     "data": {
      "image/png": "[encoded data removed]",
      "text/plain": [
       "<Figure size 432x288 with 1 Axes>"
      ]
     },
     "metadata": {
      "needs_background": "light"
     },
     "output_type": "display_data"
    }
   ],
   "source": [
    "# Accumulative Gain\n",
    "skplt.metrics.plot_cumulative_gain(y_val, yhat_lr);"
   ]
  },
  {
   "cell_type": "code",
   "execution_count": 92,
   "id": "099d4ffd",
   "metadata": {
    "ExecuteTime": {
     "end_time": "2022-03-15T20:13:39.198426Z",
     "start_time": "2022-03-15T20:13:37.810092Z"
    },
    "cell_style": "split",
    "hidden": true,
    "scrolled": false
   },
   "outputs": [
    {
     "data": {
      "image/png": "[encoded data removed]",
      "text/plain": [
       "<Figure size 432x288 with 1 Axes>"
      ]
     },
     "metadata": {
      "needs_background": "light"
     },
     "output_type": "display_data"
    }
   ],
   "source": [
    "skplt.metrics.plot_lift_curve(y_val, yhat_lr);"
   ]
  },
  {
   "cell_type": "markdown",
   "id": "8d8571e9",
   "metadata": {
    "heading_collapsed": true,
    "hidden": true
   },
   "source": [
    "## 7.3 Extra Trees Classifier"
   ]
  },
  {
   "cell_type": "code",
   "execution_count": 93,
   "id": "95afc642",
   "metadata": {
    "ExecuteTime": {
     "end_time": "2022-03-15T20:14:37.020490Z",
     "start_time": "2022-03-15T20:13:39.211791Z"
    },
    "hidden": true
   },
   "outputs": [],
   "source": [
    "# model definition\n",
    "et = en.ExtraTreesClassifier(n_estimators=1000, n_jobs=-1, random_state=42)\n",
    "\n",
    "# model training\n",
    "et.fit(x_train, y_train)\n",
    "\n",
    "# model prediction\n",
    "yhat_et = et.predict_proba(x_val)"
   ]
  },
  {
   "cell_type": "code",
   "execution_count": 94,
   "id": "3ea90ebb",
   "metadata": {
    "ExecuteTime": {
     "end_time": "2022-03-15T20:14:38.138817Z",
     "start_time": "2022-03-15T20:14:37.033526Z"
    },
    "hidden": true
   },
   "outputs": [
    {
     "data": {
      "image/png": "[encoded data removed]",
      "text/plain": [
       "<Figure size 432x288 with 1 Axes>"
      ]
     },
     "metadata": {
      "needs_background": "light"
     },
     "output_type": "display_data"
    }
   ],
   "source": [
    "# Accumulative Gain\n",
    "skplt.metrics.plot_cumulative_gain(y_val, yhat_et);"
   ]
  },
  {
   "cell_type": "code",
   "execution_count": 95,
   "id": "6e6a046d",
   "metadata": {
    "ExecuteTime": {
     "end_time": "2022-03-15T20:14:38.963137Z",
     "start_time": "2022-03-15T20:14:38.149151Z"
    },
    "hidden": true
   },
   "outputs": [
    {
     "data": {
      "image/png": "[encoded data removed]",
      "text/plain": [
       "<Figure size 432x288 with 1 Axes>"
      ]
     },
     "metadata": {
      "needs_background": "light"
     },
     "output_type": "display_data"
    }
   ],
   "source": [
    "skplt.metrics.plot_lift_curve(y_val, yhat_et);"
   ]
  },
  {
   "cell_type": "markdown",
   "id": "f0b381c5",
   "metadata": {
    "heading_collapsed": true,
    "hidden": true
   },
   "source": [
    "## 7.4 Random Forest"
   ]
  },
  {
   "cell_type": "code",
   "execution_count": 23,
   "id": "ca5f38a9",
   "metadata": {
    "ExecuteTime": {
     "end_time": "2022-03-15T20:16:35.730980Z",
     "start_time": "2022-03-15T20:14:38.974378Z"
    },
    "hidden": true
   },
   "outputs": [
    {
     "ename": "NameError",
     "evalue": "name 'et' is not defined",
     "output_type": "error",
     "traceback": [
      "\u001b[0;31m---------------------------------------------------------------------------\u001b[0m",
      "\u001b[0;31mNameError\u001b[0m                                 Traceback (most recent call last)",
      "Input \u001b[0;32mIn [23]\u001b[0m, in \u001b[0;36m<module>\u001b[0;34m\u001b[0m\n\u001b[1;32m      5\u001b[0m rf\u001b[38;5;241m.\u001b[39mfit(x_train, y_train)\n\u001b[1;32m      7\u001b[0m \u001b[38;5;66;03m# model prediction\u001b[39;00m\n\u001b[0;32m----> 8\u001b[0m yhat_rf \u001b[38;5;241m=\u001b[39m \u001b[43met\u001b[49m\u001b[38;5;241m.\u001b[39mpredict_proba(x_val)\n",
      "\u001b[0;31mNameError\u001b[0m: name 'et' is not defined"
     ]
    }
   ],
   "source": [
    "# model definition\n",
    "rf = en.RandomForestClassifier(n_estimators=1000, n_jobs=-1, random_state=42) \n",
    "\n",
    "# model training\n",
    "rf.fit(x_train, y_train)\n",
    "\n",
    "# model prediction\n",
    "yhat_rf = et.predict_proba(x_val)"
   ]
  },
  {
   "cell_type": "code",
   "execution_count": 97,
   "id": "cb6e9ab2",
   "metadata": {
    "ExecuteTime": {
     "end_time": "2022-03-15T20:16:36.582653Z",
     "start_time": "2022-03-15T20:16:35.740744Z"
    },
    "hidden": true
   },
   "outputs": [
    {
     "data": {
      "image/png": "[encoded data removed]",
      "text/plain": [
       "<Figure size 432x288 with 1 Axes>"
      ]
     },
     "metadata": {
      "needs_background": "light"
     },
     "output_type": "display_data"
    }
   ],
   "source": [
    "# Accumulative Gain\n",
    "skplt.metrics.plot_cumulative_gain(y_val, yhat_rf);"
   ]
  },
  {
   "cell_type": "code",
   "execution_count": 98,
   "id": "d0e12371",
   "metadata": {
    "ExecuteTime": {
     "end_time": "2022-03-15T20:16:37.480646Z",
     "start_time": "2022-03-15T20:16:36.595093Z"
    },
    "hidden": true
   },
   "outputs": [
    {
     "data": {
      "image/png": "[encoded data removed]",
      "text/plain": [
       "<Figure size 432x288 with 1 Axes>"
      ]
     },
     "metadata": {
      "needs_background": "light"
     },
     "output_type": "display_data"
    }
   ],
   "source": [
    "skplt.metrics.plot_lift_curve(y_val, yhat_rf);"
   ]
  },
  {
   "cell_type": "markdown",
   "id": "f0123541",
   "metadata": {
    "heading_collapsed": true
   },
   "source": [
    "# 8.0 Model Performance"
   ]
  },
  {
   "cell_type": "code",
   "execution_count": 99,
   "id": "c3b6f8ae",
   "metadata": {
    "ExecuteTime": {
     "end_time": "2022-03-15T20:16:37.513714Z",
     "start_time": "2022-03-15T20:16:37.491747Z"
    },
    "hidden": true
   },
   "outputs": [],
   "source": [
    "df8 = x_validation.copy()"
   ]
  },
  {
   "cell_type": "code",
   "execution_count": 100,
   "id": "e822f5fa",
   "metadata": {
    "ExecuteTime": {
     "end_time": "2022-03-15T20:16:37.605154Z",
     "start_time": "2022-03-15T20:16:37.523620Z"
    },
    "hidden": true
   },
   "outputs": [
    {
     "data": {
      "text/html": [
       "<div>\n",
       "<style scoped>\n",
       "    .dataframe tbody tr th:only-of-type {\n",
       "        vertical-align: middle;\n",
       "    }\n",
       "\n",
       "    .dataframe tbody tr th {\n",
       "        vertical-align: top;\n",
       "    }\n",
       "\n",
       "    .dataframe thead th {\n",
       "        text-align: right;\n",
       "    }\n",
       "</style>\n",
       "<table border=\"1\" class=\"dataframe\">\n",
       "  <thead>\n",
       "    <tr style=\"text-align: right;\">\n",
       "      <th></th>\n",
       "      <th>id</th>\n",
       "      <th>gender</th>\n",
       "      <th>age</th>\n",
       "      <th>region_code</th>\n",
       "      <th>policy_sales_channel</th>\n",
       "      <th>driving_license</th>\n",
       "      <th>vehicle_damage</th>\n",
       "      <th>previously_insured</th>\n",
       "      <th>annual_premium</th>\n",
       "      <th>vintage</th>\n",
       "      <th>vehicle_age_below_1_year</th>\n",
       "      <th>vehicle_age_between_1_2_year</th>\n",
       "      <th>vehicle_age_over_2_years</th>\n",
       "    </tr>\n",
       "  </thead>\n",
       "  <tbody>\n",
       "    <tr>\n",
       "      <th>9579</th>\n",
       "      <td>76605</td>\n",
       "      <td>0.138897</td>\n",
       "      <td>0.353846</td>\n",
       "      <td>0.102624</td>\n",
       "      <td>0.193996</td>\n",
       "      <td>1</td>\n",
       "      <td>1</td>\n",
       "      <td>0</td>\n",
       "      <td>-1.624818</td>\n",
       "      <td>0.681661</td>\n",
       "      <td>0</td>\n",
       "      <td>1</td>\n",
       "      <td>0</td>\n",
       "    </tr>\n",
       "    <tr>\n",
       "      <th>45189</th>\n",
       "      <td>360383</td>\n",
       "      <td>0.138897</td>\n",
       "      <td>0.538462</td>\n",
       "      <td>0.086898</td>\n",
       "      <td>0.193996</td>\n",
       "      <td>1</td>\n",
       "      <td>1</td>\n",
       "      <td>0</td>\n",
       "      <td>1.285905</td>\n",
       "      <td>0.003460</td>\n",
       "      <td>0</td>\n",
       "      <td>1</td>\n",
       "      <td>0</td>\n",
       "    </tr>\n",
       "    <tr>\n",
       "      <th>269561</th>\n",
       "      <td>247968</td>\n",
       "      <td>0.138897</td>\n",
       "      <td>0.046154</td>\n",
       "      <td>0.096243</td>\n",
       "      <td>0.354016</td>\n",
       "      <td>1</td>\n",
       "      <td>0</td>\n",
       "      <td>0</td>\n",
       "      <td>0.782708</td>\n",
       "      <td>0.564014</td>\n",
       "      <td>1</td>\n",
       "      <td>0</td>\n",
       "      <td>0</td>\n",
       "    </tr>\n",
       "    <tr>\n",
       "      <th>327708</th>\n",
       "      <td>333191</td>\n",
       "      <td>0.138897</td>\n",
       "      <td>0.046154</td>\n",
       "      <td>0.060089</td>\n",
       "      <td>0.354016</td>\n",
       "      <td>1</td>\n",
       "      <td>0</td>\n",
       "      <td>1</td>\n",
       "      <td>0.821984</td>\n",
       "      <td>0.484429</td>\n",
       "      <td>1</td>\n",
       "      <td>0</td>\n",
       "      <td>0</td>\n",
       "    </tr>\n",
       "    <tr>\n",
       "      <th>245241</th>\n",
       "      <td>54318</td>\n",
       "      <td>0.103856</td>\n",
       "      <td>0.138462</td>\n",
       "      <td>0.088946</td>\n",
       "      <td>0.354016</td>\n",
       "      <td>1</td>\n",
       "      <td>0</td>\n",
       "      <td>1</td>\n",
       "      <td>0.242213</td>\n",
       "      <td>0.847751</td>\n",
       "      <td>1</td>\n",
       "      <td>0</td>\n",
       "      <td>0</td>\n",
       "    </tr>\n",
       "  </tbody>\n",
       "</table>\n",
       "</div>"
      ],
      "text/plain": [
       "            id    gender       age  region_code  policy_sales_channel  \\\n",
       "9579     76605  0.138897  0.353846     0.102624              0.193996   \n",
       "45189   360383  0.138897  0.538462     0.086898              0.193996   \n",
       "269561  247968  0.138897  0.046154     0.096243              0.354016   \n",
       "327708  333191  0.138897  0.046154     0.060089              0.354016   \n",
       "245241   54318  0.103856  0.138462     0.088946              0.354016   \n",
       "\n",
       "        driving_license  vehicle_damage  previously_insured  annual_premium  \\\n",
       "9579                  1               1                   0       -1.624818   \n",
       "45189                 1               1                   0        1.285905   \n",
       "269561                1               0                   0        0.782708   \n",
       "327708                1               0                   1        0.821984   \n",
       "245241                1               0                   1        0.242213   \n",
       "\n",
       "         vintage  vehicle_age_below_1_year  vehicle_age_between_1_2_year  \\\n",
       "9579    0.681661                         0                             1   \n",
       "45189   0.003460                         0                             1   \n",
       "269561  0.564014                         1                             0   \n",
       "327708  0.484429                         1                             0   \n",
       "245241  0.847751                         1                             0   \n",
       "\n",
       "        vehicle_age_over_2_years  \n",
       "9579                           0  \n",
       "45189                          0  \n",
       "269561                         0  \n",
       "327708                         0  \n",
       "245241                         0  "
      ]
     },
     "execution_count": 100,
     "metadata": {},
     "output_type": "execute_result"
    }
   ],
   "source": [
    "df8.head()"
   ]
  },
  {
   "cell_type": "code",
   "execution_count": 101,
   "id": "9f5ef098",
   "metadata": {
    "ExecuteTime": {
     "end_time": "2022-03-15T20:16:37.648246Z",
     "start_time": "2022-03-15T20:16:37.618189Z"
    },
    "hidden": true
   },
   "outputs": [],
   "source": [
    "df8['response'] = y_validation.copy()"
   ]
  },
  {
   "cell_type": "code",
   "execution_count": 102,
   "id": "a970e786",
   "metadata": {
    "ExecuteTime": {
     "end_time": "2022-03-15T20:16:37.891167Z",
     "start_time": "2022-03-15T20:16:37.657422Z"
    },
    "hidden": true
   },
   "outputs": [],
   "source": [
    "# propensity score (just to order the base, after this is useless)\n",
    "df8['score'] = yhat_knn[:, 1].tolist()"
   ]
  },
  {
   "cell_type": "code",
   "execution_count": 103,
   "id": "c06de9c1",
   "metadata": {
    "ExecuteTime": {
     "end_time": "2022-03-15T20:16:37.962821Z",
     "start_time": "2022-03-15T20:16:37.899799Z"
    },
    "hidden": true
   },
   "outputs": [],
   "source": [
    "# sort clients by propensity score\n",
    "df8 = df8.sort_values('score', ascending=False)"
   ]
  },
  {
   "cell_type": "code",
   "execution_count": 104,
   "id": "e53e6267",
   "metadata": {
    "ExecuteTime": {
     "end_time": "2022-03-15T20:16:38.081198Z",
     "start_time": "2022-03-15T20:16:37.985190Z"
    },
    "hidden": true
   },
   "outputs": [
    {
     "data": {
      "text/html": [
       "<div>\n",
       "<style scoped>\n",
       "    .dataframe tbody tr th:only-of-type {\n",
       "        vertical-align: middle;\n",
       "    }\n",
       "\n",
       "    .dataframe tbody tr th {\n",
       "        vertical-align: top;\n",
       "    }\n",
       "\n",
       "    .dataframe thead th {\n",
       "        text-align: right;\n",
       "    }\n",
       "</style>\n",
       "<table border=\"1\" class=\"dataframe\">\n",
       "  <thead>\n",
       "    <tr style=\"text-align: right;\">\n",
       "      <th></th>\n",
       "      <th>id</th>\n",
       "      <th>gender</th>\n",
       "      <th>age</th>\n",
       "      <th>region_code</th>\n",
       "      <th>policy_sales_channel</th>\n",
       "      <th>driving_license</th>\n",
       "      <th>vehicle_damage</th>\n",
       "      <th>previously_insured</th>\n",
       "      <th>annual_premium</th>\n",
       "      <th>vintage</th>\n",
       "      <th>vehicle_age_below_1_year</th>\n",
       "      <th>vehicle_age_between_1_2_year</th>\n",
       "      <th>vehicle_age_over_2_years</th>\n",
       "      <th>response</th>\n",
       "      <th>score</th>\n",
       "    </tr>\n",
       "  </thead>\n",
       "  <tbody>\n",
       "    <tr>\n",
       "      <th>44702</th>\n",
       "      <td>356496</td>\n",
       "      <td>0.103856</td>\n",
       "      <td>0.430769</td>\n",
       "      <td>0.160524</td>\n",
       "      <td>0.026026</td>\n",
       "      <td>1</td>\n",
       "      <td>1</td>\n",
       "      <td>0</td>\n",
       "      <td>0.604075</td>\n",
       "      <td>0.429066</td>\n",
       "      <td>0</td>\n",
       "      <td>1</td>\n",
       "      <td>0</td>\n",
       "      <td>0</td>\n",
       "      <td>0.9</td>\n",
       "    </tr>\n",
       "    <tr>\n",
       "      <th>284841</th>\n",
       "      <td>370160</td>\n",
       "      <td>0.103856</td>\n",
       "      <td>0.169231</td>\n",
       "      <td>0.187615</td>\n",
       "      <td>0.057172</td>\n",
       "      <td>1</td>\n",
       "      <td>1</td>\n",
       "      <td>0</td>\n",
       "      <td>0.692402</td>\n",
       "      <td>0.647059</td>\n",
       "      <td>1</td>\n",
       "      <td>0</td>\n",
       "      <td>0</td>\n",
       "      <td>1</td>\n",
       "      <td>0.9</td>\n",
       "    </tr>\n",
       "    <tr>\n",
       "      <th>1899</th>\n",
       "      <td>15421</td>\n",
       "      <td>0.138897</td>\n",
       "      <td>0.415385</td>\n",
       "      <td>0.187615</td>\n",
       "      <td>0.209035</td>\n",
       "      <td>1</td>\n",
       "      <td>0</td>\n",
       "      <td>0</td>\n",
       "      <td>0.800688</td>\n",
       "      <td>0.186851</td>\n",
       "      <td>0</td>\n",
       "      <td>1</td>\n",
       "      <td>0</td>\n",
       "      <td>0</td>\n",
       "      <td>0.9</td>\n",
       "    </tr>\n",
       "    <tr>\n",
       "      <th>379878</th>\n",
       "      <td>371831</td>\n",
       "      <td>0.103856</td>\n",
       "      <td>0.246154</td>\n",
       "      <td>0.096243</td>\n",
       "      <td>0.193996</td>\n",
       "      <td>1</td>\n",
       "      <td>1</td>\n",
       "      <td>0</td>\n",
       "      <td>-0.148218</td>\n",
       "      <td>0.730104</td>\n",
       "      <td>0</td>\n",
       "      <td>1</td>\n",
       "      <td>0</td>\n",
       "      <td>0</td>\n",
       "      <td>0.8</td>\n",
       "    </tr>\n",
       "    <tr>\n",
       "      <th>78651</th>\n",
       "      <td>246666</td>\n",
       "      <td>0.138897</td>\n",
       "      <td>0.230769</td>\n",
       "      <td>0.128341</td>\n",
       "      <td>0.193996</td>\n",
       "      <td>1</td>\n",
       "      <td>0</td>\n",
       "      <td>1</td>\n",
       "      <td>-0.020033</td>\n",
       "      <td>0.356401</td>\n",
       "      <td>0</td>\n",
       "      <td>1</td>\n",
       "      <td>0</td>\n",
       "      <td>0</td>\n",
       "      <td>0.8</td>\n",
       "    </tr>\n",
       "    <tr>\n",
       "      <th>...</th>\n",
       "      <td>...</td>\n",
       "      <td>...</td>\n",
       "      <td>...</td>\n",
       "      <td>...</td>\n",
       "      <td>...</td>\n",
       "      <td>...</td>\n",
       "      <td>...</td>\n",
       "      <td>...</td>\n",
       "      <td>...</td>\n",
       "      <td>...</td>\n",
       "      <td>...</td>\n",
       "      <td>...</td>\n",
       "      <td>...</td>\n",
       "      <td>...</td>\n",
       "      <td>...</td>\n",
       "    </tr>\n",
       "    <tr>\n",
       "      <th>262125</th>\n",
       "      <td>189896</td>\n",
       "      <td>0.103856</td>\n",
       "      <td>0.076923</td>\n",
       "      <td>0.125405</td>\n",
       "      <td>0.354016</td>\n",
       "      <td>1</td>\n",
       "      <td>1</td>\n",
       "      <td>0</td>\n",
       "      <td>-1.624818</td>\n",
       "      <td>0.259516</td>\n",
       "      <td>1</td>\n",
       "      <td>0</td>\n",
       "      <td>0</td>\n",
       "      <td>0</td>\n",
       "      <td>0.0</td>\n",
       "    </tr>\n",
       "    <tr>\n",
       "      <th>20696</th>\n",
       "      <td>165215</td>\n",
       "      <td>0.138897</td>\n",
       "      <td>0.538462</td>\n",
       "      <td>0.102624</td>\n",
       "      <td>0.193996</td>\n",
       "      <td>1</td>\n",
       "      <td>1</td>\n",
       "      <td>0</td>\n",
       "      <td>2.147648</td>\n",
       "      <td>0.747405</td>\n",
       "      <td>0</td>\n",
       "      <td>1</td>\n",
       "      <td>0</td>\n",
       "      <td>0</td>\n",
       "      <td>0.0</td>\n",
       "    </tr>\n",
       "    <tr>\n",
       "      <th>48718</th>\n",
       "      <td>7219</td>\n",
       "      <td>0.138897</td>\n",
       "      <td>0.061538</td>\n",
       "      <td>0.096243</td>\n",
       "      <td>0.354016</td>\n",
       "      <td>1</td>\n",
       "      <td>0</td>\n",
       "      <td>1</td>\n",
       "      <td>0.808426</td>\n",
       "      <td>0.318339</td>\n",
       "      <td>1</td>\n",
       "      <td>0</td>\n",
       "      <td>0</td>\n",
       "      <td>0</td>\n",
       "      <td>0.0</td>\n",
       "    </tr>\n",
       "    <tr>\n",
       "      <th>354080</th>\n",
       "      <td>165320</td>\n",
       "      <td>0.138897</td>\n",
       "      <td>0.015385</td>\n",
       "      <td>0.071589</td>\n",
       "      <td>0.057172</td>\n",
       "      <td>1</td>\n",
       "      <td>1</td>\n",
       "      <td>0</td>\n",
       "      <td>-0.196455</td>\n",
       "      <td>0.868512</td>\n",
       "      <td>1</td>\n",
       "      <td>0</td>\n",
       "      <td>0</td>\n",
       "      <td>0</td>\n",
       "      <td>0.0</td>\n",
       "    </tr>\n",
       "    <tr>\n",
       "      <th>9579</th>\n",
       "      <td>76605</td>\n",
       "      <td>0.138897</td>\n",
       "      <td>0.353846</td>\n",
       "      <td>0.102624</td>\n",
       "      <td>0.193996</td>\n",
       "      <td>1</td>\n",
       "      <td>1</td>\n",
       "      <td>0</td>\n",
       "      <td>-1.624818</td>\n",
       "      <td>0.681661</td>\n",
       "      <td>0</td>\n",
       "      <td>1</td>\n",
       "      <td>0</td>\n",
       "      <td>0</td>\n",
       "      <td>0.0</td>\n",
       "    </tr>\n",
       "  </tbody>\n",
       "</table>\n",
       "<p>76222 rows × 15 columns</p>\n",
       "</div>"
      ],
      "text/plain": [
       "            id    gender       age  region_code  policy_sales_channel  \\\n",
       "44702   356496  0.103856  0.430769     0.160524              0.026026   \n",
       "284841  370160  0.103856  0.169231     0.187615              0.057172   \n",
       "1899     15421  0.138897  0.415385     0.187615              0.209035   \n",
       "379878  371831  0.103856  0.246154     0.096243              0.193996   \n",
       "78651   246666  0.138897  0.230769     0.128341              0.193996   \n",
       "...        ...       ...       ...          ...                   ...   \n",
       "262125  189896  0.103856  0.076923     0.125405              0.354016   \n",
       "20696   165215  0.138897  0.538462     0.102624              0.193996   \n",
       "48718     7219  0.138897  0.061538     0.096243              0.354016   \n",
       "354080  165320  0.138897  0.015385     0.071589              0.057172   \n",
       "9579     76605  0.138897  0.353846     0.102624              0.193996   \n",
       "\n",
       "        driving_license  vehicle_damage  previously_insured  annual_premium  \\\n",
       "44702                 1               1                   0        0.604075   \n",
       "284841                1               1                   0        0.692402   \n",
       "1899                  1               0                   0        0.800688   \n",
       "379878                1               1                   0       -0.148218   \n",
       "78651                 1               0                   1       -0.020033   \n",
       "...                 ...             ...                 ...             ...   \n",
       "262125                1               1                   0       -1.624818   \n",
       "20696                 1               1                   0        2.147648   \n",
       "48718                 1               0                   1        0.808426   \n",
       "354080                1               1                   0       -0.196455   \n",
       "9579                  1               1                   0       -1.624818   \n",
       "\n",
       "         vintage  vehicle_age_below_1_year  vehicle_age_between_1_2_year  \\\n",
       "44702   0.429066                         0                             1   \n",
       "284841  0.647059                         1                             0   \n",
       "1899    0.186851                         0                             1   \n",
       "379878  0.730104                         0                             1   \n",
       "78651   0.356401                         0                             1   \n",
       "...          ...                       ...                           ...   \n",
       "262125  0.259516                         1                             0   \n",
       "20696   0.747405                         0                             1   \n",
       "48718   0.318339                         1                             0   \n",
       "354080  0.868512                         1                             0   \n",
       "9579    0.681661                         0                             1   \n",
       "\n",
       "        vehicle_age_over_2_years  response  score  \n",
       "44702                          0         0    0.9  \n",
       "284841                         0         1    0.9  \n",
       "1899                           0         0    0.9  \n",
       "379878                         0         0    0.8  \n",
       "78651                          0         0    0.8  \n",
       "...                          ...       ...    ...  \n",
       "262125                         0         0    0.0  \n",
       "20696                          0         0    0.0  \n",
       "48718                          0         0    0.0  \n",
       "354080                         0         0    0.0  \n",
       "9579                           0         0    0.0  \n",
       "\n",
       "[76222 rows x 15 columns]"
      ]
     },
     "execution_count": 104,
     "metadata": {},
     "output_type": "execute_result"
    }
   ],
   "source": [
    "df8"
   ]
  },
  {
   "cell_type": "code",
   "execution_count": 105,
   "id": "c736a635",
   "metadata": {
    "ExecuteTime": {
     "end_time": "2022-03-15T20:16:38.127583Z",
     "start_time": "2022-03-15T20:16:38.095038Z"
    },
    "hidden": true
   },
   "outputs": [],
   "source": [
    "# for this function it needs to be passed the target variable as 'response', if passed with another name, it will give an error. correcttion in the next cycle.\n",
    "\n",
    "## reset index\n",
    "#df8 = df8.reset_index(drop = True)\n",
    "#\n",
    "## create ranking order\n",
    "#df8['ranking'] = df8.index + 1\n",
    "#\n",
    "#df8['precision_at_k'] = df8['response'].cumsum() / df8['ranking']\n",
    "#\n",
    "#df8[['id', 'response', 'score', 'ranking', 'precision_at_k']]\n",
    "\n",
    "def precision_at_k(data, k=10):\n",
    "    # reset index\n",
    "    data = data.reset_index(drop=True)\n",
    "    \n",
    "    # create ranking order\n",
    "    data['ranking'] = data.index + 1\n",
    "    \n",
    "    data['precision_at_k'] = data['response'].cumsum() / data['ranking']\n",
    "    \n",
    "    return (data.loc[ k, 'precision_at_k'], data)"
   ]
  },
  {
   "cell_type": "code",
   "execution_count": 106,
   "id": "aec697ee",
   "metadata": {
    "ExecuteTime": {
     "end_time": "2022-03-15T20:16:38.160135Z",
     "start_time": "2022-03-15T20:16:38.139681Z"
    },
    "hidden": true
   },
   "outputs": [],
   "source": [
    "def recall_at_k(data, k=15):\n",
    "    data = data.reset_index(drop=True)\n",
    "    data['ranking'] = data.index + 1\n",
    "    \n",
    "    data['recall_at_k'] = data['response'].cumsum() / data['response'].sum()\n",
    "    \n",
    "    return (data.loc[ k, 'recall_at_k'], data)"
   ]
  },
  {
   "cell_type": "code",
   "execution_count": 107,
   "id": "b44fb87d",
   "metadata": {
    "ExecuteTime": {
     "end_time": "2022-03-15T20:16:38.453843Z",
     "start_time": "2022-03-15T20:16:38.172990Z"
    },
    "hidden": true
   },
   "outputs": [
    {
     "name": "stdout",
     "output_type": "stream",
     "text": [
      "Precision at K:(0.11764705882352941,            id    gender       age  region_code  policy_sales_channel  \\\n",
      "0      356496  0.103856  0.430769     0.160524              0.026026   \n",
      "1      370160  0.103856  0.169231     0.187615              0.057172   \n",
      "2       15421  0.138897  0.415385     0.187615              0.209035   \n",
      "3      371831  0.103856  0.246154     0.096243              0.193996   \n",
      "4      246666  0.138897  0.230769     0.128341              0.193996   \n",
      "...       ...       ...       ...          ...                   ...   \n",
      "76217  189896  0.103856  0.076923     0.125405              0.354016   \n",
      "76218  165215  0.138897  0.538462     0.102624              0.193996   \n",
      "76219    7219  0.138897  0.061538     0.096243              0.354016   \n",
      "76220  165320  0.138897  0.015385     0.071589              0.057172   \n",
      "76221   76605  0.138897  0.353846     0.102624              0.193996   \n",
      "\n",
      "       driving_license  vehicle_damage  previously_insured  annual_premium  \\\n",
      "0                    1               1                   0        0.604075   \n",
      "1                    1               1                   0        0.692402   \n",
      "2                    1               0                   0        0.800688   \n",
      "3                    1               1                   0       -0.148218   \n",
      "4                    1               0                   1       -0.020033   \n",
      "...                ...             ...                 ...             ...   \n",
      "76217                1               1                   0       -1.624818   \n",
      "76218                1               1                   0        2.147648   \n",
      "76219                1               0                   1        0.808426   \n",
      "76220                1               1                   0       -0.196455   \n",
      "76221                1               1                   0       -1.624818   \n",
      "\n",
      "        vintage  vehicle_age_below_1_year  vehicle_age_between_1_2_year  \\\n",
      "0      0.429066                         0                             1   \n",
      "1      0.647059                         1                             0   \n",
      "2      0.186851                         0                             1   \n",
      "3      0.730104                         0                             1   \n",
      "4      0.356401                         0                             1   \n",
      "...         ...                       ...                           ...   \n",
      "76217  0.259516                         1                             0   \n",
      "76218  0.747405                         0                             1   \n",
      "76219  0.318339                         1                             0   \n",
      "76220  0.868512                         1                             0   \n",
      "76221  0.681661                         0                             1   \n",
      "\n",
      "       vehicle_age_over_2_years  response  score  ranking  precision_at_k  \n",
      "0                             0         0    0.9        1        0.000000  \n",
      "1                             0         1    0.9        2        0.500000  \n",
      "2                             0         0    0.9        3        0.333333  \n",
      "3                             0         0    0.8        4        0.250000  \n",
      "4                             0         0    0.8        5        0.200000  \n",
      "...                         ...       ...    ...      ...             ...  \n",
      "76217                         0         0    0.0    76218        0.121585  \n",
      "76218                         0         0    0.0    76219        0.121584  \n",
      "76219                         0         0    0.0    76220        0.121582  \n",
      "76220                         0         0    0.0    76221        0.121581  \n",
      "76221                         0         0    0.0    76222        0.121579  \n",
      "\n",
      "[76222 rows x 17 columns])\n",
      "Recall at K:(0.0006474587245063128,            id    gender       age  region_code  policy_sales_channel  \\\n",
      "0      356496  0.103856  0.430769     0.160524              0.026026   \n",
      "1      370160  0.103856  0.169231     0.187615              0.057172   \n",
      "2       15421  0.138897  0.415385     0.187615              0.209035   \n",
      "3      371831  0.103856  0.246154     0.096243              0.193996   \n",
      "4      246666  0.138897  0.230769     0.128341              0.193996   \n",
      "...       ...       ...       ...          ...                   ...   \n",
      "76217  189896  0.103856  0.076923     0.125405              0.354016   \n",
      "76218  165215  0.138897  0.538462     0.102624              0.193996   \n",
      "76219    7219  0.138897  0.061538     0.096243              0.354016   \n",
      "76220  165320  0.138897  0.015385     0.071589              0.057172   \n",
      "76221   76605  0.138897  0.353846     0.102624              0.193996   \n",
      "\n",
      "       driving_license  vehicle_damage  previously_insured  annual_premium  \\\n",
      "0                    1               1                   0        0.604075   \n",
      "1                    1               1                   0        0.692402   \n",
      "2                    1               0                   0        0.800688   \n",
      "3                    1               1                   0       -0.148218   \n",
      "4                    1               0                   1       -0.020033   \n",
      "...                ...             ...                 ...             ...   \n",
      "76217                1               1                   0       -1.624818   \n",
      "76218                1               1                   0        2.147648   \n",
      "76219                1               0                   1        0.808426   \n",
      "76220                1               1                   0       -0.196455   \n",
      "76221                1               1                   0       -1.624818   \n",
      "\n",
      "        vintage  vehicle_age_below_1_year  vehicle_age_between_1_2_year  \\\n",
      "0      0.429066                         0                             1   \n",
      "1      0.647059                         1                             0   \n",
      "2      0.186851                         0                             1   \n",
      "3      0.730104                         0                             1   \n",
      "4      0.356401                         0                             1   \n",
      "...         ...                       ...                           ...   \n",
      "76217  0.259516                         1                             0   \n",
      "76218  0.747405                         0                             1   \n",
      "76219  0.318339                         1                             0   \n",
      "76220  0.868512                         1                             0   \n",
      "76221  0.681661                         0                             1   \n",
      "\n",
      "       vehicle_age_over_2_years  response  score  ranking  recall_at_k  \n",
      "0                             0         0    0.9        1     0.000000  \n",
      "1                             0         1    0.9        2     0.000108  \n",
      "2                             0         0    0.9        3     0.000108  \n",
      "3                             0         0    0.8        4     0.000108  \n",
      "4                             0         0    0.8        5     0.000108  \n",
      "...                         ...       ...    ...      ...          ...  \n",
      "76217                         0         0    0.0    76218     1.000000  \n",
      "76218                         0         0    0.0    76219     1.000000  \n",
      "76219                         0         0    0.0    76220     1.000000  \n",
      "76220                         0         0    0.0    76221     1.000000  \n",
      "76221                         0         0    0.0    76222     1.000000  \n",
      "\n",
      "[76222 rows x 17 columns])\n"
     ]
    }
   ],
   "source": [
    "# compute precision at k\n",
    "precision_at_50 = precision_at_k(df8, k=50)\n",
    "print('Precision at K:{}'.format(precision_at_50))\n",
    "\n",
    "# compute recall at k\n",
    "recall_at_50 = recall_at_k(df8, k=50)\n",
    "print('Recall at K:{}'.format(recall_at_50))"
   ]
  },
  {
   "cell_type": "markdown",
   "id": "7c61fc67",
   "metadata": {
    "heading_collapsed": true
   },
   "source": [
    "# 9.0 Deploy to production"
   ]
  },
  {
   "cell_type": "code",
   "execution_count": 105,
   "id": "8445a05d",
   "metadata": {
    "ExecuteTime": {
     "end_time": "2022-03-15T19:09:24.505500Z",
     "start_time": "2022-03-15T19:09:24.466632Z"
    },
    "hidden": true
   },
   "outputs": [],
   "source": [
    "# Save trained model\n",
    "# lr selected due machine processing\n",
    "pickle.dump(lr_model, open('/home/work/Documents/repos/pa004_health_insurance_cross_sell/cfdo_health_insurance_cross_sell/health_insurance_cross_sell_gitlab/archive/src/models/model_linear_regression.pkl', 'wb')) # wb -> write bytes"
   ]
  },
  {
   "cell_type": "markdown",
   "id": "f84f5df3",
   "metadata": {
    "hidden": true
   },
   "source": [
    "## 9.1 Health Insurance Class"
   ]
  },
  {
   "cell_type": "code",
   "execution_count": 106,
   "id": "8f87bbdf",
   "metadata": {
    "ExecuteTime": {
     "end_time": "2022-03-15T19:09:28.623765Z",
     "start_time": "2022-03-15T19:09:28.502946Z"
    },
    "hidden": true
   },
   "outputs": [],
   "source": [
    "import pickle\n",
    "import numpy  as np\n",
    "import pandas as pd\n",
    "\n",
    "class HealthInsurance:\n",
    "    \n",
    "    def __init__(self):\n",
    "        self.home_path = '/home/work/Documents/repos/pa004_health_insurance_cross_sell/cfdo_health_insurance_cross_sell/health_insurance_cross_sell_gitlab/archive/'\n",
    "        self.annual_premium_scaler = pickle.load(open(self.home_path + 'src/features/annual_premium_scaler.pkl'))\n",
    "        \n",
    "        self.age_scaler = pickle.load(open(self.home_path + 'src/features/age_scaler.pkl')) \n",
    "        \n",
    "        self.vintage_scaler = pickle.load(open( self.home_path + 'src/features/vintage_scaler.pkl')) \n",
    "        \n",
    "        self.target_encode_gender_scaler = pickle.load(open(self.home_path + 'src/features/target_encode_gender_scaler.pkl'))\n",
    "        \n",
    "        self.target_encode_region_code_scaler = pickle.load(open(self.home_path + 'src/features/target_encode_region_code_scaler.pkl'))\n",
    "        \n",
    "        self.fe_policy_sales_channel_scaler = pickle.load(open(self.home_path + 'src/features/fe_policy_sales_channel_scaler.pkl'))\n",
    "        \n",
    "    def data_cleaning(self, df1):\n",
    "        # 1.1. Rename Columns\n",
    "        cols_new = ['id', 'gender', 'age', 'region_code', 'policy_sales_channel', 'driving_license', 'vehicle_age', 'vehicle_damage', 'previously_insured', 'annual_premium', 'vintage', 'response']\n",
    "\n",
    "        # rename \n",
    "        df1.columns = cols_new\n",
    "        \n",
    "        return df1 \n",
    "\n",
    "    \n",
    "    def feature_engineering(self, df2):\n",
    "        # 2.0. Feature Engineering\n",
    "\n",
    "        # Vehicle Damage Number\n",
    "        df2['vehicle_damage'] = df2['vehicle_damage'].apply(lambda x: 1 if x == 'Yes' else 0)\n",
    "\n",
    "        # Vehicle Age\n",
    "        df2['vehicle_age'] =  df2['vehicle_age'].apply(lambda x: 'over_2_years' if x == '> 2 Years' else 'between_1_2_year' if x == '1-2 Year' else 'below_1_year')\n",
    "        \n",
    "        return df2\n",
    "    \n",
    "    \n",
    "    def data_preparation(self, df5):\n",
    "        # anual premium - StandarScaler\n",
    "        # aqui a api carrega o pickle com os parâmetros já feitos com o fit anteriormente e aplica através do método transform (não mais fit.transform) nos dados de teste.\n",
    "        df5['annual_premium'] = self.annual_premium_scaler.transform(df5[['annual_premium']].values)\n",
    "\n",
    "        # Age - MinMaxScaler\n",
    "        df5['age'] = self.age_scaler.transform(df5[['age']].values)\n",
    "\n",
    "        # Vintage - MinMaxScaler\n",
    "        df5['vintage'] = self.vintage_scaler.transform(df5[['vintage']].values)\n",
    "\n",
    "        # gender - One Hot Encoding / Target Encoding\n",
    "        df5.loc[:, 'gender'] = df5['gender'].map(self.target_encode_gender_scaler)\n",
    "\n",
    "        # region_code - Target Encoding / Frequency Encoding\n",
    "        df5.loc[:, 'region_code'] = df5['region_code'].map(self.target_encode_region_code_scaler)\n",
    "\n",
    "        # vehicle_age - One Hot Encoding / Frequency Encoding\n",
    "        df5 = pd.get_dummies(df5, prefix='vehicle_age', columns=['vehicle_age'])\n",
    "\n",
    "        # policy_sales_channel - Target Encoding / Frequency Encoding\n",
    "        df5.loc[:, 'policy_sales_channel'] = df5['policy_sales_channel'].map(self.fe_policy_sales_channel_scaler)\n",
    "        \n",
    "        # Feature Selection\n",
    "        cols_selected = ['vintage', 'annual_premium', 'age', 'region_code', 'policy_sales_channel']\n",
    "        \n",
    "        return df5[cols_selected]\n",
    "    \n",
    "    \n",
    "    def get_prediction(self, model, original_data, test_data):\n",
    "        # model prediction\n",
    "        pred = model.predict_proba(test_data)\n",
    "        \n",
    "        # join prediction into original data\n",
    "        #original_data['prediction'] = pred\n",
    "        original_data['score'] = pred\n",
    "        \n",
    "        return original_data.to_json(orient='records', date_format='iso')"
   ]
  },
  {
   "cell_type": "markdown",
   "id": "a8b26180",
   "metadata": {
    "hidden": true
   },
   "source": [
    "## 9.2 API Handler"
   ]
  },
  {
   "cell_type": "markdown",
   "id": "5db5040b",
   "metadata": {
    "hidden": true
   },
   "source": [
    "Preparing the API to receive the request"
   ]
  },
  {
   "cell_type": "code",
   "execution_count": 8,
   "id": "94c19907",
   "metadata": {
    "ExecuteTime": {
     "end_time": "2022-03-14T18:24:11.321306Z",
     "start_time": "2022-03-14T18:24:10.940047Z"
    },
    "hidden": true
   },
   "outputs": [
    {
     "name": "stdout",
     "output_type": "stream",
     "text": [
      " * Serving Flask app '__main__' (lazy loading)\n",
      " * Environment: production\n",
      "\u001b[31m   WARNING: This is a development server. Do not use it in a production deployment.\u001b[0m\n",
      "\u001b[2m   Use a production WSGI server instead.\u001b[0m\n",
      " * Debug mode: on\n"
     ]
    },
    {
     "ename": "OSError",
     "evalue": "[Errno 98] Address already in use",
     "output_type": "error",
     "traceback": [
      "\u001b[0;31m---------------------------------------------------------------------------\u001b[0m",
      "\u001b[0;31mOSError\u001b[0m                                   Traceback (most recent call last)",
      "Input \u001b[0;32mIn [8]\u001b[0m, in \u001b[0;36m<module>\u001b[0;34m\u001b[0m\n\u001b[1;32m     44\u001b[0m         \u001b[38;5;28;01mreturn\u001b[39;00m Response(\u001b[38;5;124m'\u001b[39m\u001b[38;5;132;01m{}\u001b[39;00m\u001b[38;5;124m'\u001b[39m, status\u001b[38;5;241m=\u001b[39m\u001b[38;5;241m200\u001b[39m, mimetype\u001b[38;5;241m=\u001b[39m\u001b[38;5;124m'\u001b[39m\u001b[38;5;124mapplication/json\u001b[39m\u001b[38;5;124m'\u001b[39m)\n\u001b[1;32m     46\u001b[0m \u001b[38;5;28;01mif\u001b[39;00m \u001b[38;5;18m__name__\u001b[39m \u001b[38;5;241m==\u001b[39m \u001b[38;5;124m'\u001b[39m\u001b[38;5;124m__main__\u001b[39m\u001b[38;5;124m'\u001b[39m:\n\u001b[1;32m     47\u001b[0m     \u001b[38;5;66;03m# port = os.environ.get('PORT', 5000) ->  no heroku a porta é passada via variável de ambiente\u001b[39;00m\n\u001b[0;32m---> 48\u001b[0m     \u001b[43mapp\u001b[49m\u001b[38;5;241;43m.\u001b[39;49m\u001b[43mrun\u001b[49m\u001b[43m(\u001b[49m\u001b[38;5;124;43m'\u001b[39;49m\u001b[38;5;124;43m0.0.0.0\u001b[39;49m\u001b[38;5;124;43m'\u001b[39;49m\u001b[43m,\u001b[49m\u001b[43m \u001b[49m\u001b[43mdebug\u001b[49m\u001b[38;5;241;43m=\u001b[39;49m\u001b[38;5;28;43;01mTrue\u001b[39;49;00m\u001b[43m)\u001b[49m\n",
      "File \u001b[0;32m~/.pyenv/versions/3.8.0/envs/HealthInsurance/lib/python3.8/site-packages/flask/app.py:920\u001b[0m, in \u001b[0;36mFlask.run\u001b[0;34m(self, host, port, debug, load_dotenv, **options)\u001b[0m\n\u001b[1;32m    917\u001b[0m \u001b[38;5;28;01mfrom\u001b[39;00m \u001b[38;5;21;01mwerkzeug\u001b[39;00m\u001b[38;5;21;01m.\u001b[39;00m\u001b[38;5;21;01mserving\u001b[39;00m \u001b[38;5;28;01mimport\u001b[39;00m run_simple\n\u001b[1;32m    919\u001b[0m \u001b[38;5;28;01mtry\u001b[39;00m:\n\u001b[0;32m--> 920\u001b[0m     \u001b[43mrun_simple\u001b[49m\u001b[43m(\u001b[49m\u001b[43mt\u001b[49m\u001b[38;5;241;43m.\u001b[39;49m\u001b[43mcast\u001b[49m\u001b[43m(\u001b[49m\u001b[38;5;28;43mstr\u001b[39;49m\u001b[43m,\u001b[49m\u001b[43m \u001b[49m\u001b[43mhost\u001b[49m\u001b[43m)\u001b[49m\u001b[43m,\u001b[49m\u001b[43m \u001b[49m\u001b[43mport\u001b[49m\u001b[43m,\u001b[49m\u001b[43m \u001b[49m\u001b[38;5;28;43mself\u001b[39;49m\u001b[43m,\u001b[49m\u001b[43m \u001b[49m\u001b[38;5;241;43m*\u001b[39;49m\u001b[38;5;241;43m*\u001b[39;49m\u001b[43moptions\u001b[49m\u001b[43m)\u001b[49m\n\u001b[1;32m    921\u001b[0m \u001b[38;5;28;01mfinally\u001b[39;00m:\n\u001b[1;32m    922\u001b[0m     \u001b[38;5;66;03m# reset the first request information if the development server\u001b[39;00m\n\u001b[1;32m    923\u001b[0m     \u001b[38;5;66;03m# reset normally.  This makes it possible to restart the server\u001b[39;00m\n\u001b[1;32m    924\u001b[0m     \u001b[38;5;66;03m# without reloader and that stuff from an interactive shell.\u001b[39;00m\n\u001b[1;32m    925\u001b[0m     \u001b[38;5;28mself\u001b[39m\u001b[38;5;241m.\u001b[39m_got_first_request \u001b[38;5;241m=\u001b[39m \u001b[38;5;28;01mFalse\u001b[39;00m\n",
      "File \u001b[0;32m~/.pyenv/versions/3.8.0/envs/HealthInsurance/lib/python3.8/site-packages/werkzeug/serving.py:991\u001b[0m, in \u001b[0;36mrun_simple\u001b[0;34m(hostname, port, application, use_reloader, use_debugger, use_evalex, extra_files, exclude_patterns, reloader_interval, reloader_type, threaded, processes, request_handler, static_files, passthrough_errors, ssl_context)\u001b[0m\n\u001b[1;32m    989\u001b[0m s \u001b[38;5;241m=\u001b[39m socket\u001b[38;5;241m.\u001b[39msocket(address_family, socket\u001b[38;5;241m.\u001b[39mSOCK_STREAM)\n\u001b[1;32m    990\u001b[0m s\u001b[38;5;241m.\u001b[39msetsockopt(socket\u001b[38;5;241m.\u001b[39mSOL_SOCKET, socket\u001b[38;5;241m.\u001b[39mSO_REUSEADDR, \u001b[38;5;241m1\u001b[39m)\n\u001b[0;32m--> 991\u001b[0m \u001b[43ms\u001b[49m\u001b[38;5;241;43m.\u001b[39;49m\u001b[43mbind\u001b[49m\u001b[43m(\u001b[49m\u001b[43mserver_address\u001b[49m\u001b[43m)\u001b[49m\n\u001b[1;32m    992\u001b[0m s\u001b[38;5;241m.\u001b[39mset_inheritable(\u001b[38;5;28;01mTrue\u001b[39;00m)\n\u001b[1;32m    994\u001b[0m \u001b[38;5;66;03m# If we can open the socket by file descriptor, then we can just\u001b[39;00m\n\u001b[1;32m    995\u001b[0m \u001b[38;5;66;03m# reuse this one and our socket will survive the restarts.\u001b[39;00m\n",
      "\u001b[0;31mOSError\u001b[0m: [Errno 98] Address already in use"
     ]
    }
   ],
   "source": [
    "import os\n",
    "import pickle\n",
    "import pandas as pd\n",
    "from flask import Flask, request, Response\n",
    "from healthinsurance import HealthInsurance\n",
    "\n",
    "# loading model (direct to the memory to make consultant faster)\n",
    "path = '/home/work/Documents/repos/pa004_health_insurance_cross_sell/cfdo_health_insurance_cross_sell/health_insurance_cross_sell_gitlab/archive/'\n",
    "model = pickle.load(open(path + 'src/models/model_linear_regression.pkl', 'rb'))\n",
    "\n",
    "# initialize API\n",
    "app = Flask(__name__)\n",
    "\n",
    "# rout of call from API, after route is caled hte next function is executed sequencially\n",
    "@app.route('/predict', methods=['POST'])\n",
    "def health_insurance_predict():\n",
    "    test_json = request.get_json()\n",
    "    \n",
    "    if test_json: # there is data\n",
    "        if isinstance(test_json, dict): # unique example\n",
    "            test_raw = pd.DataFrame(test_json, index=[0])\n",
    "                                   # data type, column names   \n",
    "        else: # multiple example\n",
    "            test_raw = pd.DataFrame(test_json, columns=test_json[0].keys())\n",
    "            \n",
    "        # Instantiate Rossmann class\n",
    "        pipeline = HealthInsurance()\n",
    "        \n",
    "        # data cleaning\n",
    "        df1 = pipeline.data_cleaning(test_raw)\n",
    "        \n",
    "        # feature engineering\n",
    "        df2 = pipeline.feature_engineering(df1)\n",
    "        \n",
    "        # data preparation\n",
    "        df3 = pipeline.data_preparation(df2)\n",
    "        \n",
    "        # prediction\n",
    "        df_response = pipeline.get_prediction(model, test_raw, df3)\n",
    "        \n",
    "        return df_response\n",
    "    \n",
    "    else:\n",
    "        return Response('{}', status=200, mimetype='application/json')\n",
    "    \n",
    "if __name__ == '__main__':\n",
    "    # port = os.environ.get('PORT', 5000) ->  no heroku a porta é passada via variável de ambiente\n",
    "    app.run('0.0.0.0', debug=True)"
   ]
  },
  {
   "cell_type": "markdown",
   "id": "fd049163",
   "metadata": {
    "hidden": true
   },
   "source": [
    "## 9.3. API Tester"
   ]
  },
  {
   "cell_type": "code",
   "execution_count": 2,
   "id": "3eb790b0",
   "metadata": {
    "ExecuteTime": {
     "end_time": "2022-03-15T20:07:58.988817Z",
     "start_time": "2022-03-15T20:07:58.567736Z"
    },
    "hidden": true
   },
   "outputs": [],
   "source": [
    "import requests"
   ]
  },
  {
   "cell_type": "code",
   "execution_count": 3,
   "id": "9efd161a",
   "metadata": {
    "ExecuteTime": {
     "end_time": "2022-03-15T20:07:59.964422Z",
     "start_time": "2022-03-15T20:07:59.881141Z"
    },
    "hidden": true
   },
   "outputs": [
    {
     "ename": "NameError",
     "evalue": "name 'x_validation' is not defined",
     "output_type": "error",
     "traceback": [
      "\u001b[0;31m---------------------------------------------------------------------------\u001b[0m",
      "\u001b[0;31mNameError\u001b[0m                                 Traceback (most recent call last)",
      "Input \u001b[0;32mIn [3]\u001b[0m, in \u001b[0;36m<module>\u001b[0;34m\u001b[0m\n\u001b[1;32m      1\u001b[0m \u001b[38;5;66;03m# loading test dataset\u001b[39;00m\n\u001b[0;32m----> 2\u001b[0m df_test \u001b[38;5;241m=\u001b[39m \u001b[43mx_validation\u001b[49m\n\u001b[1;32m      3\u001b[0m df_test[\u001b[38;5;124m'\u001b[39m\u001b[38;5;124mresponse\u001b[39m\u001b[38;5;124m'\u001b[39m] \u001b[38;5;241m=\u001b[39m y_validation\n",
      "\u001b[0;31mNameError\u001b[0m: name 'x_validation' is not defined"
     ]
    }
   ],
   "source": [
    "# loading test dataset\n",
    "df_test = x_validation\n",
    "df_test['response'] = y_validation"
   ]
  },
  {
   "cell_type": "code",
   "execution_count": 109,
   "id": "42d20c5c",
   "metadata": {
    "ExecuteTime": {
     "end_time": "2022-03-15T19:17:00.337707Z",
     "start_time": "2022-03-15T19:17:00.119875Z"
    },
    "hidden": true
   },
   "outputs": [
    {
     "data": {
      "text/html": [
       "<div>\n",
       "<style scoped>\n",
       "    .dataframe tbody tr th:only-of-type {\n",
       "        vertical-align: middle;\n",
       "    }\n",
       "\n",
       "    .dataframe tbody tr th {\n",
       "        vertical-align: top;\n",
       "    }\n",
       "\n",
       "    .dataframe thead th {\n",
       "        text-align: right;\n",
       "    }\n",
       "</style>\n",
       "<table border=\"1\" class=\"dataframe\">\n",
       "  <thead>\n",
       "    <tr style=\"text-align: right;\">\n",
       "      <th></th>\n",
       "      <th>id</th>\n",
       "      <th>gender</th>\n",
       "      <th>age</th>\n",
       "      <th>region_code</th>\n",
       "      <th>policy_sales_channel</th>\n",
       "      <th>driving_license</th>\n",
       "      <th>vehicle_damage</th>\n",
       "      <th>previously_insured</th>\n",
       "      <th>annual_premium</th>\n",
       "      <th>vintage</th>\n",
       "      <th>vehicle_age_below_1_year</th>\n",
       "      <th>vehicle_age_between_1_2_year</th>\n",
       "      <th>vehicle_age_over_2_years</th>\n",
       "      <th>response</th>\n",
       "    </tr>\n",
       "  </thead>\n",
       "  <tbody>\n",
       "    <tr>\n",
       "      <th>283682</th>\n",
       "      <td>361072</td>\n",
       "      <td>0.103344</td>\n",
       "      <td>0.153846</td>\n",
       "      <td>0.121342</td>\n",
       "      <td>0.353718</td>\n",
       "      <td>1</td>\n",
       "      <td>0</td>\n",
       "      <td>1</td>\n",
       "      <td>0.141219</td>\n",
       "      <td>0.965398</td>\n",
       "      <td>1</td>\n",
       "      <td>0</td>\n",
       "      <td>0</td>\n",
       "      <td>0</td>\n",
       "    </tr>\n",
       "    <tr>\n",
       "      <th>4090</th>\n",
       "      <td>32761</td>\n",
       "      <td>0.103344</td>\n",
       "      <td>0.092308</td>\n",
       "      <td>0.071085</td>\n",
       "      <td>0.353718</td>\n",
       "      <td>1</td>\n",
       "      <td>0</td>\n",
       "      <td>1</td>\n",
       "      <td>-0.457211</td>\n",
       "      <td>0.245675</td>\n",
       "      <td>1</td>\n",
       "      <td>0</td>\n",
       "      <td>0</td>\n",
       "      <td>0</td>\n",
       "    </tr>\n",
       "    <tr>\n",
       "      <th>353533</th>\n",
       "      <td>160790</td>\n",
       "      <td>0.103344</td>\n",
       "      <td>0.030769</td>\n",
       "      <td>0.061205</td>\n",
       "      <td>0.057179</td>\n",
       "      <td>1</td>\n",
       "      <td>1</td>\n",
       "      <td>0</td>\n",
       "      <td>0.340173</td>\n",
       "      <td>0.456747</td>\n",
       "      <td>1</td>\n",
       "      <td>0</td>\n",
       "      <td>0</td>\n",
       "      <td>0</td>\n",
       "    </tr>\n",
       "    <tr>\n",
       "      <th>91968</th>\n",
       "      <td>352733</td>\n",
       "      <td>0.138380</td>\n",
       "      <td>0.030769</td>\n",
       "      <td>0.097306</td>\n",
       "      <td>0.353718</td>\n",
       "      <td>1</td>\n",
       "      <td>1</td>\n",
       "      <td>0</td>\n",
       "      <td>-0.130626</td>\n",
       "      <td>0.155709</td>\n",
       "      <td>1</td>\n",
       "      <td>0</td>\n",
       "      <td>0</td>\n",
       "      <td>0</td>\n",
       "    </tr>\n",
       "    <tr>\n",
       "      <th>100310</th>\n",
       "      <td>38075</td>\n",
       "      <td>0.138380</td>\n",
       "      <td>0.707692</td>\n",
       "      <td>0.065117</td>\n",
       "      <td>0.208910</td>\n",
       "      <td>1</td>\n",
       "      <td>1</td>\n",
       "      <td>0</td>\n",
       "      <td>-1.619917</td>\n",
       "      <td>0.653979</td>\n",
       "      <td>0</td>\n",
       "      <td>1</td>\n",
       "      <td>0</td>\n",
       "      <td>0</td>\n",
       "    </tr>\n",
       "    <tr>\n",
       "      <th>259037</th>\n",
       "      <td>164599</td>\n",
       "      <td>0.138380</td>\n",
       "      <td>0.584615</td>\n",
       "      <td>0.096926</td>\n",
       "      <td>0.194249</td>\n",
       "      <td>1</td>\n",
       "      <td>0</td>\n",
       "      <td>1</td>\n",
       "      <td>1.267102</td>\n",
       "      <td>0.339100</td>\n",
       "      <td>0</td>\n",
       "      <td>1</td>\n",
       "      <td>0</td>\n",
       "      <td>0</td>\n",
       "    </tr>\n",
       "    <tr>\n",
       "      <th>24851</th>\n",
       "      <td>198476</td>\n",
       "      <td>0.103344</td>\n",
       "      <td>0.030769</td>\n",
       "      <td>0.121342</td>\n",
       "      <td>0.353718</td>\n",
       "      <td>1</td>\n",
       "      <td>0</td>\n",
       "      <td>1</td>\n",
       "      <td>-0.029264</td>\n",
       "      <td>0.128028</td>\n",
       "      <td>1</td>\n",
       "      <td>0</td>\n",
       "      <td>0</td>\n",
       "      <td>0</td>\n",
       "    </tr>\n",
       "    <tr>\n",
       "      <th>205940</th>\n",
       "      <td>120000</td>\n",
       "      <td>0.103344</td>\n",
       "      <td>0.784615</td>\n",
       "      <td>0.186336</td>\n",
       "      <td>0.194249</td>\n",
       "      <td>1</td>\n",
       "      <td>0</td>\n",
       "      <td>0</td>\n",
       "      <td>0.041016</td>\n",
       "      <td>0.114187</td>\n",
       "      <td>0</td>\n",
       "      <td>1</td>\n",
       "      <td>0</td>\n",
       "      <td>0</td>\n",
       "    </tr>\n",
       "    <tr>\n",
       "      <th>260871</th>\n",
       "      <td>179297</td>\n",
       "      <td>0.138380</td>\n",
       "      <td>0.030769</td>\n",
       "      <td>0.102524</td>\n",
       "      <td>0.353718</td>\n",
       "      <td>1</td>\n",
       "      <td>0</td>\n",
       "      <td>1</td>\n",
       "      <td>0.453365</td>\n",
       "      <td>0.397924</td>\n",
       "      <td>1</td>\n",
       "      <td>0</td>\n",
       "      <td>0</td>\n",
       "      <td>0</td>\n",
       "    </tr>\n",
       "    <tr>\n",
       "      <th>177438</th>\n",
       "      <td>274773</td>\n",
       "      <td>0.138380</td>\n",
       "      <td>0.476923</td>\n",
       "      <td>0.186336</td>\n",
       "      <td>0.208910</td>\n",
       "      <td>1</td>\n",
       "      <td>1</td>\n",
       "      <td>0</td>\n",
       "      <td>0.354380</td>\n",
       "      <td>0.885813</td>\n",
       "      <td>0</td>\n",
       "      <td>0</td>\n",
       "      <td>1</td>\n",
       "      <td>0</td>\n",
       "    </tr>\n",
       "  </tbody>\n",
       "</table>\n",
       "</div>"
      ],
      "text/plain": [
       "            id    gender       age  region_code  policy_sales_channel  \\\n",
       "283682  361072  0.103344  0.153846     0.121342              0.353718   \n",
       "4090     32761  0.103344  0.092308     0.071085              0.353718   \n",
       "353533  160790  0.103344  0.030769     0.061205              0.057179   \n",
       "91968   352733  0.138380  0.030769     0.097306              0.353718   \n",
       "100310   38075  0.138380  0.707692     0.065117              0.208910   \n",
       "259037  164599  0.138380  0.584615     0.096926              0.194249   \n",
       "24851   198476  0.103344  0.030769     0.121342              0.353718   \n",
       "205940  120000  0.103344  0.784615     0.186336              0.194249   \n",
       "260871  179297  0.138380  0.030769     0.102524              0.353718   \n",
       "177438  274773  0.138380  0.476923     0.186336              0.208910   \n",
       "\n",
       "        driving_license  vehicle_damage  previously_insured  annual_premium  \\\n",
       "283682                1               0                   1        0.141219   \n",
       "4090                  1               0                   1       -0.457211   \n",
       "353533                1               1                   0        0.340173   \n",
       "91968                 1               1                   0       -0.130626   \n",
       "100310                1               1                   0       -1.619917   \n",
       "259037                1               0                   1        1.267102   \n",
       "24851                 1               0                   1       -0.029264   \n",
       "205940                1               0                   0        0.041016   \n",
       "260871                1               0                   1        0.453365   \n",
       "177438                1               1                   0        0.354380   \n",
       "\n",
       "         vintage  vehicle_age_below_1_year  vehicle_age_between_1_2_year  \\\n",
       "283682  0.965398                         1                             0   \n",
       "4090    0.245675                         1                             0   \n",
       "353533  0.456747                         1                             0   \n",
       "91968   0.155709                         1                             0   \n",
       "100310  0.653979                         0                             1   \n",
       "259037  0.339100                         0                             1   \n",
       "24851   0.128028                         1                             0   \n",
       "205940  0.114187                         0                             1   \n",
       "260871  0.397924                         1                             0   \n",
       "177438  0.885813                         0                             0   \n",
       "\n",
       "        vehicle_age_over_2_years  response  \n",
       "283682                         0         0  \n",
       "4090                           0         0  \n",
       "353533                         0         0  \n",
       "91968                          0         0  \n",
       "100310                         0         0  \n",
       "259037                         0         0  \n",
       "24851                          0         0  \n",
       "205940                         0         0  \n",
       "260871                         0         0  \n",
       "177438                         1         0  "
      ]
     },
     "execution_count": 109,
     "metadata": {},
     "output_type": "execute_result"
    }
   ],
   "source": [
    "df_test = df_test.sample(10)\n",
    "df_test"
   ]
  },
  {
   "cell_type": "code",
   "execution_count": 110,
   "id": "fc172aef",
   "metadata": {
    "ExecuteTime": {
     "end_time": "2022-03-15T19:17:06.739055Z",
     "start_time": "2022-03-15T19:17:06.672941Z"
    },
    "hidden": true
   },
   "outputs": [],
   "source": [
    "# convert dataframe to json\n",
    "data = json.dumps( df_test.to_dict( orient='records' ) )"
   ]
  },
  {
   "cell_type": "code",
   "execution_count": 111,
   "id": "3427fa5f",
   "metadata": {
    "ExecuteTime": {
     "end_time": "2022-03-15T19:17:10.201793Z",
     "start_time": "2022-03-15T19:17:10.180267Z"
    },
    "hidden": true
   },
   "outputs": [
    {
     "data": {
      "text/plain": [
       "'[{\"id\": 361072, \"gender\": 0.10334407303952736, \"age\": 0.15384615384615385, \"region_code\": 0.12134222121794147, \"policy_sales_channel\": 0.35371793484143305, \"driving_license\": 1, \"vehicle_damage\": 0, \"previously_insured\": 1, \"annual_premium\": 0.14121854121833285, \"vintage\": 0.9653979238754326, \"vehicle_age_below_1_year\": 1, \"vehicle_age_between_1_2_year\": 0, \"vehicle_age_over_2_years\": 0, \"response\": 0}, {\"id\": 32761, \"gender\": 0.10334407303952736, \"age\": 0.09230769230769231, \"region_code\": 0.07108519995908766, \"policy_sales_channel\": 0.35371793484143305, \"driving_license\": 1, \"vehicle_damage\": 0, \"previously_insured\": 1, \"annual_premium\": -0.4572114161918848, \"vintage\": 0.24567474048442908, \"vehicle_age_below_1_year\": 1, \"vehicle_age_between_1_2_year\": 0, \"vehicle_age_over_2_years\": 0, \"response\": 0}, {\"id\": 160790, \"gender\": 0.10334407303952736, \"age\": 0.03076923076923077, \"region_code\": 0.06120527306967985, \"policy_sales_channel\": 0.05717856123744207, \"driving_license\": 1, \"vehicle_damage\": 1, \"previously_insured\": 0, \"annual_premium\": 0.3401733070976407, \"vintage\": 0.45674740484429066, \"vehicle_age_below_1_year\": 1, \"vehicle_age_between_1_2_year\": 0, \"vehicle_age_over_2_years\": 0, \"response\": 0}, {\"id\": 352733, \"gender\": 0.1383801877410435, \"age\": 0.03076923076923077, \"region_code\": 0.0973061224489796, \"policy_sales_channel\": 0.35371793484143305, \"driving_license\": 1, \"vehicle_damage\": 1, \"previously_insured\": 0, \"annual_premium\": -0.13062638517111488, \"vintage\": 0.15570934256055363, \"vehicle_age_below_1_year\": 1, \"vehicle_age_between_1_2_year\": 0, \"vehicle_age_over_2_years\": 0, \"response\": 0}, {\"id\": 38075, \"gender\": 0.1383801877410435, \"age\": 0.7076923076923076, \"region_code\": 0.06511684518013632, \"policy_sales_channel\": 0.20891018639692738, \"driving_license\": 1, \"vehicle_damage\": 1, \"previously_insured\": 0, \"annual_premium\": -1.6199167530167178, \"vintage\": 0.6539792387543253, \"vehicle_age_below_1_year\": 0, \"vehicle_age_between_1_2_year\": 1, \"vehicle_age_over_2_years\": 0, \"response\": 0}, {\"id\": 164599, \"gender\": 0.1383801877410435, \"age\": 0.5846153846153846, \"region_code\": 0.09692619179090742, \"policy_sales_channel\": 0.1942490168488653, \"driving_license\": 1, \"vehicle_damage\": 0, \"previously_insured\": 1, \"annual_premium\": 1.2671018796947657, \"vintage\": 0.3391003460207612, \"vehicle_age_below_1_year\": 0, \"vehicle_age_between_1_2_year\": 1, \"vehicle_age_over_2_years\": 0, \"response\": 0}, {\"id\": 198476, \"gender\": 0.10334407303952736, \"age\": 0.03076923076923077, \"region_code\": 0.12134222121794147, \"policy_sales_channel\": 0.35371793484143305, \"driving_license\": 1, \"vehicle_damage\": 0, \"previously_insured\": 1, \"annual_premium\": -0.029264411764810556, \"vintage\": 0.12802768166089964, \"vehicle_age_below_1_year\": 1, \"vehicle_age_between_1_2_year\": 0, \"vehicle_age_over_2_years\": 0, \"response\": 0}, {\"id\": 120000, \"gender\": 0.10334407303952736, \"age\": 0.7846153846153847, \"region_code\": 0.1863359872237488, \"policy_sales_channel\": 0.1942490168488653, \"driving_license\": 1, \"vehicle_damage\": 0, \"previously_insured\": 0, \"annual_premium\": 0.041016315791505706, \"vintage\": 0.11418685121107267, \"vehicle_age_below_1_year\": 0, \"vehicle_age_between_1_2_year\": 1, \"vehicle_age_over_2_years\": 0, \"response\": 0}, {\"id\": 179297, \"gender\": 0.1383801877410435, \"age\": 0.03076923076923077, \"region_code\": 0.10252355954715071, \"policy_sales_channel\": 0.35371793484143305, \"driving_license\": 1, \"vehicle_damage\": 0, \"previously_insured\": 1, \"annual_premium\": 0.4533647098946121, \"vintage\": 0.39792387543252594, \"vehicle_age_below_1_year\": 1, \"vehicle_age_between_1_2_year\": 0, \"vehicle_age_over_2_years\": 0, \"response\": 0}, {\"id\": 274773, \"gender\": 0.1383801877410435, \"age\": 0.476923076923077, \"region_code\": 0.1863359872237488, \"policy_sales_channel\": 0.20891018639692738, \"driving_license\": 1, \"vehicle_damage\": 1, \"previously_insured\": 0, \"annual_premium\": 0.35438021984623597, \"vintage\": 0.8858131487889274, \"vehicle_age_below_1_year\": 0, \"vehicle_age_between_1_2_year\": 0, \"vehicle_age_over_2_years\": 1, \"response\": 0}]'"
      ]
     },
     "execution_count": 111,
     "metadata": {},
     "output_type": "execute_result"
    }
   ],
   "source": [
    "data"
   ]
  },
  {
   "cell_type": "code",
   "execution_count": 1,
   "id": "04d88173",
   "metadata": {
    "ExecuteTime": {
     "end_time": "2022-03-15T20:07:51.695958Z",
     "start_time": "2022-03-15T20:07:48.512410Z"
    },
    "hidden": true
   },
   "outputs": [
    {
     "ename": "NameError",
     "evalue": "name 'requests' is not defined",
     "output_type": "error",
     "traceback": [
      "\u001b[0;31m---------------------------------------------------------------------------\u001b[0m",
      "\u001b[0;31mNameError\u001b[0m                                 Traceback (most recent call last)",
      "Input \u001b[0;32mIn [1]\u001b[0m, in \u001b[0;36m<module>\u001b[0;34m\u001b[0m\n\u001b[1;32m      3\u001b[0m url \u001b[38;5;241m=\u001b[39m \u001b[38;5;124m'\u001b[39m\u001b[38;5;124mhttps://cfo-health-insurance.herokuapp.com/predict\u001b[39m\u001b[38;5;124m'\u001b[39m\n\u001b[1;32m      4\u001b[0m header \u001b[38;5;241m=\u001b[39m {\u001b[38;5;124m'\u001b[39m\u001b[38;5;124mContent-type\u001b[39m\u001b[38;5;124m'\u001b[39m: \u001b[38;5;124m'\u001b[39m\u001b[38;5;124mapplication/json\u001b[39m\u001b[38;5;124m'\u001b[39m }\n\u001b[0;32m----> 6\u001b[0m r \u001b[38;5;241m=\u001b[39m \u001b[43mrequests\u001b[49m\u001b[38;5;241m.\u001b[39mpost( url, data\u001b[38;5;241m=\u001b[39mdata, headers\u001b[38;5;241m=\u001b[39mheader )\n\u001b[1;32m      7\u001b[0m \u001b[38;5;28mprint\u001b[39m( \u001b[38;5;124m'\u001b[39m\u001b[38;5;124mStatus Code \u001b[39m\u001b[38;5;132;01m{}\u001b[39;00m\u001b[38;5;124m'\u001b[39m\u001b[38;5;241m.\u001b[39mformat( r\u001b[38;5;241m.\u001b[39mstatus_code ) )\n",
      "\u001b[0;31mNameError\u001b[0m: name 'requests' is not defined"
     ]
    }
   ],
   "source": [
    "# API Call\n",
    "#url = 'http://0.0.0.0:5000/predict' # localhost for local test\n",
    "url = 'https://cfo-health-insurance.herokuapp.com/predict'\n",
    "header = {'Content-type': 'application/json' }\n",
    "\n",
    "r = requests.post( url, data=data, headers=header )\n",
    "print( 'Status Code {}'.format( r.status_code ) )"
   ]
  },
  {
   "cell_type": "code",
   "execution_count": null,
   "id": "ad0e34fb",
   "metadata": {
    "hidden": true
   },
   "outputs": [],
   "source": [
    "d1 = pd.DataFrame( r.json(), columns=r.json()[0].keys() )\n",
    "d1.sort_values( 'score', ascending=False ).head()"
   ]
  }
 ],
 "metadata": {
  "kernelspec": {
   "display_name": "HealthInsurance",
   "language": "python",
   "name": "healthinsurance"
  },
  "language_info": {
   "codemirror_mode": {
    "name": "ipython",
    "version": 3
   },
   "file_extension": ".py",
   "mimetype": "text/x-python",
   "name": "python",
   "nbconvert_exporter": "python",
   "pygments_lexer": "ipython3",
   "version": "3.8.0"
  },
  "varInspector": {
   "cols": {
    "lenName": 16,
    "lenType": 16,
    "lenVar": 40
   },
   "kernels_config": {
    "python": {
     "delete_cmd_postfix": "",
     "delete_cmd_prefix": "del ",
     "library": "var_list.py",
     "varRefreshCmd": "print(var_dic_list())"
    },
    "r": {
     "delete_cmd_postfix": ") ",
     "delete_cmd_prefix": "rm(",
     "library": "var_list.r",
     "varRefreshCmd": "cat(var_dic_list()) "
    }
   },
   "types_to_exclude": [
    "module",
    "function",
    "builtin_function_or_method",
    "instance",
    "_Feature"
   ],
   "window_display": false
  }
 },
 "nbformat": 4,
 "nbformat_minor": 5
}
