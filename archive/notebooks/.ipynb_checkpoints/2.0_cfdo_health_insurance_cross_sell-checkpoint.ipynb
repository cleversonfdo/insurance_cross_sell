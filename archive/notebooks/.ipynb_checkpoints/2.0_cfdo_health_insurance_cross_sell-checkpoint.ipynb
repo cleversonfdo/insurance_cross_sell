{
 "cells": [
  {
   "cell_type": "markdown",
   "id": "d748473c",
   "metadata": {},
   "source": [
    "# 0.0 Imports"
   ]
  },
  {
   "cell_type": "code",
   "execution_count": 11,
   "id": "b6d293ab",
   "metadata": {
    "ExecuteTime": {
     "end_time": "2022-04-03T14:00:28.146843Z",
     "start_time": "2022-04-03T14:00:28.112421Z"
    }
   },
   "outputs": [],
   "source": [
    "import scikitplot as skplt\n",
    "import xgboost    as xgb\n",
    "import pandas     as pd\n",
    "import boruta     as bt\n",
    "import numpy      as np\n",
    "\n",
    "import pickle\n",
    "import random\n",
    "import inflection\n",
    "\n",
    "import pandas   as pd # Connect database\n",
    "import psycopg2 as pg # Connect database\n",
    "\n",
    "import seaborn as sns\n",
    "\n",
    "from IPython.display      import Image\n",
    "from IPython.display      import HTML\n",
    "from tabulate             import tabulate\n",
    "\n",
    "from matplotlib import pyplot as plt\n",
    "\n",
    "from sklearn import preprocessing   as pp\n",
    "from sklearn import linear_model    as lm\n",
    "from sklearn import model_selection as ms\n",
    "from sklearn import ensemble        as en\n",
    "from sklearn import neighbors       as nh\n",
    "from scipy   import stats           as ss\n",
    "\n",
    "import warnings\n",
    "warnings.filterwarnings('ignore')"
   ]
  },
  {
   "cell_type": "code",
   "execution_count": 12,
   "id": "cd2060d8",
   "metadata": {
    "ExecuteTime": {
     "end_time": "2022-04-02T14:50:16.031593Z",
     "start_time": "2022-04-02T14:50:16.018258Z"
    }
   },
   "outputs": [],
   "source": [
    "pd.options.mode.chained_assignment = None  # default='warn'"
   ]
  },
  {
   "cell_type": "markdown",
   "id": "2b481191",
   "metadata": {},
   "source": [
    "## 0.1 Helper Function"
   ]
  },
  {
   "cell_type": "code",
   "execution_count": 13,
   "id": "96060c79",
   "metadata": {
    "ExecuteTime": {
     "end_time": "2022-04-02T14:50:16.122473Z",
     "start_time": "2022-04-02T14:50:16.043927Z"
    }
   },
   "outputs": [
    {
     "name": "stdout",
     "output_type": "stream",
     "text": [
      "%pylab is deprecated, use %matplotlib inline and import the required libraries.\n",
      "Populating the interactive namespace from numpy and matplotlib\n"
     ]
    }
   ],
   "source": [
    "def jupyter_settings():\n",
    "    %matplotlib inline\n",
    "    %pylab inline\n",
    "    \n",
    "    plt.style.use( 'bmh' )\n",
    "    plt.rcParams['figure.figsize'] = [25, 12]\n",
    "    plt.rcParams['font.size'] = 24\n",
    "    \n",
    "    #display( HTML( '<style>.container { width:100% !important; }</style>') )\n",
    "    pd.options.display.max_columns = None\n",
    "    pd.options.display.max_rows = None\n",
    "    pd.set_option( 'display.expand_frame_repr', False )\n",
    "    \n",
    "    sns.set()\n",
    "    \n",
    "jupyter_settings()"
   ]
  },
  {
   "cell_type": "code",
   "execution_count": 14,
   "id": "d0b3e1bc",
   "metadata": {
    "ExecuteTime": {
     "end_time": "2022-04-02T14:50:16.190255Z",
     "start_time": "2022-04-02T14:50:16.136141Z"
    }
   },
   "outputs": [],
   "source": [
    "# Compute a simple cross tabulation of two (or more) factors. By default computes a frequency table of the factors unless an array of values and an aggregation function are passed. https://pandas.pydata.org\n",
    "\n",
    "# In statistics, Cramér's V (sometimes referred to as Cramér's phi and denoted as φc) is a measure of association between two nominal variables, giving a value between 0 and +1 (inclusive). It is based on Pearson's chi-squared statistic and was published by Harald Cramér in 1946. https://en.wikipedia.org/wiki/Cram%C3%A9r%27s_V\n",
    "\n",
    "def cramer_v(x,y):\n",
    "    cm = pd.crosstab(x, y).values\n",
    "    n = cm.sum()\n",
    "    r, k = cm.shape\n",
    "    \n",
    "    chi2 = ss.chi2_contingency(cm)[0]\n",
    "    chi2corr = max(0, chi2 - (k - 1) * (r - 1) / (n - 1))\n",
    "    \n",
    "    kcorr = k - (k - 1) ** 2/ (n - 1) \n",
    "    rcorr = r - (r - 1) ** 2/ (n - 1) \n",
    "    \n",
    "    v = np.sqrt((chi2corr / n) / (min(kcorr - 1,rcorr - 1)))\n",
    "    return v   \n",
    "\n",
    "def corr_cramer_v(categorical_attributes):\n",
    "    cat_attributes_list = categorical_attributes.columns.tolist()\n",
    "\n",
    "    corr_dict = {}\n",
    "\n",
    "    for i in range(len(cat_attributes_list)):\n",
    "        corr_list = []\n",
    "        for j in range(len(cat_attributes_list)):\n",
    "            ref  = cat_attributes_list[i] # reference\n",
    "            feat = cat_attributes_list[j] # feature\n",
    "            corr = cramer_v(categorical_attributes[ref],categorical_attributes[feat])\n",
    "            corr_list.append(corr)\n",
    "        corr_dict[ref] = corr_list\n",
    "    return corr_dict"
   ]
  },
  {
   "cell_type": "code",
   "execution_count": 15,
   "id": "1c25da0a",
   "metadata": {
    "ExecuteTime": {
     "end_time": "2022-04-02T14:50:16.226825Z",
     "start_time": "2022-04-02T14:50:16.200554Z"
    }
   },
   "outputs": [],
   "source": [
    "# precision at k is the proportion of recommended items in the top-k set that are relevant\n",
    "# (# of our recommendations tha are relevant)/(# of items we recommended)\n",
    "def precision_at_k(data, x_val, y_val, yhat_model, k):\n",
    "    \n",
    "    data = x_val.copy()\n",
    "    data['response'] = y_val.copy()\n",
    "    \n",
    "    # propensity score\n",
    "    data['score'] = yhat_model[:, 1].tolist()      \n",
    "    \n",
    "    data = data.sort_values('score', ascending = False)\n",
    "    \n",
    "    # reset index\n",
    "    data = data.reset_index(drop = True)\n",
    "\n",
    "    # create ranking order\n",
    "    data['ranking'] = data.index + 1 \n",
    "\n",
    "    data['precision_at_k'] = data['response'].cumsum() / data['ranking']\n",
    "\n",
    "    return data.loc[k, 'precision_at_k']"
   ]
  },
  {
   "cell_type": "code",
   "execution_count": 16,
   "id": "98afeff8",
   "metadata": {
    "ExecuteTime": {
     "end_time": "2022-04-02T14:50:16.268912Z",
     "start_time": "2022-04-02T14:50:16.238355Z"
    }
   },
   "outputs": [],
   "source": [
    "# Recall at k is the proportion of relevant items found in the top-k recommendations\n",
    "# (# of our recommendations that are relevant)/ (# of all the possible relevant items)\n",
    "def recall_at_k(data, x_val, y_val, yhat_model, k):\n",
    "    \n",
    "    data = x_val.copy()\n",
    "    data['response'] = y_val.copy()\n",
    "    \n",
    "    # propensity score\n",
    "    data['score'] = yhat_model[:, 1].tolist()  \n",
    "    \n",
    "    data = data.sort_values('score', ascending = False)\n",
    "    \n",
    "    # reset index\n",
    "    data = data.reset_index(drop = True)\n",
    "\n",
    "    # create ranking order\n",
    "    #data['ranking'] = data.index + 1 \n",
    "\n",
    "    data['recall_at_k'] = data['response'].cumsum() / data['response'].sum()\n",
    "\n",
    "    return data.loc[k, 'recall_at_k']"
   ]
  },
  {
   "cell_type": "code",
   "execution_count": 17,
   "id": "b425d898",
   "metadata": {
    "ExecuteTime": {
     "end_time": "2022-04-02T14:50:16.338078Z",
     "start_time": "2022-04-02T14:50:16.281897Z"
    }
   },
   "outputs": [],
   "source": [
    "# In classification tasks with imbalanced class distributions we should prefer stratifiedkfold over kfold, because the class distributions is preserved in the splits.\n",
    "\n",
    "#def cross_validation(data, models_performance, num_folds, modelName, model, x_train, y_train, k):\n",
    "def cross_validation(data, num_folds, modelName, model, x_train, y_train, k):\n",
    "    \n",
    "    kfold = ms.StratifiedKFold(n_splits = num_folds, shuffle = True, random_state = 42)\n",
    "    \n",
    "    precision_list = []\n",
    "    recall_list = []\n",
    "    #f1_score_list = []\n",
    "    #roc_list = []\n",
    "    \n",
    "    i = 1\n",
    "    for train_cv,val_cv in kfold.split(x_train, y_train):\n",
    "\n",
    "        x_train_fold = x_train.iloc[train_cv]\n",
    "        y_train_fold = y_train.iloc[train_cv]\n",
    "\n",
    "        x_val_fold = x_train.iloc[val_cv]\n",
    "        y_val_fold = y_train.iloc[val_cv]\n",
    "\n",
    "        model_fit = model.fit(x_train_fold,y_train_fold)\n",
    "\n",
    "        yhat_model = model_fit.predict_proba(x_val_fold)\n",
    "        \n",
    "        x_val_fold['response'] = y_val_fold\n",
    "        \n",
    "        precision = round(precision_at_k(data, x_val_fold, y_val_fold, yhat_model, k), 3)\n",
    "        precision_list.append(precision)\n",
    "        \n",
    "        recall = round(recall_at_k(data, x_val_fold, y_val_fold, yhat_model, k), 3)\n",
    "        recall_list.append(recall)\n",
    "        \n",
    "    \n",
    "    precision_str = np.round(np.mean(precision_list), 3).astype(str) + ' +/- ' + np.round(np.std(precision_list), 3).astype(str)\n",
    "    recall_str    = np.round(np.mean(recall_list), 3).astype(str)    + ' +/- ' + np.round(np.std(recall_list), 3).astype(str)\n",
    "    # there are others ranking metrics like F1-Score and Average precision but little used.\n",
    "    \n",
    "        \n",
    "    #models_performance = models_performance.append(pd.Series([modelName, precision_str, recall_str], index = models_performance.columns), ignore_index = True)\n",
    "\n",
    "    #return models_performance\n",
    "    return {'Model Name': modelName, 'Precision_at_k': precision_str, 'Recall_at_k': recall_str}"
   ]
  },
  {
   "cell_type": "code",
   "execution_count": 18,
   "id": "3d46098a",
   "metadata": {
    "ExecuteTime": {
     "end_time": "2022-04-02T14:50:16.369582Z",
     "start_time": "2022-04-02T14:50:16.357740Z"
    }
   },
   "outputs": [],
   "source": [
    "b_blue = '#004C99'\n",
    "o_orange = '#CC6600'"
   ]
  },
  {
   "cell_type": "markdown",
   "id": "b6e45760",
   "metadata": {
    "ExecuteTime": {
     "end_time": "2022-02-28T21:33:09.513356Z",
     "start_time": "2022-02-28T21:33:09.332182Z"
    },
    "heading_collapsed": true
   },
   "source": [
    "## 0.2 Load dataset"
   ]
  },
  {
   "cell_type": "code",
   "execution_count": 19,
   "id": "3324d97e",
   "metadata": {
    "ExecuteTime": {
     "end_time": "2022-04-02T14:50:34.531076Z",
     "start_time": "2022-04-02T14:50:16.381742Z"
    },
    "hidden": true
   },
   "outputs": [],
   "source": [
    "HOST = 'comunidade-ds-postgres.c50pcakiuwi3.us-east-1.rds.amazonaws.com'\n",
    "PORT = '5432'\n",
    "DATABASE = 'comunidadedsdb'\n",
    "USER = 'member'\n",
    "PASSWORD ='cdspa'\n",
    "\n",
    "conn = pg.connect(host=HOST,\n",
    "                  database=DATABASE,\n",
    "                  port=PORT,\n",
    "                  user=USER,\n",
    "                  password=PASSWORD)\n",
    "\n",
    "query = \"\"\"\n",
    "    SELECT *\n",
    "    FROM pa004.users u INNER JOIN pa004.vehicle v ON (u.id = v.id)\n",
    "                       INNER JOIN pa004.insurance i ON (u.id = i.id)\n",
    "\"\"\"\n",
    "\n",
    "data = pd.read_sql(query, conn)"
   ]
  },
  {
   "cell_type": "code",
   "execution_count": 20,
   "id": "e2840cd0",
   "metadata": {
    "ExecuteTime": {
     "end_time": "2022-04-02T14:50:34.670509Z",
     "start_time": "2022-04-02T14:50:34.557997Z"
    },
    "hidden": true,
    "scrolled": true
   },
   "outputs": [
    {
     "data": {
      "text/html": [
       "<div>\n",
       "<style scoped>\n",
       "    .dataframe tbody tr th:only-of-type {\n",
       "        vertical-align: middle;\n",
       "    }\n",
       "\n",
       "    .dataframe tbody tr th {\n",
       "        vertical-align: top;\n",
       "    }\n",
       "\n",
       "    .dataframe thead th {\n",
       "        text-align: right;\n",
       "    }\n",
       "</style>\n",
       "<table border=\"1\" class=\"dataframe\">\n",
       "  <thead>\n",
       "    <tr style=\"text-align: right;\">\n",
       "      <th></th>\n",
       "      <th>id</th>\n",
       "      <th>gender</th>\n",
       "      <th>age</th>\n",
       "      <th>region_code</th>\n",
       "      <th>policy_sales_channel</th>\n",
       "      <th>id</th>\n",
       "      <th>driving_license</th>\n",
       "      <th>vehicle_age</th>\n",
       "      <th>vehicle_damage</th>\n",
       "      <th>id</th>\n",
       "      <th>previously_insured</th>\n",
       "      <th>annual_premium</th>\n",
       "      <th>vintage</th>\n",
       "      <th>response</th>\n",
       "    </tr>\n",
       "  </thead>\n",
       "  <tbody>\n",
       "    <tr>\n",
       "      <th>0</th>\n",
       "      <td>7</td>\n",
       "      <td>Male</td>\n",
       "      <td>23</td>\n",
       "      <td>11.0</td>\n",
       "      <td>152.0</td>\n",
       "      <td>7</td>\n",
       "      <td>1</td>\n",
       "      <td>&lt; 1 Year</td>\n",
       "      <td>Yes</td>\n",
       "      <td>7</td>\n",
       "      <td>0</td>\n",
       "      <td>23367.0</td>\n",
       "      <td>249</td>\n",
       "      <td>0</td>\n",
       "    </tr>\n",
       "    <tr>\n",
       "      <th>1</th>\n",
       "      <td>13</td>\n",
       "      <td>Female</td>\n",
       "      <td>41</td>\n",
       "      <td>15.0</td>\n",
       "      <td>14.0</td>\n",
       "      <td>13</td>\n",
       "      <td>1</td>\n",
       "      <td>1-2 Year</td>\n",
       "      <td>No</td>\n",
       "      <td>13</td>\n",
       "      <td>1</td>\n",
       "      <td>31409.0</td>\n",
       "      <td>221</td>\n",
       "      <td>0</td>\n",
       "    </tr>\n",
       "    <tr>\n",
       "      <th>2</th>\n",
       "      <td>18</td>\n",
       "      <td>Female</td>\n",
       "      <td>25</td>\n",
       "      <td>35.0</td>\n",
       "      <td>152.0</td>\n",
       "      <td>18</td>\n",
       "      <td>1</td>\n",
       "      <td>&lt; 1 Year</td>\n",
       "      <td>No</td>\n",
       "      <td>18</td>\n",
       "      <td>1</td>\n",
       "      <td>46622.0</td>\n",
       "      <td>299</td>\n",
       "      <td>0</td>\n",
       "    </tr>\n",
       "    <tr>\n",
       "      <th>3</th>\n",
       "      <td>31</td>\n",
       "      <td>Female</td>\n",
       "      <td>26</td>\n",
       "      <td>8.0</td>\n",
       "      <td>160.0</td>\n",
       "      <td>31</td>\n",
       "      <td>1</td>\n",
       "      <td>&lt; 1 Year</td>\n",
       "      <td>No</td>\n",
       "      <td>31</td>\n",
       "      <td>0</td>\n",
       "      <td>2630.0</td>\n",
       "      <td>136</td>\n",
       "      <td>0</td>\n",
       "    </tr>\n",
       "    <tr>\n",
       "      <th>4</th>\n",
       "      <td>39</td>\n",
       "      <td>Male</td>\n",
       "      <td>45</td>\n",
       "      <td>8.0</td>\n",
       "      <td>124.0</td>\n",
       "      <td>39</td>\n",
       "      <td>1</td>\n",
       "      <td>1-2 Year</td>\n",
       "      <td>Yes</td>\n",
       "      <td>39</td>\n",
       "      <td>0</td>\n",
       "      <td>42297.0</td>\n",
       "      <td>264</td>\n",
       "      <td>0</td>\n",
       "    </tr>\n",
       "  </tbody>\n",
       "</table>\n",
       "</div>"
      ],
      "text/plain": [
       "   id  gender  age  region_code  policy_sales_channel  id  driving_license vehicle_age vehicle_damage  id  previously_insured  annual_premium  vintage  response\n",
       "0   7    Male   23         11.0                 152.0   7                1    < 1 Year            Yes   7                   0         23367.0      249         0\n",
       "1  13  Female   41         15.0                  14.0  13                1    1-2 Year             No  13                   1         31409.0      221         0\n",
       "2  18  Female   25         35.0                 152.0  18                1    < 1 Year             No  18                   1         46622.0      299         0\n",
       "3  31  Female   26          8.0                 160.0  31                1    < 1 Year             No  31                   0          2630.0      136         0\n",
       "4  39    Male   45          8.0                 124.0  39                1    1-2 Year            Yes  39                   0         42297.0      264         0"
      ]
     },
     "execution_count": 20,
     "metadata": {},
     "output_type": "execute_result"
    }
   ],
   "source": [
    "data.head()"
   ]
  },
  {
   "cell_type": "code",
   "execution_count": 21,
   "id": "84dabcb4",
   "metadata": {
    "ExecuteTime": {
     "end_time": "2022-04-02T14:50:46.305296Z",
     "start_time": "2022-04-02T14:50:34.680283Z"
    },
    "hidden": true
   },
   "outputs": [],
   "source": [
    "data.to_csv('../data/raw/train.csv', index=False)"
   ]
  },
  {
   "cell_type": "code",
   "execution_count": 22,
   "id": "f96a4184",
   "metadata": {
    "ExecuteTime": {
     "end_time": "2022-04-02T14:50:47.664771Z",
     "start_time": "2022-04-02T14:50:46.313783Z"
    },
    "hidden": true
   },
   "outputs": [],
   "source": [
    "df_raw = pd.read_csv('../data/raw/train.csv')"
   ]
  },
  {
   "cell_type": "code",
   "execution_count": 23,
   "id": "b20ed65f",
   "metadata": {
    "ExecuteTime": {
     "end_time": "2022-04-02T14:50:47.790799Z",
     "start_time": "2022-04-02T14:50:47.673050Z"
    },
    "hidden": true
   },
   "outputs": [
    {
     "data": {
      "text/html": [
       "<div>\n",
       "<style scoped>\n",
       "    .dataframe tbody tr th:only-of-type {\n",
       "        vertical-align: middle;\n",
       "    }\n",
       "\n",
       "    .dataframe tbody tr th {\n",
       "        vertical-align: top;\n",
       "    }\n",
       "\n",
       "    .dataframe thead th {\n",
       "        text-align: right;\n",
       "    }\n",
       "</style>\n",
       "<table border=\"1\" class=\"dataframe\">\n",
       "  <thead>\n",
       "    <tr style=\"text-align: right;\">\n",
       "      <th></th>\n",
       "      <th>id</th>\n",
       "      <th>gender</th>\n",
       "      <th>age</th>\n",
       "      <th>region_code</th>\n",
       "      <th>policy_sales_channel</th>\n",
       "      <th>id.1</th>\n",
       "      <th>driving_license</th>\n",
       "      <th>vehicle_age</th>\n",
       "      <th>vehicle_damage</th>\n",
       "      <th>id.2</th>\n",
       "      <th>previously_insured</th>\n",
       "      <th>annual_premium</th>\n",
       "      <th>vintage</th>\n",
       "      <th>response</th>\n",
       "    </tr>\n",
       "  </thead>\n",
       "  <tbody>\n",
       "    <tr>\n",
       "      <th>0</th>\n",
       "      <td>7</td>\n",
       "      <td>Male</td>\n",
       "      <td>23</td>\n",
       "      <td>11.0</td>\n",
       "      <td>152.0</td>\n",
       "      <td>7</td>\n",
       "      <td>1</td>\n",
       "      <td>&lt; 1 Year</td>\n",
       "      <td>Yes</td>\n",
       "      <td>7</td>\n",
       "      <td>0</td>\n",
       "      <td>23367.0</td>\n",
       "      <td>249</td>\n",
       "      <td>0</td>\n",
       "    </tr>\n",
       "    <tr>\n",
       "      <th>1</th>\n",
       "      <td>13</td>\n",
       "      <td>Female</td>\n",
       "      <td>41</td>\n",
       "      <td>15.0</td>\n",
       "      <td>14.0</td>\n",
       "      <td>13</td>\n",
       "      <td>1</td>\n",
       "      <td>1-2 Year</td>\n",
       "      <td>No</td>\n",
       "      <td>13</td>\n",
       "      <td>1</td>\n",
       "      <td>31409.0</td>\n",
       "      <td>221</td>\n",
       "      <td>0</td>\n",
       "    </tr>\n",
       "    <tr>\n",
       "      <th>2</th>\n",
       "      <td>18</td>\n",
       "      <td>Female</td>\n",
       "      <td>25</td>\n",
       "      <td>35.0</td>\n",
       "      <td>152.0</td>\n",
       "      <td>18</td>\n",
       "      <td>1</td>\n",
       "      <td>&lt; 1 Year</td>\n",
       "      <td>No</td>\n",
       "      <td>18</td>\n",
       "      <td>1</td>\n",
       "      <td>46622.0</td>\n",
       "      <td>299</td>\n",
       "      <td>0</td>\n",
       "    </tr>\n",
       "    <tr>\n",
       "      <th>3</th>\n",
       "      <td>31</td>\n",
       "      <td>Female</td>\n",
       "      <td>26</td>\n",
       "      <td>8.0</td>\n",
       "      <td>160.0</td>\n",
       "      <td>31</td>\n",
       "      <td>1</td>\n",
       "      <td>&lt; 1 Year</td>\n",
       "      <td>No</td>\n",
       "      <td>31</td>\n",
       "      <td>0</td>\n",
       "      <td>2630.0</td>\n",
       "      <td>136</td>\n",
       "      <td>0</td>\n",
       "    </tr>\n",
       "    <tr>\n",
       "      <th>4</th>\n",
       "      <td>39</td>\n",
       "      <td>Male</td>\n",
       "      <td>45</td>\n",
       "      <td>8.0</td>\n",
       "      <td>124.0</td>\n",
       "      <td>39</td>\n",
       "      <td>1</td>\n",
       "      <td>1-2 Year</td>\n",
       "      <td>Yes</td>\n",
       "      <td>39</td>\n",
       "      <td>0</td>\n",
       "      <td>42297.0</td>\n",
       "      <td>264</td>\n",
       "      <td>0</td>\n",
       "    </tr>\n",
       "  </tbody>\n",
       "</table>\n",
       "</div>"
      ],
      "text/plain": [
       "   id  gender  age  region_code  policy_sales_channel  id.1  driving_license vehicle_age vehicle_damage  id.2  previously_insured  annual_premium  vintage  response\n",
       "0   7    Male   23         11.0                 152.0     7                1    < 1 Year            Yes     7                   0         23367.0      249         0\n",
       "1  13  Female   41         15.0                  14.0    13                1    1-2 Year             No    13                   1         31409.0      221         0\n",
       "2  18  Female   25         35.0                 152.0    18                1    < 1 Year             No    18                   1         46622.0      299         0\n",
       "3  31  Female   26          8.0                 160.0    31                1    < 1 Year             No    31                   0          2630.0      136         0\n",
       "4  39    Male   45          8.0                 124.0    39                1    1-2 Year            Yes    39                   0         42297.0      264         0"
      ]
     },
     "execution_count": 23,
     "metadata": {},
     "output_type": "execute_result"
    }
   ],
   "source": [
    "df_raw.head()"
   ]
  },
  {
   "cell_type": "code",
   "execution_count": 24,
   "id": "79aaae57",
   "metadata": {
    "ExecuteTime": {
     "end_time": "2022-04-02T14:50:47.952263Z",
     "start_time": "2022-04-02T14:50:47.811468Z"
    },
    "hidden": true
   },
   "outputs": [
    {
     "data": {
      "text/html": [
       "<div>\n",
       "<style scoped>\n",
       "    .dataframe tbody tr th:only-of-type {\n",
       "        vertical-align: middle;\n",
       "    }\n",
       "\n",
       "    .dataframe tbody tr th {\n",
       "        vertical-align: top;\n",
       "    }\n",
       "\n",
       "    .dataframe thead th {\n",
       "        text-align: right;\n",
       "    }\n",
       "</style>\n",
       "<table border=\"1\" class=\"dataframe\">\n",
       "  <thead>\n",
       "    <tr style=\"text-align: right;\">\n",
       "      <th></th>\n",
       "      <th>id</th>\n",
       "      <th>gender</th>\n",
       "      <th>age</th>\n",
       "      <th>region_code</th>\n",
       "      <th>policy_sales_channel</th>\n",
       "      <th>driving_license</th>\n",
       "      <th>vehicle_age</th>\n",
       "      <th>vehicle_damage</th>\n",
       "      <th>previously_insured</th>\n",
       "      <th>annual_premium</th>\n",
       "      <th>vintage</th>\n",
       "      <th>response</th>\n",
       "    </tr>\n",
       "  </thead>\n",
       "  <tbody>\n",
       "    <tr>\n",
       "      <th>0</th>\n",
       "      <td>7</td>\n",
       "      <td>Male</td>\n",
       "      <td>23</td>\n",
       "      <td>11.0</td>\n",
       "      <td>152.0</td>\n",
       "      <td>1</td>\n",
       "      <td>&lt; 1 Year</td>\n",
       "      <td>Yes</td>\n",
       "      <td>0</td>\n",
       "      <td>23367.0</td>\n",
       "      <td>249</td>\n",
       "      <td>0</td>\n",
       "    </tr>\n",
       "    <tr>\n",
       "      <th>1</th>\n",
       "      <td>13</td>\n",
       "      <td>Female</td>\n",
       "      <td>41</td>\n",
       "      <td>15.0</td>\n",
       "      <td>14.0</td>\n",
       "      <td>1</td>\n",
       "      <td>1-2 Year</td>\n",
       "      <td>No</td>\n",
       "      <td>1</td>\n",
       "      <td>31409.0</td>\n",
       "      <td>221</td>\n",
       "      <td>0</td>\n",
       "    </tr>\n",
       "    <tr>\n",
       "      <th>2</th>\n",
       "      <td>18</td>\n",
       "      <td>Female</td>\n",
       "      <td>25</td>\n",
       "      <td>35.0</td>\n",
       "      <td>152.0</td>\n",
       "      <td>1</td>\n",
       "      <td>&lt; 1 Year</td>\n",
       "      <td>No</td>\n",
       "      <td>1</td>\n",
       "      <td>46622.0</td>\n",
       "      <td>299</td>\n",
       "      <td>0</td>\n",
       "    </tr>\n",
       "    <tr>\n",
       "      <th>3</th>\n",
       "      <td>31</td>\n",
       "      <td>Female</td>\n",
       "      <td>26</td>\n",
       "      <td>8.0</td>\n",
       "      <td>160.0</td>\n",
       "      <td>1</td>\n",
       "      <td>&lt; 1 Year</td>\n",
       "      <td>No</td>\n",
       "      <td>0</td>\n",
       "      <td>2630.0</td>\n",
       "      <td>136</td>\n",
       "      <td>0</td>\n",
       "    </tr>\n",
       "    <tr>\n",
       "      <th>4</th>\n",
       "      <td>39</td>\n",
       "      <td>Male</td>\n",
       "      <td>45</td>\n",
       "      <td>8.0</td>\n",
       "      <td>124.0</td>\n",
       "      <td>1</td>\n",
       "      <td>1-2 Year</td>\n",
       "      <td>Yes</td>\n",
       "      <td>0</td>\n",
       "      <td>42297.0</td>\n",
       "      <td>264</td>\n",
       "      <td>0</td>\n",
       "    </tr>\n",
       "  </tbody>\n",
       "</table>\n",
       "</div>"
      ],
      "text/plain": [
       "   id  gender  age  region_code  policy_sales_channel  driving_license vehicle_age vehicle_damage  previously_insured  annual_premium  vintage  response\n",
       "0   7    Male   23         11.0                 152.0                1    < 1 Year            Yes                   0         23367.0      249         0\n",
       "1  13  Female   41         15.0                  14.0                1    1-2 Year             No                   1         31409.0      221         0\n",
       "2  18  Female   25         35.0                 152.0                1    < 1 Year             No                   1         46622.0      299         0\n",
       "3  31  Female   26          8.0                 160.0                1    < 1 Year             No                   0          2630.0      136         0\n",
       "4  39    Male   45          8.0                 124.0                1    1-2 Year            Yes                   0         42297.0      264         0"
      ]
     },
     "execution_count": 24,
     "metadata": {},
     "output_type": "execute_result"
    }
   ],
   "source": [
    "df_raw = df_raw.drop(df_raw.columns[[5, 9]], axis = 1)\n",
    "df_raw.head()"
   ]
  },
  {
   "cell_type": "markdown",
   "id": "1cbfdb0d",
   "metadata": {
    "heading_collapsed": true
   },
   "source": [
    "# 1.0 Data Description"
   ]
  },
  {
   "cell_type": "code",
   "execution_count": 25,
   "id": "a24dca9e",
   "metadata": {
    "ExecuteTime": {
     "end_time": "2022-04-02T14:50:48.002907Z",
     "start_time": "2022-04-02T14:50:47.965457Z"
    },
    "hidden": true
   },
   "outputs": [],
   "source": [
    "df1 = df_raw.copy()"
   ]
  },
  {
   "cell_type": "markdown",
   "id": "56f083f1",
   "metadata": {
    "heading_collapsed": true,
    "hidden": true
   },
   "source": [
    "## 1.1 Rename Columns"
   ]
  },
  {
   "cell_type": "code",
   "execution_count": 26,
   "id": "09a2e50e",
   "metadata": {
    "ExecuteTime": {
     "end_time": "2022-04-02T14:50:48.043248Z",
     "start_time": "2022-04-02T14:50:48.016659Z"
    },
    "hidden": true,
    "scrolled": true
   },
   "outputs": [
    {
     "data": {
      "text/plain": [
       "Index(['id', 'gender', 'age', 'region_code', 'policy_sales_channel',\n",
       "       'driving_license', 'vehicle_age', 'vehicle_damage',\n",
       "       'previously_insured', 'annual_premium', 'vintage', 'response'],\n",
       "      dtype='object')"
      ]
     },
     "execution_count": 26,
     "metadata": {},
     "output_type": "execute_result"
    }
   ],
   "source": [
    "df1.columns"
   ]
  },
  {
   "cell_type": "markdown",
   "id": "7cd29921",
   "metadata": {
    "hidden": true
   },
   "source": [
    "### 1.1.1 Features Description"
   ]
  },
  {
   "cell_type": "markdown",
   "id": "172d255a",
   "metadata": {
    "ExecuteTime": {
     "end_time": "2022-03-20T18:15:32.860316Z",
     "start_time": "2022-03-20T18:15:32.779097Z"
    },
    "hidden": true
   },
   "source": [
    "<ul>\n",
    "    <li><b>id:</b> Customer identifier</li>\n",
    "    <li><b>gender:</b> Gender of customer</li>\n",
    "    <li><b>age:</b> Age of customer</li>\n",
    "    <li><b>region_code:</b> Region code of customer</li>\n",
    "    <li><b>policy_sales_channel:</b> anonymous code for contact with customer.</li>\n",
    "    <li><b>previously_insured:</b> 0 if customer does not have a vehicle insurance; 1 if customer already has a vehicle insurance.</li>\n",
    "     <li><b>annual_premium:</b> amount paid for health insurance to the company anualy.</li>\n",
    "     <li><b>vintage:</b> time (in days) that customer bought his health assurance.</li>\n",
    "    <li><b>driving_license:</b> 0 if customer does not have the permission for drive; 1 if customer has the permission for driveRegion</li>\n",
    "    <li><b>vehicle_age:</b> Age of vehicle</li>\n",
    "    <li><b>vehicle_damage:</b> 0 if customer never got involved in a previous vehicle damage; 1 if customer already had a vehicle damage</li>\n",
    "    <li><b>response:</b> 0 if customer has no interest in product; 1 if customer has interest in product</li></ul>"
   ]
  },
  {
   "cell_type": "markdown",
   "id": "a8564880",
   "metadata": {
    "heading_collapsed": true,
    "hidden": true
   },
   "source": [
    "## 1.2 Data Dimensions"
   ]
  },
  {
   "cell_type": "code",
   "execution_count": 27,
   "id": "150d686b",
   "metadata": {
    "ExecuteTime": {
     "end_time": "2022-04-02T14:50:48.081325Z",
     "start_time": "2022-04-02T14:50:48.058453Z"
    },
    "hidden": true
   },
   "outputs": [
    {
     "name": "stdout",
     "output_type": "stream",
     "text": [
      "Number of Rows: 381109\n",
      "Number of Cols: 12\n"
     ]
    }
   ],
   "source": [
    "print(f'Number of Rows: {df1.shape[0]}')\n",
    "print(f'Number of Cols: {df1.shape[1]}')"
   ]
  },
  {
   "cell_type": "markdown",
   "id": "f0338a07",
   "metadata": {
    "heading_collapsed": true,
    "hidden": true
   },
   "source": [
    "## 1.3 Data Types"
   ]
  },
  {
   "cell_type": "code",
   "execution_count": 28,
   "id": "3cb9f713",
   "metadata": {
    "ExecuteTime": {
     "end_time": "2022-04-02T14:50:48.132109Z",
     "start_time": "2022-04-02T14:50:48.094667Z"
    },
    "hidden": true
   },
   "outputs": [
    {
     "data": {
      "text/plain": [
       "id                        int64\n",
       "gender                   object\n",
       "age                       int64\n",
       "region_code             float64\n",
       "policy_sales_channel    float64\n",
       "driving_license           int64\n",
       "vehicle_age              object\n",
       "vehicle_damage           object\n",
       "previously_insured        int64\n",
       "annual_premium          float64\n",
       "vintage                   int64\n",
       "response                  int64\n",
       "dtype: object"
      ]
     },
     "execution_count": 28,
     "metadata": {},
     "output_type": "execute_result"
    }
   ],
   "source": [
    "df1.dtypes"
   ]
  },
  {
   "cell_type": "markdown",
   "id": "5e44ff67",
   "metadata": {
    "heading_collapsed": true,
    "hidden": true
   },
   "source": [
    "## 1.4 Check NA"
   ]
  },
  {
   "cell_type": "code",
   "execution_count": 29,
   "id": "22412694",
   "metadata": {
    "ExecuteTime": {
     "end_time": "2022-04-02T14:50:49.373484Z",
     "start_time": "2022-04-02T14:50:48.146019Z"
    },
    "hidden": true
   },
   "outputs": [
    {
     "data": {
      "text/plain": [
       "id                      0\n",
       "gender                  0\n",
       "age                     0\n",
       "region_code             0\n",
       "policy_sales_channel    0\n",
       "driving_license         0\n",
       "vehicle_age             0\n",
       "vehicle_damage          0\n",
       "previously_insured      0\n",
       "annual_premium          0\n",
       "vintage                 0\n",
       "response                0\n",
       "dtype: int64"
      ]
     },
     "execution_count": 29,
     "metadata": {},
     "output_type": "execute_result"
    }
   ],
   "source": [
    "df1.isna().sum()"
   ]
  },
  {
   "cell_type": "markdown",
   "id": "72678ed1",
   "metadata": {
    "hidden": true
   },
   "source": [
    "## 1.5 Fillout NA"
   ]
  },
  {
   "cell_type": "markdown",
   "id": "9289bca6",
   "metadata": {
    "heading_collapsed": true,
    "hidden": true
   },
   "source": [
    "## 1.6 Change Types"
   ]
  },
  {
   "cell_type": "code",
   "execution_count": 30,
   "id": "e4673280",
   "metadata": {
    "ExecuteTime": {
     "end_time": "2022-04-02T14:50:49.437292Z",
     "start_time": "2022-04-02T14:50:49.385342Z"
    },
    "hidden": true
   },
   "outputs": [
    {
     "data": {
      "text/plain": [
       "id                        int64\n",
       "gender                   object\n",
       "age                       int64\n",
       "region_code               int64\n",
       "policy_sales_channel      int64\n",
       "driving_license           int64\n",
       "vehicle_age              object\n",
       "vehicle_damage           object\n",
       "previously_insured        int64\n",
       "annual_premium          float64\n",
       "vintage                   int64\n",
       "response                  int64\n",
       "dtype: object"
      ]
     },
     "execution_count": 30,
     "metadata": {},
     "output_type": "execute_result"
    }
   ],
   "source": [
    "df1['region_code'] = df1['region_code'].astype('int64')\n",
    "df1['policy_sales_channel'] = df1['policy_sales_channel'].astype('int64')\n",
    "df1.dtypes"
   ]
  },
  {
   "cell_type": "markdown",
   "id": "8cf936fc",
   "metadata": {
    "heading_collapsed": true,
    "hidden": true
   },
   "source": [
    "## 1.7 Descriptive Statistics"
   ]
  },
  {
   "cell_type": "code",
   "execution_count": 31,
   "id": "7b97c02c",
   "metadata": {
    "ExecuteTime": {
     "end_time": "2022-04-02T14:50:49.545187Z",
     "start_time": "2022-04-02T14:50:49.452186Z"
    },
    "hidden": true
   },
   "outputs": [],
   "source": [
    "num_attributes = df1[['age', 'annual_premium', 'vintage']]\n",
    "cat_attributes = df1[['gender', 'region_code', 'policy_sales_channel', 'driving_license', 'vehicle_age', 'vehicle_damage', 'previously_insured', 'response']]"
   ]
  },
  {
   "cell_type": "markdown",
   "id": "4d4ce01a",
   "metadata": {
    "heading_collapsed": true,
    "hidden": true
   },
   "source": [
    "### 1.7.1 Numerical Attributes"
   ]
  },
  {
   "cell_type": "code",
   "execution_count": 32,
   "id": "cdc68c25",
   "metadata": {
    "ExecuteTime": {
     "end_time": "2022-04-02T14:50:51.094065Z",
     "start_time": "2022-04-02T14:50:49.553825Z"
    },
    "hidden": true,
    "scrolled": true
   },
   "outputs": [
    {
     "data": {
      "text/html": [
       "<div>\n",
       "<style scoped>\n",
       "    .dataframe tbody tr th:only-of-type {\n",
       "        vertical-align: middle;\n",
       "    }\n",
       "\n",
       "    .dataframe tbody tr th {\n",
       "        vertical-align: top;\n",
       "    }\n",
       "\n",
       "    .dataframe thead th {\n",
       "        text-align: right;\n",
       "    }\n",
       "</style>\n",
       "<table border=\"1\" class=\"dataframe\">\n",
       "  <thead>\n",
       "    <tr style=\"text-align: right;\">\n",
       "      <th></th>\n",
       "      <th>attributes</th>\n",
       "      <th>min</th>\n",
       "      <th>max</th>\n",
       "      <th>range</th>\n",
       "      <th>mean</th>\n",
       "      <th>median</th>\n",
       "      <th>std</th>\n",
       "      <th>skew</th>\n",
       "      <th>kurtosis</th>\n",
       "    </tr>\n",
       "  </thead>\n",
       "  <tbody>\n",
       "    <tr>\n",
       "      <th>0</th>\n",
       "      <td>age</td>\n",
       "      <td>20.0</td>\n",
       "      <td>85.0</td>\n",
       "      <td>65.0</td>\n",
       "      <td>38.822584</td>\n",
       "      <td>36.0</td>\n",
       "      <td>15.511591</td>\n",
       "      <td>0.672539</td>\n",
       "      <td>-0.565655</td>\n",
       "    </tr>\n",
       "    <tr>\n",
       "      <th>1</th>\n",
       "      <td>annual_premium</td>\n",
       "      <td>2630.0</td>\n",
       "      <td>540165.0</td>\n",
       "      <td>537535.0</td>\n",
       "      <td>30564.389581</td>\n",
       "      <td>31669.0</td>\n",
       "      <td>17213.132474</td>\n",
       "      <td>1.766087</td>\n",
       "      <td>34.004569</td>\n",
       "    </tr>\n",
       "    <tr>\n",
       "      <th>2</th>\n",
       "      <td>vintage</td>\n",
       "      <td>10.0</td>\n",
       "      <td>299.0</td>\n",
       "      <td>289.0</td>\n",
       "      <td>154.347397</td>\n",
       "      <td>154.0</td>\n",
       "      <td>83.671194</td>\n",
       "      <td>0.003030</td>\n",
       "      <td>-1.200688</td>\n",
       "    </tr>\n",
       "  </tbody>\n",
       "</table>\n",
       "</div>"
      ],
      "text/plain": [
       "       attributes     min       max     range          mean   median           std      skew   kurtosis\n",
       "0             age    20.0      85.0      65.0     38.822584     36.0     15.511591  0.672539  -0.565655\n",
       "1  annual_premium  2630.0  540165.0  537535.0  30564.389581  31669.0  17213.132474  1.766087  34.004569\n",
       "2         vintage    10.0     299.0     289.0    154.347397    154.0     83.671194  0.003030  -1.200688"
      ]
     },
     "execution_count": 32,
     "metadata": {},
     "output_type": "execute_result"
    }
   ],
   "source": [
    "# Central Tendency - Mean, Median\n",
    "ct1 = pd.DataFrame(num_attributes.apply(np.mean)).T\n",
    "ct2 = pd.DataFrame(num_attributes.apply(np.median)).T\n",
    "\n",
    "# dispersion - std, min, max, range, skew, kurtosis\n",
    "d1 = pd.DataFrame(num_attributes.apply(np.std)).T \n",
    "d2 = pd.DataFrame(num_attributes.apply(min)).T \n",
    "d3 = pd.DataFrame(num_attributes.apply(max)).T \n",
    "d4 = pd.DataFrame(num_attributes.apply(lambda x: x.max() - x.min())).T \n",
    "d5 = pd.DataFrame(num_attributes.apply(lambda x: x.skew())).T \n",
    "d6 = pd.DataFrame(num_attributes.apply(lambda x: x.kurtosis())).T \n",
    "\n",
    "# concatenar\n",
    "m = pd.concat([d2, d3, d4, ct1, ct2, d1, d5, d6]).T.reset_index()\n",
    "m.columns = ['attributes', 'min', 'max', 'range', 'mean', 'median', 'std', 'skew', 'kurtosis']\n",
    "m"
   ]
  },
  {
   "cell_type": "code",
   "execution_count": 33,
   "id": "dbdf28ac",
   "metadata": {
    "ExecuteTime": {
     "end_time": "2022-04-02T14:51:17.383922Z",
     "start_time": "2022-04-02T14:50:51.103310Z"
    },
    "hidden": true
   },
   "outputs": [
    {
     "data": {
      "image/png": "[encoded data removed]",
      "text/plain": [
       "<Figure size 1080x864 with 3 Axes>"
      ]
     },
     "metadata": {},
     "output_type": "display_data"
    }
   ],
   "source": [
    "fig, axs = plt.subplots(3, figsize = (15,12))\n",
    "sns.distplot(df1['age'], ax = axs[0], bins = 6)\n",
    "sns.distplot(df1[df1['annual_premium'] < 80000]['annual_premium'], ax = axs[1])\n",
    "sns.distplot(df1['vintage'], ax = axs[2]);\n"
   ]
  },
  {
   "cell_type": "markdown",
   "id": "5b598994",
   "metadata": {
    "heading_collapsed": true,
    "hidden": true
   },
   "source": [
    "### 1.7.2 Categorical Attributes"
   ]
  },
  {
   "cell_type": "code",
   "execution_count": 34,
   "id": "a23b2c3a",
   "metadata": {
    "ExecuteTime": {
     "end_time": "2022-04-02T14:51:17.710938Z",
     "start_time": "2022-04-02T14:51:17.393086Z"
    },
    "hidden": true,
    "scrolled": true
   },
   "outputs": [
    {
     "data": {
      "text/plain": [
       "gender                    2\n",
       "region_code              53\n",
       "policy_sales_channel    155\n",
       "driving_license           2\n",
       "vehicle_age               3\n",
       "vehicle_damage            2\n",
       "previously_insured        2\n",
       "response                  2\n",
       "dtype: int64"
      ]
     },
     "execution_count": 34,
     "metadata": {},
     "output_type": "execute_result"
    }
   ],
   "source": [
    "cat_attributes.apply(lambda x: x.unique().shape[0])"
   ]
  },
  {
   "cell_type": "code",
   "execution_count": 35,
   "id": "6952cbdc",
   "metadata": {
    "ExecuteTime": {
     "end_time": "2022-04-02T14:51:24.684539Z",
     "start_time": "2022-04-02T14:51:17.722249Z"
    },
    "hidden": true
   },
   "outputs": [
    {
     "data": {
      "image/png": "[encoded data removed]",
      "text/plain": [
       "<Figure size 1152x720 with 6 Axes>"
      ]
     },
     "metadata": {},
     "output_type": "display_data"
    }
   ],
   "source": [
    "fig, axs = plt.subplots(ncols = 3, nrows = 2,  figsize = (16, 10))\n",
    "sns.countplot(x = 'driving_license', data = df1, ax = axs[0][0])\n",
    "sns.countplot(x = 'previously_insured', data = df1, ax = axs[0][1])\n",
    "sns.countplot(x = 'vehicle_damage', data = df1, ax = axs[0][2])\n",
    "sns.countplot(x = 'vehicle_age', data = df1, ax = axs[1][0])\n",
    "sns.countplot(x = 'gender', data = df1, ax = axs[1][1]);"
   ]
  },
  {
   "cell_type": "code",
   "execution_count": 36,
   "id": "6c8defbb",
   "metadata": {
    "ExecuteTime": {
     "end_time": "2022-04-02T14:51:25.339171Z",
     "start_time": "2022-04-02T14:51:24.695434Z"
    },
    "hidden": true
   },
   "outputs": [
    {
     "name": "stdout",
     "output_type": "stream",
     "text": [
      "Percentage of Licensed drivers: 99.79%\n",
      "Percentage of Previously Insured customers: 45.82%\n",
      "Percentage of Vehicle Damage: 50.49%\n",
      "Cars with less than 1 year old: 52.56%\n",
      "Cars with age between 1 and 2 years old: 43.24%\n",
      "Cars with age higher of 2 years old: 4.20%\n",
      "Percentage of males: 54.08%\n",
      "Percentage of females: 45.92%\n"
     ]
    }
   ],
   "source": [
    "driving_license_perc = (df1['driving_license'].sum()) / (df1.shape[0])\n",
    "driving_license_perc = \"{0:.2f}%\".format(driving_license_perc * 100)\n",
    "print (f'Percentage of Licensed drivers: {driving_license_perc}')\n",
    "\n",
    "previously_insured_perc = (df1['previously_insured'].sum()) / (df1.shape[0])\n",
    "driving_license_perc = \"{0:.2f}%\".format(previously_insured_perc * 100)\n",
    "print (f'Percentage of Previously Insured customers: {driving_license_perc}')\n",
    "\n",
    "vehicle_damage_perc = df1['vehicle_damage'][df1['vehicle_damage'] == 'Yes'].value_counts() / (df1.shape[0])\n",
    "vehicle_damage_perc = \"{0:.2f}%\".format(vehicle_damage_perc[0] * 100)\n",
    "print (f'Percentage of Vehicle Damage: {vehicle_damage_perc}')\n",
    "\n",
    "vehicle_age_perc = df1['vehicle_age'].value_counts() / (df1.shape[0])\n",
    "print ('Cars with less than 1 year old: ' \"{0:.2f}%\".format(vehicle_age_perc[0] * 100))\n",
    "print ('Cars with age between 1 and 2 years old: ' \"{0:.2f}%\".format(vehicle_age_perc[1] * 100))\n",
    "print ('Cars with age higher of 2 years old: ' \"{0:.2f}%\".format(vehicle_age_perc[2] * 100))\n",
    "\n",
    "gender_perc = df1['gender'].value_counts() / (df1.shape[0])\n",
    "print ('Percentage of males: ' \"{0:.2f}%\".format(gender_perc[0] * 100))\n",
    "print ('Percentage of females: ' \"{0:.2f}%\".format(gender_perc[1] * 100))"
   ]
  },
  {
   "cell_type": "code",
   "execution_count": 37,
   "id": "a4795848",
   "metadata": {
    "ExecuteTime": {
     "end_time": "2022-04-02T14:51:31.135098Z",
     "start_time": "2022-04-02T14:51:25.349662Z"
    },
    "hidden": true
   },
   "outputs": [
    {
     "data": {
      "image/png": "[encoded data removed]",
      "text/plain": [
       "<Figure size 1080x576 with 1 Axes>"
      ]
     },
     "metadata": {},
     "output_type": "display_data"
    }
   ],
   "source": [
    "fig = plt.subplots(figsize = (15,8))\n",
    "sns.countplot(x = 'region_code', data = df1).set_title('Region Code');"
   ]
  },
  {
   "cell_type": "code",
   "execution_count": 38,
   "id": "a648f365",
   "metadata": {
    "ExecuteTime": {
     "end_time": "2022-04-02T14:51:56.194767Z",
     "start_time": "2022-04-02T14:51:31.178040Z"
    },
    "hidden": true
   },
   "outputs": [
    {
     "data": {
      "image/png": "[encoded data removed]",
      "text/plain": [
       "<Figure size 1080x576 with 3 Axes>"
      ]
     },
     "metadata": {},
     "output_type": "display_data"
    }
   ],
   "source": [
    "policy_1 = df1[(df1['policy_sales_channel'] > 0)  & (df1['policy_sales_channel'] < 55)]\n",
    "policy_2 = df1[(df1['policy_sales_channel'] > 55) & (df1['policy_sales_channel'] < 110)]\n",
    "policy_3 = df1[df1['policy_sales_channel']  > 110]\n",
    "\n",
    "fig, axs = plt.subplots(nrows = 3,  figsize = (15,8))\n",
    "sns.countplot(x = 'policy_sales_channel', data = policy_1, ax = axs[0]).set_title('Policy Sales Channel')\n",
    "sns.countplot(x = 'policy_sales_channel', data = policy_2, ax = axs[1])\n",
    "sns.countplot(x = 'policy_sales_channel', data = policy_3, ax = axs[2]);"
   ]
  },
  {
   "cell_type": "code",
   "execution_count": 39,
   "id": "328b136d",
   "metadata": {
    "ExecuteTime": {
     "end_time": "2022-04-02T14:51:57.275260Z",
     "start_time": "2022-04-02T14:51:56.209240Z"
    },
    "hidden": true
   },
   "outputs": [
    {
     "data": {
      "image/png": "[encoded data removed]",
      "text/plain": [
       "<Figure size 1080x576 with 1 Axes>"
      ]
     },
     "metadata": {},
     "output_type": "display_data"
    }
   ],
   "source": [
    "top_sales_channel = df1['policy_sales_channel'].value_counts().reset_index().sort_values('policy_sales_channel', ascending = False)\n",
    "top5_sales_channel = top_sales_channel[top_sales_channel['policy_sales_channel'] > 10000]\n",
    "\n",
    "fig = plt.subplots(figsize = (15,8))\n",
    "sns.barplot(y = 'policy_sales_channel', x = 'index', data = top5_sales_channel, order = top5_sales_channel['index']).set_title('Policy Sales Channel - Top 5');"
   ]
  },
  {
   "cell_type": "code",
   "execution_count": 40,
   "id": "592b27a4",
   "metadata": {
    "ExecuteTime": {
     "end_time": "2022-04-02T14:51:57.307917Z",
     "start_time": "2022-04-02T14:51:57.286872Z"
    },
    "hidden": true
   },
   "outputs": [
    {
     "name": "stdout",
     "output_type": "stream",
     "text": [
      "Most 5 used channels represent 84.21% of all channels.\n"
     ]
    }
   ],
   "source": [
    "most_used_channels_perc = (top5_sales_channel['policy_sales_channel'].sum()) / (df1.shape[0])\n",
    "most_used_channels_perc = \"{0:.2f}%\".format(most_used_channels_perc * 100)\n",
    "print (f'Most 5 used channels represent {most_used_channels_perc} of all channels.')"
   ]
  },
  {
   "cell_type": "markdown",
   "id": "37d3f013",
   "metadata": {
    "heading_collapsed": true,
    "hidden": true
   },
   "source": [
    "### 1.7.3 Response variable"
   ]
  },
  {
   "cell_type": "code",
   "execution_count": 41,
   "id": "eac70dfe",
   "metadata": {
    "ExecuteTime": {
     "end_time": "2022-04-02T14:51:57.364935Z",
     "start_time": "2022-04-02T14:51:57.318313Z"
    },
    "hidden": true
   },
   "outputs": [
    {
     "name": "stdout",
     "output_type": "stream",
     "text": [
      "Not interested customers: 87.74%\n",
      "Interested customers: 12.26%\n"
     ]
    }
   ],
   "source": [
    "response_perc = df1['response'].value_counts() / (df1.shape[0])\n",
    "print ('Not interested customers: ' \"{0:.2f}%\".format(response_perc[0] * 100))\n",
    "print ('Interested customers: ' \"{0:.2f}%\".format(response_perc[1] * 100))"
   ]
  },
  {
   "cell_type": "markdown",
   "id": "65849aad",
   "metadata": {
    "heading_collapsed": true,
    "hidden": true
   },
   "source": [
    "### 1.7.4 Description Summary"
   ]
  },
  {
   "cell_type": "markdown",
   "id": "1fe60763",
   "metadata": {
    "hidden": true
   },
   "source": [
    "<h3>For numerical attributes:</h3>\n",
    "<ol>\n",
    "    <li>\n",
    "        <strong>Age</strong>\n",
    "            <ul>\n",
    "                <li>Range: 20 to 85 years old;</li>\n",
    "                <li>Mean: 38.52 years old;</li>\n",
    "                <li>Median: 36 years old;</li>\n",
    "            </ul>\n",
    "    </li>\n",
    "    <br>\n",
    "    <li>\n",
    "        <strong>Annual_premium</strong>\n",
    "            <ul>\n",
    "                <li>Range: 2630 to 540165;</li>\n",
    "                <li>There is a peak in 2630, and a high density around 20000 to 60000.</li>\n",
    "            </ul>\n",
    "    </li>\n",
    "    <br>\n",
    "    <li>\n",
    "        <strong>Vintage</strong>\n",
    "            <ul>\n",
    "                <li>Range: 10 to 299 days;</li>\n",
    "                <li>Mean: 154.347397 days;</li>\n",
    "                <li>Median: 154 days.</li>\n",
    "            </ul>\n",
    "     </li>\n",
    "</ol>"
   ]
  },
  {
   "cell_type": "markdown",
   "id": "e2f5cd40",
   "metadata": {
    "hidden": true
   },
   "source": [
    "<h3>For categorical attributes:</h3>\n",
    "<ol>\n",
    "    <li>\n",
    "        <strong>Driving License</strong>\n",
    "            <ul>\n",
    "                <li>Percentage of Licensed drivers: 99.79%.</li>               \n",
    "            </ul>\n",
    "    </li>\n",
    "    <br>\n",
    "    <li>\n",
    "        <strong>Previously Insured</strong>\n",
    "            <ul>\n",
    "                <li>Percentage of Previously Insured customers: 45.82%.</li>\n",
    "            </ul>\n",
    "    </li>\n",
    "    <br>\n",
    "    <li>\n",
    "        <strong>Vehicle Damage</strong>\n",
    "            <ul>\n",
    "                <li>Percentage of Vehicle Damage: 50.49%.</li>                \n",
    "            </ul>\n",
    "    </li>\n",
    "    <br>\n",
    "    <li>\n",
    "        <strong>Vehicle Age</strong>\n",
    "            <ul>\n",
    "                <li>Cars with less than 1 year old: 52.56%,</li>\n",
    "                <li>Cars with age between 1 and 2 years old: 43.24%,</li>\n",
    "                <li>Cars with age higher of 2 years old: 4.20%.</li>\n",
    "            </ul>\n",
    "    </li>\n",
    "    <br>\n",
    "    <li>\n",
    "        <strong>Gender</strong>\n",
    "            <ul>\n",
    "                <li>Males: 54.08%</li>\n",
    "                <li>Females: 45.92%</li>                     \n",
    "            </ul>\n",
    "    </li>\n",
    "    <br>\n",
    "    <li>\n",
    "        <strong>Region Code</strong>\n",
    "            <ul>\n",
    "                <li>53 regions</li>\n",
    "           </ul>    \n",
    "    </li>\n",
    "    <br>\n",
    "    <li>\n",
    "        <strong>Policy Sales Channel</strong>\n",
    "            <ul>\n",
    "                <li>155 different channels,</li>\n",
    "                <li>Most 5 used channels represents 84.21% of all channels.</li>\n",
    "           </ul>    \n",
    "    </li>\n",
    "</ol>"
   ]
  },
  {
   "cell_type": "markdown",
   "id": "ffb2e6c9",
   "metadata": {
    "hidden": true
   },
   "source": [
    "<h3>For response variable:</h3>\n",
    "<ul>\n",
    "    <li> Not interested customers: 87.74%</li>\n",
    "    <li> Interested customers: 12.26%</li>\n",
    "</ul>"
   ]
  },
  {
   "cell_type": "code",
   "execution_count": 42,
   "id": "bbd8bf4a",
   "metadata": {
    "ExecuteTime": {
     "end_time": "2022-04-02T14:51:57.753351Z",
     "start_time": "2022-04-02T14:51:57.374071Z"
    },
    "hidden": true
   },
   "outputs": [],
   "source": [
    "df1.to_pickle(r\"../data/interim/df1.pkl\")#, index=False)"
   ]
  },
  {
   "cell_type": "markdown",
   "id": "eab70903",
   "metadata": {
    "heading_collapsed": true
   },
   "source": [
    "# 2.0. Feature Engineering"
   ]
  },
  {
   "cell_type": "code",
   "execution_count": 43,
   "id": "a323fe92",
   "metadata": {
    "ExecuteTime": {
     "end_time": "2022-04-02T14:51:57.949325Z",
     "start_time": "2022-04-02T14:51:57.763593Z"
    },
    "hidden": true
   },
   "outputs": [],
   "source": [
    "#df2 = pd.read_csv('../data/interim/df1.csv')\n",
    "#df2.to_pickle(r\"../data/interim/df2.pkl\")\n",
    "df2 = pd.read_pickle(r\"../data/interim/df1.pkl\")"
   ]
  },
  {
   "cell_type": "markdown",
   "id": "d8193b6e",
   "metadata": {
    "heading_collapsed": true,
    "hidden": true
   },
   "source": [
    "## 2.1 Mental Map Hyphotesis"
   ]
  },
  {
   "cell_type": "code",
   "execution_count": 44,
   "id": "07587237",
   "metadata": {
    "ExecuteTime": {
     "end_time": "2022-04-02T14:52:00.447595Z",
     "start_time": "2022-04-02T14:51:57.960667Z"
    },
    "hidden": true,
    "scrolled": true
   },
   "outputs": [
    {
     "ename": "FileNotFoundError",
     "evalue": "No such file or directory: '../figures/hyphotesis_map.png'",
     "output_type": "error",
     "traceback": [
      "\u001b[0;31m---------------------------------------------------------------------------\u001b[0m",
      "\u001b[0;31mTypeError\u001b[0m                                 Traceback (most recent call last)",
      "File \u001b[0;32m~/.pyenv/versions/3.8.0/envs/HealthInsurance/lib/python3.8/site-packages/IPython/core/display.py:1027\u001b[0m, in \u001b[0;36mImage._data_and_metadata\u001b[0;34m(self, always_both)\u001b[0m\n\u001b[1;32m   1026\u001b[0m \u001b[38;5;28;01mtry\u001b[39;00m:\n\u001b[0;32m-> 1027\u001b[0m     b64_data \u001b[38;5;241m=\u001b[39m \u001b[43mb2a_base64\u001b[49m\u001b[43m(\u001b[49m\u001b[38;5;28;43mself\u001b[39;49m\u001b[38;5;241;43m.\u001b[39;49m\u001b[43mdata\u001b[49m\u001b[43m)\u001b[49m\u001b[38;5;241m.\u001b[39mdecode(\u001b[38;5;124m'\u001b[39m\u001b[38;5;124mascii\u001b[39m\u001b[38;5;124m'\u001b[39m)\n\u001b[1;32m   1028\u001b[0m \u001b[38;5;28;01mexcept\u001b[39;00m \u001b[38;5;167;01mTypeError\u001b[39;00m \u001b[38;5;28;01mas\u001b[39;00m e:\n",
      "\u001b[0;31mTypeError\u001b[0m: a bytes-like object is required, not 'str'",
      "\nThe above exception was the direct cause of the following exception:\n",
      "\u001b[0;31mFileNotFoundError\u001b[0m                         Traceback (most recent call last)",
      "File \u001b[0;32m~/.pyenv/versions/3.8.0/envs/HealthInsurance/lib/python3.8/site-packages/IPython/core/formatters.py:973\u001b[0m, in \u001b[0;36mMimeBundleFormatter.__call__\u001b[0;34m(self, obj, include, exclude)\u001b[0m\n\u001b[1;32m    970\u001b[0m     method \u001b[38;5;241m=\u001b[39m get_real_method(obj, \u001b[38;5;28mself\u001b[39m\u001b[38;5;241m.\u001b[39mprint_method)\n\u001b[1;32m    972\u001b[0m     \u001b[38;5;28;01mif\u001b[39;00m method \u001b[38;5;129;01mis\u001b[39;00m \u001b[38;5;129;01mnot\u001b[39;00m \u001b[38;5;28;01mNone\u001b[39;00m:\n\u001b[0;32m--> 973\u001b[0m         \u001b[38;5;28;01mreturn\u001b[39;00m \u001b[43mmethod\u001b[49m\u001b[43m(\u001b[49m\u001b[43minclude\u001b[49m\u001b[38;5;241;43m=\u001b[39;49m\u001b[43minclude\u001b[49m\u001b[43m,\u001b[49m\u001b[43m \u001b[49m\u001b[43mexclude\u001b[49m\u001b[38;5;241;43m=\u001b[39;49m\u001b[43mexclude\u001b[49m\u001b[43m)\u001b[49m\n\u001b[1;32m    974\u001b[0m     \u001b[38;5;28;01mreturn\u001b[39;00m \u001b[38;5;28;01mNone\u001b[39;00m\n\u001b[1;32m    975\u001b[0m \u001b[38;5;28;01melse\u001b[39;00m:\n",
      "File \u001b[0;32m~/.pyenv/versions/3.8.0/envs/HealthInsurance/lib/python3.8/site-packages/IPython/core/display.py:1017\u001b[0m, in \u001b[0;36mImage._repr_mimebundle_\u001b[0;34m(self, include, exclude)\u001b[0m\n\u001b[1;32m   1015\u001b[0m \u001b[38;5;28;01mif\u001b[39;00m \u001b[38;5;28mself\u001b[39m\u001b[38;5;241m.\u001b[39membed:\n\u001b[1;32m   1016\u001b[0m     mimetype \u001b[38;5;241m=\u001b[39m \u001b[38;5;28mself\u001b[39m\u001b[38;5;241m.\u001b[39m_mimetype\n\u001b[0;32m-> 1017\u001b[0m     data, metadata \u001b[38;5;241m=\u001b[39m \u001b[38;5;28;43mself\u001b[39;49m\u001b[38;5;241;43m.\u001b[39;49m\u001b[43m_data_and_metadata\u001b[49m\u001b[43m(\u001b[49m\u001b[43malways_both\u001b[49m\u001b[38;5;241;43m=\u001b[39;49m\u001b[38;5;28;43;01mTrue\u001b[39;49;00m\u001b[43m)\u001b[49m\n\u001b[1;32m   1018\u001b[0m     \u001b[38;5;28;01mif\u001b[39;00m metadata:\n\u001b[1;32m   1019\u001b[0m         metadata \u001b[38;5;241m=\u001b[39m {mimetype: metadata}\n",
      "File \u001b[0;32m~/.pyenv/versions/3.8.0/envs/HealthInsurance/lib/python3.8/site-packages/IPython/core/display.py:1029\u001b[0m, in \u001b[0;36mImage._data_and_metadata\u001b[0;34m(self, always_both)\u001b[0m\n\u001b[1;32m   1027\u001b[0m     b64_data \u001b[38;5;241m=\u001b[39m b2a_base64(\u001b[38;5;28mself\u001b[39m\u001b[38;5;241m.\u001b[39mdata)\u001b[38;5;241m.\u001b[39mdecode(\u001b[38;5;124m'\u001b[39m\u001b[38;5;124mascii\u001b[39m\u001b[38;5;124m'\u001b[39m)\n\u001b[1;32m   1028\u001b[0m \u001b[38;5;28;01mexcept\u001b[39;00m \u001b[38;5;167;01mTypeError\u001b[39;00m \u001b[38;5;28;01mas\u001b[39;00m e:\n\u001b[0;32m-> 1029\u001b[0m     \u001b[38;5;28;01mraise\u001b[39;00m \u001b[38;5;167;01mFileNotFoundError\u001b[39;00m(\n\u001b[1;32m   1030\u001b[0m         \u001b[38;5;124m\"\u001b[39m\u001b[38;5;124mNo such file or directory: \u001b[39m\u001b[38;5;124m'\u001b[39m\u001b[38;5;132;01m%s\u001b[39;00m\u001b[38;5;124m'\u001b[39m\u001b[38;5;124m\"\u001b[39m \u001b[38;5;241m%\u001b[39m (\u001b[38;5;28mself\u001b[39m\u001b[38;5;241m.\u001b[39mdata)) \u001b[38;5;28;01mfrom\u001b[39;00m \u001b[38;5;21;01me\u001b[39;00m\n\u001b[1;32m   1031\u001b[0m md \u001b[38;5;241m=\u001b[39m {}\n\u001b[1;32m   1032\u001b[0m \u001b[38;5;28;01mif\u001b[39;00m \u001b[38;5;28mself\u001b[39m\u001b[38;5;241m.\u001b[39mmetadata:\n",
      "\u001b[0;31mFileNotFoundError\u001b[0m: No such file or directory: '../figures/hyphotesis_map.png'"
     ]
    },
    {
     "ename": "FileNotFoundError",
     "evalue": "No such file or directory: '../figures/hyphotesis_map.png'",
     "output_type": "error",
     "traceback": [
      "\u001b[0;31m---------------------------------------------------------------------------\u001b[0m",
      "\u001b[0;31mTypeError\u001b[0m                                 Traceback (most recent call last)",
      "File \u001b[0;32m~/.pyenv/versions/3.8.0/envs/HealthInsurance/lib/python3.8/site-packages/IPython/core/display.py:1027\u001b[0m, in \u001b[0;36mImage._data_and_metadata\u001b[0;34m(self, always_both)\u001b[0m\n\u001b[1;32m   1026\u001b[0m \u001b[38;5;28;01mtry\u001b[39;00m:\n\u001b[0;32m-> 1027\u001b[0m     b64_data \u001b[38;5;241m=\u001b[39m \u001b[43mb2a_base64\u001b[49m\u001b[43m(\u001b[49m\u001b[38;5;28;43mself\u001b[39;49m\u001b[38;5;241;43m.\u001b[39;49m\u001b[43mdata\u001b[49m\u001b[43m)\u001b[49m\u001b[38;5;241m.\u001b[39mdecode(\u001b[38;5;124m'\u001b[39m\u001b[38;5;124mascii\u001b[39m\u001b[38;5;124m'\u001b[39m)\n\u001b[1;32m   1028\u001b[0m \u001b[38;5;28;01mexcept\u001b[39;00m \u001b[38;5;167;01mTypeError\u001b[39;00m \u001b[38;5;28;01mas\u001b[39;00m e:\n",
      "\u001b[0;31mTypeError\u001b[0m: a bytes-like object is required, not 'str'",
      "\nThe above exception was the direct cause of the following exception:\n",
      "\u001b[0;31mFileNotFoundError\u001b[0m                         Traceback (most recent call last)",
      "File \u001b[0;32m~/.pyenv/versions/3.8.0/envs/HealthInsurance/lib/python3.8/site-packages/IPython/core/formatters.py:343\u001b[0m, in \u001b[0;36mBaseFormatter.__call__\u001b[0;34m(self, obj)\u001b[0m\n\u001b[1;32m    341\u001b[0m     method \u001b[38;5;241m=\u001b[39m get_real_method(obj, \u001b[38;5;28mself\u001b[39m\u001b[38;5;241m.\u001b[39mprint_method)\n\u001b[1;32m    342\u001b[0m     \u001b[38;5;28;01mif\u001b[39;00m method \u001b[38;5;129;01mis\u001b[39;00m \u001b[38;5;129;01mnot\u001b[39;00m \u001b[38;5;28;01mNone\u001b[39;00m:\n\u001b[0;32m--> 343\u001b[0m         \u001b[38;5;28;01mreturn\u001b[39;00m \u001b[43mmethod\u001b[49m\u001b[43m(\u001b[49m\u001b[43m)\u001b[49m\n\u001b[1;32m    344\u001b[0m     \u001b[38;5;28;01mreturn\u001b[39;00m \u001b[38;5;28;01mNone\u001b[39;00m\n\u001b[1;32m    345\u001b[0m \u001b[38;5;28;01melse\u001b[39;00m:\n",
      "File \u001b[0;32m~/.pyenv/versions/3.8.0/envs/HealthInsurance/lib/python3.8/site-packages/IPython/core/display.py:1049\u001b[0m, in \u001b[0;36mImage._repr_png_\u001b[0;34m(self)\u001b[0m\n\u001b[1;32m   1047\u001b[0m \u001b[38;5;28;01mdef\u001b[39;00m \u001b[38;5;21m_repr_png_\u001b[39m(\u001b[38;5;28mself\u001b[39m):\n\u001b[1;32m   1048\u001b[0m     \u001b[38;5;28;01mif\u001b[39;00m \u001b[38;5;28mself\u001b[39m\u001b[38;5;241m.\u001b[39membed \u001b[38;5;129;01mand\u001b[39;00m \u001b[38;5;28mself\u001b[39m\u001b[38;5;241m.\u001b[39mformat \u001b[38;5;241m==\u001b[39m \u001b[38;5;28mself\u001b[39m\u001b[38;5;241m.\u001b[39m_FMT_PNG:\n\u001b[0;32m-> 1049\u001b[0m         \u001b[38;5;28;01mreturn\u001b[39;00m \u001b[38;5;28;43mself\u001b[39;49m\u001b[38;5;241;43m.\u001b[39;49m\u001b[43m_data_and_metadata\u001b[49m\u001b[43m(\u001b[49m\u001b[43m)\u001b[49m\n",
      "File \u001b[0;32m~/.pyenv/versions/3.8.0/envs/HealthInsurance/lib/python3.8/site-packages/IPython/core/display.py:1029\u001b[0m, in \u001b[0;36mImage._data_and_metadata\u001b[0;34m(self, always_both)\u001b[0m\n\u001b[1;32m   1027\u001b[0m     b64_data \u001b[38;5;241m=\u001b[39m b2a_base64(\u001b[38;5;28mself\u001b[39m\u001b[38;5;241m.\u001b[39mdata)\u001b[38;5;241m.\u001b[39mdecode(\u001b[38;5;124m'\u001b[39m\u001b[38;5;124mascii\u001b[39m\u001b[38;5;124m'\u001b[39m)\n\u001b[1;32m   1028\u001b[0m \u001b[38;5;28;01mexcept\u001b[39;00m \u001b[38;5;167;01mTypeError\u001b[39;00m \u001b[38;5;28;01mas\u001b[39;00m e:\n\u001b[0;32m-> 1029\u001b[0m     \u001b[38;5;28;01mraise\u001b[39;00m \u001b[38;5;167;01mFileNotFoundError\u001b[39;00m(\n\u001b[1;32m   1030\u001b[0m         \u001b[38;5;124m\"\u001b[39m\u001b[38;5;124mNo such file or directory: \u001b[39m\u001b[38;5;124m'\u001b[39m\u001b[38;5;132;01m%s\u001b[39;00m\u001b[38;5;124m'\u001b[39m\u001b[38;5;124m\"\u001b[39m \u001b[38;5;241m%\u001b[39m (\u001b[38;5;28mself\u001b[39m\u001b[38;5;241m.\u001b[39mdata)) \u001b[38;5;28;01mfrom\u001b[39;00m \u001b[38;5;21;01me\u001b[39;00m\n\u001b[1;32m   1031\u001b[0m md \u001b[38;5;241m=\u001b[39m {}\n\u001b[1;32m   1032\u001b[0m \u001b[38;5;28;01mif\u001b[39;00m \u001b[38;5;28mself\u001b[39m\u001b[38;5;241m.\u001b[39mmetadata:\n",
      "\u001b[0;31mFileNotFoundError\u001b[0m: No such file or directory: '../figures/hyphotesis_map.png'"
     ]
    },
    {
     "data": {
      "text/plain": [
       "<IPython.core.display.Image object>"
      ]
     },
     "execution_count": 44,
     "metadata": {},
     "output_type": "execute_result"
    }
   ],
   "source": [
    "Image('../figures/hyphotesis_map.png')"
   ]
  },
  {
   "cell_type": "markdown",
   "id": "d1da93e3",
   "metadata": {
    "heading_collapsed": true,
    "hidden": true
   },
   "source": [
    "## 2.2 Hyphotesis Criation"
   ]
  },
  {
   "cell_type": "markdown",
   "id": "737fece9",
   "metadata": {
    "heading_collapsed": true,
    "hidden": true
   },
   "source": [
    "### 2.2.1 Customer Hypotheses\n",
    "**1.** Women are more likely to take out car insurance.<br>\n",
    "**2.** The older the age, the greater the possibility of taking out car insurance.<br>\n",
    "**3.** The place of residence influences the decision to take out car insurance.<br>\n",
    "**4.** Married people are more likely to take out car insurance.<br>\n",
    "**5.** People with children are more likely to buy car insurance.<br>\n",
    "\n",
    "### 2.2.2 Vehicle Hypotheses\n",
    "**1.** People who have had damage to their cars are more likely to take out car insurance.<br>\n",
    "**2.** People who already have car insurance are more likely to purchase a new policy.<br>\n",
    "**3.** People with newer vehicles are more likely to take out car insurance.<br>\n",
    "**4.** People who use their car more frequently are more likely to take out car insurance.<br>\n",
    "\n",
    "### 2.2.3 Insurance Company Hypotheses\n",
    "**1.** Clients with an older relationship with the insurance company are more likely to contract a new product.<br>\n",
    "**2.** Customers with higher health insurance expenses are more likely to purchase a new product.<br>"
   ]
  },
  {
   "cell_type": "markdown",
   "id": "e2cfa567",
   "metadata": {
    "heading_collapsed": true,
    "hidden": true
   },
   "source": [
    "## 2.3 Final Hyphotesis List"
   ]
  },
  {
   "cell_type": "markdown",
   "id": "254d977c",
   "metadata": {
    "hidden": true
   },
   "source": [
    "**1.** Women are more likely to take out car insurance.<br>\n",
    "**2.** The older the age, the greater the possibility of taking out car insurance.<br>\n",
    "**3.** The place of residence influences the decision to take out car insurance.<br>\n",
    "**4.** People who have had damage to their cars are more likely to take out car insurance.<br>\n",
    "**5.** People who already have car insurance are more likely to purchase a new policy.<br>\n",
    "**6.** People with newer vehicles are more likely to take out car insurance.<br>\n",
    "**7.** Clients with an older relationship with the insurance company are more likely to contract a new product.<br>\n",
    "**8.** Customers with higher health insurance expenses are more likely to purchase a new product.<br>"
   ]
  },
  {
   "cell_type": "markdown",
   "id": "e08b3469",
   "metadata": {
    "heading_collapsed": true,
    "hidden": true
   },
   "source": [
    "## 2.4 Feature Engineering"
   ]
  },
  {
   "cell_type": "code",
   "execution_count": 45,
   "id": "c9feee41",
   "metadata": {
    "ExecuteTime": {
     "end_time": "2022-04-02T14:52:02.449846Z",
     "start_time": "2022-04-02T14:52:00.461340Z"
    },
    "hidden": true
   },
   "outputs": [],
   "source": [
    "# Vehicle Damage Number - Binary Categorical -> Binary Numeric\n",
    "df2['vehicle_damage'] = df2['vehicle_damage'].apply(lambda x: \n",
    "                                                 1 if x == 'Yes' else\n",
    "                                                 0)\n",
    "\n",
    "# Vehicle Age\n",
    "df2['vehicle_age'] = df2['vehicle_age'].apply(lambda x:\n",
    "                            'over_2_years' if x == '> 2 Years' else\n",
    "                        'between_1_2_year' if x == '1-2 Year'  else\n",
    "                            'below_1_year')\n",
    "\n",
    "# Gender\n",
    "df2['gender'] = df2['gender'].apply( lambda x: 1 if x == 'Female' else 0)"
   ]
  },
  {
   "cell_type": "code",
   "execution_count": 46,
   "id": "4bfe6c53",
   "metadata": {
    "ExecuteTime": {
     "end_time": "2022-04-02T14:52:08.439311Z",
     "start_time": "2022-04-02T14:52:02.460274Z"
    },
    "hidden": true
   },
   "outputs": [],
   "source": [
    "# Creating Damage per region code index\n",
    "damage_per_rcode = df2[['vehicle_damage']].groupby(df2['region_code']).mean().reset_index()\n",
    "damage_per_rcode = damage_per_rcode.rename( columns = {'vehicle_damage' : 'damage_per_rcode'})\n",
    "df2 = df2.merge(damage_per_rcode, on = 'region_code', how = 'left')\n",
    "df2['damage_per_rcode'] = df2['damage_per_rcode'].astype('float64')"
   ]
  },
  {
   "cell_type": "code",
   "execution_count": 47,
   "id": "8108ad64",
   "metadata": {
    "ExecuteTime": {
     "end_time": "2022-04-02T14:52:08.774167Z",
     "start_time": "2022-04-02T14:52:08.446497Z"
    },
    "hidden": true
   },
   "outputs": [],
   "source": [
    "#df2.to_csv('../data/interim/df2.csv', index=False)\n",
    "df2.to_pickle(r\"../data/interim/df2.pkl\")"
   ]
  },
  {
   "cell_type": "markdown",
   "id": "c18bf217",
   "metadata": {
    "heading_collapsed": true
   },
   "source": [
    "# 3.0. Data Filtering"
   ]
  },
  {
   "cell_type": "code",
   "execution_count": 48,
   "id": "e6fd22ad",
   "metadata": {
    "ExecuteTime": {
     "end_time": "2022-04-02T14:52:08.890422Z",
     "start_time": "2022-04-02T14:52:08.783866Z"
    },
    "hidden": true
   },
   "outputs": [],
   "source": [
    "# df3 = pd.read_csv('../data/interim/df2.csv')\n",
    "df3 = pd.read_pickle(r\"../data/interim/df2.pkl\")"
   ]
  },
  {
   "cell_type": "markdown",
   "id": "7e92a32f",
   "metadata": {
    "hidden": true
   },
   "source": [
    "## 3.1 Row Filtering"
   ]
  },
  {
   "cell_type": "markdown",
   "id": "6c773b43",
   "metadata": {
    "hidden": true
   },
   "source": [
    "## 3.2 Column Filtering"
   ]
  },
  {
   "cell_type": "code",
   "execution_count": 49,
   "id": "d34876b8",
   "metadata": {
    "ExecuteTime": {
     "end_time": "2022-04-02T14:52:09.209692Z",
     "start_time": "2022-04-02T14:52:08.897991Z"
    },
    "hidden": true
   },
   "outputs": [],
   "source": [
    "# df3.to_csv('../data/interim/df3.csv', index=False)\n",
    "df3.to_pickle(r\"../data/interim/df3.pkl\")"
   ]
  },
  {
   "cell_type": "code",
   "execution_count": 50,
   "id": "6d6e62ba",
   "metadata": {
    "ExecuteTime": {
     "end_time": "2022-04-02T14:52:19.515324Z",
     "start_time": "2022-04-02T14:52:09.220188Z"
    },
    "hidden": true
   },
   "outputs": [],
   "source": [
    "# to test the api in heroku\n",
    "df3.to_csv('../data/interim/df_teste.csv', index=False)"
   ]
  },
  {
   "cell_type": "markdown",
   "id": "b10ab934",
   "metadata": {
    "heading_collapsed": true
   },
   "source": [
    "# 4.0. Exploratory Data Analysis"
   ]
  },
  {
   "cell_type": "code",
   "execution_count": 51,
   "id": "185b2f36",
   "metadata": {
    "ExecuteTime": {
     "end_time": "2022-04-02T14:52:19.657103Z",
     "start_time": "2022-04-02T14:52:19.524225Z"
    },
    "hidden": true
   },
   "outputs": [],
   "source": [
    "# df4 = pd.read_csv('../data/interim/df3.csv')\n",
    "df4 = pd.read_pickle(r\"../data/interim/df3.pkl\")"
   ]
  },
  {
   "cell_type": "markdown",
   "id": "3d996731",
   "metadata": {
    "heading_collapsed": true,
    "hidden": true
   },
   "source": [
    "## 4.1. Univariate Analysis"
   ]
  },
  {
   "cell_type": "markdown",
   "id": "1fd1c42d",
   "metadata": {
    "hidden": true
   },
   "source": [
    "We need to find variates that are separate in relation to response variable, so these variables helps the algorithm to classificate the data in a better way.\n",
    "\n",
    "If we have variables that merge some behavior of the features, these variables will not help the algorithm."
   ]
  },
  {
   "cell_type": "code",
   "execution_count": 52,
   "id": "72302bcd",
   "metadata": {
    "ExecuteTime": {
     "end_time": "2022-04-02T14:52:19.703485Z",
     "start_time": "2022-04-02T14:52:19.667756Z"
    },
    "hidden": true
   },
   "outputs": [
    {
     "data": {
      "text/plain": [
       "Index(['id', 'gender', 'age', 'region_code', 'policy_sales_channel',\n",
       "       'driving_license', 'vehicle_age', 'vehicle_damage',\n",
       "       'previously_insured', 'annual_premium', 'vintage', 'response',\n",
       "       'damage_per_rcode'],\n",
       "      dtype='object')"
      ]
     },
     "execution_count": 52,
     "metadata": {},
     "output_type": "execute_result"
    }
   ],
   "source": [
    "df4.columns"
   ]
  },
  {
   "cell_type": "markdown",
   "id": "d4c47d57",
   "metadata": {
    "hidden": true
   },
   "source": [
    "### 4.1.1 Response Variable"
   ]
  },
  {
   "cell_type": "code",
   "execution_count": 53,
   "id": "481c5054",
   "metadata": {
    "ExecuteTime": {
     "end_time": "2022-04-02T14:52:29.620352Z",
     "start_time": "2022-04-02T14:52:19.714536Z"
    },
    "hidden": true
   },
   "outputs": [
    {
     "data": {
      "image/png": "[encoded data removed]",
      "text/plain": [
       "<Figure size 720x288 with 1 Axes>"
      ]
     },
     "metadata": {},
     "output_type": "display_data"
    }
   ],
   "source": [
    "fig = plt.subplots(figsize = (10,4))\n",
    "sns.countplot('response', data = df4);"
   ]
  },
  {
   "cell_type": "markdown",
   "id": "1e89389d",
   "metadata": {
    "hidden": true
   },
   "source": [
    "### 4.1.2 Numerical Variable"
   ]
  },
  {
   "cell_type": "markdown",
   "id": "e2a67fa4",
   "metadata": {
    "hidden": true
   },
   "source": [
    "#### 4.1.2.1 Age"
   ]
  },
  {
   "cell_type": "code",
   "execution_count": 54,
   "id": "be96a278",
   "metadata": {
    "ExecuteTime": {
     "end_time": "2022-04-02T14:52:39.640545Z",
     "start_time": "2022-04-02T14:52:29.636728Z"
    },
    "hidden": true,
    "scrolled": true
   },
   "outputs": [
    {
     "data": {
      "image/png": "[encoded data removed]",
      "text/plain": [
       "<Figure size 720x288 with 1 Axes>"
      ]
     },
     "metadata": {},
     "output_type": "display_data"
    }
   ],
   "source": [
    "fig = plt.subplots(figsize = (10,4))\n",
    "sns.boxplot(x = 'response', y = 'age', data = df4);"
   ]
  },
  {
   "cell_type": "code",
   "execution_count": 55,
   "id": "2a7ebc23",
   "metadata": {
    "ExecuteTime": {
     "end_time": "2022-04-02T14:53:11.352223Z",
     "start_time": "2022-04-02T14:52:39.649832Z"
    },
    "cell_style": "center",
    "hidden": true,
    "scrolled": false
   },
   "outputs": [
    {
     "data": {
      "image/png": "[encoded data removed]",
      "text/plain": [
       "<Figure size 1152x576 with 2 Axes>"
      ]
     },
     "metadata": {},
     "output_type": "display_data"
    }
   ],
   "source": [
    "fig, axs = plt.subplots(nrows = 2, figsize = (16,8))\n",
    "sns.countplot(x = 'age', data = df4[df4['response'] == 0], hue = 'response', ax = axs[0]);\n",
    "sns.countplot(x = 'age', data = df4[df4['response'] == 1], hue = 'response', ax = axs[1]);"
   ]
  },
  {
   "cell_type": "markdown",
   "id": "7de742ba",
   "metadata": {
    "hidden": true
   },
   "source": [
    "#### 4.1.2.9 Annual Premium"
   ]
  },
  {
   "cell_type": "code",
   "execution_count": 56,
   "id": "42a3ec2c",
   "metadata": {
    "ExecuteTime": {
     "end_time": "2022-04-02T14:53:22.196339Z",
     "start_time": "2022-04-02T14:53:11.362911Z"
    },
    "hidden": true
   },
   "outputs": [
    {
     "data": {
      "image/png": "[encoded data removed]",
      "text/plain": [
       "<Figure size 1800x864 with 1 Axes>"
      ]
     },
     "metadata": {},
     "output_type": "display_data"
    }
   ],
   "source": [
    "ann_pre = df4[df4['annual_premium'] < 80000]\n",
    "sns.boxplot(x = 'response', y = 'annual_premium', data = ann_pre);"
   ]
  },
  {
   "cell_type": "code",
   "execution_count": 57,
   "id": "88ed6f91",
   "metadata": {
    "ExecuteTime": {
     "end_time": "2022-04-02T14:53:30.279246Z",
     "start_time": "2022-04-02T14:53:22.207083Z"
    },
    "hidden": true
   },
   "outputs": [
    {
     "data": {
      "image/png": "[encoded data removed]",
      "text/plain": [
       "<Figure size 1152x720 with 3 Axes>"
      ]
     },
     "metadata": {},
     "output_type": "display_data"
    }
   ],
   "source": [
    "range_10_80 = df4[(df4['annual_premium'] > 10000) & (df4['annual_premium'] < 80000)]\n",
    "num_no = range_10_80.loc[range_10_80['response'] == 0, 'annual_premium']\n",
    "\n",
    "num_yes = range_10_80.loc[range_10_80['response'] == 1, 'annual_premium']\n",
    "\n",
    "fig, axs = plt.subplots(nrows = 3, figsize = (16,10))\n",
    "\n",
    "sns.histplot(num_no, bins = 75, ax = axs[0])\n",
    "sns.histplot(num_yes, bins = 75, ax = axs[1], color = o_orange)\n",
    "sns.histplot(range_10_80, x = 'annual_premium', hue = 'response', bins = 75, ax = axs[2]);"
   ]
  },
  {
   "cell_type": "markdown",
   "id": "16918415",
   "metadata": {
    "hidden": true
   },
   "source": [
    "#### 4.1.2.10 Vintage"
   ]
  },
  {
   "cell_type": "code",
   "execution_count": 58,
   "id": "10fa38fe",
   "metadata": {
    "ExecuteTime": {
     "end_time": "2022-04-02T14:53:40.154995Z",
     "start_time": "2022-04-02T14:53:30.290762Z"
    },
    "hidden": true,
    "scrolled": true
   },
   "outputs": [
    {
     "data": {
      "image/png": "[encoded data removed]",
      "text/plain": [
       "<Figure size 720x288 with 1 Axes>"
      ]
     },
     "metadata": {},
     "output_type": "display_data"
    }
   ],
   "source": [
    "fig = plt.subplots(figsize = (10,4))\n",
    "sns.boxplot(x = 'response', y = 'vintage', data = df4);"
   ]
  },
  {
   "cell_type": "code",
   "execution_count": 59,
   "id": "3d3d83b7",
   "metadata": {
    "ExecuteTime": {
     "end_time": "2022-04-02T14:53:44.012684Z",
     "start_time": "2022-04-02T14:53:40.164856Z"
    },
    "hidden": true
   },
   "outputs": [
    {
     "data": {
      "image/png": "[encoded data removed]",
      "text/plain": [
       "<Figure size 1152x288 with 2 Axes>"
      ]
     },
     "metadata": {},
     "output_type": "display_data"
    }
   ],
   "source": [
    "vint_no = df4.loc[df4['response'] == 0, 'vintage']\n",
    "vint_yes = df4.loc[df4['response'] == 1, 'vintage']\n",
    "\n",
    "fig, axs = plt.subplots(ncols = 2, figsize = (16,4))\n",
    "\n",
    "sns.histplot(vint_no, bins = 50, ax = axs[0], color = b_blue);\n",
    "sns.histplot(vint_yes, bins = 50, ax = axs[1], color = o_orange);"
   ]
  },
  {
   "cell_type": "markdown",
   "id": "9d4a4f11",
   "metadata": {
    "heading_collapsed": true,
    "hidden": true
   },
   "source": [
    "### 4.1.3 Categorical Variable"
   ]
  },
  {
   "cell_type": "markdown",
   "id": "f40c9b59",
   "metadata": {
    "hidden": true
   },
   "source": [
    "#### 4.1.2.4 Policy Sales Channel"
   ]
  },
  {
   "cell_type": "markdown",
   "id": "8ca57f9c",
   "metadata": {
    "hidden": true
   },
   "source": [
    "For 2nd cycle implement stacked percentage bar chart"
   ]
  },
  {
   "cell_type": "code",
   "execution_count": 60,
   "id": "59f5bb22",
   "metadata": {
    "ExecuteTime": {
     "end_time": "2022-04-02T14:53:44.232074Z",
     "start_time": "2022-04-02T14:53:44.029509Z"
    },
    "cell_style": "split",
    "hidden": true
   },
   "outputs": [
    {
     "data": {
      "text/html": [
       "<div>\n",
       "<style scoped>\n",
       "    .dataframe tbody tr th:only-of-type {\n",
       "        vertical-align: middle;\n",
       "    }\n",
       "\n",
       "    .dataframe tbody tr th {\n",
       "        vertical-align: top;\n",
       "    }\n",
       "\n",
       "    .dataframe thead th {\n",
       "        text-align: right;\n",
       "    }\n",
       "</style>\n",
       "<table border=\"1\" class=\"dataframe\">\n",
       "  <thead>\n",
       "    <tr style=\"text-align: right;\">\n",
       "      <th></th>\n",
       "      <th>response</th>\n",
       "    </tr>\n",
       "    <tr>\n",
       "      <th>policy_sales_channel</th>\n",
       "      <th></th>\n",
       "    </tr>\n",
       "  </thead>\n",
       "  <tbody>\n",
       "    <tr>\n",
       "      <th>1</th>\n",
       "      <td>1039</td>\n",
       "    </tr>\n",
       "    <tr>\n",
       "      <th>2</th>\n",
       "      <td>3</td>\n",
       "    </tr>\n",
       "    <tr>\n",
       "      <th>3</th>\n",
       "      <td>364</td>\n",
       "    </tr>\n",
       "    <tr>\n",
       "      <th>4</th>\n",
       "      <td>407</td>\n",
       "    </tr>\n",
       "    <tr>\n",
       "      <th>6</th>\n",
       "      <td>3</td>\n",
       "    </tr>\n",
       "  </tbody>\n",
       "</table>\n",
       "</div>"
      ],
      "text/plain": [
       "                      response\n",
       "policy_sales_channel          \n",
       "1                         1039\n",
       "2                            3\n",
       "3                          364\n",
       "4                          407\n",
       "6                            3"
      ]
     },
     "execution_count": 60,
     "metadata": {},
     "output_type": "execute_result"
    }
   ],
   "source": [
    "pol_sal_no = df4[df4['response'] == 0]\n",
    "pol_sal_no = pol_sal_no[['policy_sales_channel', 'response']].groupby('policy_sales_channel').count()\n",
    "pol_sal_no.head()"
   ]
  },
  {
   "cell_type": "code",
   "execution_count": 61,
   "id": "d1ebfd28",
   "metadata": {
    "ExecuteTime": {
     "end_time": "2022-04-02T14:53:44.347763Z",
     "start_time": "2022-04-02T14:53:44.245076Z"
    },
    "cell_style": "split",
    "hidden": true
   },
   "outputs": [
    {
     "data": {
      "text/html": [
       "<div>\n",
       "<style scoped>\n",
       "    .dataframe tbody tr th:only-of-type {\n",
       "        vertical-align: middle;\n",
       "    }\n",
       "\n",
       "    .dataframe tbody tr th {\n",
       "        vertical-align: top;\n",
       "    }\n",
       "\n",
       "    .dataframe thead th {\n",
       "        text-align: right;\n",
       "    }\n",
       "</style>\n",
       "<table border=\"1\" class=\"dataframe\">\n",
       "  <thead>\n",
       "    <tr style=\"text-align: right;\">\n",
       "      <th></th>\n",
       "      <th>response</th>\n",
       "    </tr>\n",
       "    <tr>\n",
       "      <th>policy_sales_channel</th>\n",
       "      <th></th>\n",
       "    </tr>\n",
       "  </thead>\n",
       "  <tbody>\n",
       "    <tr>\n",
       "      <th>1</th>\n",
       "      <td>35</td>\n",
       "    </tr>\n",
       "    <tr>\n",
       "      <th>2</th>\n",
       "      <td>1</td>\n",
       "    </tr>\n",
       "    <tr>\n",
       "      <th>3</th>\n",
       "      <td>159</td>\n",
       "    </tr>\n",
       "    <tr>\n",
       "      <th>4</th>\n",
       "      <td>102</td>\n",
       "    </tr>\n",
       "    <tr>\n",
       "      <th>7</th>\n",
       "      <td>182</td>\n",
       "    </tr>\n",
       "  </tbody>\n",
       "</table>\n",
       "</div>"
      ],
      "text/plain": [
       "                      response\n",
       "policy_sales_channel          \n",
       "1                           35\n",
       "2                            1\n",
       "3                          159\n",
       "4                          102\n",
       "7                          182"
      ]
     },
     "execution_count": 61,
     "metadata": {},
     "output_type": "execute_result"
    }
   ],
   "source": [
    "pol_sal_yes = df4[df4['response'] == 1]\n",
    "pol_sal_yes = pol_sal_yes[['policy_sales_channel', 'response']].groupby('policy_sales_channel').sum()\n",
    "pol_sal_yes.head()"
   ]
  },
  {
   "cell_type": "code",
   "execution_count": 62,
   "id": "979477c2",
   "metadata": {
    "ExecuteTime": {
     "end_time": "2022-04-02T14:53:44.507260Z",
     "start_time": "2022-04-02T14:53:44.371704Z"
    },
    "hidden": true,
    "scrolled": true
   },
   "outputs": [
    {
     "data": {
      "text/html": [
       "<div>\n",
       "<style scoped>\n",
       "    .dataframe tbody tr th:only-of-type {\n",
       "        vertical-align: middle;\n",
       "    }\n",
       "\n",
       "    .dataframe tbody tr th {\n",
       "        vertical-align: top;\n",
       "    }\n",
       "\n",
       "    .dataframe thead th {\n",
       "        text-align: right;\n",
       "    }\n",
       "</style>\n",
       "<table border=\"1\" class=\"dataframe\">\n",
       "  <thead>\n",
       "    <tr style=\"text-align: right;\">\n",
       "      <th></th>\n",
       "      <th>policy_sales_channel</th>\n",
       "      <th>response_0</th>\n",
       "      <th>response_1</th>\n",
       "      <th>total_responses</th>\n",
       "      <th>perc_response_1</th>\n",
       "    </tr>\n",
       "  </thead>\n",
       "  <tbody>\n",
       "    <tr>\n",
       "      <th>0</th>\n",
       "      <td>1</td>\n",
       "      <td>1039</td>\n",
       "      <td>35</td>\n",
       "      <td>1074</td>\n",
       "      <td>3.258845</td>\n",
       "    </tr>\n",
       "    <tr>\n",
       "      <th>1</th>\n",
       "      <td>2</td>\n",
       "      <td>3</td>\n",
       "      <td>1</td>\n",
       "      <td>4</td>\n",
       "      <td>25.000000</td>\n",
       "    </tr>\n",
       "    <tr>\n",
       "      <th>2</th>\n",
       "      <td>3</td>\n",
       "      <td>364</td>\n",
       "      <td>159</td>\n",
       "      <td>523</td>\n",
       "      <td>30.401530</td>\n",
       "    </tr>\n",
       "    <tr>\n",
       "      <th>3</th>\n",
       "      <td>4</td>\n",
       "      <td>407</td>\n",
       "      <td>102</td>\n",
       "      <td>509</td>\n",
       "      <td>20.039293</td>\n",
       "    </tr>\n",
       "    <tr>\n",
       "      <th>4</th>\n",
       "      <td>7</td>\n",
       "      <td>1416</td>\n",
       "      <td>182</td>\n",
       "      <td>1598</td>\n",
       "      <td>11.389237</td>\n",
       "    </tr>\n",
       "  </tbody>\n",
       "</table>\n",
       "</div>"
      ],
      "text/plain": [
       "   policy_sales_channel  response_0  response_1  total_responses  perc_response_1\n",
       "0                     1        1039          35             1074         3.258845\n",
       "1                     2           3           1                4        25.000000\n",
       "2                     3         364         159              523        30.401530\n",
       "3                     4         407         102              509        20.039293\n",
       "4                     7        1416         182             1598        11.389237"
      ]
     },
     "execution_count": 62,
     "metadata": {},
     "output_type": "execute_result"
    }
   ],
   "source": [
    "pol_sal = pd.merge(pol_sal_no, pol_sal_yes, how = 'inner', on = 'policy_sales_channel')\n",
    "\n",
    "pol_sal = pol_sal.rename(columns = {'policy_sales_channel': 'policy_sales_channel', 'response_x':'response_0', 'response_y':'response_1'})\n",
    "\n",
    "pol_sal['total_responses'] = df4[['id', 'policy_sales_channel']].groupby('policy_sales_channel').size()\n",
    "\n",
    "pol_sal['perc_response_1'] = (pol_sal['response_1']/pol_sal['total_responses'])*100\n",
    "pol_sal = pol_sal.reset_index()\n",
    "pol_sal.head()"
   ]
  },
  {
   "cell_type": "code",
   "execution_count": null,
   "id": "5f57fa44",
   "metadata": {
    "ExecuteTime": {
     "end_time": "2022-04-02T14:53:44.608061Z",
     "start_time": "2022-04-02T14:53:44.516766Z"
    },
    "hidden": true,
    "scrolled": false
   },
   "outputs": [
    {
     "data": {
      "text/html": [
       "<div>\n",
       "<style scoped>\n",
       "    .dataframe tbody tr th:only-of-type {\n",
       "        vertical-align: middle;\n",
       "    }\n",
       "\n",
       "    .dataframe tbody tr th {\n",
       "        vertical-align: top;\n",
       "    }\n",
       "\n",
       "    .dataframe thead th {\n",
       "        text-align: right;\n",
       "    }\n",
       "</style>\n",
       "<table border=\"1\" class=\"dataframe\">\n",
       "  <thead>\n",
       "    <tr style=\"text-align: right;\">\n",
       "      <th></th>\n",
       "      <th>policy_sales_channel</th>\n",
       "      <th>response_0</th>\n",
       "      <th>response_1</th>\n",
       "      <th>total_responses</th>\n",
       "      <th>perc_response_1</th>\n",
       "    </tr>\n",
       "  </thead>\n",
       "  <tbody>\n",
       "    <tr>\n",
       "      <th>112</th>\n",
       "      <td>155</td>\n",
       "      <td>839</td>\n",
       "      <td>395</td>\n",
       "      <td>1234</td>\n",
       "      <td>32.009724</td>\n",
       "    </tr>\n",
       "    <tr>\n",
       "      <th>118</th>\n",
       "      <td>163</td>\n",
       "      <td>2013</td>\n",
       "      <td>880</td>\n",
       "      <td>2893</td>\n",
       "      <td>30.418251</td>\n",
       "    </tr>\n",
       "    <tr>\n",
       "      <th>114</th>\n",
       "      <td>157</td>\n",
       "      <td>4890</td>\n",
       "      <td>1794</td>\n",
       "      <td>6684</td>\n",
       "      <td>26.840215</td>\n",
       "    </tr>\n",
       "    <tr>\n",
       "      <th>111</th>\n",
       "      <td>154</td>\n",
       "      <td>4519</td>\n",
       "      <td>1474</td>\n",
       "      <td>5993</td>\n",
       "      <td>24.595361</td>\n",
       "    </tr>\n",
       "    <tr>\n",
       "      <th>113</th>\n",
       "      <td>156</td>\n",
       "      <td>8364</td>\n",
       "      <td>2297</td>\n",
       "      <td>10661</td>\n",
       "      <td>21.545821</td>\n",
       "    </tr>\n",
       "    <tr>\n",
       "      <th>22</th>\n",
       "      <td>25</td>\n",
       "      <td>1479</td>\n",
       "      <td>369</td>\n",
       "      <td>1848</td>\n",
       "      <td>19.967532</td>\n",
       "    </tr>\n",
       "    <tr>\n",
       "      <th>23</th>\n",
       "      <td>26</td>\n",
       "      <td>63809</td>\n",
       "      <td>15891</td>\n",
       "      <td>79700</td>\n",
       "      <td>19.938519</td>\n",
       "    </tr>\n",
       "    <tr>\n",
       "      <th>90</th>\n",
       "      <td>124</td>\n",
       "      <td>59999</td>\n",
       "      <td>13996</td>\n",
       "      <td>73995</td>\n",
       "      <td>18.914792</td>\n",
       "    </tr>\n",
       "    <tr>\n",
       "      <th>89</th>\n",
       "      <td>122</td>\n",
       "      <td>8210</td>\n",
       "      <td>1720</td>\n",
       "      <td>9930</td>\n",
       "      <td>17.321249</td>\n",
       "    </tr>\n",
       "    <tr>\n",
       "      <th>45</th>\n",
       "      <td>55</td>\n",
       "      <td>1075</td>\n",
       "      <td>189</td>\n",
       "      <td>1264</td>\n",
       "      <td>14.952532</td>\n",
       "    </tr>\n",
       "    <tr>\n",
       "      <th>10</th>\n",
       "      <td>13</td>\n",
       "      <td>1590</td>\n",
       "      <td>275</td>\n",
       "      <td>1865</td>\n",
       "      <td>14.745308</td>\n",
       "    </tr>\n",
       "    <tr>\n",
       "      <th>91</th>\n",
       "      <td>125</td>\n",
       "      <td>899</td>\n",
       "      <td>127</td>\n",
       "      <td>1026</td>\n",
       "      <td>12.378168</td>\n",
       "    </tr>\n",
       "    <tr>\n",
       "      <th>4</th>\n",
       "      <td>7</td>\n",
       "      <td>1416</td>\n",
       "      <td>182</td>\n",
       "      <td>1598</td>\n",
       "      <td>11.389237</td>\n",
       "    </tr>\n",
       "    <tr>\n",
       "      <th>27</th>\n",
       "      <td>30</td>\n",
       "      <td>1254</td>\n",
       "      <td>156</td>\n",
       "      <td>1410</td>\n",
       "      <td>11.063830</td>\n",
       "    </tr>\n",
       "    <tr>\n",
       "      <th>42</th>\n",
       "      <td>52</td>\n",
       "      <td>940</td>\n",
       "      <td>115</td>\n",
       "      <td>1055</td>\n",
       "      <td>10.900474</td>\n",
       "    </tr>\n",
       "    <tr>\n",
       "      <th>8</th>\n",
       "      <td>11</td>\n",
       "      <td>1095</td>\n",
       "      <td>108</td>\n",
       "      <td>1203</td>\n",
       "      <td>8.977556</td>\n",
       "    </tr>\n",
       "    <tr>\n",
       "      <th>5</th>\n",
       "      <td>8</td>\n",
       "      <td>1390</td>\n",
       "      <td>125</td>\n",
       "      <td>1515</td>\n",
       "      <td>8.250825</td>\n",
       "    </tr>\n",
       "    <tr>\n",
       "      <th>0</th>\n",
       "      <td>1</td>\n",
       "      <td>1039</td>\n",
       "      <td>35</td>\n",
       "      <td>1074</td>\n",
       "      <td>3.258845</td>\n",
       "    </tr>\n",
       "    <tr>\n",
       "      <th>108</th>\n",
       "      <td>151</td>\n",
       "      <td>3763</td>\n",
       "      <td>122</td>\n",
       "      <td>3885</td>\n",
       "      <td>3.140283</td>\n",
       "    </tr>\n",
       "    <tr>\n",
       "      <th>109</th>\n",
       "      <td>152</td>\n",
       "      <td>130926</td>\n",
       "      <td>3858</td>\n",
       "      <td>134784</td>\n",
       "      <td>2.862358</td>\n",
       "    </tr>\n",
       "    <tr>\n",
       "      <th>117</th>\n",
       "      <td>160</td>\n",
       "      <td>21304</td>\n",
       "      <td>475</td>\n",
       "      <td>21779</td>\n",
       "      <td>2.181000</td>\n",
       "    </tr>\n",
       "  </tbody>\n",
       "</table>\n",
       "</div>"
      ],
      "text/plain": [
       "     policy_sales_channel  response_0  response_1  total_responses  perc_response_1\n",
       "112                   155         839         395             1234        32.009724\n",
       "118                   163        2013         880             2893        30.418251\n",
       "114                   157        4890        1794             6684        26.840215\n",
       "111                   154        4519        1474             5993        24.595361\n",
       "113                   156        8364        2297            10661        21.545821\n",
       "22                     25        1479         369             1848        19.967532\n",
       "23                     26       63809       15891            79700        19.938519\n",
       "90                    124       59999       13996            73995        18.914792\n",
       "89                    122        8210        1720             9930        17.321249\n",
       "45                     55        1075         189             1264        14.952532\n",
       "10                     13        1590         275             1865        14.745308\n",
       "91                    125         899         127             1026        12.378168\n",
       "4                       7        1416         182             1598        11.389237\n",
       "27                     30        1254         156             1410        11.063830\n",
       "42                     52         940         115             1055        10.900474\n",
       "8                      11        1095         108             1203         8.977556\n",
       "5                       8        1390         125             1515         8.250825\n",
       "0                       1        1039          35             1074         3.258845\n",
       "108                   151        3763         122             3885         3.140283\n",
       "109                   152      130926        3858           134784         2.862358\n",
       "117                   160       21304         475            21779         2.181000"
      ]
     },
     "execution_count": 63,
     "metadata": {},
     "output_type": "execute_result"
    }
   ],
   "source": [
    "pol_sal_1000 = pol_sal[pol_sal['total_responses'] >= 1000]\n",
    "pol_sal_1000.sort_values(['perc_response_1'], ascending=False)"
   ]
  },
  {
   "cell_type": "code",
   "execution_count": null,
   "id": "c9992b7b",
   "metadata": {
    "ExecuteTime": {
     "end_time": "2022-04-02T14:53:55.513557Z",
     "start_time": "2022-04-02T14:53:44.619868Z"
    },
    "hidden": true,
    "scrolled": false
   },
   "outputs": [],
   "source": [
    "plt.figure(figsize = (24, 12))\n",
    "pol_sal = df4[['policy_sales_channel', 'response']].groupby('policy_sales_channel').sum().reset_index()\n",
    "sns.barplot(x = 'response', y = 'policy_sales_channel', data = pol_sal)\n",
    "plt.xticks(rotation=90);"
   ]
  },
  {
   "cell_type": "code",
   "execution_count": null,
   "id": "63bee530",
   "metadata": {
    "ExecuteTime": {
     "end_time": "2022-04-02T14:53:57.150713Z",
     "start_time": "2022-04-02T14:53:55.529567Z"
    },
    "hidden": true
   },
   "outputs": [],
   "source": [
    "fig, axs = plt.subplots(figsize = (15,4))\n",
    "pol_sal = df4[['id', 'policy_sales_channel', 'response']].groupby(['policy_sales_channel', 'response']).count().reset_index()\n",
    "sns.scatterplot(x = 'policy_sales_channel', y ='id', hue = 'response', data = pol_sal);"
   ]
  },
  {
   "cell_type": "markdown",
   "id": "b641084f",
   "metadata": {
    "hidden": true
   },
   "source": [
    "#### 4.1.2.6 Vehicle Age"
   ]
  },
  {
   "cell_type": "code",
   "execution_count": null,
   "id": "95c9db4a",
   "metadata": {
    "ExecuteTime": {
     "end_time": "2022-04-02T14:53:58.937677Z",
     "start_time": "2022-04-02T14:53:57.161188Z"
    },
    "hidden": true
   },
   "outputs": [],
   "source": [
    "veh_age_1 = df4[df4['response'] == 1].groupby('vehicle_age').count().reset_index()\n",
    "veh_age_0 = df4[df4['response'] == 0].groupby('vehicle_age').count().reset_index()\n",
    "\n",
    "fig, axs = plt.subplots(ncols = 2, figsize = (15,4))\n",
    "sns.barplot(x = 'vehicle_age', y = 'response', data = veh_age_1, ax = axs[0]).set_title('Response 1');\n",
    "sns.barplot(x = 'vehicle_age', y = 'response', data = veh_age_0, ax = axs[1]).set_title('Response 0');"
   ]
  },
  {
   "cell_type": "code",
   "execution_count": null,
   "id": "de58b2ac",
   "metadata": {
    "ExecuteTime": {
     "end_time": "2022-04-02T14:53:59.208910Z",
     "start_time": "2022-04-02T14:53:58.950693Z"
    },
    "hidden": true,
    "scrolled": true
   },
   "outputs": [],
   "source": [
    "df4[['vehicle_age', 'response']].value_counts(normalize = True).reset_index()"
   ]
  },
  {
   "cell_type": "markdown",
   "id": "8ea61302",
   "metadata": {
    "hidden": true
   },
   "source": [
    "#### 4.1.2.8 Previously Insured"
   ]
  },
  {
   "cell_type": "markdown",
   "id": "1229882a",
   "metadata": {
    "hidden": true
   },
   "source": [
    "It need to be careful because this feature can tell to the model that people that already have vehicle insurance will not be interested in the offer of the company, that is not true. \n",
    "\n",
    "This would be a data lackage."
   ]
  },
  {
   "cell_type": "code",
   "execution_count": null,
   "id": "91d8027b",
   "metadata": {
    "ExecuteTime": {
     "end_time": "2022-04-02T14:53:59.259966Z",
     "start_time": "2022-04-02T14:53:59.221763Z"
    },
    "hidden": true
   },
   "outputs": [],
   "source": [
    "df4['previously_insured'].unique()"
   ]
  },
  {
   "cell_type": "code",
   "execution_count": null,
   "id": "6fd001bd",
   "metadata": {
    "ExecuteTime": {
     "end_time": "2022-04-02T14:53:59.433958Z",
     "start_time": "2022-04-02T14:53:59.268546Z"
    },
    "hidden": true
   },
   "outputs": [],
   "source": [
    "# Contingency table\n",
    "pd.crosstab(df4['previously_insured'], df4['response']).apply(lambda x: x / x.sum() * 100, axis = 1)"
   ]
  },
  {
   "cell_type": "code",
   "execution_count": null,
   "id": "39056a21",
   "metadata": {
    "ExecuteTime": {
     "end_time": "2022-04-02T14:54:01.277204Z",
     "start_time": "2022-04-02T14:53:59.444772Z"
    },
    "hidden": true,
    "scrolled": true
   },
   "outputs": [],
   "source": [
    "pre_ins_1 = df4[df4['previously_insured'] == 1].groupby('response').count().reset_index()\n",
    "pre_ins_0 = df4[df4['previously_insured'] == 0].groupby('response').count().reset_index()\n",
    "\n",
    "fig, axs = plt.subplots(ncols = 2, figsize = (15,4))\n",
    "sns.barplot(x = 'response', y = 'previously_insured', data = pre_ins_1, ax = axs[0]).set_title('Previous 1');\n",
    "sns.barplot(x = 'response', y = 'previously_insured', data = pre_ins_0, ax = axs[1]).set_title('Previous 0');"
   ]
  },
  {
   "cell_type": "markdown",
   "id": "c68df917",
   "metadata": {
    "hidden": true
   },
   "source": [
    "#### 4.1.2.7 Vehicle Damage"
   ]
  },
  {
   "cell_type": "code",
   "execution_count": null,
   "id": "accdb083",
   "metadata": {
    "ExecuteTime": {
     "end_time": "2022-04-02T14:54:02.046114Z",
     "start_time": "2022-04-02T14:54:01.288192Z"
    },
    "hidden": true
   },
   "outputs": [],
   "source": [
    "vehi_dam = df4[['vehicle_damage', 'response']].groupby('response').sum().reset_index()\n",
    "fig = plt.subplots(figsize = (10,4))\n",
    "sns.barplot(x = 'response', y = 'vehicle_damage', data = vehi_dam);"
   ]
  },
  {
   "cell_type": "code",
   "execution_count": null,
   "id": "04ae5531",
   "metadata": {
    "ExecuteTime": {
     "end_time": "2022-04-02T14:54:02.089997Z",
     "start_time": "2022-04-02T14:54:02.056710Z"
    },
    "hidden": true,
    "scrolled": false
   },
   "outputs": [],
   "source": [
    "vehi_dam"
   ]
  },
  {
   "cell_type": "markdown",
   "id": "f46e4cbb",
   "metadata": {
    "hidden": true
   },
   "source": [
    "#### Damage per Region Code"
   ]
  },
  {
   "cell_type": "code",
   "execution_count": null,
   "id": "89ae230e",
   "metadata": {
    "ExecuteTime": {
     "end_time": "2022-04-02T14:54:39.457199Z",
     "start_time": "2022-04-02T14:54:02.098189Z"
    },
    "hidden": true
   },
   "outputs": [],
   "source": [
    "dprc = df4[['region_code', 'damage_per_rcode']]\n",
    "fig = plt.subplots(figsize = (15,4))\n",
    "sns.barplot(x = 'region_code', y = 'damage_per_rcode', data = dprc);"
   ]
  },
  {
   "cell_type": "markdown",
   "id": "14ae69fe",
   "metadata": {
    "hidden": true
   },
   "source": [
    "#### 4.1.2.3 Region Code"
   ]
  },
  {
   "cell_type": "code",
   "execution_count": null,
   "id": "bcafd573",
   "metadata": {
    "ExecuteTime": {
     "end_time": "2022-04-02T14:54:39.496905Z",
     "start_time": "2022-04-02T14:54:39.466552Z"
    },
    "hidden": true,
    "scrolled": false
   },
   "outputs": [],
   "source": [
    "df4['region_code'].unique()"
   ]
  },
  {
   "cell_type": "code",
   "execution_count": null,
   "id": "23d18511",
   "metadata": {
    "ExecuteTime": {
     "end_time": "2022-04-02T14:54:40.966117Z",
     "start_time": "2022-04-02T14:54:39.509083Z"
    },
    "hidden": true,
    "scrolled": false
   },
   "outputs": [],
   "source": [
    "reg_cod = df4[['id', 'region_code', 'response']].groupby(['region_code', 'response']).count().reset_index()\n",
    "fig = plt.subplots(figsize = (15,4))\n",
    "sns.scatterplot(x = 'region_code', y = 'id', hue = 'response', data = reg_cod);\n",
    "\n",
    "# region_code x vehicle_damage x previously_insured"
   ]
  },
  {
   "cell_type": "markdown",
   "id": "d38b9d57",
   "metadata": {
    "hidden": true
   },
   "source": [
    "#### 4.1.2.2 Gender"
   ]
  },
  {
   "cell_type": "code",
   "execution_count": null,
   "id": "196e6772",
   "metadata": {
    "ExecuteTime": {
     "end_time": "2022-04-02T14:55:00.358133Z",
     "start_time": "2022-04-02T14:54:40.980897Z"
    },
    "hidden": true
   },
   "outputs": [],
   "source": [
    "fig, axs = plt.subplots(ncols = 2, figsize = (15,4))\n",
    "sns.countplot(x = 'response', data = df4[df4['gender'] == 0], hue = 'response', ax = axs[0]).set_title('Male');\n",
    "sns.countplot(x = 'response', data = df4[df4['gender'] == 1], hue = 'response', ax = axs[1]).set_title('Female');"
   ]
  },
  {
   "cell_type": "code",
   "execution_count": null,
   "id": "3903b1e8",
   "metadata": {
    "ExecuteTime": {
     "end_time": "2022-04-02T14:55:00.520998Z",
     "start_time": "2022-04-02T14:55:00.367484Z"
    },
    "hidden": true
   },
   "outputs": [],
   "source": [
    "pd.crosstab(df4['gender'], df4['response'])"
   ]
  },
  {
   "cell_type": "markdown",
   "id": "91e79973",
   "metadata": {
    "hidden": true
   },
   "source": [
    "#### 4.1.2.5 Driving License"
   ]
  },
  {
   "cell_type": "code",
   "execution_count": null,
   "id": "10756867",
   "metadata": {
    "ExecuteTime": {
     "end_time": "2022-04-02T14:55:00.581466Z",
     "start_time": "2022-04-02T14:55:00.529747Z"
    },
    "hidden": true,
    "scrolled": true
   },
   "outputs": [],
   "source": [
    "df4[['driving_license', 'response']].head()"
   ]
  },
  {
   "cell_type": "code",
   "execution_count": null,
   "id": "58365353",
   "metadata": {
    "ExecuteTime": {
     "end_time": "2022-04-02T14:55:00.628443Z",
     "start_time": "2022-04-02T14:55:00.593830Z"
    },
    "hidden": true,
    "scrolled": true
   },
   "outputs": [],
   "source": [
    "df4['driving_license'].unique()"
   ]
  },
  {
   "cell_type": "code",
   "execution_count": null,
   "id": "6436edcc",
   "metadata": {
    "ExecuteTime": {
     "end_time": "2022-04-02T14:55:01.681353Z",
     "start_time": "2022-04-02T14:55:00.641442Z"
    },
    "hidden": true,
    "scrolled": false
   },
   "outputs": [],
   "source": [
    "driv_lic = df4[['driving_license', 'response']].groupby('response').sum().reset_index()\n",
    "sns.barplot(x = 'response', y = 'driving_license', data = driv_lic)"
   ]
  },
  {
   "cell_type": "code",
   "execution_count": null,
   "id": "1e77e5da",
   "metadata": {
    "ExecuteTime": {
     "end_time": "2022-04-02T14:55:01.734363Z",
     "start_time": "2022-04-02T14:55:01.694346Z"
    },
    "hidden": true
   },
   "outputs": [],
   "source": [
    "driv_lic['driving_license_perc'] = driv_lic['driving_license']/driv_lic['driving_license'].sum()\n",
    "driv_lic"
   ]
  },
  {
   "cell_type": "code",
   "execution_count": null,
   "id": "5a1528f8",
   "metadata": {
    "ExecuteTime": {
     "end_time": "2022-04-02T14:55:22.699451Z",
     "start_time": "2022-04-02T14:55:01.746517Z"
    },
    "hidden": true
   },
   "outputs": [],
   "source": [
    "fig, axs = plt.subplots(ncols = 2, figsize = (15,4))\n",
    "sns.countplot(x = 'response', data = df4[df4['driving_license'] == 0], hue = 'response', ax = axs[0]);\n",
    "sns.countplot(x = 'response', data = df4[df4['driving_license'] == 1], hue = 'response', ax = axs[1]);"
   ]
  },
  {
   "cell_type": "code",
   "execution_count": null,
   "id": "53f6b2aa",
   "metadata": {
    "ExecuteTime": {
     "end_time": "2022-04-02T14:55:22.895497Z",
     "start_time": "2022-04-02T14:55:22.707519Z"
    },
    "hidden": true
   },
   "outputs": [],
   "source": [
    "pd.crosstab(df4['driving_license'], df4['response'])"
   ]
  },
  {
   "cell_type": "markdown",
   "id": "f28fbdde",
   "metadata": {
    "heading_collapsed": true,
    "hidden": true
   },
   "source": [
    "## 4.2 Bivariate Analysis"
   ]
  },
  {
   "cell_type": "markdown",
   "id": "cab59d82",
   "metadata": {
    "hidden": true
   },
   "source": [
    "### 4.2.1 Hyphotesis Validation"
   ]
  },
  {
   "cell_type": "markdown",
   "id": "7c386cbe",
   "metadata": {
    "hidden": true
   },
   "source": [
    "#### H1: Women are more likely to take out car insurance.\n",
    "\n",
    "##### The hypothesis is FALSE, the interest among men is higher."
   ]
  },
  {
   "cell_type": "code",
   "execution_count": null,
   "id": "7fd08de5",
   "metadata": {
    "ExecuteTime": {
     "end_time": "2022-04-02T14:55:42.176649Z",
     "start_time": "2022-04-02T14:55:22.907029Z"
    },
    "hidden": true
   },
   "outputs": [],
   "source": [
    "fig, axs = plt.subplots(figsize = (15,4))\n",
    "sns.countplot(x = df4['gender'], hue = df4['response']).set_title('0: Male / 1: Female');"
   ]
  },
  {
   "cell_type": "code",
   "execution_count": null,
   "id": "fe32b79c",
   "metadata": {
    "ExecuteTime": {
     "end_time": "2022-04-02T14:55:42.988148Z",
     "start_time": "2022-04-02T14:55:42.185932Z"
    },
    "hidden": true
   },
   "outputs": [],
   "source": [
    "woman = df4[df4['gender'] == 1].count()\n",
    "woman_yes = df4[(df4['gender'] == 1) & (df4['response'] == 1)].count()\n",
    "male = df4[df4['gender'] == 0].count()\n",
    "male_yes = df4[(df4['gender'] == 0) & (df4['response'] == 1)].count()\n",
    "woman_yes_perc = (woman_yes['id'] / woman['id']) * 100\n",
    "male_yes_perc = (male_yes['id'] / male['id']) * 100\n",
    "\n",
    "print ('The percentage of interest among womans is ' \"{0:.2f}%\".format(woman_yes_perc))\n",
    "print ('The percentage of interest among mens is ' \"{0:.2f}%\".format(male_yes_perc))"
   ]
  },
  {
   "cell_type": "markdown",
   "id": "7d967c5a",
   "metadata": {
    "ExecuteTime": {
     "end_time": "2022-03-22T15:11:49.577255Z",
     "start_time": "2022-03-22T15:11:49.558771Z"
    },
    "hidden": true
   },
   "source": [
    "#### H2: The older the age, the greater the possibility of taking out car insurance.\n",
    "\n",
    "##### The hypothesis is FALSE. There is a limit of age to an interest in a new policy."
   ]
  },
  {
   "cell_type": "code",
   "execution_count": null,
   "id": "3c3d36de",
   "metadata": {
    "ExecuteTime": {
     "end_time": "2022-04-02T14:55:50.914654Z",
     "start_time": "2022-04-02T14:55:43.005425Z"
    },
    "hidden": true
   },
   "outputs": [],
   "source": [
    "fig = plt.subplots(figsize = (15,4))\n",
    "sns.countplot(x = 'age', data = df4[df4['response'] == 1]);"
   ]
  },
  {
   "cell_type": "markdown",
   "id": "e8cd1e74",
   "metadata": {
    "hidden": true
   },
   "source": [
    "#### H3: The place of residence influences the decision to take out car insurance.\n",
    "\n",
    "##### The hypothesis is TRUE. Some regions have a more concentration of car insurance interest."
   ]
  },
  {
   "cell_type": "code",
   "execution_count": null,
   "id": "fa652cdf",
   "metadata": {
    "ExecuteTime": {
     "end_time": "2022-04-02T14:55:57.799456Z",
     "start_time": "2022-04-02T14:55:50.924026Z"
    },
    "hidden": true
   },
   "outputs": [],
   "source": [
    "fig = plt.subplots(figsize = (15,4))\n",
    "sns.countplot(x = 'region_code', data = df4[df4['response'] == 1]);"
   ]
  },
  {
   "cell_type": "code",
   "execution_count": null,
   "id": "e82e58b0",
   "metadata": {
    "ExecuteTime": {
     "end_time": "2022-04-02T14:56:03.815972Z",
     "start_time": "2022-04-02T14:55:57.808835Z"
    },
    "hidden": true
   },
   "outputs": [],
   "source": [
    "aux = df4[(df4['region_code'] != 28) & (df4['response'] == 1)]\n",
    "fig = plt.subplots(figsize = (15,4))\n",
    "sns.countplot(x = 'region_code', data = aux);"
   ]
  },
  {
   "cell_type": "markdown",
   "id": "87b37d53",
   "metadata": {
    "hidden": true
   },
   "source": [
    "#### H4: People who have had damage to their cars are more likely to take out car insurance.\n",
    "\n",
    "##### The hypothesis is TRUE. When happened car damage, there is car insurance interest."
   ]
  },
  {
   "cell_type": "code",
   "execution_count": null,
   "id": "e439d798",
   "metadata": {
    "ExecuteTime": {
     "end_time": "2022-04-02T14:56:22.185839Z",
     "start_time": "2022-04-02T14:56:03.824476Z"
    },
    "hidden": true
   },
   "outputs": [],
   "source": [
    "fig, axs = plt.subplots(figsize = (15,4))\n",
    "sns.countplot(x = df4['vehicle_damage'], hue = df4['response']);"
   ]
  },
  {
   "cell_type": "markdown",
   "id": "d015528e",
   "metadata": {
    "hidden": true
   },
   "source": [
    "#### H5: People who already have car insurance are more likely to purchase a new policy.\n",
    "\n",
    "##### The hypothesis is FALSE. The consumers that already have car insurance don't have an interest in a new policy."
   ]
  },
  {
   "cell_type": "code",
   "execution_count": null,
   "id": "d99332b6",
   "metadata": {
    "ExecuteTime": {
     "end_time": "2022-04-02T14:56:40.680162Z",
     "start_time": "2022-04-02T14:56:22.195010Z"
    },
    "hidden": true
   },
   "outputs": [],
   "source": [
    "fig, axs = plt.subplots(figsize = (15,4))\n",
    "sns.countplot(x = df4['previously_insured'], hue = df4['response']);"
   ]
  },
  {
   "cell_type": "markdown",
   "id": "d231410c",
   "metadata": {
    "hidden": true
   },
   "source": [
    "#### H6: People with newer vehicles are more likely to take out car insurance.\n",
    "\n",
    "##### The hypothesis is FALSE. The interest in car insurance is concentrate between owners of vehicles with 1 and 2 years old."
   ]
  },
  {
   "cell_type": "code",
   "execution_count": null,
   "id": "60f1a4e7",
   "metadata": {
    "ExecuteTime": {
     "end_time": "2022-04-02T14:56:41.436457Z",
     "start_time": "2022-04-02T14:56:40.688701Z"
    },
    "hidden": true
   },
   "outputs": [],
   "source": [
    "new_vehi = df4.loc[df4['response'] == 1].groupby('vehicle_age').count().reset_index()\n",
    "fig = plt.subplots(figsize = (8,4))\n",
    "sns.barplot(x = 'vehicle_age', y = 'response', data = new_vehi);"
   ]
  },
  {
   "cell_type": "markdown",
   "id": "b2d1081a",
   "metadata": {
    "hidden": true
   },
   "source": [
    "#### H7: Customers with a longer relationship with the insurance company are more likely to take out a new product.\n",
    "\n",
    "##### The hypothesis is FALSE. There is no relationship between when the customer bought their health insurance and interest in car insurance.\n"
   ]
  },
  {
   "cell_type": "code",
   "execution_count": null,
   "id": "892dd0e6",
   "metadata": {
    "ExecuteTime": {
     "end_time": "2022-04-02T14:56:43.000504Z",
     "start_time": "2022-04-02T14:56:41.488430Z"
    },
    "hidden": true
   },
   "outputs": [],
   "source": [
    "fig = plt.subplots(figsize = (15,4))\n",
    "sns.histplot(x = 'vintage', bins = 50, data = df4.loc[df4['response'] == 1], color = o_orange);"
   ]
  },
  {
   "cell_type": "markdown",
   "id": "7640ccb8",
   "metadata": {
    "hidden": true
   },
   "source": [
    "#### H8: Customers with higher health insurance expenses are more likely to purchase a new product.\n",
    "\n",
    "##### The hypothesis is FALSE. There is a concentration of positive answers around of mean of annual premiums paid.\n"
   ]
  },
  {
   "cell_type": "code",
   "execution_count": null,
   "id": "eeb385e8",
   "metadata": {
    "ExecuteTime": {
     "end_time": "2022-04-02T14:56:45.099063Z",
     "start_time": "2022-04-02T14:56:43.010268Z"
    },
    "hidden": true
   },
   "outputs": [],
   "source": [
    "# annual_premium\n",
    "ann_pre = df4.loc[(df4['annual_premium'] > 10000) & (df4['annual_premium'] < 80000)]\n",
    "ann_pre = ann_pre.loc[ann_pre['response'] == 1, 'annual_premium']\n",
    "\n",
    "fig = plt.subplots(figsize = (15,5))\n",
    "sns.histplot(ann_pre, bins = 75, color = o_orange);"
   ]
  },
  {
   "cell_type": "markdown",
   "id": "9d705665",
   "metadata": {
    "heading_collapsed": true,
    "hidden": true
   },
   "source": [
    "### 4.2.1 Hyphotesis resume"
   ]
  },
  {
   "cell_type": "code",
   "execution_count": null,
   "id": "404c7302",
   "metadata": {
    "ExecuteTime": {
     "end_time": "2022-04-02T14:56:45.150544Z",
     "start_time": "2022-04-02T14:56:45.113423Z"
    },
    "hidden": true
   },
   "outputs": [],
   "source": [
    "tab =[['Hyphotesis', 'Conclusion', 'Relevace'],\n",
    "      ['H1',         'False',      'Average'],\n",
    "      ['H2',         'False',      'High'],\n",
    "      ['H3',         'True',       'High'],\n",
    "      ['H4',         'True',       'Low'],\n",
    "      ['H5',         'False',      'Average'],\n",
    "      ['H6',         'False',      'High'],\n",
    "      ['H7',         'False',      'Low'],\n",
    "      ['H8',         'False',      'High']]\n",
    "\n",
    "print(tabulate(tab, headers='firstrow'))"
   ]
  },
  {
   "cell_type": "markdown",
   "id": "eba71d02",
   "metadata": {
    "heading_collapsed": true,
    "hidden": true
   },
   "source": [
    "## 4.3 Multivariate Analysis"
   ]
  },
  {
   "cell_type": "code",
   "execution_count": null,
   "id": "cf7c1fb7",
   "metadata": {
    "ExecuteTime": {
     "end_time": "2022-04-02T14:56:45.205642Z",
     "start_time": "2022-04-02T14:56:45.161067Z"
    },
    "hidden": true
   },
   "outputs": [],
   "source": [
    "df4.columns"
   ]
  },
  {
   "cell_type": "code",
   "execution_count": null,
   "id": "7b6aa591",
   "metadata": {
    "ExecuteTime": {
     "end_time": "2022-04-02T14:56:45.262442Z",
     "start_time": "2022-04-02T14:56:45.218837Z"
    },
    "hidden": true
   },
   "outputs": [],
   "source": [
    "df4.dtypes"
   ]
  },
  {
   "cell_type": "code",
   "execution_count": null,
   "id": "c300d710",
   "metadata": {
    "ExecuteTime": {
     "end_time": "2022-04-02T14:56:45.354435Z",
     "start_time": "2022-04-02T14:56:45.287021Z"
    },
    "hidden": true
   },
   "outputs": [],
   "source": [
    "# Numerical attributes\n",
    "num_attributes = df4[['age', 'annual_premium', 'vintage']]\n",
    "\n",
    "# Updating categorical attributes\n",
    "cat_attributes = df4[['gender', 'region_code', 'policy_sales_channel', 'previously_insured', 'driving_license', 'vehicle_age', 'vehicle_damage', 'damage_per_rcode', 'response']]\n",
    "\n",
    "# Target\n",
    "# target_atribute = df4['response']"
   ]
  },
  {
   "cell_type": "markdown",
   "id": "49184315",
   "metadata": {
    "hidden": true
   },
   "source": [
    "### 4.3.1 Numerical Attributes"
   ]
  },
  {
   "cell_type": "code",
   "execution_count": null,
   "id": "7ece2c19",
   "metadata": {
    "ExecuteTime": {
     "end_time": "2022-04-02T14:56:46.749163Z",
     "start_time": "2022-04-02T14:56:45.364762Z"
    },
    "hidden": true
   },
   "outputs": [],
   "source": [
    "correlation = num_attributes.corr(method = 'pearson')\n",
    "fig = plt.subplots(figsize = (15, 10))\n",
    "sns.heatmap(correlation, annot = True);"
   ]
  },
  {
   "cell_type": "markdown",
   "id": "1b5be7ce",
   "metadata": {
    "heading_collapsed": true,
    "hidden": true
   },
   "source": [
    "### 4.3.2 Categorical Attributes"
   ]
  },
  {
   "cell_type": "code",
   "execution_count": null,
   "id": "2a7ab558",
   "metadata": {
    "ExecuteTime": {
     "end_time": "2022-04-02T14:57:04.289093Z",
     "start_time": "2022-04-02T14:56:46.761685Z"
    },
    "hidden": true
   },
   "outputs": [],
   "source": [
    "fig = plt.subplots(figsize = (15,10))\n",
    "sns.heatmap(pd.DataFrame(corr_cramer_v(cat_attributes)), annot = True);"
   ]
  },
  {
   "cell_type": "code",
   "execution_count": null,
   "id": "830f4a77",
   "metadata": {
    "ExecuteTime": {
     "end_time": "2022-04-02T14:57:04.309720Z",
     "start_time": "2022-04-02T14:57:04.297915Z"
    },
    "hidden": true
   },
   "outputs": [],
   "source": [
    "# due to high correlations\n",
    "cols_selected_eda = ['vehicle_damage', 'policy_sales_channel', 'vehicle_age', 'previously_insured', 'response']"
   ]
  },
  {
   "cell_type": "code",
   "execution_count": null,
   "id": "759b80eb",
   "metadata": {
    "ExecuteTime": {
     "end_time": "2022-04-02T14:57:04.595705Z",
     "start_time": "2022-04-02T14:57:04.318059Z"
    },
    "hidden": true
   },
   "outputs": [],
   "source": [
    "df4.to_pickle(r\"../data/interim/df4.pkl\")"
   ]
  },
  {
   "cell_type": "markdown",
   "id": "cb0f9ed3",
   "metadata": {
    "heading_collapsed": true
   },
   "source": [
    "# 5.0 Data Preparation"
   ]
  },
  {
   "cell_type": "code",
   "execution_count": null,
   "id": "d61e0d22",
   "metadata": {
    "ExecuteTime": {
     "end_time": "2022-04-02T14:57:04.691535Z",
     "start_time": "2022-04-02T14:57:04.604775Z"
    },
    "hidden": true
   },
   "outputs": [],
   "source": [
    "#df5 = pd.read_csv('../data/interim/df4.csv')\n",
    "df5 = pd.read_pickle(r\"../data/interim/df4.pkl\")"
   ]
  },
  {
   "cell_type": "code",
   "execution_count": null,
   "id": "d8d40d5c",
   "metadata": {
    "ExecuteTime": {
     "end_time": "2022-04-02T14:57:04.739381Z",
     "start_time": "2022-04-02T14:57:04.701882Z"
    },
    "hidden": true
   },
   "outputs": [],
   "source": [
    "df5.columns"
   ]
  },
  {
   "cell_type": "code",
   "execution_count": null,
   "id": "eb10a4dc",
   "metadata": {
    "ExecuteTime": {
     "end_time": "2022-04-02T14:57:05.088417Z",
     "start_time": "2022-04-02T14:57:04.752824Z"
    },
    "hidden": true
   },
   "outputs": [],
   "source": [
    "# splitting the train dataset in train and validation\n",
    "X = df5.drop('response', axis=1)\n",
    "y = df5['response'].copy()\n",
    "\n",
    "x_train, x_validation, y_train, y_validation = ms.train_test_split(X, y, test_size = 0.20)\n",
    "\n",
    "df5 = pd.concat([x_train, y_train], axis=1)"
   ]
  },
  {
   "cell_type": "code",
   "execution_count": null,
   "id": "74bb957d",
   "metadata": {
    "ExecuteTime": {
     "end_time": "2022-04-02T14:57:05.115476Z",
     "start_time": "2022-04-02T14:57:05.096397Z"
    },
    "hidden": true
   },
   "outputs": [],
   "source": [
    "shape(y_train)"
   ]
  },
  {
   "cell_type": "markdown",
   "id": "8f75def7",
   "metadata": {
    "hidden": true
   },
   "source": [
    "## 5.1 Standardization"
   ]
  },
  {
   "cell_type": "code",
   "execution_count": null,
   "id": "534bb1c4",
   "metadata": {
    "ExecuteTime": {
     "end_time": "2022-04-02T14:57:05.197466Z",
     "start_time": "2022-04-02T14:57:05.126932Z"
    },
    "hidden": true
   },
   "outputs": [],
   "source": [
    "df5[['annual_premium']].values"
   ]
  },
  {
   "cell_type": "code",
   "execution_count": null,
   "id": "13a27c57",
   "metadata": {
    "ExecuteTime": {
     "end_time": "2022-04-03T14:05:42.622425Z",
     "start_time": "2022-04-03T14:05:42.544635Z"
    },
    "hidden": true
   },
   "outputs": [],
   "source": [
    "# annual_premium -> to be already like a normal distribution, in the first cycle the outliers will be maintained\n",
    "ss = pp.StandardScaler()\n",
    "\n",
    "df5['annual_premium'] = ss.fit_transform(df5[['annual_premium']].values)\n",
    "#df5['annual_premium']\n",
    "# saving pickles to deploy\n",
    "pickle.dump(ss, open('../src/features/annual_premium_scaler.pkl', 'wb'))"
   ]
  },
  {
   "cell_type": "code",
   "execution_count": null,
   "id": "893df72e",
   "metadata": {
    "ExecuteTime": {
     "end_time": "2022-04-02T14:57:07.556396Z",
     "start_time": "2022-04-02T14:57:05.275436Z"
    },
    "hidden": true
   },
   "outputs": [],
   "source": [
    "fig = plt.subplots(figsize = (15,5))\n",
    "sns.histplot(df5[['annual_premium']].values, bins = 70);"
   ]
  },
  {
   "cell_type": "markdown",
   "id": "5a9aaac8",
   "metadata": {
    "heading_collapsed": true,
    "hidden": true
   },
   "source": [
    "## 5.2 Rescaling"
   ]
  },
  {
   "cell_type": "code",
   "execution_count": null,
   "id": "1d1d26da",
   "metadata": {
    "ExecuteTime": {
     "end_time": "2022-04-02T14:57:10.689384Z",
     "start_time": "2022-04-02T14:57:07.565965Z"
    },
    "hidden": true,
    "scrolled": true
   },
   "outputs": [],
   "source": [
    "# Age -> because it isn't a normal distribution\n",
    "mms_age = pp.MinMaxScaler()\n",
    "\n",
    "df5['age'] = mms_age.fit_transform(df5[['age']].values)\n",
    "\n",
    "# saving the pickles to deploy\n",
    "pickle.dump(mms_age, open('../src/features/age_scaler.pkl', 'wb'))\n",
    "\n",
    "sns.histplot(df5['age']);"
   ]
  },
  {
   "cell_type": "code",
   "execution_count": null,
   "id": "c26c806f",
   "metadata": {
    "ExecuteTime": {
     "end_time": "2022-04-02T14:57:13.517194Z",
     "start_time": "2022-04-02T14:57:10.701327Z"
    },
    "hidden": true
   },
   "outputs": [],
   "source": [
    "# vintage\n",
    "mms_vintage = pp.MinMaxScaler()\n",
    "\n",
    "df5['vintage'] = mms_vintage.fit_transform(df5[['vintage']].values)\n",
    "\n",
    "# saving the pickles to deploy\n",
    "pickle.dump(mms_vintage, open('../src/features/vintage_scaler.pkl', 'wb'))\n",
    "\n",
    "sns.histplot(df5['vintage']);"
   ]
  },
  {
   "cell_type": "markdown",
   "id": "2839e838",
   "metadata": {
    "hidden": true
   },
   "source": [
    "## 5.3 Transformation"
   ]
  },
  {
   "cell_type": "markdown",
   "id": "b53b1695",
   "metadata": {
    "hidden": true
   },
   "source": [
    "### 5.3.1 Encoding"
   ]
  },
  {
   "cell_type": "code",
   "execution_count": null,
   "id": "677afa1f",
   "metadata": {
    "ExecuteTime": {
     "end_time": "2022-04-02T14:57:13.542992Z",
     "start_time": "2022-04-02T14:57:13.531637Z"
    },
    "hidden": true
   },
   "outputs": [],
   "source": [
    "# driving_license: its already a code (0 or 1 -> label encoding)\n",
    "# previously_insured: its already a code (0 or 1 -> label encoding)\n",
    "# vehicle_damage: its already a code (0 or 1 -> label encoding)"
   ]
  },
  {
   "cell_type": "code",
   "execution_count": null,
   "id": "9b0cebb5",
   "metadata": {
    "ExecuteTime": {
     "end_time": "2022-04-02T14:57:13.657728Z",
     "start_time": "2022-04-02T14:57:13.554967Z"
    },
    "hidden": true
   },
   "outputs": [],
   "source": [
    "# gender - One hot encoding / **Target encoding**\n",
    "target_encode_gender = df5.groupby('gender')['response'].mean()\n",
    "df5.loc[:, 'gender'] = df5['gender'].map(target_encode_gender)\n",
    "\n",
    "# saving the pickles to deploy\n",
    "pickle.dump(target_encode_gender, open('../src/features/target_encode_gender_scaler.pkl', 'wb'))\n",
    "\n",
    "#target_encode_gender\n",
    "#df5['gender']"
   ]
  },
  {
   "cell_type": "code",
   "execution_count": null,
   "id": "771e5b73",
   "metadata": {
    "ExecuteTime": {
     "end_time": "2022-04-02T14:57:13.785944Z",
     "start_time": "2022-04-02T14:57:13.666809Z"
    },
    "hidden": true
   },
   "outputs": [],
   "source": [
    "# region_code (it has to much levels) - **Target Encoding**/ Frequency Encoding\n",
    "target_encode_region_code = df5.groupby('region_code')['response'].mean()\n",
    "df5.loc[:, 'region_code'] = df5['region_code'].map(target_encode_region_code)\n",
    "\n",
    "# saving the pickles to deploy\n",
    "pickle.dump(target_encode_region_code, open('../src/features/target_encode_region_code_scaler.pkl', 'wb'))\n",
    "\n",
    "#target_encode_region_code\n",
    "#iidf5['region_code']"
   ]
  },
  {
   "cell_type": "code",
   "execution_count": null,
   "id": "ca87ea9d",
   "metadata": {
    "ExecuteTime": {
     "end_time": "2022-04-02T14:57:14.026594Z",
     "start_time": "2022-04-02T14:57:13.802367Z"
    },
    "hidden": true
   },
   "outputs": [],
   "source": [
    "# vehicle_age: if considered only two year as double of one year, cars that are 14 months old aren't doubly old \n",
    "# than a car with 6 months (**One hot Encoding**/ Order Encoding/ Frequency Encoding)\n",
    "#df5 = pd.get_dummies(df5, prefix='vehicle_age', columns=['vehicle_age'])\n",
    "#df5 = df_aux\n",
    "\n",
    "target_encode_vehicle_age = df5.groupby ('vehicle_age')['response'].mean()\n",
    "df5.loc[:, 'vehicle_age'] = df5['vehicle_age'].map(target_encode_vehicle_age)\n",
    "pickle.dump(target_encode_gender, open('../src/features/vehicle_age_scaler.pkl', 'wb'))\n",
    "\n",
    "#df_aux"
   ]
  },
  {
   "cell_type": "code",
   "execution_count": null,
   "id": "e484fe14",
   "metadata": {
    "ExecuteTime": {
     "end_time": "2022-04-02T14:57:14.122433Z",
     "start_time": "2022-04-02T14:57:14.037107Z"
    },
    "hidden": true
   },
   "outputs": [],
   "source": [
    "# policy_sales_channel: Targer Enconding/ **Frequency Encoding**\n",
    "fe_policy_sales_channel = df5.groupby('policy_sales_channel').size() / len(df5)\n",
    "df5.loc[:, 'policy_sales_channel'] = df5['policy_sales_channel'].map(fe_policy_sales_channel)\n",
    "\n",
    "# saving the pickles to deploy\n",
    "pickle.dump(fe_policy_sales_channel, open('../src/features/fe_policy_sales_channel_scaler.pkl', 'wb'))\n",
    "\n",
    "#fe_policy_sales_channel\n",
    "#df5['policy_sales_channel']"
   ]
  },
  {
   "cell_type": "markdown",
   "id": "6f784e50",
   "metadata": {
    "hidden": true
   },
   "source": [
    "## 5.4 Preparation of Validation"
   ]
  },
  {
   "cell_type": "code",
   "execution_count": null,
   "id": "1f6c061b",
   "metadata": {
    "ExecuteTime": {
     "end_time": "2022-04-03T14:05:57.519811Z",
     "start_time": "2022-04-03T14:05:57.115363Z"
    },
    "hidden": true
   },
   "outputs": [],
   "source": [
    "# gender\n",
    "x_validation.loc[:, 'gender'] = x_validation.loc[:, 'gender'].map(target_encode_gender)\n",
    "\n",
    "# age (applying just transform metho, so it don't add new measures of mean an std values to the feature that are different of the training dataset)\n",
    "x_validation.loc[:, 'age'] = mms_age.transform(x_validation[['age']].values)\n",
    "\n",
    "# region_code\n",
    "x_validation.loc[:, 'region_code'] = x_validation.loc[:, 'region_code'].map(target_encode_region_code)\n",
    "\n",
    "# vehicle_age\n",
    "# x_validation = pd.get_dummies(x_validation, prefix='vehicle_age', columns=['vehicle_age'])\n",
    "x_validation.loc[:, 'vehicle_age'] = x_validation.loc[:, 'vehicle_age'].map(target_encode_vehicle_age)\n",
    "\n",
    "# annual_premium\n",
    "x_validation.loc[:, 'annual_premium'] = ss.transform(x_validation[['annual_premium']].values)\n",
    "\n",
    "# policy_sales_channel\n",
    "x_validation.loc[:, 'policy_sales_channel'] = x_validation['policy_sales_channel'].map(fe_policy_sales_channel)\n",
    "\n",
    "# vintage\n",
    "x_validation.loc[:, 'vintage'] = mms_vintage.transform(x_validation[['vintage']].values)\n",
    "\n",
    "# fillna -> if there is any value that is on validation but is not in train dataset\n",
    "x_validation = x_validation.fillna(0)"
   ]
  },
  {
   "cell_type": "code",
   "execution_count": null,
   "id": "7d7a820a",
   "metadata": {
    "ExecuteTime": {
     "end_time": "2022-04-02T14:57:14.647427Z",
     "start_time": "2022-04-02T14:57:14.439553Z"
    },
    "hidden": true
   },
   "outputs": [],
   "source": [
    "# df5.to_csv('../data/interim/df5.csv', index=False)\n",
    "df5.to_pickle(r\"../data/interim/df5.pkl\")"
   ]
  },
  {
   "cell_type": "markdown",
   "id": "d9452f35",
   "metadata": {
    "heading_collapsed": true
   },
   "source": [
    "# 6.0 Feature Selection"
   ]
  },
  {
   "cell_type": "code",
   "execution_count": null,
   "id": "d6cf3b51",
   "metadata": {
    "ExecuteTime": {
     "end_time": "2022-04-02T14:57:14.702529Z",
     "start_time": "2022-04-02T14:57:14.656202Z"
    },
    "hidden": true
   },
   "outputs": [],
   "source": [
    "# df6 = pd.read_csv('../data/interim/df5.csv')\n",
    "df6 = pd.read_pickle(r\"../data/interim/df5.pkl\")"
   ]
  },
  {
   "cell_type": "markdown",
   "id": "d0498bd8",
   "metadata": {
    "hidden": true
   },
   "source": [
    "## 6.1 Split Dataframe"
   ]
  },
  {
   "cell_type": "code",
   "execution_count": null,
   "id": "8d540a32",
   "metadata": {
    "ExecuteTime": {
     "end_time": "2022-04-02T14:57:14.845038Z",
     "start_time": "2022-04-02T14:57:14.714290Z"
    },
    "hidden": true
   },
   "outputs": [],
   "source": [
    "# data preparation\n",
    "x_train_n = df6.drop(['id', 'response'], axis=1).values\n",
    "y_train_n = y_train.values.ravel()"
   ]
  },
  {
   "cell_type": "markdown",
   "id": "ac978fe9",
   "metadata": {
    "hidden": true
   },
   "source": [
    "## 6.2 Boruta Algorithm"
   ]
  },
  {
   "cell_type": "code",
   "execution_count": null,
   "id": "d6c0218f",
   "metadata": {
    "ExecuteTime": {
     "end_time": "2022-04-02T14:57:14.867718Z",
     "start_time": "2022-04-02T14:57:14.855509Z"
    },
    "hidden": true
   },
   "outputs": [],
   "source": [
    "# Define model\n",
    "#et = en.ExtraTreesClassifier(n_jobs = -1)\n",
    "\n",
    "# Define boruta\n",
    "#boruta = bt.BorutaPy(et, n_estimators = 'auto', verbose = 2, random_state = 42).fit(x_train_n, y_train_n)"
   ]
  },
  {
   "cell_type": "code",
   "execution_count": null,
   "id": "2a4fa00d",
   "metadata": {
    "ExecuteTime": {
     "end_time": "2022-04-02T14:57:14.894809Z",
     "start_time": "2022-04-02T14:57:14.879629Z"
    },
    "hidden": true
   },
   "outputs": [],
   "source": [
    "# cols_selected = boruta.support_.tolist()\n",
    "# \n",
    "# # best features\n",
    "# x_train_fs = df6.drop(['id', 'response'], axis = 1)\n",
    "# cols_selected_boruta = x_train_fs.iloc[:, cols_selected].columns.to_list()\n",
    "# \n",
    "# # not selected boruta\n",
    "# cols_not_selected_boruta = list(np.setdiff1d(x_train_fs.columns, cols_selected_boruta))\n",
    "# \n",
    "# cols_selected_boruta"
   ]
  },
  {
   "cell_type": "markdown",
   "id": "8515a46f",
   "metadata": {
    "hidden": true
   },
   "source": [
    "## 6.3 Features Importance"
   ]
  },
  {
   "cell_type": "code",
   "execution_count": null,
   "id": "b1f597d0",
   "metadata": {
    "ExecuteTime": {
     "end_time": "2022-04-02T14:57:14.922340Z",
     "start_time": "2022-04-02T14:57:14.909845Z"
    },
    "hidden": true
   },
   "outputs": [],
   "source": [
    "# # model definition\n",
    "# forest = en.ExtraTreesClassifier(n_estimators=250, random_state=0, n_jobs=-1)\n",
    "# \n",
    "# x_train_n = df6.drop(['id', 'response'], axis=1)\n",
    "# y_train_n = y_train.values\n",
    "# forest.fit(x_train_n, y_train_n);"
   ]
  },
  {
   "cell_type": "code",
   "execution_count": null,
   "id": "4356e47a",
   "metadata": {
    "ExecuteTime": {
     "end_time": "2022-04-02T14:57:14.954835Z",
     "start_time": "2022-04-02T14:57:14.938832Z"
    },
    "hidden": true,
    "scrolled": false
   },
   "outputs": [],
   "source": [
    "# importances = forest.feature_importances_\n",
    "# std = np.std([tree.feature_importances_ for tree in forest.estimators_], axis=0)\n",
    "# indices = np.argsort(importances)[::-1]\n",
    "# \n",
    "# # Print the feature ranking\n",
    "# print(\"Feature ranking:\")\n",
    "# df = pd.DataFrame()\n",
    "# for i, j in zip( x_train_n, forest.feature_importances_ ):\n",
    "#     aux = pd.DataFrame( {'feature': i, 'importance': j}, index=[0] )\n",
    "#     df = pd.concat( [df, aux], axis=0 )\n",
    "#     \n",
    "# print( df.sort_values( 'importance', ascending=False ) )\n",
    "# \n",
    "# # Plot the impurity-based feature importances of the forest\n",
    "# plt.figure()\n",
    "# plt.title(\"Feature importances\")\n",
    "# plt.bar(range(x_train_n.shape[1]), importances[indices], color=\"r\", yerr=std[indices], align=\"center\")\n",
    "# plt.xticks(range(x_train_n.shape[1]), indices)\n",
    "# plt.xlim([-1, x_train_n.shape[1]])\n",
    "# plt.show()"
   ]
  },
  {
   "cell_type": "markdown",
   "id": "af6b1424",
   "metadata": {
    "hidden": true
   },
   "source": [
    "<h3>Selected Columns:</h3>\n",
    "\n",
    "<ul><strong>From EDA</strong>\n",
    "    <ul>\n",
    "        <li>vehicle_damage</li>\n",
    "        <li>policy_sales_channel</li>\n",
    "        <li>vehicle_age</li>\n",
    "        <li>previously_insured</li>\n",
    "        <li>response</li>\n",
    "    </ul>\n",
    "</ul>\n",
    "                      \n",
    "<ul><strong>From Boruta</strong>\n",
    "    <ul>\n",
    "        <li>age</li>\n",
    "    </ul>\n",
    "</ul>\n",
    "\n",
    "<ul><strong>From Features Importance</strong>\n",
    "    <ul>\n",
    "        <li>vintage</li>\n",
    "        <li>annual_premium</li>\n",
    "        <li>age</li>\n",
    "        <li>vehicle_damage</li>\n",
    "        <li>policy_sales_channel</li>\n",
    "        <li>previously_insured</li>\n",
    "        <li>region_code</li>\n",
    "        <li>damage_per_rcode</li>\n",
    "    </ul>\n",
    "</ul>\n",
    "\n",
    "<h3>Features final list:</h3>\n",
    "    <ol>\n",
    "        <li>vehicle_damage</li>\n",
    "        <li>policy_sales_channel</li>\n",
    "        <li>vehicle_age</li>\n",
    "        <li>previously_insured</li>\n",
    "        <li>vintage</li>\n",
    "        <li>annual_premium</li>\n",
    "        <li>age</li>\n",
    "        <li>region_code</li>\n",
    "        <li>damage_per_rcode</li>\n",
    "    </ol>"
   ]
  },
  {
   "cell_type": "code",
   "execution_count": null,
   "id": "3bff3287",
   "metadata": {
    "ExecuteTime": {
     "end_time": "2022-04-02T14:57:15.177260Z",
     "start_time": "2022-04-02T14:57:14.968583Z"
    },
    "hidden": true
   },
   "outputs": [],
   "source": [
    "# df6.to_csv('../data/interim/df6.csv', index=False)\n",
    "df6.to_pickle(r\"../data/interim/df6.pkl\")"
   ]
  },
  {
   "cell_type": "markdown",
   "id": "a2d46291",
   "metadata": {},
   "source": [
    "# 7.0 Machine Learning"
   ]
  },
  {
   "cell_type": "code",
   "execution_count": null,
   "id": "c6168f40",
   "metadata": {
    "ExecuteTime": {
     "end_time": "2022-04-02T14:57:15.238985Z",
     "start_time": "2022-04-02T14:57:15.188571Z"
    }
   },
   "outputs": [],
   "source": [
    "# df7 = pd.read_csv('../data/interim/df6.csv')\n",
    "df7 = pd.read_pickle(r\"../data/interim/df6.pkl\")"
   ]
  },
  {
   "cell_type": "code",
   "execution_count": null,
   "id": "ab30503e",
   "metadata": {
    "ExecuteTime": {
     "end_time": "2022-04-02T14:57:15.278698Z",
     "start_time": "2022-04-02T14:57:15.249168Z"
    }
   },
   "outputs": [],
   "source": [
    "cols_selected_importance = ['vintage', \n",
    "                            'annual_premium', \n",
    "                            'age', \n",
    "                            'region_code', \n",
    "                            'vehicle_damage', \n",
    "                            'policy_sales_channel',                                                                                             'previously_insured',\n",
    "                            'vehicle_age',\n",
    "                            'damage_per_rcode']"
   ]
  },
  {
   "cell_type": "code",
   "execution_count": null,
   "id": "34bb0693",
   "metadata": {
    "ExecuteTime": {
     "end_time": "2022-04-02T14:57:15.363160Z",
     "start_time": "2022-04-02T14:57:15.293735Z"
    }
   },
   "outputs": [],
   "source": [
    "x_train = df7[cols_selected_importance]\n",
    "\n",
    "x_val = x_validation[cols_selected_importance]\n",
    "y_val = y_validation"
   ]
  },
  {
   "cell_type": "markdown",
   "id": "95929c95",
   "metadata": {},
   "source": [
    "## 7.1 KNN Classifier"
   ]
  },
  {
   "cell_type": "code",
   "execution_count": null,
   "id": "562b23c8",
   "metadata": {
    "ExecuteTime": {
     "end_time": "2022-04-02T14:57:52.479290Z",
     "start_time": "2022-04-02T14:57:15.375743Z"
    }
   },
   "outputs": [],
   "source": [
    "# model definition\n",
    "knn_model = nh.KNeighborsClassifier(n_neighbors=7)\n",
    "\n",
    "# model training\n",
    "knn_model.fit(x_train, y_train)\n",
    "\n",
    "# model prediction - Generalization\n",
    "yhat_knn = knn_model.predict_proba(x_val)"
   ]
  },
  {
   "cell_type": "markdown",
   "id": "200e3fb9",
   "metadata": {},
   "source": [
    "Because the problem is a ordened list we need some metrics of ordenation"
   ]
  },
  {
   "cell_type": "code",
   "execution_count": null,
   "id": "885a459a",
   "metadata": {
    "ExecuteTime": {
     "end_time": "2022-04-02T14:57:54.791781Z",
     "start_time": "2022-04-02T14:57:52.487398Z"
    },
    "cell_style": "center",
    "hide_input": false
   },
   "outputs": [],
   "source": [
    "# Accumulative Gain\n",
    "fig, axs = plt.subplots(ncols = 2, figsize = (15, 5))\n",
    "skplt.metrics.plot_cumulative_gain(y_val, yhat_knn, ax = axs[0])\n",
    "skplt.metrics.plot_lift_curve(y_val, yhat_knn, ax = axs[1]);"
   ]
  },
  {
   "cell_type": "code",
   "execution_count": null,
   "id": "5c19f2ab",
   "metadata": {
    "ExecuteTime": {
     "end_time": "2022-04-02T14:57:55.071401Z",
     "start_time": "2022-04-02T14:57:54.802370Z"
    }
   },
   "outputs": [],
   "source": [
    "# Performance\n",
    "\n",
    "# compute precision at k\n",
    "knn_precision_at_k = round(precision_at_k(df7, x_validation, y_validation, yhat_knn, 25000), 3)\n",
    "print('KNN Model - Precision at K: {}'.format(knn_precision_at_k))\n",
    "\n",
    "# compute Recall at k\n",
    "knn_recall_at_k = round(recall_at_k(df7, x_validation, y_validation, yhat_knn, 25000), 3)\n",
    "print('KNN Model - Recall at K: {}'.format(knn_recall_at_k))"
   ]
  },
  {
   "cell_type": "markdown",
   "id": "deef79b0",
   "metadata": {},
   "source": [
    "### KNN - Cross Validation"
   ]
  },
  {
   "cell_type": "code",
   "execution_count": null,
   "id": "004037c7",
   "metadata": {
    "ExecuteTime": {
     "end_time": "2022-04-02T15:00:19.132277Z",
     "start_time": "2022-04-02T14:57:55.083783Z"
    }
   },
   "outputs": [],
   "source": [
    "knn_cv  = cross_validation (df7, 5, 'KNN CV', knn_model, x_train, y_train, 20000)"
   ]
  },
  {
   "cell_type": "code",
   "execution_count": null,
   "id": "d5c736df",
   "metadata": {
    "ExecuteTime": {
     "end_time": "2022-04-02T16:23:01.938161Z",
     "start_time": "2022-04-02T16:23:01.910750Z"
    }
   },
   "outputs": [],
   "source": [
    "rp_knn_cv = pd.DataFrame.from_dict(knn_cv, orient='index').T"
   ]
  },
  {
   "cell_type": "markdown",
   "id": "528a954b",
   "metadata": {},
   "source": [
    "## 7.2 Logistic Regression"
   ]
  },
  {
   "cell_type": "code",
   "execution_count": null,
   "id": "dd08d2fc",
   "metadata": {
    "ExecuteTime": {
     "end_time": "2022-04-02T15:00:28.662242Z",
     "start_time": "2022-04-02T15:00:19.199150Z"
    }
   },
   "outputs": [],
   "source": [
    "# model definition\n",
    "lr_model = lm.LogisticRegression(random_state=42)\n",
    "\n",
    "# model training\n",
    "lr_model.fit(x_train, y_train)\n",
    "\n",
    "# model prediction\n",
    "yhat_lr = lr_model.predict_proba(x_val)"
   ]
  },
  {
   "cell_type": "code",
   "execution_count": null,
   "id": "9b712e7a",
   "metadata": {
    "ExecuteTime": {
     "end_time": "2022-04-02T15:00:30.915664Z",
     "start_time": "2022-04-02T15:00:28.673709Z"
    },
    "cell_style": "center"
   },
   "outputs": [],
   "source": [
    "# Accumulative Gain\n",
    "fig, axs = plt.subplots(ncols = 2, figsize = (15, 5))\n",
    "skplt.metrics.plot_cumulative_gain(y_val, yhat_lr, ax = axs[0])\n",
    "skplt.metrics.plot_lift_curve(y_val, yhat_lr, ax = axs[1]);"
   ]
  },
  {
   "cell_type": "code",
   "execution_count": null,
   "id": "ed2d189b",
   "metadata": {
    "ExecuteTime": {
     "end_time": "2022-04-02T15:00:31.325456Z",
     "start_time": "2022-04-02T15:00:30.925560Z"
    }
   },
   "outputs": [],
   "source": [
    "# Performance\n",
    "\n",
    "# compute precision at k\n",
    "lr_precision_at_k = round(precision_at_k(df7, x_validation, y_validation, yhat_lr, 25000), 3)\n",
    "print('LRegression Model - Precision at K: {}'.format(lr_precision_at_k))\n",
    "\n",
    "# compute Recall at k\n",
    "lr_recall_at_k = round(recall_at_k(df7, x_validation, y_validation, yhat_lr, 25000), 3)\n",
    "print('LRegression Model - Recall at K: {}'.format(lr_recall_at_k))"
   ]
  },
  {
   "cell_type": "markdown",
   "id": "b2351dda",
   "metadata": {},
   "source": [
    "### 7.2.1 Logistic Regression - Cross Validation"
   ]
  },
  {
   "cell_type": "code",
   "execution_count": null,
   "id": "96074143",
   "metadata": {
    "ExecuteTime": {
     "end_time": "2022-04-02T15:01:10.242346Z",
     "start_time": "2022-04-02T15:00:31.338630Z"
    }
   },
   "outputs": [],
   "source": [
    "lr_cv  = cross_validation (df7, 5, 'LRegression CV', lr_model, x_train, y_train, 20000)"
   ]
  },
  {
   "cell_type": "code",
   "execution_count": null,
   "id": "3dd82d79",
   "metadata": {
    "ExecuteTime": {
     "end_time": "2022-04-02T16:22:48.531237Z",
     "start_time": "2022-04-02T16:22:48.511974Z"
    }
   },
   "outputs": [],
   "source": [
    "rp_lr_cv = pd.DataFrame.from_dict(lr_cv, orient='index').T"
   ]
  },
  {
   "cell_type": "markdown",
   "id": "8d8571e9",
   "metadata": {},
   "source": [
    "## 7.3 Extra Trees Classifier"
   ]
  },
  {
   "cell_type": "code",
   "execution_count": null,
   "id": "95afc642",
   "metadata": {
    "ExecuteTime": {
     "end_time": "2022-04-02T15:02:05.997850Z",
     "start_time": "2022-04-02T15:01:10.315393Z"
    }
   },
   "outputs": [],
   "source": [
    "# model definition\n",
    "et = en.ExtraTreesClassifier(n_estimators=100, n_jobs=-1, random_state=14)\n",
    "\n",
    "# model training\n",
    "et.fit(x_train, y_train)\n",
    "\n",
    "# model prediction\n",
    "yhat_et = et.predict_proba(x_val)"
   ]
  },
  {
   "cell_type": "code",
   "execution_count": null,
   "id": "3ea90ebb",
   "metadata": {
    "ExecuteTime": {
     "end_time": "2022-04-02T15:02:08.473366Z",
     "start_time": "2022-04-02T15:02:06.005933Z"
    }
   },
   "outputs": [],
   "source": [
    "# Accumulative Gain\n",
    "fig, axs = plt.subplots(ncols= 2, figsize = (15,5))\n",
    "skplt.metrics.plot_cumulative_gain(y_val, yhat_et, ax = axs[0]);\n",
    "skplt.metrics.plot_lift_curve(y_val, yhat_et, ax = axs[1]);"
   ]
  },
  {
   "cell_type": "code",
   "execution_count": null,
   "id": "58d96ca6",
   "metadata": {
    "ExecuteTime": {
     "end_time": "2022-04-02T15:02:08.839062Z",
     "start_time": "2022-04-02T15:02:08.486568Z"
    }
   },
   "outputs": [],
   "source": [
    "# Performance\n",
    "\n",
    "# compute precision at k\n",
    "et_precision_at_k = round(precision_at_k(df7, x_validation, y_validation, yhat_et, 25000), 3)\n",
    "print('ETrees Model - Precision at K: {}'.format(et_precision_at_k))\n",
    "\n",
    "# compute Recall at k\n",
    "et_recall_at_k = round(recall_at_k(df7, x_validation, y_validation, yhat_et, 25000), 3)\n",
    "print('ETrees Model - Recall at K: {}'.format(et_recall_at_k))"
   ]
  },
  {
   "cell_type": "markdown",
   "id": "e0a41cd2",
   "metadata": {},
   "source": [
    "### 7.3.1 Extra Tress - Cross Validation"
   ]
  },
  {
   "cell_type": "code",
   "execution_count": null,
   "id": "934f9c38",
   "metadata": {
    "ExecuteTime": {
     "end_time": "2022-04-02T15:05:37.522291Z",
     "start_time": "2022-04-02T15:02:08.851592Z"
    }
   },
   "outputs": [],
   "source": [
    "et_cv  = cross_validation (df7, 5, 'ETrees CV', et, x_train, y_train, 20000)"
   ]
  },
  {
   "cell_type": "code",
   "execution_count": null,
   "id": "2206dabb",
   "metadata": {
    "ExecuteTime": {
     "end_time": "2022-04-02T16:22:36.029713Z",
     "start_time": "2022-04-02T16:22:36.012488Z"
    }
   },
   "outputs": [],
   "source": [
    "rp_et_cv = pd.DataFrame.from_dict(et_cv, orient='index').T"
   ]
  },
  {
   "cell_type": "markdown",
   "id": "f0b381c5",
   "metadata": {},
   "source": [
    "## 7.4 Random Forest"
   ]
  },
  {
   "cell_type": "code",
   "execution_count": null,
   "id": "ca5f38a9",
   "metadata": {
    "ExecuteTime": {
     "end_time": "2022-04-02T15:07:17.722231Z",
     "start_time": "2022-04-02T15:05:37.602260Z"
    }
   },
   "outputs": [],
   "source": [
    "# model definition\n",
    "rf = en.RandomForestClassifier(n_estimators=100, n_jobs=-1, random_state=14) \n",
    "\n",
    "# model training\n",
    "rf.fit(x_train, y_train)\n",
    "\n",
    "# model prediction\n",
    "yhat_rf = et.predict_proba(x_val)"
   ]
  },
  {
   "cell_type": "code",
   "execution_count": null,
   "id": "cb6e9ab2",
   "metadata": {
    "ExecuteTime": {
     "end_time": "2022-04-02T15:07:20.045144Z",
     "start_time": "2022-04-02T15:07:17.732072Z"
    },
    "scrolled": true
   },
   "outputs": [],
   "source": [
    "# Accumulative Gain\n",
    "fig, axs = plt.subplots(ncols= 2, figsize = (15,5))\n",
    "skplt.metrics.plot_cumulative_gain(y_val, yhat_rf, ax = axs[0])\n",
    "skplt.metrics.plot_lift_curve(y_val, yhat_rf, ax = axs[1]);"
   ]
  },
  {
   "cell_type": "code",
   "execution_count": null,
   "id": "87365b7b",
   "metadata": {
    "ExecuteTime": {
     "end_time": "2022-04-02T15:52:56.101020Z",
     "start_time": "2022-04-02T15:52:55.858185Z"
    }
   },
   "outputs": [],
   "source": [
    "# Performance\n",
    "\n",
    "# compute precision at k\n",
    "rfc_precision_at_k = round(precision_at_k(df7, x_validation, y_validation, yhat_rf, 25000), 3)\n",
    "print('RFC Model - Precision at K: {}'.format(rfc_precision_at_k))\n",
    "\n",
    "# compute Recall at k\n",
    "rfc_recall_at_k = round(recall_at_k(df7, x_validation, y_validation, yhat_rf, 25000), 3)\n",
    "print('RFC Model - Recall at K: {}'.format(rfc_recall_at_k))"
   ]
  },
  {
   "cell_type": "markdown",
   "id": "1cacda6b",
   "metadata": {},
   "source": [
    "### 7.4.1 Random Forest - Cross Validation"
   ]
  },
  {
   "cell_type": "code",
   "execution_count": null,
   "id": "20b20a19",
   "metadata": {
    "ExecuteTime": {
     "end_time": "2022-04-02T15:59:38.575449Z",
     "start_time": "2022-04-02T15:53:35.390958Z"
    }
   },
   "outputs": [],
   "source": [
    "rfc_cv  = cross_validation (df7, 5, 'RForest CV', rf, x_train, y_train, 20000)"
   ]
  },
  {
   "cell_type": "code",
   "execution_count": null,
   "id": "59557b0e",
   "metadata": {
    "ExecuteTime": {
     "end_time": "2022-04-02T16:22:22.665257Z",
     "start_time": "2022-04-02T16:22:22.644859Z"
    }
   },
   "outputs": [],
   "source": [
    "rp_rfc_cv = pd.DataFrame.from_dict(rfc_cv, orient='index').T"
   ]
  },
  {
   "cell_type": "markdown",
   "id": "0265b29f",
   "metadata": {},
   "source": [
    "## 7.5 XGBoost Classifier"
   ]
  },
  {
   "cell_type": "code",
   "execution_count": null,
   "id": "0a47c7bf",
   "metadata": {
    "ExecuteTime": {
     "end_time": "2022-04-02T16:09:52.364730Z",
     "start_time": "2022-04-02T16:08:44.402554Z"
    }
   },
   "outputs": [],
   "source": [
    "xgb_model = xgb.XGBClassifier(objective = 'binary:logistic', eval_metric = 'error')\n",
    "\n",
    "xgb_model.fit(x_train,y_train)\n",
    "\n",
    "yhat_xgb = xgb_model.predict_proba(x_val)"
   ]
  },
  {
   "cell_type": "code",
   "execution_count": null,
   "id": "317c388f",
   "metadata": {
    "ExecuteTime": {
     "end_time": "2022-04-02T16:09:57.754659Z",
     "start_time": "2022-04-02T16:09:55.471884Z"
    }
   },
   "outputs": [],
   "source": [
    "fig, axs = plt.subplots(ncols = 2, figsize = (15, 5))\n",
    "skplt.metrics.plot_cumulative_gain(y_val, yhat_xgb, ax = axs[0])\n",
    "skplt.metrics.plot_lift_curve(y_val, yhat_xgb, ax = axs[1]);"
   ]
  },
  {
   "cell_type": "code",
   "execution_count": null,
   "id": "9f1d676c",
   "metadata": {
    "ExecuteTime": {
     "end_time": "2022-04-02T16:10:10.732054Z",
     "start_time": "2022-04-02T16:10:10.415708Z"
    }
   },
   "outputs": [],
   "source": [
    "# Performance\n",
    "\n",
    "# compute precision at k\n",
    "xgb_precision_at_k = round(precision_at_k(df7, x_validation, y_validation, yhat_xgb, 25000), 3)\n",
    "print('RFC Model - Precision at K: {}'.format(xgb_precision_at_k))\n",
    "\n",
    "# compute Recall at k\n",
    "xgb_recall_at_k = round(recall_at_k(df7, x_validation, y_validation, yhat_xgb, 25000), 3)\n",
    "print('RFC Model - Recall at K: {}'.format(xgb_recall_at_k))"
   ]
  },
  {
   "cell_type": "markdown",
   "id": "1810e1d6",
   "metadata": {},
   "source": [
    "### 7.5.1 XGBoost - Cross Validation"
   ]
  },
  {
   "cell_type": "code",
   "execution_count": null,
   "id": "6b671c64",
   "metadata": {
    "ExecuteTime": {
     "end_time": "2022-04-02T16:15:27.078260Z",
     "start_time": "2022-04-02T16:10:44.297596Z"
    }
   },
   "outputs": [],
   "source": [
    "xgb_cv  = cross_validation (df7, 5, 'XGB CV', xgb_model, x_train, y_train, 20000)"
   ]
  },
  {
   "cell_type": "code",
   "execution_count": null,
   "id": "972329a2",
   "metadata": {
    "ExecuteTime": {
     "end_time": "2022-04-02T16:21:41.658202Z",
     "start_time": "2022-04-02T16:21:41.627560Z"
    }
   },
   "outputs": [],
   "source": [
    "rp_xgb_cv = pd.DataFrame.from_dict(xgb_cv, orient='index').T"
   ]
  },
  {
   "cell_type": "markdown",
   "id": "f0123541",
   "metadata": {},
   "source": [
    "## 7.6 Compare model's Performance"
   ]
  },
  {
   "cell_type": "markdown",
   "id": "29d9717c",
   "metadata": {},
   "source": [
    "### 7.6.1 Single Performance"
   ]
  },
  {
   "cell_type": "code",
   "execution_count": null,
   "id": "bf232600",
   "metadata": {
    "ExecuteTime": {
     "end_time": "2022-04-02T16:28:16.160965Z",
     "start_time": "2022-04-02T16:28:16.101677Z"
    }
   },
   "outputs": [],
   "source": [
    "m_perf_dict = {\n",
    "'Model Name'      : ['KNN', 'LRegression', 'Etrees', 'RForest', 'XGB'],\n",
    "'Precision_at_k': [knn_precision_at_k, lr_precision_at_k, et_precision_at_k, rfc_precision_at_k, xgb_precision_at_k],\n",
    "'Recall_at_k': [knn_recall_at_k, lr_recall_at_k, et_recall_at_k, rfc_recall_at_k, xgb_recall_at_k]}\n",
    "\n",
    "m_performance_sp = pd.DataFrame(m_perf_dict).sort_values('Recall_at_k', ascending = False).reset_index(drop = True)\n",
    "m_performance_sp"
   ]
  },
  {
   "cell_type": "markdown",
   "id": "a4ccde9b",
   "metadata": {},
   "source": [
    "### 7.6.2 Real Performance - Cross Validation"
   ]
  },
  {
   "cell_type": "code",
   "execution_count": null,
   "id": "4676c7fc",
   "metadata": {
    "ExecuteTime": {
     "end_time": "2022-04-02T16:27:54.655951Z",
     "start_time": "2022-04-02T16:27:54.609796Z"
    }
   },
   "outputs": [],
   "source": [
    "models_performance_cv = pd.concat([rp_knn_cv, rp_lr_cv, rp_et_cv, rp_rfc_cv, rp_xgb_cv]).sort_values('Recall_at_k', ascending = False).reset_index(drop = True)\n",
    "models_performance_cv"
   ]
  },
  {
   "cell_type": "code",
   "execution_count": null,
   "id": "3f4844a8",
   "metadata": {
    "ExecuteTime": {
     "end_time": "2022-04-02T16:30:30.373458Z",
     "start_time": "2022-04-02T16:30:30.186699Z"
    }
   },
   "outputs": [],
   "source": [
    "df7.to_pickle(r\"../data/interim/df7.pkl\")"
   ]
  },
  {
   "cell_type": "markdown",
   "id": "49c65d53",
   "metadata": {
    "heading_collapsed": true
   },
   "source": [
    "# 8.0 Hyperparameter fine tuning"
   ]
  },
  {
   "cell_type": "code",
   "execution_count": null,
   "id": "e50dc520",
   "metadata": {
    "ExecuteTime": {
     "end_time": "2022-04-02T16:31:06.425040Z",
     "start_time": "2022-04-02T16:31:06.389798Z"
    },
    "hidden": true
   },
   "outputs": [],
   "source": [
    "df8 = pd.read_pickle(r\"../data/interim/df7.pkl\")"
   ]
  },
  {
   "cell_type": "markdown",
   "id": "06a1055e",
   "metadata": {
    "heading_collapsed": true,
    "hidden": true
   },
   "source": [
    "## 8.1 Random Search"
   ]
  },
  {
   "cell_type": "code",
   "execution_count": null,
   "id": "1f2d335d",
   "metadata": {
    "ExecuteTime": {
     "end_time": "2022-04-02T16:31:09.289212Z",
     "start_time": "2022-04-02T16:31:09.247619Z"
    },
    "hidden": true
   },
   "outputs": [],
   "source": [
    "param = { 'objective'        : ['binary:logistic'],\n",
    "          'eval_metric'      : ['error'],\n",
    "          'n_estimators'     : [500, 750, 1000], \n",
    "          'eta'              : [0.01, 0.05, 0.09],\n",
    "          'max_depth'        : [1, 5, 9],\n",
    "          'subsample'        : [0.1, 0.5, 0.9],\n",
    "          'colsample_bytree' : [0.1, 0.5, 0.9],\n",
    "          'min_child_weight' : [3, 12, 20] \n",
    "        }\n",
    "\n",
    "MAX_EVAL = 10"
   ]
  },
  {
   "cell_type": "code",
   "execution_count": null,
   "id": "c33718f9",
   "metadata": {
    "ExecuteTime": {
     "end_time": "2022-04-02T21:04:16.068148Z",
     "start_time": "2022-04-02T21:04:16.047051Z"
    },
    "hidden": true
   },
   "outputs": [],
   "source": [
    "# final_result = pd.DataFrame({'Model Name':[], 'Precision_at_k': [], 'Recall_at_k': []})"
   ]
  },
  {
   "cell_type": "code",
   "execution_count": null,
   "id": "fd3b46e2",
   "metadata": {
    "ExecuteTime": {
     "end_time": "2022-04-02T23:50:19.987765Z",
     "start_time": "2022-04-02T21:04:30.303929Z"
    },
    "hidden": true
   },
   "outputs": [],
   "source": [
    "# for i in range (MAX_EVAL):\n",
    "#     hp = {w: random.sample(v, 1) [0] for w, v in param.items()}\n",
    "#     print ('Step ' + str(i + 1) + '/' + str(MAX_EVAL))\n",
    "#     print (hp)\n",
    "#     \n",
    "#     model_xgb = xgb.XGBClassifier(\n",
    "#                 objective = hp['objective'],\n",
    "#                 eval_metric = hp['eval_metric'],\n",
    "#                 n_estimators = hp['n_estimators'], \n",
    "#                 eta = hp['eta'], \n",
    "#                 max_depth = hp['max_depth'], \n",
    "#                 subsample = hp['subsample'],\n",
    "#                 colsample_bytree = hp['colsample_bytree'],\n",
    "#                 min_child_weight = hp['min_child_weight'])\n",
    "#     \n",
    "#     result = cross_validation (df8, 5, 'XGBoost FT', model_xgb, x_train, y_train, 20000)\n",
    "#     result = pd.DataFrame.from_dict(result, orient='index').T\n",
    "#     final_result = pd.concat([final_result, result])\n",
    "#     \n",
    "# final_result = pd.DataFrame(final_result)"
   ]
  },
  {
   "cell_type": "code",
   "execution_count": null,
   "id": "f78973f9",
   "metadata": {
    "ExecuteTime": {
     "end_time": "2022-04-03T00:44:12.348780Z",
     "start_time": "2022-04-03T00:44:12.291512Z"
    },
    "hidden": true
   },
   "outputs": [],
   "source": [
    "# final_result.reset_index(drop = True)"
   ]
  },
  {
   "cell_type": "code",
   "execution_count": null,
   "id": "d2b2ec94",
   "metadata": {
    "ExecuteTime": {
     "end_time": "2022-04-03T00:44:27.136579Z",
     "start_time": "2022-04-03T00:44:27.089159Z"
    },
    "hidden": true
   },
   "outputs": [],
   "source": [
    "# final_res = final_result.sort_values('Recall_at_k', ascending = False)\n",
    "# final_res "
   ]
  },
  {
   "cell_type": "markdown",
   "id": "69a187c9",
   "metadata": {
    "hidden": true
   },
   "source": [
    "## 8.2 Final Model"
   ]
  },
  {
   "cell_type": "code",
   "execution_count": null,
   "id": "1d901d18",
   "metadata": {
    "ExecuteTime": {
     "end_time": "2022-04-03T00:46:33.681846Z",
     "start_time": "2022-04-03T00:46:33.663263Z"
    },
    "hidden": true
   },
   "outputs": [],
   "source": [
    "xgb_param_tuned = {'objective': 'binary:logistic', \n",
    "                   'eval_metric': 'error', \n",
    "                   'n_estimators': 750, \n",
    "                   'eta': 0.05, \n",
    "                   'max_depth': 5, \n",
    "                   'subsample': 0.5, \n",
    "                   'colsample_bytree': 0.9, \n",
    "                   'min_child_weight': 20\n",
    "                  }"
   ]
  },
  {
   "cell_type": "code",
   "execution_count": null,
   "id": "9796edd4",
   "metadata": {
    "ExecuteTime": {
     "end_time": "2022-04-03T00:53:32.319646Z",
     "start_time": "2022-04-03T00:46:56.158452Z"
    },
    "hidden": true
   },
   "outputs": [],
   "source": [
    "model_xgb_tuned = xgb.XGBClassifier (\n",
    "    objective = xgb_param_tuned['objective'],\n",
    "    eval_metric = xgb_param_tuned['eval_metric'],\n",
    "    n_estimators = xgb_param_tuned['n_estimators'], \n",
    "    eta = xgb_param_tuned['eta'], \n",
    "    max_depth = xgb_param_tuned['max_depth'], \n",
    "    subsample = xgb_param_tuned['subsample'],\n",
    "    colsample_bytree = xgb_param_tuned['colsample_bytree'],\n",
    "    min_child_weight = xgb_param_tuned['min_child_weight'])\n",
    "\n",
    "model_xgb_tuned.fit(x_train, y_train)\n",
    "\n",
    "yhat_xgb_tuned = model_xgb_tuned.predict_proba(x_val)"
   ]
  },
  {
   "cell_type": "code",
   "execution_count": null,
   "id": "c0b77abb",
   "metadata": {
    "ExecuteTime": {
     "end_time": "2022-04-03T01:12:25.708975Z",
     "start_time": "2022-04-03T01:12:23.508384Z"
    },
    "hidden": true
   },
   "outputs": [],
   "source": [
    "# Accumulative Gain\n",
    "fig, axs = plt.subplots(ncols = 2, figsize = (15,5))\n",
    "skplt.metrics.plot_cumulative_gain(y_val, yhat_xgb_tuned, ax = axs[0])\n",
    "skplt.metrics.plot_lift_curve(y_val, yhat_xgb_tuned, ax = axs[1]);"
   ]
  },
  {
   "cell_type": "code",
   "execution_count": null,
   "id": "a524e5ae",
   "metadata": {
    "ExecuteTime": {
     "end_time": "2022-04-03T01:12:42.308207Z",
     "start_time": "2022-04-03T01:12:42.172034Z"
    },
    "hidden": true
   },
   "outputs": [],
   "source": [
    "# Compute Recall at k\n",
    "xgb_recall_at_20000 = round(recall_at_k(df8, x_validation, y_validation, yhat_xgb, 20000), 3)\n",
    "print('XGB Model - Recall at K: {}'.format(xgb_recall_at_k))"
   ]
  },
  {
   "cell_type": "markdown",
   "id": "8b1618fe",
   "metadata": {},
   "source": [
    "# 9.0 Error Interpretation"
   ]
  },
  {
   "cell_type": "markdown",
   "id": "2d04ea59",
   "metadata": {},
   "source": [
    "## 9.1 Machine Learning - Test Dataset"
   ]
  },
  {
   "cell_type": "code",
   "execution_count": null,
   "id": "c638a42a",
   "metadata": {
    "ExecuteTime": {
     "end_time": "2022-04-03T14:17:12.114205Z",
     "start_time": "2022-04-03T14:17:11.735228Z"
    },
    "scrolled": true
   },
   "outputs": [],
   "source": [
    "df_test = pd.read_csv('/home/work/Documents/repos/pa004_health_insurance_cross_sell/cfdo_health_insurance_cross_sell/health_insurance_cross_sell_gitlab/archive/data/external/test.csv')\n",
    "df_test_raw = df_test.copy()"
   ]
  },
  {
   "cell_type": "code",
   "execution_count": null,
   "id": "48d71e1f",
   "metadata": {
    "ExecuteTime": {
     "end_time": "2022-04-03T14:17:23.858779Z",
     "start_time": "2022-04-03T14:17:23.774900Z"
    }
   },
   "outputs": [],
   "source": [
    "df_test.head()"
   ]
  },
  {
   "cell_type": "code",
   "execution_count": null,
   "id": "cdf2d1bc",
   "metadata": {
    "ExecuteTime": {
     "end_time": "2022-04-03T14:17:35.887330Z",
     "start_time": "2022-04-03T14:17:29.563242Z"
    }
   },
   "outputs": [],
   "source": [
    "# PREPARING TEST DATASET\n",
    "\n",
    "cols_old = df_test.columns\n",
    "snakecase = lambda x: inflection.underscore(x)\n",
    "cols_new = list(map(snakecase, cols_old))\n",
    "df_test.columns = cols_new\n",
    "\n",
    "# Change datatypes\n",
    "\n",
    "df_test['region_code'] = df_test['region_code'].astype('int64')\n",
    "df_test['policy_sales_channel'] = df_test['policy_sales_channel'].astype('int64')\n",
    "df_test.dtypes\n",
    "\n",
    "# Feture Engineering\n",
    "\n",
    "df_test['vehicle_damage'] = df_test['vehicle_damage'].apply(lambda x: 1 if x == 'Yes' else 0)\n",
    "df_test['vehicle_age'] = df_test['vehicle_age'].apply(lambda x: 'over_2_years' if x == '> 2 Years' else 'between_1_2_year' if x == '1-2 Year'  else 'below_1_year')\n",
    "df_test['gender'] = df_test['gender'].apply( lambda x: 1 if x == 'Female' else 0)\n",
    "damage_per_rcode = df_test[['vehicle_damage']].groupby(df_test['region_code']).mean().reset_index()\n",
    "damage_per_rcode = damage_per_rcode.rename( columns = {'vehicle_damage' : 'damage_per_rcode'})\n",
    "df_test = df_test.merge(damage_per_rcode, on = 'region_code', how = 'left')\n",
    "df_test['damage_per_rcode'] = df_test['damage_per_rcode'].astype(np.float64)\n",
    "\n",
    "# Encoding\n",
    "\n",
    "df_test.loc[:, 'gender'] = df_test.loc[:, 'gender'].map(target_encode_gender)\n",
    "df_test.loc[:, 'age'] = mms_age.transform(df_test[['age']].values)\n",
    "df_test.loc[:, 'region_code'] = df_test.loc[:, 'region_code'].map(target_encode_region_code)\n",
    "df_test.loc[:, 'vehicle_age'] = df_test.loc[:, 'vehicle_age'].map(target_encode_vehicle_age)\n",
    "df_test.loc[:, 'annual_premium'] = ss.transform(df_test[['annual_premium']].values)\n",
    "df_test.loc[:, 'policy_sales_channel'] = df_test['policy_sales_channel'].map(fe_policy_sales_channel)\n",
    "df_test.loc[:, 'vintage'] = mms_vintage.transform(df_test[['vintage']].values)\n",
    "df_test = df_test.fillna(0)\n",
    "\n",
    "# Select columns to apply the machine learning algorithm\n",
    "\n",
    "cols_selected_importance = ['vintage', \n",
    "                            'annual_premium', \n",
    "                            'age', \n",
    "                            'region_code', \n",
    "                            'vehicle_damage', \n",
    "                            'policy_sales_channel',                                               'previously_insured',\n",
    "                            'vehicle_age',\n",
    "                            'damage_per_rcode']\n",
    "\n",
    "df_test_f = df_test[cols_selected_importance]\n",
    "yhat_xgb_tuned = model_xgb_tuned.predict_proba(df_test_f)\n",
    "\n",
    "# Make the prediction\n",
    "\n",
    "df_predict = df_test_raw.copy()\n",
    "df_predict['score'] = yhat_xgb_tuned[:,1].tolist()\n",
    "df_predict = df_predict.sort_values('score', ascending = False).reset_index()\n",
    "df_predict['ranking'] = df_predict.index + 1\n",
    "df_predict.head(5)"
   ]
  },
  {
   "cell_type": "markdown",
   "id": "fe75875f",
   "metadata": {},
   "source": [
    "## 9.2 Business Performance"
   ]
  },
  {
   "cell_type": "markdown",
   "id": "84e997bc",
   "metadata": {},
   "source": [
    "### 9.1.1 Percentage of clients interested in vehicle insurance that will be contacted with 20.000 calls."
   ]
  },
  {
   "cell_type": "code",
   "execution_count": null,
   "id": "cf60e17b",
   "metadata": {},
   "outputs": [],
   "source": []
  },
  {
   "cell_type": "markdown",
   "id": "a0e5a7bf",
   "metadata": {},
   "source": [
    "### 9.1.1 ROI Curve Manually"
   ]
  },
  {
   "cell_type": "code",
   "execution_count": 220,
   "id": "0185264b",
   "metadata": {
    "ExecuteTime": {
     "end_time": "2022-04-03T14:46:52.462645Z",
     "start_time": "2022-04-03T14:46:33.686456Z"
    }
   },
   "outputs": [
    {
     "data": {
      "text/plain": [
       "<AxesSubplot:xlabel='base_cum_perc', ylabel='lift'>"
      ]
     },
     "execution_count": 220,
     "metadata": {},
     "output_type": "execute_result"
    },
    {
     "data": {
      "image/png": "[encoded data removed]",
      "text/plain": [
       "<Figure size 864x576 with 1 Axes>"
      ]
     },
     "metadata": {},
     "output_type": "display_data"
    }
   ],
   "source": [
    "results = pd.DataFrame()\n",
    "results['prediction'] = yhat_et[:,1].tolist()\n",
    "results['real'] = y_val.tolist()\n",
    "\n",
    "# ordering by prediction\n",
    "results = results.sort_values( 'prediction', ascending=False )\n",
    "\n",
    "# Percentage of intereset ( Propensity Score )\n",
    "results['real_cum'] = results['real'].cumsum() \n",
    "results['real_cum_perc'] = 100*results['real_cum']/results['real'].sum()\n",
    "\n",
    "# Percentage of Base ( Clients )\n",
    "results['base'] = range( 1, len( results ) + 1  )\n",
    "results['base_cum_perc'] = 100*results['base']/len( results )\n",
    "\n",
    "# Basline model\n",
    "results['baseline'] = results['base_cum_perc']\n",
    "\n",
    "# Lift Calculation\n",
    "results['lift'] = results['real_cum_perc'] / results['base_cum_perc']\n",
    "\n",
    "# ROI Curve\n",
    "\n",
    "\n",
    "plt.figure( figsize=(12,8))\n",
    "sns.lineplot( x='base_cum_perc', y='lift', data=results )"
   ]
  },
  {
   "cell_type": "code",
   "execution_count": null,
   "id": "672dca3a",
   "metadata": {},
   "outputs": [],
   "source": [
    "results['']"
   ]
  },
  {
   "cell_type": "code",
   "execution_count": 225,
   "id": "49f72d8a",
   "metadata": {
    "ExecuteTime": {
     "end_time": "2022-04-03T15:01:21.304238Z",
     "start_time": "2022-04-03T15:01:20.591084Z"
    }
   },
   "outputs": [
    {
     "data": {
      "text/html": [
       "<div>\n",
       "<style scoped>\n",
       "    .dataframe tbody tr th:only-of-type {\n",
       "        vertical-align: middle;\n",
       "    }\n",
       "\n",
       "    .dataframe tbody tr th {\n",
       "        vertical-align: top;\n",
       "    }\n",
       "\n",
       "    .dataframe thead th {\n",
       "        text-align: right;\n",
       "    }\n",
       "</style>\n",
       "<table border=\"1\" class=\"dataframe\">\n",
       "  <thead>\n",
       "    <tr style=\"text-align: right;\">\n",
       "      <th></th>\n",
       "      <th>index</th>\n",
       "      <th>clients</th>\n",
       "      <th>propensity_score</th>\n",
       "      <th>gross_revenue</th>\n",
       "      <th>cost</th>\n",
       "      <th>base</th>\n",
       "      <th>revenue</th>\n",
       "    </tr>\n",
       "  </thead>\n",
       "  <tbody>\n",
       "    <tr>\n",
       "      <th>9</th>\n",
       "      <td>0.90</td>\n",
       "      <td>0.9</td>\n",
       "      <td>221</td>\n",
       "      <td>7956.0</td>\n",
       "      <td>3.6</td>\n",
       "      <td>1.000000</td>\n",
       "      <td>7952.4</td>\n",
       "    </tr>\n",
       "    <tr>\n",
       "      <th>8</th>\n",
       "      <td>0.80</td>\n",
       "      <td>0.8</td>\n",
       "      <td>423</td>\n",
       "      <td>13536.0</td>\n",
       "      <td>3.2</td>\n",
       "      <td>0.800000</td>\n",
       "      <td>13532.8</td>\n",
       "    </tr>\n",
       "    <tr>\n",
       "      <th>7</th>\n",
       "      <td>0.70</td>\n",
       "      <td>0.7</td>\n",
       "      <td>839</td>\n",
       "      <td>23492.0</td>\n",
       "      <td>2.8</td>\n",
       "      <td>0.622222</td>\n",
       "      <td>23489.2</td>\n",
       "    </tr>\n",
       "    <tr>\n",
       "      <th>6</th>\n",
       "      <td>0.60</td>\n",
       "      <td>0.6</td>\n",
       "      <td>1435</td>\n",
       "      <td>34440.0</td>\n",
       "      <td>2.4</td>\n",
       "      <td>0.466667</td>\n",
       "      <td>34437.6</td>\n",
       "    </tr>\n",
       "    <tr>\n",
       "      <th>5</th>\n",
       "      <td>0.50</td>\n",
       "      <td>0.5</td>\n",
       "      <td>2288</td>\n",
       "      <td>45760.0</td>\n",
       "      <td>2.0</td>\n",
       "      <td>0.333333</td>\n",
       "      <td>45758.0</td>\n",
       "    </tr>\n",
       "    <tr>\n",
       "      <th>4</th>\n",
       "      <td>0.40</td>\n",
       "      <td>0.4</td>\n",
       "      <td>3307</td>\n",
       "      <td>52912.0</td>\n",
       "      <td>1.6</td>\n",
       "      <td>0.222222</td>\n",
       "      <td>52910.4</td>\n",
       "    </tr>\n",
       "    <tr>\n",
       "      <th>3</th>\n",
       "      <td>0.30</td>\n",
       "      <td>0.3</td>\n",
       "      <td>4637</td>\n",
       "      <td>55644.0</td>\n",
       "      <td>1.2</td>\n",
       "      <td>0.133333</td>\n",
       "      <td>55642.8</td>\n",
       "    </tr>\n",
       "    <tr>\n",
       "      <th>2</th>\n",
       "      <td>0.20</td>\n",
       "      <td>0.2</td>\n",
       "      <td>6114</td>\n",
       "      <td>48912.0</td>\n",
       "      <td>0.8</td>\n",
       "      <td>0.066667</td>\n",
       "      <td>48911.2</td>\n",
       "    </tr>\n",
       "    <tr>\n",
       "      <th>1</th>\n",
       "      <td>0.10</td>\n",
       "      <td>0.1</td>\n",
       "      <td>7698</td>\n",
       "      <td>30792.0</td>\n",
       "      <td>0.4</td>\n",
       "      <td>0.022222</td>\n",
       "      <td>30791.6</td>\n",
       "    </tr>\n",
       "    <tr>\n",
       "      <th>0</th>\n",
       "      <td>0.01</td>\n",
       "      <td>0.0</td>\n",
       "      <td>49260</td>\n",
       "      <td>0.0</td>\n",
       "      <td>0.0</td>\n",
       "      <td>0.000000</td>\n",
       "      <td>0.0</td>\n",
       "    </tr>\n",
       "  </tbody>\n",
       "</table>\n",
       "</div>"
      ],
      "text/plain": [
       "   index  clients  propensity_score  gross_revenue  cost      base  revenue\n",
       "9   0.90      0.9               221         7956.0   3.6  1.000000   7952.4\n",
       "8   0.80      0.8               423        13536.0   3.2  0.800000  13532.8\n",
       "7   0.70      0.7               839        23492.0   2.8  0.622222  23489.2\n",
       "6   0.60      0.6              1435        34440.0   2.4  0.466667  34437.6\n",
       "5   0.50      0.5              2288        45760.0   2.0  0.333333  45758.0\n",
       "4   0.40      0.4              3307        52912.0   1.6  0.222222  52910.4\n",
       "3   0.30      0.3              4637        55644.0   1.2  0.133333  55642.8\n",
       "2   0.20      0.2              6114        48912.0   0.8  0.066667  48911.2\n",
       "1   0.10      0.1              7698        30792.0   0.4  0.022222  30791.6\n",
       "0   0.01      0.0             49260            0.0   0.0  0.000000      0.0"
      ]
     },
     "execution_count": 225,
     "metadata": {},
     "output_type": "execute_result"
    }
   ],
   "source": [
    "# Compute bucket\n",
    "results['bucket'] = results['prediction'].apply( lambda x: 0.9 if x >= 0.90 else \n",
    "                                                           0.8 if ( x >= 0.80) & ( x <= 0.90 ) else \n",
    "                                                           0.7 if ( x >= 0.70) & ( x <= 0.80 ) else \n",
    "                                                           0.6 if ( x >= 0.60) & ( x <= 0.70 ) else \n",
    "                                                           0.5 if ( x >= 0.50) & ( x <= 0.60 ) else \n",
    "                                                           0.4 if ( x >= 0.40) & ( x <= 0.50 ) else \n",
    "                                                           0.3 if ( x >= 0.30) & ( x <= 0.40 ) else \n",
    "                                                           0.2 if ( x >= 0.20) & ( x <= 0.30 ) else \n",
    "                                                           0.1 if ( x >= 0.10) & ( x <= 0.20 ) else 0.01 )\n",
    "\n",
    "#  Aggregate clients among buckets\n",
    "df = results[['prediction','bucket']].groupby( 'bucket' ).agg( {'min', 'count'} ).reset_index()\n",
    "df.columns = df.columns.droplevel()\n",
    "df.columns = ['index', 'clients', 'propensity_score']\n",
    "\n",
    "# Compute revenue and cost\n",
    "df['gross_revenue'] = 40 * df['clients'] * df['propensity_score'] \n",
    "df['cost'] = 4 * df['clients']\n",
    "\n",
    "df['base'] = df['clients'].sort_values( ascending=True ).cumsum() / df['clients'].sum()\n",
    "\n",
    "# revenue\n",
    "df['revenue'] = df['gross_revenue'] - df['cost']\n",
    "df = df.sort_values( 'index', ascending=False )\n",
    "df"
   ]
  },
  {
   "cell_type": "code",
   "execution_count": 226,
   "id": "3782de79",
   "metadata": {
    "ExecuteTime": {
     "end_time": "2022-04-03T15:01:26.829557Z",
     "start_time": "2022-04-03T15:01:25.714039Z"
    }
   },
   "outputs": [
    {
     "data": {
      "text/plain": [
       "<AxesSubplot:xlabel='base', ylabel='revenue'>"
      ]
     },
     "execution_count": 226,
     "metadata": {},
     "output_type": "execute_result"
    },
    {
     "data": {
      "image/png": "[encoded data removed]",
      "text/plain": [
       "<Figure size 864x576 with 1 Axes>"
      ]
     },
     "metadata": {},
     "output_type": "display_data"
    }
   ],
   "source": [
    "plt.figure( figsize=(12,8))\n",
    "aux = df[df['propensity_score'] >= 0.1]\n",
    "sns.lineplot( x='base', y='revenue', data=aux )"
   ]
  },
  {
   "cell_type": "markdown",
   "id": "7c61fc67",
   "metadata": {
    "heading_collapsed": true
   },
   "source": [
    "# 10.0 Deploy to production"
   ]
  },
  {
   "cell_type": "code",
   "execution_count": 105,
   "id": "8445a05d",
   "metadata": {
    "ExecuteTime": {
     "end_time": "2022-03-15T19:09:24.505500Z",
     "start_time": "2022-03-15T19:09:24.466632Z"
    },
    "hidden": true
   },
   "outputs": [],
   "source": [
    "# Save trained model\n",
    "# lr selected due machine processing\n",
    "pickle.dump(lr_model, open('/home/work/Documents/repos/pa004_health_insurance_cross_sell/cfdo_health_insurance_cross_sell/health_insurance_cross_sell_gitlab/archive/src/models/model_linear_regression.pkl', 'wb')) # wb -> write bytes"
   ]
  },
  {
   "cell_type": "markdown",
   "id": "f84f5df3",
   "metadata": {
    "hidden": true
   },
   "source": [
    "## 10.1 Health Insurance Class"
   ]
  },
  {
   "cell_type": "code",
   "execution_count": 106,
   "id": "8f87bbdf",
   "metadata": {
    "ExecuteTime": {
     "end_time": "2022-03-15T19:09:28.623765Z",
     "start_time": "2022-03-15T19:09:28.502946Z"
    },
    "hidden": true
   },
   "outputs": [],
   "source": [
    "import pickle\n",
    "import numpy  as np\n",
    "import pandas as pd\n",
    "\n",
    "class HealthInsurance:\n",
    "    \n",
    "    def __init__(self):\n",
    "        self.home_path = '/home/work/Documents/repos/pa004_health_insurance_cross_sell/cfdo_health_insurance_cross_sell/health_insurance_cross_sell_gitlab/archive/'\n",
    "        self.annual_premium_scaler = pickle.load(open(self.home_path + 'src/features/annual_premium_scaler.pkl'))\n",
    "        \n",
    "        self.age_scaler = pickle.load(open(self.home_path + 'src/features/age_scaler.pkl')) \n",
    "        \n",
    "        self.vintage_scaler = pickle.load(open( self.home_path + 'src/features/vintage_scaler.pkl')) \n",
    "        \n",
    "        self.target_encode_gender_scaler = pickle.load(open(self.home_path + 'src/features/target_encode_gender_scaler.pkl'))\n",
    "        \n",
    "        self.target_encode_region_code_scaler = pickle.load(open(self.home_path + 'src/features/target_encode_region_code_scaler.pkl'))\n",
    "        \n",
    "        self.fe_policy_sales_channel_scaler = pickle.load(open(self.home_path + 'src/features/fe_policy_sales_channel_scaler.pkl'))\n",
    "        \n",
    "    def data_cleaning(self, df1):\n",
    "        # 1.1. Rename Columns\n",
    "        cols_new = ['id', 'gender', 'age', 'region_code', 'policy_sales_channel', 'driving_license', 'vehicle_age', 'vehicle_damage', 'previously_insured', 'annual_premium', 'vintage', 'response']\n",
    "\n",
    "        # rename \n",
    "        df1.columns = cols_new\n",
    "        \n",
    "        return df1 \n",
    "\n",
    "    \n",
    "    def feature_engineering(self, df2):\n",
    "        # 2.0. Feature Engineering\n",
    "\n",
    "        # Vehicle Damage Number\n",
    "        df2['vehicle_damage'] = df2['vehicle_damage'].apply(lambda x: 1 if x == 'Yes' else 0)\n",
    "\n",
    "        # Vehicle Age\n",
    "        df2['vehicle_age'] =  df2['vehicle_age'].apply(lambda x: 'over_2_years' if x == '> 2 Years' else 'between_1_2_year' if x == '1-2 Year' else 'below_1_year')\n",
    "        \n",
    "        return df2\n",
    "    \n",
    "    \n",
    "    def data_preparation(self, df5):\n",
    "        # anual premium - StandarScaler\n",
    "        # aqui a api carrega o pickle com os parâmetros já feitos com o fit anteriormente e aplica através do método transform (não mais fit.transform) nos dados de teste.\n",
    "        df5['annual_premium'] = self.annual_premium_scaler.transform(df5[['annual_premium']].values)\n",
    "\n",
    "        # Age - MinMaxScaler\n",
    "        df5['age'] = self.age_scaler.transform(df5[['age']].values)\n",
    "\n",
    "        # Vintage - MinMaxScaler\n",
    "        df5['vintage'] = self.vintage_scaler.transform(df5[['vintage']].values)\n",
    "\n",
    "        # gender - One Hot Encoding / Target Encoding\n",
    "        df5.loc[:, 'gender'] = df5['gender'].map(self.target_encode_gender_scaler)\n",
    "\n",
    "        # region_code - Target Encoding / Frequency Encoding\n",
    "        df5.loc[:, 'region_code'] = df5['region_code'].map(self.target_encode_region_code_scaler)\n",
    "\n",
    "        # vehicle_age - One Hot Encoding / Frequency Encoding\n",
    "        df5 = pd.get_dummies(df5, prefix='vehicle_age', columns=['vehicle_age'])\n",
    "\n",
    "        # policy_sales_channel - Target Encoding / Frequency Encoding\n",
    "        df5.loc[:, 'policy_sales_channel'] = df5['policy_sales_channel'].map(self.fe_policy_sales_channel_scaler)\n",
    "        \n",
    "        # Feature Selection\n",
    "        cols_selected = ['vintage', 'annual_premium', 'age', 'region_code', 'policy_sales_channel']\n",
    "        \n",
    "        return df5[cols_selected]\n",
    "    \n",
    "    \n",
    "    def get_prediction(self, model, original_data, test_data):\n",
    "        # model prediction\n",
    "        pred = model.predict_proba(test_data)\n",
    "        \n",
    "        # join prediction into original data\n",
    "        #original_data['prediction'] = pred\n",
    "        original_data['score'] = pred\n",
    "        \n",
    "        return original_data.to_json(orient='records', date_format='iso')"
   ]
  },
  {
   "cell_type": "markdown",
   "id": "a8b26180",
   "metadata": {
    "hidden": true
   },
   "source": [
    "## 10.2 API Handler"
   ]
  },
  {
   "cell_type": "markdown",
   "id": "5db5040b",
   "metadata": {
    "hidden": true
   },
   "source": [
    "Preparing the API to receive the request"
   ]
  },
  {
   "cell_type": "code",
   "execution_count": 8,
   "id": "94c19907",
   "metadata": {
    "ExecuteTime": {
     "end_time": "2022-03-14T18:24:11.321306Z",
     "start_time": "2022-03-14T18:24:10.940047Z"
    },
    "hidden": true
   },
   "outputs": [
    {
     "name": "stdout",
     "output_type": "stream",
     "text": [
      " * Serving Flask app '__main__' (lazy loading)\n",
      " * Environment: production\n",
      "\u001b[31m   WARNING: This is a development server. Do not use it in a production deployment.\u001b[0m\n",
      "\u001b[2m   Use a production WSGI server instead.\u001b[0m\n",
      " * Debug mode: on\n"
     ]
    },
    {
     "ename": "OSError",
     "evalue": "[Errno 98] Address already in use",
     "output_type": "error",
     "traceback": [
      "\u001b[0;31m---------------------------------------------------------------------------\u001b[0m",
      "\u001b[0;31mOSError\u001b[0m                                   Traceback (most recent call last)",
      "Input \u001b[0;32mIn [8]\u001b[0m, in \u001b[0;36m<module>\u001b[0;34m\u001b[0m\n\u001b[1;32m     44\u001b[0m         \u001b[38;5;28;01mreturn\u001b[39;00m Response(\u001b[38;5;124m'\u001b[39m\u001b[38;5;132;01m{}\u001b[39;00m\u001b[38;5;124m'\u001b[39m, status\u001b[38;5;241m=\u001b[39m\u001b[38;5;241m200\u001b[39m, mimetype\u001b[38;5;241m=\u001b[39m\u001b[38;5;124m'\u001b[39m\u001b[38;5;124mapplication/json\u001b[39m\u001b[38;5;124m'\u001b[39m)\n\u001b[1;32m     46\u001b[0m \u001b[38;5;28;01mif\u001b[39;00m \u001b[38;5;18m__name__\u001b[39m \u001b[38;5;241m==\u001b[39m \u001b[38;5;124m'\u001b[39m\u001b[38;5;124m__main__\u001b[39m\u001b[38;5;124m'\u001b[39m:\n\u001b[1;32m     47\u001b[0m     \u001b[38;5;66;03m# port = os.environ.get('PORT', 5000) ->  no heroku a porta é passada via variável de ambiente\u001b[39;00m\n\u001b[0;32m---> 48\u001b[0m     \u001b[43mapp\u001b[49m\u001b[38;5;241;43m.\u001b[39;49m\u001b[43mrun\u001b[49m\u001b[43m(\u001b[49m\u001b[38;5;124;43m'\u001b[39;49m\u001b[38;5;124;43m0.0.0.0\u001b[39;49m\u001b[38;5;124;43m'\u001b[39;49m\u001b[43m,\u001b[49m\u001b[43m \u001b[49m\u001b[43mdebug\u001b[49m\u001b[38;5;241;43m=\u001b[39;49m\u001b[38;5;28;43;01mTrue\u001b[39;49;00m\u001b[43m)\u001b[49m\n",
      "File \u001b[0;32m~/.pyenv/versions/3.8.0/envs/HealthInsurance/lib/python3.8/site-packages/flask/app.py:920\u001b[0m, in \u001b[0;36mFlask.run\u001b[0;34m(self, host, port, debug, load_dotenv, **options)\u001b[0m\n\u001b[1;32m    917\u001b[0m \u001b[38;5;28;01mfrom\u001b[39;00m \u001b[38;5;21;01mwerkzeug\u001b[39;00m\u001b[38;5;21;01m.\u001b[39;00m\u001b[38;5;21;01mserving\u001b[39;00m \u001b[38;5;28;01mimport\u001b[39;00m run_simple\n\u001b[1;32m    919\u001b[0m \u001b[38;5;28;01mtry\u001b[39;00m:\n\u001b[0;32m--> 920\u001b[0m     \u001b[43mrun_simple\u001b[49m\u001b[43m(\u001b[49m\u001b[43mt\u001b[49m\u001b[38;5;241;43m.\u001b[39;49m\u001b[43mcast\u001b[49m\u001b[43m(\u001b[49m\u001b[38;5;28;43mstr\u001b[39;49m\u001b[43m,\u001b[49m\u001b[43m \u001b[49m\u001b[43mhost\u001b[49m\u001b[43m)\u001b[49m\u001b[43m,\u001b[49m\u001b[43m \u001b[49m\u001b[43mport\u001b[49m\u001b[43m,\u001b[49m\u001b[43m \u001b[49m\u001b[38;5;28;43mself\u001b[39;49m\u001b[43m,\u001b[49m\u001b[43m \u001b[49m\u001b[38;5;241;43m*\u001b[39;49m\u001b[38;5;241;43m*\u001b[39;49m\u001b[43moptions\u001b[49m\u001b[43m)\u001b[49m\n\u001b[1;32m    921\u001b[0m \u001b[38;5;28;01mfinally\u001b[39;00m:\n\u001b[1;32m    922\u001b[0m     \u001b[38;5;66;03m# reset the first request information if the development server\u001b[39;00m\n\u001b[1;32m    923\u001b[0m     \u001b[38;5;66;03m# reset normally.  This makes it possible to restart the server\u001b[39;00m\n\u001b[1;32m    924\u001b[0m     \u001b[38;5;66;03m# without reloader and that stuff from an interactive shell.\u001b[39;00m\n\u001b[1;32m    925\u001b[0m     \u001b[38;5;28mself\u001b[39m\u001b[38;5;241m.\u001b[39m_got_first_request \u001b[38;5;241m=\u001b[39m \u001b[38;5;28;01mFalse\u001b[39;00m\n",
      "File \u001b[0;32m~/.pyenv/versions/3.8.0/envs/HealthInsurance/lib/python3.8/site-packages/werkzeug/serving.py:991\u001b[0m, in \u001b[0;36mrun_simple\u001b[0;34m(hostname, port, application, use_reloader, use_debugger, use_evalex, extra_files, exclude_patterns, reloader_interval, reloader_type, threaded, processes, request_handler, static_files, passthrough_errors, ssl_context)\u001b[0m\n\u001b[1;32m    989\u001b[0m s \u001b[38;5;241m=\u001b[39m socket\u001b[38;5;241m.\u001b[39msocket(address_family, socket\u001b[38;5;241m.\u001b[39mSOCK_STREAM)\n\u001b[1;32m    990\u001b[0m s\u001b[38;5;241m.\u001b[39msetsockopt(socket\u001b[38;5;241m.\u001b[39mSOL_SOCKET, socket\u001b[38;5;241m.\u001b[39mSO_REUSEADDR, \u001b[38;5;241m1\u001b[39m)\n\u001b[0;32m--> 991\u001b[0m \u001b[43ms\u001b[49m\u001b[38;5;241;43m.\u001b[39;49m\u001b[43mbind\u001b[49m\u001b[43m(\u001b[49m\u001b[43mserver_address\u001b[49m\u001b[43m)\u001b[49m\n\u001b[1;32m    992\u001b[0m s\u001b[38;5;241m.\u001b[39mset_inheritable(\u001b[38;5;28;01mTrue\u001b[39;00m)\n\u001b[1;32m    994\u001b[0m \u001b[38;5;66;03m# If we can open the socket by file descriptor, then we can just\u001b[39;00m\n\u001b[1;32m    995\u001b[0m \u001b[38;5;66;03m# reuse this one and our socket will survive the restarts.\u001b[39;00m\n",
      "\u001b[0;31mOSError\u001b[0m: [Errno 98] Address already in use"
     ]
    }
   ],
   "source": [
    "import os\n",
    "import pickle\n",
    "import pandas as pd\n",
    "from flask import Flask, request, Response\n",
    "from healthinsurance import HealthInsurance\n",
    "\n",
    "# loading model (direct to the memory to make consultant faster)\n",
    "path = '/home/work/Documents/repos/pa004_health_insurance_cross_sell/cfdo_health_insurance_cross_sell/health_insurance_cross_sell_gitlab/archive/'\n",
    "model = pickle.load(open(path + 'src/models/model_linear_regression.pkl', 'rb'))\n",
    "\n",
    "# initialize API\n",
    "app = Flask(__name__)\n",
    "\n",
    "# rout of call from API, after route is caled hte next function is executed sequencially\n",
    "@app.route('/predict', methods=['POST'])\n",
    "def health_insurance_predict():\n",
    "    test_json = request.get_json()\n",
    "    \n",
    "    if test_json: # there is data\n",
    "        if isinstance(test_json, dict): # unique example\n",
    "            test_raw = pd.DataFrame(test_json, index=[0])\n",
    "                                   # data type, column names   \n",
    "        else: # multiple example\n",
    "            test_raw = pd.DataFrame(test_json, columns=test_json[0].keys())\n",
    "            \n",
    "        # Instantiate Rossmann class\n",
    "        pipeline = HealthInsurance()\n",
    "        \n",
    "        # data cleaning\n",
    "        df1 = pipeline.data_cleaning(test_raw)\n",
    "        \n",
    "        # feature engineering\n",
    "        df2 = pipeline.feature_engineering(df1)\n",
    "        \n",
    "        # data preparation\n",
    "        df3 = pipeline.data_preparation(df2)\n",
    "        \n",
    "        # prediction\n",
    "        df_response = pipeline.get_prediction(model, test_raw, df3)\n",
    "        \n",
    "        return df_response\n",
    "    \n",
    "    else:\n",
    "        return Response('{}', status=200, mimetype='application/json')\n",
    "    \n",
    "if __name__ == '__main__':\n",
    "    # port = os.environ.get('PORT', 5000) ->  no heroku a porta é passada via variável de ambiente\n",
    "    app.run('0.0.0.0', debug=True)"
   ]
  },
  {
   "cell_type": "markdown",
   "id": "fd049163",
   "metadata": {
    "hidden": true
   },
   "source": [
    "## 10.3. API Tester"
   ]
  },
  {
   "cell_type": "code",
   "execution_count": 2,
   "id": "3eb790b0",
   "metadata": {
    "ExecuteTime": {
     "end_time": "2022-03-15T20:07:58.988817Z",
     "start_time": "2022-03-15T20:07:58.567736Z"
    },
    "hidden": true
   },
   "outputs": [],
   "source": [
    "import requests"
   ]
  },
  {
   "cell_type": "code",
   "execution_count": 3,
   "id": "9efd161a",
   "metadata": {
    "ExecuteTime": {
     "end_time": "2022-03-15T20:07:59.964422Z",
     "start_time": "2022-03-15T20:07:59.881141Z"
    },
    "hidden": true
   },
   "outputs": [
    {
     "ename": "NameError",
     "evalue": "name 'x_validation' is not defined",
     "output_type": "error",
     "traceback": [
      "\u001b[0;31m---------------------------------------------------------------------------\u001b[0m",
      "\u001b[0;31mNameError\u001b[0m                                 Traceback (most recent call last)",
      "Input \u001b[0;32mIn [3]\u001b[0m, in \u001b[0;36m<module>\u001b[0;34m\u001b[0m\n\u001b[1;32m      1\u001b[0m \u001b[38;5;66;03m# loading test dataset\u001b[39;00m\n\u001b[0;32m----> 2\u001b[0m df_test \u001b[38;5;241m=\u001b[39m \u001b[43mx_validation\u001b[49m\n\u001b[1;32m      3\u001b[0m df_test[\u001b[38;5;124m'\u001b[39m\u001b[38;5;124mresponse\u001b[39m\u001b[38;5;124m'\u001b[39m] \u001b[38;5;241m=\u001b[39m y_validation\n",
      "\u001b[0;31mNameError\u001b[0m: name 'x_validation' is not defined"
     ]
    }
   ],
   "source": [
    "# loading test dataset\n",
    "df_test = x_validation\n",
    "df_test['response'] = y_validation"
   ]
  },
  {
   "cell_type": "code",
   "execution_count": 109,
   "id": "42d20c5c",
   "metadata": {
    "ExecuteTime": {
     "end_time": "2022-03-15T19:17:00.337707Z",
     "start_time": "2022-03-15T19:17:00.119875Z"
    },
    "hidden": true
   },
   "outputs": [
    {
     "data": {
      "text/html": [
       "<div>\n",
       "<style scoped>\n",
       "    .dataframe tbody tr th:only-of-type {\n",
       "        vertical-align: middle;\n",
       "    }\n",
       "\n",
       "    .dataframe tbody tr th {\n",
       "        vertical-align: top;\n",
       "    }\n",
       "\n",
       "    .dataframe thead th {\n",
       "        text-align: right;\n",
       "    }\n",
       "</style>\n",
       "<table border=\"1\" class=\"dataframe\">\n",
       "  <thead>\n",
       "    <tr style=\"text-align: right;\">\n",
       "      <th></th>\n",
       "      <th>id</th>\n",
       "      <th>gender</th>\n",
       "      <th>age</th>\n",
       "      <th>region_code</th>\n",
       "      <th>policy_sales_channel</th>\n",
       "      <th>driving_license</th>\n",
       "      <th>vehicle_damage</th>\n",
       "      <th>previously_insured</th>\n",
       "      <th>annual_premium</th>\n",
       "      <th>vintage</th>\n",
       "      <th>vehicle_age_below_1_year</th>\n",
       "      <th>vehicle_age_between_1_2_year</th>\n",
       "      <th>vehicle_age_over_2_years</th>\n",
       "      <th>response</th>\n",
       "    </tr>\n",
       "  </thead>\n",
       "  <tbody>\n",
       "    <tr>\n",
       "      <th>283682</th>\n",
       "      <td>361072</td>\n",
       "      <td>0.103344</td>\n",
       "      <td>0.153846</td>\n",
       "      <td>0.121342</td>\n",
       "      <td>0.353718</td>\n",
       "      <td>1</td>\n",
       "      <td>0</td>\n",
       "      <td>1</td>\n",
       "      <td>0.141219</td>\n",
       "      <td>0.965398</td>\n",
       "      <td>1</td>\n",
       "      <td>0</td>\n",
       "      <td>0</td>\n",
       "      <td>0</td>\n",
       "    </tr>\n",
       "    <tr>\n",
       "      <th>4090</th>\n",
       "      <td>32761</td>\n",
       "      <td>0.103344</td>\n",
       "      <td>0.092308</td>\n",
       "      <td>0.071085</td>\n",
       "      <td>0.353718</td>\n",
       "      <td>1</td>\n",
       "      <td>0</td>\n",
       "      <td>1</td>\n",
       "      <td>-0.457211</td>\n",
       "      <td>0.245675</td>\n",
       "      <td>1</td>\n",
       "      <td>0</td>\n",
       "      <td>0</td>\n",
       "      <td>0</td>\n",
       "    </tr>\n",
       "    <tr>\n",
       "      <th>353533</th>\n",
       "      <td>160790</td>\n",
       "      <td>0.103344</td>\n",
       "      <td>0.030769</td>\n",
       "      <td>0.061205</td>\n",
       "      <td>0.057179</td>\n",
       "      <td>1</td>\n",
       "      <td>1</td>\n",
       "      <td>0</td>\n",
       "      <td>0.340173</td>\n",
       "      <td>0.456747</td>\n",
       "      <td>1</td>\n",
       "      <td>0</td>\n",
       "      <td>0</td>\n",
       "      <td>0</td>\n",
       "    </tr>\n",
       "    <tr>\n",
       "      <th>91968</th>\n",
       "      <td>352733</td>\n",
       "      <td>0.138380</td>\n",
       "      <td>0.030769</td>\n",
       "      <td>0.097306</td>\n",
       "      <td>0.353718</td>\n",
       "      <td>1</td>\n",
       "      <td>1</td>\n",
       "      <td>0</td>\n",
       "      <td>-0.130626</td>\n",
       "      <td>0.155709</td>\n",
       "      <td>1</td>\n",
       "      <td>0</td>\n",
       "      <td>0</td>\n",
       "      <td>0</td>\n",
       "    </tr>\n",
       "    <tr>\n",
       "      <th>100310</th>\n",
       "      <td>38075</td>\n",
       "      <td>0.138380</td>\n",
       "      <td>0.707692</td>\n",
       "      <td>0.065117</td>\n",
       "      <td>0.208910</td>\n",
       "      <td>1</td>\n",
       "      <td>1</td>\n",
       "      <td>0</td>\n",
       "      <td>-1.619917</td>\n",
       "      <td>0.653979</td>\n",
       "      <td>0</td>\n",
       "      <td>1</td>\n",
       "      <td>0</td>\n",
       "      <td>0</td>\n",
       "    </tr>\n",
       "    <tr>\n",
       "      <th>259037</th>\n",
       "      <td>164599</td>\n",
       "      <td>0.138380</td>\n",
       "      <td>0.584615</td>\n",
       "      <td>0.096926</td>\n",
       "      <td>0.194249</td>\n",
       "      <td>1</td>\n",
       "      <td>0</td>\n",
       "      <td>1</td>\n",
       "      <td>1.267102</td>\n",
       "      <td>0.339100</td>\n",
       "      <td>0</td>\n",
       "      <td>1</td>\n",
       "      <td>0</td>\n",
       "      <td>0</td>\n",
       "    </tr>\n",
       "    <tr>\n",
       "      <th>24851</th>\n",
       "      <td>198476</td>\n",
       "      <td>0.103344</td>\n",
       "      <td>0.030769</td>\n",
       "      <td>0.121342</td>\n",
       "      <td>0.353718</td>\n",
       "      <td>1</td>\n",
       "      <td>0</td>\n",
       "      <td>1</td>\n",
       "      <td>-0.029264</td>\n",
       "      <td>0.128028</td>\n",
       "      <td>1</td>\n",
       "      <td>0</td>\n",
       "      <td>0</td>\n",
       "      <td>0</td>\n",
       "    </tr>\n",
       "    <tr>\n",
       "      <th>205940</th>\n",
       "      <td>120000</td>\n",
       "      <td>0.103344</td>\n",
       "      <td>0.784615</td>\n",
       "      <td>0.186336</td>\n",
       "      <td>0.194249</td>\n",
       "      <td>1</td>\n",
       "      <td>0</td>\n",
       "      <td>0</td>\n",
       "      <td>0.041016</td>\n",
       "      <td>0.114187</td>\n",
       "      <td>0</td>\n",
       "      <td>1</td>\n",
       "      <td>0</td>\n",
       "      <td>0</td>\n",
       "    </tr>\n",
       "    <tr>\n",
       "      <th>260871</th>\n",
       "      <td>179297</td>\n",
       "      <td>0.138380</td>\n",
       "      <td>0.030769</td>\n",
       "      <td>0.102524</td>\n",
       "      <td>0.353718</td>\n",
       "      <td>1</td>\n",
       "      <td>0</td>\n",
       "      <td>1</td>\n",
       "      <td>0.453365</td>\n",
       "      <td>0.397924</td>\n",
       "      <td>1</td>\n",
       "      <td>0</td>\n",
       "      <td>0</td>\n",
       "      <td>0</td>\n",
       "    </tr>\n",
       "    <tr>\n",
       "      <th>177438</th>\n",
       "      <td>274773</td>\n",
       "      <td>0.138380</td>\n",
       "      <td>0.476923</td>\n",
       "      <td>0.186336</td>\n",
       "      <td>0.208910</td>\n",
       "      <td>1</td>\n",
       "      <td>1</td>\n",
       "      <td>0</td>\n",
       "      <td>0.354380</td>\n",
       "      <td>0.885813</td>\n",
       "      <td>0</td>\n",
       "      <td>0</td>\n",
       "      <td>1</td>\n",
       "      <td>0</td>\n",
       "    </tr>\n",
       "  </tbody>\n",
       "</table>\n",
       "</div>"
      ],
      "text/plain": [
       "            id    gender       age  region_code  policy_sales_channel  \\\n",
       "283682  361072  0.103344  0.153846     0.121342              0.353718   \n",
       "4090     32761  0.103344  0.092308     0.071085              0.353718   \n",
       "353533  160790  0.103344  0.030769     0.061205              0.057179   \n",
       "91968   352733  0.138380  0.030769     0.097306              0.353718   \n",
       "100310   38075  0.138380  0.707692     0.065117              0.208910   \n",
       "259037  164599  0.138380  0.584615     0.096926              0.194249   \n",
       "24851   198476  0.103344  0.030769     0.121342              0.353718   \n",
       "205940  120000  0.103344  0.784615     0.186336              0.194249   \n",
       "260871  179297  0.138380  0.030769     0.102524              0.353718   \n",
       "177438  274773  0.138380  0.476923     0.186336              0.208910   \n",
       "\n",
       "        driving_license  vehicle_damage  previously_insured  annual_premium  \\\n",
       "283682                1               0                   1        0.141219   \n",
       "4090                  1               0                   1       -0.457211   \n",
       "353533                1               1                   0        0.340173   \n",
       "91968                 1               1                   0       -0.130626   \n",
       "100310                1               1                   0       -1.619917   \n",
       "259037                1               0                   1        1.267102   \n",
       "24851                 1               0                   1       -0.029264   \n",
       "205940                1               0                   0        0.041016   \n",
       "260871                1               0                   1        0.453365   \n",
       "177438                1               1                   0        0.354380   \n",
       "\n",
       "         vintage  vehicle_age_below_1_year  vehicle_age_between_1_2_year  \\\n",
       "283682  0.965398                         1                             0   \n",
       "4090    0.245675                         1                             0   \n",
       "353533  0.456747                         1                             0   \n",
       "91968   0.155709                         1                             0   \n",
       "100310  0.653979                         0                             1   \n",
       "259037  0.339100                         0                             1   \n",
       "24851   0.128028                         1                             0   \n",
       "205940  0.114187                         0                             1   \n",
       "260871  0.397924                         1                             0   \n",
       "177438  0.885813                         0                             0   \n",
       "\n",
       "        vehicle_age_over_2_years  response  \n",
       "283682                         0         0  \n",
       "4090                           0         0  \n",
       "353533                         0         0  \n",
       "91968                          0         0  \n",
       "100310                         0         0  \n",
       "259037                         0         0  \n",
       "24851                          0         0  \n",
       "205940                         0         0  \n",
       "260871                         0         0  \n",
       "177438                         1         0  "
      ]
     },
     "execution_count": 109,
     "metadata": {},
     "output_type": "execute_result"
    }
   ],
   "source": [
    "df_test = df_test.sample(10)\n",
    "df_test"
   ]
  },
  {
   "cell_type": "code",
   "execution_count": 110,
   "id": "fc172aef",
   "metadata": {
    "ExecuteTime": {
     "end_time": "2022-03-15T19:17:06.739055Z",
     "start_time": "2022-03-15T19:17:06.672941Z"
    },
    "hidden": true
   },
   "outputs": [],
   "source": [
    "# convert dataframe to json\n",
    "data = json.dumps( df_test.to_dict( orient='records' ) )"
   ]
  },
  {
   "cell_type": "code",
   "execution_count": 111,
   "id": "3427fa5f",
   "metadata": {
    "ExecuteTime": {
     "end_time": "2022-03-15T19:17:10.201793Z",
     "start_time": "2022-03-15T19:17:10.180267Z"
    },
    "hidden": true
   },
   "outputs": [
    {
     "data": {
      "text/plain": [
       "'[{\"id\": 361072, \"gender\": 0.10334407303952736, \"age\": 0.15384615384615385, \"region_code\": 0.12134222121794147, \"policy_sales_channel\": 0.35371793484143305, \"driving_license\": 1, \"vehicle_damage\": 0, \"previously_insured\": 1, \"annual_premium\": 0.14121854121833285, \"vintage\": 0.9653979238754326, \"vehicle_age_below_1_year\": 1, \"vehicle_age_between_1_2_year\": 0, \"vehicle_age_over_2_years\": 0, \"response\": 0}, {\"id\": 32761, \"gender\": 0.10334407303952736, \"age\": 0.09230769230769231, \"region_code\": 0.07108519995908766, \"policy_sales_channel\": 0.35371793484143305, \"driving_license\": 1, \"vehicle_damage\": 0, \"previously_insured\": 1, \"annual_premium\": -0.4572114161918848, \"vintage\": 0.24567474048442908, \"vehicle_age_below_1_year\": 1, \"vehicle_age_between_1_2_year\": 0, \"vehicle_age_over_2_years\": 0, \"response\": 0}, {\"id\": 160790, \"gender\": 0.10334407303952736, \"age\": 0.03076923076923077, \"region_code\": 0.06120527306967985, \"policy_sales_channel\": 0.05717856123744207, \"driving_license\": 1, \"vehicle_damage\": 1, \"previously_insured\": 0, \"annual_premium\": 0.3401733070976407, \"vintage\": 0.45674740484429066, \"vehicle_age_below_1_year\": 1, \"vehicle_age_between_1_2_year\": 0, \"vehicle_age_over_2_years\": 0, \"response\": 0}, {\"id\": 352733, \"gender\": 0.1383801877410435, \"age\": 0.03076923076923077, \"region_code\": 0.0973061224489796, \"policy_sales_channel\": 0.35371793484143305, \"driving_license\": 1, \"vehicle_damage\": 1, \"previously_insured\": 0, \"annual_premium\": -0.13062638517111488, \"vintage\": 0.15570934256055363, \"vehicle_age_below_1_year\": 1, \"vehicle_age_between_1_2_year\": 0, \"vehicle_age_over_2_years\": 0, \"response\": 0}, {\"id\": 38075, \"gender\": 0.1383801877410435, \"age\": 0.7076923076923076, \"region_code\": 0.06511684518013632, \"policy_sales_channel\": 0.20891018639692738, \"driving_license\": 1, \"vehicle_damage\": 1, \"previously_insured\": 0, \"annual_premium\": -1.6199167530167178, \"vintage\": 0.6539792387543253, \"vehicle_age_below_1_year\": 0, \"vehicle_age_between_1_2_year\": 1, \"vehicle_age_over_2_years\": 0, \"response\": 0}, {\"id\": 164599, \"gender\": 0.1383801877410435, \"age\": 0.5846153846153846, \"region_code\": 0.09692619179090742, \"policy_sales_channel\": 0.1942490168488653, \"driving_license\": 1, \"vehicle_damage\": 0, \"previously_insured\": 1, \"annual_premium\": 1.2671018796947657, \"vintage\": 0.3391003460207612, \"vehicle_age_below_1_year\": 0, \"vehicle_age_between_1_2_year\": 1, \"vehicle_age_over_2_years\": 0, \"response\": 0}, {\"id\": 198476, \"gender\": 0.10334407303952736, \"age\": 0.03076923076923077, \"region_code\": 0.12134222121794147, \"policy_sales_channel\": 0.35371793484143305, \"driving_license\": 1, \"vehicle_damage\": 0, \"previously_insured\": 1, \"annual_premium\": -0.029264411764810556, \"vintage\": 0.12802768166089964, \"vehicle_age_below_1_year\": 1, \"vehicle_age_between_1_2_year\": 0, \"vehicle_age_over_2_years\": 0, \"response\": 0}, {\"id\": 120000, \"gender\": 0.10334407303952736, \"age\": 0.7846153846153847, \"region_code\": 0.1863359872237488, \"policy_sales_channel\": 0.1942490168488653, \"driving_license\": 1, \"vehicle_damage\": 0, \"previously_insured\": 0, \"annual_premium\": 0.041016315791505706, \"vintage\": 0.11418685121107267, \"vehicle_age_below_1_year\": 0, \"vehicle_age_between_1_2_year\": 1, \"vehicle_age_over_2_years\": 0, \"response\": 0}, {\"id\": 179297, \"gender\": 0.1383801877410435, \"age\": 0.03076923076923077, \"region_code\": 0.10252355954715071, \"policy_sales_channel\": 0.35371793484143305, \"driving_license\": 1, \"vehicle_damage\": 0, \"previously_insured\": 1, \"annual_premium\": 0.4533647098946121, \"vintage\": 0.39792387543252594, \"vehicle_age_below_1_year\": 1, \"vehicle_age_between_1_2_year\": 0, \"vehicle_age_over_2_years\": 0, \"response\": 0}, {\"id\": 274773, \"gender\": 0.1383801877410435, \"age\": 0.476923076923077, \"region_code\": 0.1863359872237488, \"policy_sales_channel\": 0.20891018639692738, \"driving_license\": 1, \"vehicle_damage\": 1, \"previously_insured\": 0, \"annual_premium\": 0.35438021984623597, \"vintage\": 0.8858131487889274, \"vehicle_age_below_1_year\": 0, \"vehicle_age_between_1_2_year\": 0, \"vehicle_age_over_2_years\": 1, \"response\": 0}]'"
      ]
     },
     "execution_count": 111,
     "metadata": {},
     "output_type": "execute_result"
    }
   ],
   "source": [
    "data"
   ]
  },
  {
   "cell_type": "code",
   "execution_count": 1,
   "id": "04d88173",
   "metadata": {
    "ExecuteTime": {
     "end_time": "2022-03-15T20:07:51.695958Z",
     "start_time": "2022-03-15T20:07:48.512410Z"
    },
    "hidden": true
   },
   "outputs": [
    {
     "ename": "NameError",
     "evalue": "name 'requests' is not defined",
     "output_type": "error",
     "traceback": [
      "\u001b[0;31m---------------------------------------------------------------------------\u001b[0m",
      "\u001b[0;31mNameError\u001b[0m                                 Traceback (most recent call last)",
      "Input \u001b[0;32mIn [1]\u001b[0m, in \u001b[0;36m<module>\u001b[0;34m\u001b[0m\n\u001b[1;32m      3\u001b[0m url \u001b[38;5;241m=\u001b[39m \u001b[38;5;124m'\u001b[39m\u001b[38;5;124mhttps://cfo-health-insurance.herokuapp.com/predict\u001b[39m\u001b[38;5;124m'\u001b[39m\n\u001b[1;32m      4\u001b[0m header \u001b[38;5;241m=\u001b[39m {\u001b[38;5;124m'\u001b[39m\u001b[38;5;124mContent-type\u001b[39m\u001b[38;5;124m'\u001b[39m: \u001b[38;5;124m'\u001b[39m\u001b[38;5;124mapplication/json\u001b[39m\u001b[38;5;124m'\u001b[39m }\n\u001b[0;32m----> 6\u001b[0m r \u001b[38;5;241m=\u001b[39m \u001b[43mrequests\u001b[49m\u001b[38;5;241m.\u001b[39mpost( url, data\u001b[38;5;241m=\u001b[39mdata, headers\u001b[38;5;241m=\u001b[39mheader )\n\u001b[1;32m      7\u001b[0m \u001b[38;5;28mprint\u001b[39m( \u001b[38;5;124m'\u001b[39m\u001b[38;5;124mStatus Code \u001b[39m\u001b[38;5;132;01m{}\u001b[39;00m\u001b[38;5;124m'\u001b[39m\u001b[38;5;241m.\u001b[39mformat( r\u001b[38;5;241m.\u001b[39mstatus_code ) )\n",
      "\u001b[0;31mNameError\u001b[0m: name 'requests' is not defined"
     ]
    }
   ],
   "source": [
    "# API Call\n",
    "#url = 'http://0.0.0.0:5000/predict' # localhost for local test\n",
    "url = 'https://cfo-health-insurance.herokuapp.com/predict'\n",
    "header = {'Content-type': 'application/json' }\n",
    "\n",
    "r = requests.post( url, data=data, headers=header )\n",
    "print( 'Status Code {}'.format( r.status_code ) )"
   ]
  },
  {
   "cell_type": "code",
   "execution_count": null,
   "id": "ad0e34fb",
   "metadata": {
    "hidden": true
   },
   "outputs": [],
   "source": [
    "d1 = pd.DataFrame( r.json(), columns=r.json()[0].keys() )\n",
    "d1.sort_values( 'score', ascending=False ).head()"
   ]
  },
  {
   "cell_type": "code",
   "execution_count": null,
   "id": "d55dd63b",
   "metadata": {
    "hidden": true
   },
   "outputs": [],
   "source": []
  },
  {
   "cell_type": "code",
   "execution_count": null,
   "id": "c06824ba",
   "metadata": {
    "hidden": true
   },
   "outputs": [],
   "source": []
  },
  {
   "cell_type": "code",
   "execution_count": 99,
   "id": "c3b6f8ae",
   "metadata": {
    "ExecuteTime": {
     "end_time": "2022-03-15T20:16:37.513714Z",
     "start_time": "2022-03-15T20:16:37.491747Z"
    },
    "hidden": true
   },
   "outputs": [],
   "source": [
    "df8 = x_validation.copy()"
   ]
  },
  {
   "cell_type": "code",
   "execution_count": 100,
   "id": "e822f5fa",
   "metadata": {
    "ExecuteTime": {
     "end_time": "2022-03-15T20:16:37.605154Z",
     "start_time": "2022-03-15T20:16:37.523620Z"
    },
    "hidden": true
   },
   "outputs": [
    {
     "data": {
      "text/html": [
       "<div>\n",
       "<style scoped>\n",
       "    .dataframe tbody tr th:only-of-type {\n",
       "        vertical-align: middle;\n",
       "    }\n",
       "\n",
       "    .dataframe tbody tr th {\n",
       "        vertical-align: top;\n",
       "    }\n",
       "\n",
       "    .dataframe thead th {\n",
       "        text-align: right;\n",
       "    }\n",
       "</style>\n",
       "<table border=\"1\" class=\"dataframe\">\n",
       "  <thead>\n",
       "    <tr style=\"text-align: right;\">\n",
       "      <th></th>\n",
       "      <th>id</th>\n",
       "      <th>gender</th>\n",
       "      <th>age</th>\n",
       "      <th>region_code</th>\n",
       "      <th>policy_sales_channel</th>\n",
       "      <th>driving_license</th>\n",
       "      <th>vehicle_damage</th>\n",
       "      <th>previously_insured</th>\n",
       "      <th>annual_premium</th>\n",
       "      <th>vintage</th>\n",
       "      <th>vehicle_age_below_1_year</th>\n",
       "      <th>vehicle_age_between_1_2_year</th>\n",
       "      <th>vehicle_age_over_2_years</th>\n",
       "    </tr>\n",
       "  </thead>\n",
       "  <tbody>\n",
       "    <tr>\n",
       "      <th>9579</th>\n",
       "      <td>76605</td>\n",
       "      <td>0.138897</td>\n",
       "      <td>0.353846</td>\n",
       "      <td>0.102624</td>\n",
       "      <td>0.193996</td>\n",
       "      <td>1</td>\n",
       "      <td>1</td>\n",
       "      <td>0</td>\n",
       "      <td>-1.624818</td>\n",
       "      <td>0.681661</td>\n",
       "      <td>0</td>\n",
       "      <td>1</td>\n",
       "      <td>0</td>\n",
       "    </tr>\n",
       "    <tr>\n",
       "      <th>45189</th>\n",
       "      <td>360383</td>\n",
       "      <td>0.138897</td>\n",
       "      <td>0.538462</td>\n",
       "      <td>0.086898</td>\n",
       "      <td>0.193996</td>\n",
       "      <td>1</td>\n",
       "      <td>1</td>\n",
       "      <td>0</td>\n",
       "      <td>1.285905</td>\n",
       "      <td>0.003460</td>\n",
       "      <td>0</td>\n",
       "      <td>1</td>\n",
       "      <td>0</td>\n",
       "    </tr>\n",
       "    <tr>\n",
       "      <th>269561</th>\n",
       "      <td>247968</td>\n",
       "      <td>0.138897</td>\n",
       "      <td>0.046154</td>\n",
       "      <td>0.096243</td>\n",
       "      <td>0.354016</td>\n",
       "      <td>1</td>\n",
       "      <td>0</td>\n",
       "      <td>0</td>\n",
       "      <td>0.782708</td>\n",
       "      <td>0.564014</td>\n",
       "      <td>1</td>\n",
       "      <td>0</td>\n",
       "      <td>0</td>\n",
       "    </tr>\n",
       "    <tr>\n",
       "      <th>327708</th>\n",
       "      <td>333191</td>\n",
       "      <td>0.138897</td>\n",
       "      <td>0.046154</td>\n",
       "      <td>0.060089</td>\n",
       "      <td>0.354016</td>\n",
       "      <td>1</td>\n",
       "      <td>0</td>\n",
       "      <td>1</td>\n",
       "      <td>0.821984</td>\n",
       "      <td>0.484429</td>\n",
       "      <td>1</td>\n",
       "      <td>0</td>\n",
       "      <td>0</td>\n",
       "    </tr>\n",
       "    <tr>\n",
       "      <th>245241</th>\n",
       "      <td>54318</td>\n",
       "      <td>0.103856</td>\n",
       "      <td>0.138462</td>\n",
       "      <td>0.088946</td>\n",
       "      <td>0.354016</td>\n",
       "      <td>1</td>\n",
       "      <td>0</td>\n",
       "      <td>1</td>\n",
       "      <td>0.242213</td>\n",
       "      <td>0.847751</td>\n",
       "      <td>1</td>\n",
       "      <td>0</td>\n",
       "      <td>0</td>\n",
       "    </tr>\n",
       "  </tbody>\n",
       "</table>\n",
       "</div>"
      ],
      "text/plain": [
       "            id    gender       age  region_code  policy_sales_channel  \\\n",
       "9579     76605  0.138897  0.353846     0.102624              0.193996   \n",
       "45189   360383  0.138897  0.538462     0.086898              0.193996   \n",
       "269561  247968  0.138897  0.046154     0.096243              0.354016   \n",
       "327708  333191  0.138897  0.046154     0.060089              0.354016   \n",
       "245241   54318  0.103856  0.138462     0.088946              0.354016   \n",
       "\n",
       "        driving_license  vehicle_damage  previously_insured  annual_premium  \\\n",
       "9579                  1               1                   0       -1.624818   \n",
       "45189                 1               1                   0        1.285905   \n",
       "269561                1               0                   0        0.782708   \n",
       "327708                1               0                   1        0.821984   \n",
       "245241                1               0                   1        0.242213   \n",
       "\n",
       "         vintage  vehicle_age_below_1_year  vehicle_age_between_1_2_year  \\\n",
       "9579    0.681661                         0                             1   \n",
       "45189   0.003460                         0                             1   \n",
       "269561  0.564014                         1                             0   \n",
       "327708  0.484429                         1                             0   \n",
       "245241  0.847751                         1                             0   \n",
       "\n",
       "        vehicle_age_over_2_years  \n",
       "9579                           0  \n",
       "45189                          0  \n",
       "269561                         0  \n",
       "327708                         0  \n",
       "245241                         0  "
      ]
     },
     "execution_count": 100,
     "metadata": {},
     "output_type": "execute_result"
    }
   ],
   "source": [
    "df8.head()"
   ]
  },
  {
   "cell_type": "code",
   "execution_count": 101,
   "id": "9f5ef098",
   "metadata": {
    "ExecuteTime": {
     "end_time": "2022-03-15T20:16:37.648246Z",
     "start_time": "2022-03-15T20:16:37.618189Z"
    },
    "hidden": true
   },
   "outputs": [],
   "source": [
    "df8['response'] = y_validation.copy()"
   ]
  },
  {
   "cell_type": "code",
   "execution_count": 102,
   "id": "a970e786",
   "metadata": {
    "ExecuteTime": {
     "end_time": "2022-03-15T20:16:37.891167Z",
     "start_time": "2022-03-15T20:16:37.657422Z"
    },
    "hidden": true
   },
   "outputs": [],
   "source": [
    "# propensity score (just to order the base, after this is useless)\n",
    "df8['score'] = yhat_knn[:, 1].tolist()"
   ]
  },
  {
   "cell_type": "code",
   "execution_count": 103,
   "id": "c06de9c1",
   "metadata": {
    "ExecuteTime": {
     "end_time": "2022-03-15T20:16:37.962821Z",
     "start_time": "2022-03-15T20:16:37.899799Z"
    },
    "hidden": true
   },
   "outputs": [],
   "source": [
    "# sort clients by propensity score\n",
    "df8 = df8.sort_values('score', ascending=False)"
   ]
  },
  {
   "cell_type": "code",
   "execution_count": 104,
   "id": "e53e6267",
   "metadata": {
    "ExecuteTime": {
     "end_time": "2022-03-15T20:16:38.081198Z",
     "start_time": "2022-03-15T20:16:37.985190Z"
    },
    "hidden": true
   },
   "outputs": [
    {
     "data": {
      "text/html": [
       "<div>\n",
       "<style scoped>\n",
       "    .dataframe tbody tr th:only-of-type {\n",
       "        vertical-align: middle;\n",
       "    }\n",
       "\n",
       "    .dataframe tbody tr th {\n",
       "        vertical-align: top;\n",
       "    }\n",
       "\n",
       "    .dataframe thead th {\n",
       "        text-align: right;\n",
       "    }\n",
       "</style>\n",
       "<table border=\"1\" class=\"dataframe\">\n",
       "  <thead>\n",
       "    <tr style=\"text-align: right;\">\n",
       "      <th></th>\n",
       "      <th>id</th>\n",
       "      <th>gender</th>\n",
       "      <th>age</th>\n",
       "      <th>region_code</th>\n",
       "      <th>policy_sales_channel</th>\n",
       "      <th>driving_license</th>\n",
       "      <th>vehicle_damage</th>\n",
       "      <th>previously_insured</th>\n",
       "      <th>annual_premium</th>\n",
       "      <th>vintage</th>\n",
       "      <th>vehicle_age_below_1_year</th>\n",
       "      <th>vehicle_age_between_1_2_year</th>\n",
       "      <th>vehicle_age_over_2_years</th>\n",
       "      <th>response</th>\n",
       "      <th>score</th>\n",
       "    </tr>\n",
       "  </thead>\n",
       "  <tbody>\n",
       "    <tr>\n",
       "      <th>44702</th>\n",
       "      <td>356496</td>\n",
       "      <td>0.103856</td>\n",
       "      <td>0.430769</td>\n",
       "      <td>0.160524</td>\n",
       "      <td>0.026026</td>\n",
       "      <td>1</td>\n",
       "      <td>1</td>\n",
       "      <td>0</td>\n",
       "      <td>0.604075</td>\n",
       "      <td>0.429066</td>\n",
       "      <td>0</td>\n",
       "      <td>1</td>\n",
       "      <td>0</td>\n",
       "      <td>0</td>\n",
       "      <td>0.9</td>\n",
       "    </tr>\n",
       "    <tr>\n",
       "      <th>284841</th>\n",
       "      <td>370160</td>\n",
       "      <td>0.103856</td>\n",
       "      <td>0.169231</td>\n",
       "      <td>0.187615</td>\n",
       "      <td>0.057172</td>\n",
       "      <td>1</td>\n",
       "      <td>1</td>\n",
       "      <td>0</td>\n",
       "      <td>0.692402</td>\n",
       "      <td>0.647059</td>\n",
       "      <td>1</td>\n",
       "      <td>0</td>\n",
       "      <td>0</td>\n",
       "      <td>1</td>\n",
       "      <td>0.9</td>\n",
       "    </tr>\n",
       "    <tr>\n",
       "      <th>1899</th>\n",
       "      <td>15421</td>\n",
       "      <td>0.138897</td>\n",
       "      <td>0.415385</td>\n",
       "      <td>0.187615</td>\n",
       "      <td>0.209035</td>\n",
       "      <td>1</td>\n",
       "      <td>0</td>\n",
       "      <td>0</td>\n",
       "      <td>0.800688</td>\n",
       "      <td>0.186851</td>\n",
       "      <td>0</td>\n",
       "      <td>1</td>\n",
       "      <td>0</td>\n",
       "      <td>0</td>\n",
       "      <td>0.9</td>\n",
       "    </tr>\n",
       "    <tr>\n",
       "      <th>379878</th>\n",
       "      <td>371831</td>\n",
       "      <td>0.103856</td>\n",
       "      <td>0.246154</td>\n",
       "      <td>0.096243</td>\n",
       "      <td>0.193996</td>\n",
       "      <td>1</td>\n",
       "      <td>1</td>\n",
       "      <td>0</td>\n",
       "      <td>-0.148218</td>\n",
       "      <td>0.730104</td>\n",
       "      <td>0</td>\n",
       "      <td>1</td>\n",
       "      <td>0</td>\n",
       "      <td>0</td>\n",
       "      <td>0.8</td>\n",
       "    </tr>\n",
       "    <tr>\n",
       "      <th>78651</th>\n",
       "      <td>246666</td>\n",
       "      <td>0.138897</td>\n",
       "      <td>0.230769</td>\n",
       "      <td>0.128341</td>\n",
       "      <td>0.193996</td>\n",
       "      <td>1</td>\n",
       "      <td>0</td>\n",
       "      <td>1</td>\n",
       "      <td>-0.020033</td>\n",
       "      <td>0.356401</td>\n",
       "      <td>0</td>\n",
       "      <td>1</td>\n",
       "      <td>0</td>\n",
       "      <td>0</td>\n",
       "      <td>0.8</td>\n",
       "    </tr>\n",
       "    <tr>\n",
       "      <th>...</th>\n",
       "      <td>...</td>\n",
       "      <td>...</td>\n",
       "      <td>...</td>\n",
       "      <td>...</td>\n",
       "      <td>...</td>\n",
       "      <td>...</td>\n",
       "      <td>...</td>\n",
       "      <td>...</td>\n",
       "      <td>...</td>\n",
       "      <td>...</td>\n",
       "      <td>...</td>\n",
       "      <td>...</td>\n",
       "      <td>...</td>\n",
       "      <td>...</td>\n",
       "      <td>...</td>\n",
       "    </tr>\n",
       "    <tr>\n",
       "      <th>262125</th>\n",
       "      <td>189896</td>\n",
       "      <td>0.103856</td>\n",
       "      <td>0.076923</td>\n",
       "      <td>0.125405</td>\n",
       "      <td>0.354016</td>\n",
       "      <td>1</td>\n",
       "      <td>1</td>\n",
       "      <td>0</td>\n",
       "      <td>-1.624818</td>\n",
       "      <td>0.259516</td>\n",
       "      <td>1</td>\n",
       "      <td>0</td>\n",
       "      <td>0</td>\n",
       "      <td>0</td>\n",
       "      <td>0.0</td>\n",
       "    </tr>\n",
       "    <tr>\n",
       "      <th>20696</th>\n",
       "      <td>165215</td>\n",
       "      <td>0.138897</td>\n",
       "      <td>0.538462</td>\n",
       "      <td>0.102624</td>\n",
       "      <td>0.193996</td>\n",
       "      <td>1</td>\n",
       "      <td>1</td>\n",
       "      <td>0</td>\n",
       "      <td>2.147648</td>\n",
       "      <td>0.747405</td>\n",
       "      <td>0</td>\n",
       "      <td>1</td>\n",
       "      <td>0</td>\n",
       "      <td>0</td>\n",
       "      <td>0.0</td>\n",
       "    </tr>\n",
       "    <tr>\n",
       "      <th>48718</th>\n",
       "      <td>7219</td>\n",
       "      <td>0.138897</td>\n",
       "      <td>0.061538</td>\n",
       "      <td>0.096243</td>\n",
       "      <td>0.354016</td>\n",
       "      <td>1</td>\n",
       "      <td>0</td>\n",
       "      <td>1</td>\n",
       "      <td>0.808426</td>\n",
       "      <td>0.318339</td>\n",
       "      <td>1</td>\n",
       "      <td>0</td>\n",
       "      <td>0</td>\n",
       "      <td>0</td>\n",
       "      <td>0.0</td>\n",
       "    </tr>\n",
       "    <tr>\n",
       "      <th>354080</th>\n",
       "      <td>165320</td>\n",
       "      <td>0.138897</td>\n",
       "      <td>0.015385</td>\n",
       "      <td>0.071589</td>\n",
       "      <td>0.057172</td>\n",
       "      <td>1</td>\n",
       "      <td>1</td>\n",
       "      <td>0</td>\n",
       "      <td>-0.196455</td>\n",
       "      <td>0.868512</td>\n",
       "      <td>1</td>\n",
       "      <td>0</td>\n",
       "      <td>0</td>\n",
       "      <td>0</td>\n",
       "      <td>0.0</td>\n",
       "    </tr>\n",
       "    <tr>\n",
       "      <th>9579</th>\n",
       "      <td>76605</td>\n",
       "      <td>0.138897</td>\n",
       "      <td>0.353846</td>\n",
       "      <td>0.102624</td>\n",
       "      <td>0.193996</td>\n",
       "      <td>1</td>\n",
       "      <td>1</td>\n",
       "      <td>0</td>\n",
       "      <td>-1.624818</td>\n",
       "      <td>0.681661</td>\n",
       "      <td>0</td>\n",
       "      <td>1</td>\n",
       "      <td>0</td>\n",
       "      <td>0</td>\n",
       "      <td>0.0</td>\n",
       "    </tr>\n",
       "  </tbody>\n",
       "</table>\n",
       "<p>76222 rows × 15 columns</p>\n",
       "</div>"
      ],
      "text/plain": [
       "            id    gender       age  region_code  policy_sales_channel  \\\n",
       "44702   356496  0.103856  0.430769     0.160524              0.026026   \n",
       "284841  370160  0.103856  0.169231     0.187615              0.057172   \n",
       "1899     15421  0.138897  0.415385     0.187615              0.209035   \n",
       "379878  371831  0.103856  0.246154     0.096243              0.193996   \n",
       "78651   246666  0.138897  0.230769     0.128341              0.193996   \n",
       "...        ...       ...       ...          ...                   ...   \n",
       "262125  189896  0.103856  0.076923     0.125405              0.354016   \n",
       "20696   165215  0.138897  0.538462     0.102624              0.193996   \n",
       "48718     7219  0.138897  0.061538     0.096243              0.354016   \n",
       "354080  165320  0.138897  0.015385     0.071589              0.057172   \n",
       "9579     76605  0.138897  0.353846     0.102624              0.193996   \n",
       "\n",
       "        driving_license  vehicle_damage  previously_insured  annual_premium  \\\n",
       "44702                 1               1                   0        0.604075   \n",
       "284841                1               1                   0        0.692402   \n",
       "1899                  1               0                   0        0.800688   \n",
       "379878                1               1                   0       -0.148218   \n",
       "78651                 1               0                   1       -0.020033   \n",
       "...                 ...             ...                 ...             ...   \n",
       "262125                1               1                   0       -1.624818   \n",
       "20696                 1               1                   0        2.147648   \n",
       "48718                 1               0                   1        0.808426   \n",
       "354080                1               1                   0       -0.196455   \n",
       "9579                  1               1                   0       -1.624818   \n",
       "\n",
       "         vintage  vehicle_age_below_1_year  vehicle_age_between_1_2_year  \\\n",
       "44702   0.429066                         0                             1   \n",
       "284841  0.647059                         1                             0   \n",
       "1899    0.186851                         0                             1   \n",
       "379878  0.730104                         0                             1   \n",
       "78651   0.356401                         0                             1   \n",
       "...          ...                       ...                           ...   \n",
       "262125  0.259516                         1                             0   \n",
       "20696   0.747405                         0                             1   \n",
       "48718   0.318339                         1                             0   \n",
       "354080  0.868512                         1                             0   \n",
       "9579    0.681661                         0                             1   \n",
       "\n",
       "        vehicle_age_over_2_years  response  score  \n",
       "44702                          0         0    0.9  \n",
       "284841                         0         1    0.9  \n",
       "1899                           0         0    0.9  \n",
       "379878                         0         0    0.8  \n",
       "78651                          0         0    0.8  \n",
       "...                          ...       ...    ...  \n",
       "262125                         0         0    0.0  \n",
       "20696                          0         0    0.0  \n",
       "48718                          0         0    0.0  \n",
       "354080                         0         0    0.0  \n",
       "9579                           0         0    0.0  \n",
       "\n",
       "[76222 rows x 15 columns]"
      ]
     },
     "execution_count": 104,
     "metadata": {},
     "output_type": "execute_result"
    }
   ],
   "source": [
    "df8"
   ]
  },
  {
   "cell_type": "code",
   "execution_count": 105,
   "id": "c736a635",
   "metadata": {
    "ExecuteTime": {
     "end_time": "2022-03-15T20:16:38.127583Z",
     "start_time": "2022-03-15T20:16:38.095038Z"
    },
    "hidden": true
   },
   "outputs": [],
   "source": [
    "# for this function it needs to be passed the target variable as 'response', if passed with another name, it will give an error. correcttion in the next cycle.\n",
    "\n",
    "## reset index\n",
    "#df8 = df8.reset_index(drop = True)\n",
    "#\n",
    "## create ranking order\n",
    "#df8['ranking'] = df8.index + 1\n",
    "#\n",
    "#df8['precision_at_k'] = df8['response'].cumsum() / df8['ranking']\n",
    "#\n",
    "#df8[['id', 'response', 'score', 'ranking', 'precision_at_k']]\n",
    "\n",
    "def precision_at_k(data, k=10):\n",
    "    # reset index\n",
    "    data = data.reset_index(drop=True)\n",
    "    \n",
    "    # create ranking order\n",
    "    data['ranking'] = data.index + 1\n",
    "    \n",
    "    data['precision_at_k'] = data['response'].cumsum() / data['ranking']\n",
    "    \n",
    "    return (data.loc[ k, 'precision_at_k'], data)"
   ]
  },
  {
   "cell_type": "code",
   "execution_count": 106,
   "id": "aec697ee",
   "metadata": {
    "ExecuteTime": {
     "end_time": "2022-03-15T20:16:38.160135Z",
     "start_time": "2022-03-15T20:16:38.139681Z"
    },
    "hidden": true
   },
   "outputs": [],
   "source": [
    "def recall_at_k(data, k=15):\n",
    "    data = data.reset_index(drop=True)\n",
    "    data['ranking'] = data.index + 1\n",
    "    \n",
    "    data['recall_at_k'] = data['response'].cumsum() / data['response'].sum()\n",
    "    \n",
    "    return (data.loc[ k, 'recall_at_k'], data)"
   ]
  },
  {
   "cell_type": "code",
   "execution_count": 107,
   "id": "b44fb87d",
   "metadata": {
    "ExecuteTime": {
     "end_time": "2022-03-15T20:16:38.453843Z",
     "start_time": "2022-03-15T20:16:38.172990Z"
    },
    "hidden": true
   },
   "outputs": [
    {
     "name": "stdout",
     "output_type": "stream",
     "text": [
      "Precision at K:(0.11764705882352941,            id    gender       age  region_code  policy_sales_channel  \\\n",
      "0      356496  0.103856  0.430769     0.160524              0.026026   \n",
      "1      370160  0.103856  0.169231     0.187615              0.057172   \n",
      "2       15421  0.138897  0.415385     0.187615              0.209035   \n",
      "3      371831  0.103856  0.246154     0.096243              0.193996   \n",
      "4      246666  0.138897  0.230769     0.128341              0.193996   \n",
      "...       ...       ...       ...          ...                   ...   \n",
      "76217  189896  0.103856  0.076923     0.125405              0.354016   \n",
      "76218  165215  0.138897  0.538462     0.102624              0.193996   \n",
      "76219    7219  0.138897  0.061538     0.096243              0.354016   \n",
      "76220  165320  0.138897  0.015385     0.071589              0.057172   \n",
      "76221   76605  0.138897  0.353846     0.102624              0.193996   \n",
      "\n",
      "       driving_license  vehicle_damage  previously_insured  annual_premium  \\\n",
      "0                    1               1                   0        0.604075   \n",
      "1                    1               1                   0        0.692402   \n",
      "2                    1               0                   0        0.800688   \n",
      "3                    1               1                   0       -0.148218   \n",
      "4                    1               0                   1       -0.020033   \n",
      "...                ...             ...                 ...             ...   \n",
      "76217                1               1                   0       -1.624818   \n",
      "76218                1               1                   0        2.147648   \n",
      "76219                1               0                   1        0.808426   \n",
      "76220                1               1                   0       -0.196455   \n",
      "76221                1               1                   0       -1.624818   \n",
      "\n",
      "        vintage  vehicle_age_below_1_year  vehicle_age_between_1_2_year  \\\n",
      "0      0.429066                         0                             1   \n",
      "1      0.647059                         1                             0   \n",
      "2      0.186851                         0                             1   \n",
      "3      0.730104                         0                             1   \n",
      "4      0.356401                         0                             1   \n",
      "...         ...                       ...                           ...   \n",
      "76217  0.259516                         1                             0   \n",
      "76218  0.747405                         0                             1   \n",
      "76219  0.318339                         1                             0   \n",
      "76220  0.868512                         1                             0   \n",
      "76221  0.681661                         0                             1   \n",
      "\n",
      "       vehicle_age_over_2_years  response  score  ranking  precision_at_k  \n",
      "0                             0         0    0.9        1        0.000000  \n",
      "1                             0         1    0.9        2        0.500000  \n",
      "2                             0         0    0.9        3        0.333333  \n",
      "3                             0         0    0.8        4        0.250000  \n",
      "4                             0         0    0.8        5        0.200000  \n",
      "...                         ...       ...    ...      ...             ...  \n",
      "76217                         0         0    0.0    76218        0.121585  \n",
      "76218                         0         0    0.0    76219        0.121584  \n",
      "76219                         0         0    0.0    76220        0.121582  \n",
      "76220                         0         0    0.0    76221        0.121581  \n",
      "76221                         0         0    0.0    76222        0.121579  \n",
      "\n",
      "[76222 rows x 17 columns])\n",
      "Recall at K:(0.0006474587245063128,            id    gender       age  region_code  policy_sales_channel  \\\n",
      "0      356496  0.103856  0.430769     0.160524              0.026026   \n",
      "1      370160  0.103856  0.169231     0.187615              0.057172   \n",
      "2       15421  0.138897  0.415385     0.187615              0.209035   \n",
      "3      371831  0.103856  0.246154     0.096243              0.193996   \n",
      "4      246666  0.138897  0.230769     0.128341              0.193996   \n",
      "...       ...       ...       ...          ...                   ...   \n",
      "76217  189896  0.103856  0.076923     0.125405              0.354016   \n",
      "76218  165215  0.138897  0.538462     0.102624              0.193996   \n",
      "76219    7219  0.138897  0.061538     0.096243              0.354016   \n",
      "76220  165320  0.138897  0.015385     0.071589              0.057172   \n",
      "76221   76605  0.138897  0.353846     0.102624              0.193996   \n",
      "\n",
      "       driving_license  vehicle_damage  previously_insured  annual_premium  \\\n",
      "0                    1               1                   0        0.604075   \n",
      "1                    1               1                   0        0.692402   \n",
      "2                    1               0                   0        0.800688   \n",
      "3                    1               1                   0       -0.148218   \n",
      "4                    1               0                   1       -0.020033   \n",
      "...                ...             ...                 ...             ...   \n",
      "76217                1               1                   0       -1.624818   \n",
      "76218                1               1                   0        2.147648   \n",
      "76219                1               0                   1        0.808426   \n",
      "76220                1               1                   0       -0.196455   \n",
      "76221                1               1                   0       -1.624818   \n",
      "\n",
      "        vintage  vehicle_age_below_1_year  vehicle_age_between_1_2_year  \\\n",
      "0      0.429066                         0                             1   \n",
      "1      0.647059                         1                             0   \n",
      "2      0.186851                         0                             1   \n",
      "3      0.730104                         0                             1   \n",
      "4      0.356401                         0                             1   \n",
      "...         ...                       ...                           ...   \n",
      "76217  0.259516                         1                             0   \n",
      "76218  0.747405                         0                             1   \n",
      "76219  0.318339                         1                             0   \n",
      "76220  0.868512                         1                             0   \n",
      "76221  0.681661                         0                             1   \n",
      "\n",
      "       vehicle_age_over_2_years  response  score  ranking  recall_at_k  \n",
      "0                             0         0    0.9        1     0.000000  \n",
      "1                             0         1    0.9        2     0.000108  \n",
      "2                             0         0    0.9        3     0.000108  \n",
      "3                             0         0    0.8        4     0.000108  \n",
      "4                             0         0    0.8        5     0.000108  \n",
      "...                         ...       ...    ...      ...          ...  \n",
      "76217                         0         0    0.0    76218     1.000000  \n",
      "76218                         0         0    0.0    76219     1.000000  \n",
      "76219                         0         0    0.0    76220     1.000000  \n",
      "76220                         0         0    0.0    76221     1.000000  \n",
      "76221                         0         0    0.0    76222     1.000000  \n",
      "\n",
      "[76222 rows x 17 columns])\n"
     ]
    }
   ],
   "source": [
    "# compute precision at k\n",
    "precision_at_50 = precision_at_k(df8, k=50)\n",
    "print('Precision at K:{}'.format(precision_at_50))\n",
    "\n",
    "# compute recall at k\n",
    "recall_at_50 = recall_at_k(df8, k=50)\n",
    "print('Recall at K:{}'.format(recall_at_50))"
   ]
  }
 ],
 "metadata": {
  "kernelspec": {
   "display_name": "HealthInsurance",
   "language": "python",
   "name": "healthinsurance"
  },
  "language_info": {
   "codemirror_mode": {
    "name": "ipython",
    "version": 3
   },
   "file_extension": ".py",
   "mimetype": "text/x-python",
   "name": "python",
   "nbconvert_exporter": "python",
   "pygments_lexer": "ipython3",
   "version": "3.8.0"
  },
  "varInspector": {
   "cols": {
    "lenName": 16,
    "lenType": 16,
    "lenVar": 40
   },
   "kernels_config": {
    "python": {
     "delete_cmd_postfix": "",
     "delete_cmd_prefix": "del ",
     "library": "var_list.py",
     "varRefreshCmd": "print(var_dic_list())"
    },
    "r": {
     "delete_cmd_postfix": ") ",
     "delete_cmd_prefix": "rm(",
     "library": "var_list.r",
     "varRefreshCmd": "cat(var_dic_list()) "
    }
   },
   "types_to_exclude": [
    "module",
    "function",
    "builtin_function_or_method",
    "instance",
    "_Feature"
   ],
   "window_display": false
  }
 },
 "nbformat": 4,
 "nbformat_minor": 5
}
