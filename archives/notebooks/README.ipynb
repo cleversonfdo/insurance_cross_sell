{
 "cells": [
  {
   "cell_type": "markdown",
   "id": "9ce7c26f",
   "metadata": {
    "heading_collapsed": true
   },
   "source": [
    "# Health Insurance Cross-Sell\n",
    "\n",
    "## This project aims to order a potential client list by propensity score\n",
    "\n",
    "#### This project was made by {cookiecutter.author}}."
   ]
  },
  {
   "cell_type": "markdown",
   "id": "2ac4cc4d",
   "metadata": {},
   "source": [
    "# 1. Business Problem."
   ]
  },
  {
   "cell_type": "markdown",
   "id": "629eff2c",
   "metadata": {},
   "source": [
    "https://www.kaggle.com/anmolkumar/health-insurance-cross-sell-prediction\n",
    "\n",
    "Context\n",
    "\n",
    "Our client is an Insurance company that has provided Health Insurance to its customers now they need your help in building a model to predict whether the policyholders (customers) from past year will also be interested in Vehicle Insurance provided by the company.\n",
    "\n",
    "An insurance policy is an arrangement by which a company undertakes to provide a guarantee of compensation for specified loss, damage, illness, or death in return for the payment of a specified premium. A premium is a sum of money that the customer needs to pay regularly to an insurance company for this guarantee.\n",
    "\n",
    "For example, you may pay a premium of Rs. 5000 each year for a health insurance cover of Rs. 200,000/- so that if, God forbid, you fall ill and need to be hospitalised in that year, the insurance provider company will bear the cost of hospitalisation etc. for upto Rs. 200,000. Now if you are wondering how can company bear such high hospitalisation cost when it charges a premium of only Rs. 5000/-, that is where the concept of probabilities comes in picture. For example, like you, there may be 100 customers who would be paying a premium of Rs. 5000 every year, but only a few of them (say 2-3) would get hospitalised that year and not everyone. This way everyone shares the risk of everyone else.\n",
    "\n",
    "Just like medical insurance, there is vehicle insurance where every year customer needs to pay a premium of certain amount to insurance provider company so that in case of unfortunate accident by the vehicle, the insurance provider company will provide a compensation (called ‘sum assured’) to the customer.\n",
    "\n",
    "Building a model to predict whether a customer would be interested in Vehicle Insurance is extremely helpful for the company because it can then accordingly plan its communication strategy to reach out to those customers and optimise its business model and revenue.\n",
    "\n",
    "Now, in order to predict, whether the customer would be interested in Vehicle insurance, you have information about demographics (gender, age, region code type), Vehicles (Vehicle Age, Damage), Policy (Premium, sourcing channel) etc."
   ]
  },
  {
   "cell_type": "markdown",
   "id": "2b1cd85a",
   "metadata": {},
   "source": [
    "A Empresa Insurance All\n",
    "\n",
    "Disclaimer: O Contexto a seguir, é completamente fictício, a empresa, o contexto, o CEO, as perguntas de negócio existem somente na minha imaginação. \n",
    "\n",
    "A Insurance All é uma empresa que fornece seguro de saúde para seus clientes e o time de produtos está analisando a possibilidade de oferecer aos assegurados, um novo produto: Um seguro de automóveis.\n",
    "\n",
    "Assim como o seguro de saúde, os clientes desse novo plano de seguro de automóveis precisam pagar um valor anualmente à Insurance All para obter um valor assegurado pela empresa, destinado aos custos de um eventual acidente ou dano ao veículo.\n",
    "\n",
    "A Insurance All fez uma pesquisa com cerca de 380 mil clientes sobre o interesse em aderir a um novo produto de seguro de automóveis, no ano passado. Todos os clientes demonstraram interesse ou não em adquirir o seguro de automóvel e essas respostas ficaram salvas em um banco de dados junto com outros atributos dos clientes.\n",
    "\n",
    "O time de produtos selecionou 127 mil novos clientes que não responderam a pesquisa para participar de uma campanha, no qual receberão a oferta do novo produto de seguro de automóveis. A oferta será feita pelo time de vendas através de ligações telefônicas.\n",
    "\n",
    "Contudo, o time de vendas tem uma capacidade de realizar 20 mil ligações dentro do período da campanha.\n",
    "O Desafio\n",
    "\n",
    "Nesse contexto, você foi contratado como um consultor de Ciência de Dados para construir um modelo que prediz se o cliente estaria ou não interessado no seguro de automóvel. \n",
    "\n",
    "Com a sua solução, o time de vendas espera conseguir priorizar as pessoas com maior interesse no novo produto e assim, otimizar a campanha realizando apenas contatos aos clientes mais propensos a realizar a compra.\n",
    "\n",
    "Como resultado da sua consultoria, você precisará entregar um relatório contendo algumas análises e respostas às seguintes perguntas:\n",
    "\n",
    "    - Principais Insights sobre os atributos mais relevantes de clientes interessados em adquirir um seguro de automóvel.\n",
    "    - Qual a porcentagem de clientes interessados em adquirir um seguro de automóvel, o time de vendas conseguirá contatar fazendo 20.000 ligações?\n",
    "    - E se a capacidade do time de vendas aumentar para 40.000 ligações, qual a porcentagem de clientes interessados em adquirir um seguro de automóvel o time de vendas conseguirá contatar?\n",
    "    - Quantas ligações o time de vendas precisa fazer para contatar 80% dos clientes interessados em adquirir um seguro de automóvel?"
   ]
  },
  {
   "cell_type": "markdown",
   "id": "5b767e21",
   "metadata": {
    "heading_collapsed": true
   },
   "source": [
    "# 2. Business Assumptions."
   ]
  },
  {
   "cell_type": "markdown",
   "id": "345d11a4",
   "metadata": {
    "hidden": true
   },
   "source": [
    "|Variable |\tDefinition|\n",
    "|:-------:|:----------|\n",
    "|id \t  | Unique ID for the customer|\n",
    "|Gender   |\tGender of the customer|\n",
    "|Age \t|Age of the customer|\n",
    "|Driving_License |\t0 : Customer does not have DL, 1 : Customer already has DL|\n",
    "|Region_Code |\tUnique code for the region of the customer|\n",
    "|Previously_Insured \t|1 : Customer already has Vehicle Insurance, 0 : Customer doesn't have Vehicle Insurance|\n",
    "|Vehicle_Age |\tAge of the Vehicle|\n",
    "|Vehicle_Damage \t|1 : Customer got his/her vehicle damaged in the past. 0 : Customer didn't get his/her vehicle damaged in the past.|\n",
    "|Annual_Premium |\tThe amount customer needs to pay as premium in the year|\n",
    "|PolicySalesChannel |\tAnonymized Code for the channel of outreaching to the customer ie. Different Agents, Over Mail, Over Phone, In Person, etc.|\n",
    "|Vintage |\tNumber of Days, Customer has been associated with the company|\n",
    "|Response |\t1 : Customer is interested, 0 : Customer is not interested"
   ]
  },
  {
   "cell_type": "markdown",
   "id": "10ae2b49",
   "metadata": {
    "heading_collapsed": true
   },
   "source": [
    "# 3. Solution Strategy"
   ]
  },
  {
   "cell_type": "markdown",
   "id": "38f9739c",
   "metadata": {
    "hidden": true
   },
   "source": [
    "My strategy to solve this challenge was:"
   ]
  },
  {
   "cell_type": "markdown",
   "id": "e3aa9e7f",
   "metadata": {
    "ExecuteTime": {
     "end_time": "2022-03-01T12:48:02.820650Z",
     "start_time": "2022-03-01T12:48:02.809575Z"
    },
    "hidden": true
   },
   "source": [
    "## **Step 01. Data Description:**"
   ]
  },
  {
   "cell_type": "markdown",
   "id": "059d4518",
   "metadata": {
    "hidden": true
   },
   "source": [
    "## **Step 02. Feature Engineering:**"
   ]
  },
  {
   "cell_type": "markdown",
   "id": "e819a82b",
   "metadata": {
    "hidden": true
   },
   "source": [
    "## **Step 03. Data Filtering:**"
   ]
  },
  {
   "cell_type": "markdown",
   "id": "d65fd13a",
   "metadata": {
    "hidden": true
   },
   "source": [
    "## **Step 04. Exploratory Data Analysis:**"
   ]
  },
  {
   "cell_type": "markdown",
   "id": "6cb73d81",
   "metadata": {
    "hidden": true
   },
   "source": [
    "## **Step 05. Data Preparation:**"
   ]
  },
  {
   "cell_type": "markdown",
   "id": "0a153e8d",
   "metadata": {
    "hidden": true
   },
   "source": [
    "## **Step 06. Feature Selection:**"
   ]
  },
  {
   "cell_type": "markdown",
   "id": "7dbcb1b3",
   "metadata": {
    "hidden": true
   },
   "source": [
    "## **Step 07. Machine Learning Modelling:**"
   ]
  },
  {
   "cell_type": "markdown",
   "id": "06e9184d",
   "metadata": {
    "hidden": true
   },
   "source": [
    "## **Step 08. Hyperparameter Fine Tunning:**"
   ]
  },
  {
   "cell_type": "markdown",
   "id": "5eec6e65",
   "metadata": {
    "hidden": true
   },
   "source": [
    "## **Step 09. Convert Model Performance to Business Values:**"
   ]
  },
  {
   "cell_type": "markdown",
   "id": "6670888f",
   "metadata": {
    "hidden": true
   },
   "source": [
    "## **Step 10. Deploy Modelo to Production:**"
   ]
  },
  {
   "cell_type": "markdown",
   "id": "03be95cf",
   "metadata": {
    "heading_collapsed": true
   },
   "source": [
    "# 4. Top 3 Data Insights"
   ]
  },
  {
   "cell_type": "markdown",
   "id": "a9a1a2c8",
   "metadata": {
    "hidden": true
   },
   "source": [
    "## **Hypothesis 01:**\n",
    "\n",
    "**True/False.**"
   ]
  },
  {
   "cell_type": "markdown",
   "id": "6f20b0e4",
   "metadata": {
    "hidden": true
   },
   "source": [
    "## **Hypothesis 03:**\n",
    "\n",
    "**True/False.**"
   ]
  },
  {
   "cell_type": "markdown",
   "id": "ca466533",
   "metadata": {
    "hidden": true
   },
   "source": [
    "## **Hypothesis 03:**\n",
    "\n",
    "**True/False.**"
   ]
  },
  {
   "cell_type": "markdown",
   "id": "e652f965",
   "metadata": {
    "ExecuteTime": {
     "end_time": "2022-03-01T12:44:15.818789Z",
     "start_time": "2022-03-01T12:44:15.805550Z"
    },
    "heading_collapsed": true
   },
   "source": [
    "# 5. Machine Learning Model Applied"
   ]
  },
  {
   "cell_type": "markdown",
   "id": "5e14db73",
   "metadata": {
    "heading_collapsed": true
   },
   "source": [
    "# 6. Machine Learning Modelo Performance"
   ]
  },
  {
   "cell_type": "markdown",
   "id": "191882b0",
   "metadata": {
    "ExecuteTime": {
     "end_time": "2022-03-01T12:44:16.163345Z",
     "start_time": "2022-03-01T12:44:16.150173Z"
    },
    "heading_collapsed": true
   },
   "source": [
    "# 7. Business Results"
   ]
  },
  {
   "cell_type": "markdown",
   "id": "a67da923",
   "metadata": {
    "heading_collapsed": true
   },
   "source": [
    "# 8. Conclusions"
   ]
  },
  {
   "cell_type": "markdown",
   "id": "ec6a4b62",
   "metadata": {
    "ExecuteTime": {
     "end_time": "2022-03-01T12:44:16.798008Z",
     "start_time": "2022-03-01T12:44:16.785997Z"
    },
    "heading_collapsed": true
   },
   "source": [
    "# 9. Lessons Learned"
   ]
  },
  {
   "cell_type": "markdown",
   "id": "871a7336",
   "metadata": {
    "heading_collapsed": true
   },
   "source": [
    "# 10. Next Steps to Improve"
   ]
  },
  {
   "cell_type": "markdown",
   "id": "7aa1d7a7",
   "metadata": {
    "heading_collapsed": true
   },
   "source": [
    "# LICENSE"
   ]
  },
  {
   "cell_type": "markdown",
   "id": "8e80c39c",
   "metadata": {
    "hidden": true
   },
   "source": [
    "### All Rights Reserved - Comunidade DS 2021"
   ]
  }
 ],
 "metadata": {
  "kernelspec": {
   "display_name": "HealthInsurance",
   "language": "python",
   "name": "healthinsurance"
  },
  "language_info": {
   "codemirror_mode": {
    "name": "ipython",
    "version": 3
   },
   "file_extension": ".py",
   "mimetype": "text/x-python",
   "name": "python",
   "nbconvert_exporter": "python",
   "pygments_lexer": "ipython3",
   "version": "3.8.0"
  },
  "varInspector": {
   "cols": {
    "lenName": 16,
    "lenType": 16,
    "lenVar": 40
   },
   "kernels_config": {
    "python": {
     "delete_cmd_postfix": "",
     "delete_cmd_prefix": "del ",
     "library": "var_list.py",
     "varRefreshCmd": "print(var_dic_list())"
    },
    "r": {
     "delete_cmd_postfix": ") ",
     "delete_cmd_prefix": "rm(",
     "library": "var_list.r",
     "varRefreshCmd": "cat(var_dic_list()) "
    }
   },
   "types_to_exclude": [
    "module",
    "function",
    "builtin_function_or_method",
    "instance",
    "_Feature"
   ],
   "window_display": false
  }
 },
 "nbformat": 4,
 "nbformat_minor": 5
}
