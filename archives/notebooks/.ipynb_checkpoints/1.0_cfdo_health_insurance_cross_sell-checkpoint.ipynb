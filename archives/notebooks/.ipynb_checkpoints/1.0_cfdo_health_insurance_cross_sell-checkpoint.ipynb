{
 "cells": [
  {
   "cell_type": "markdown",
   "id": "d748473c",
   "metadata": {
    "heading_collapsed": true
   },
   "source": [
    "# 0.0. Imports"
   ]
  },
  {
   "cell_type": "code",
   "execution_count": 1,
   "id": "b6d293ab",
   "metadata": {
    "ExecuteTime": {
     "end_time": "2022-03-07T16:23:07.882685Z",
     "start_time": "2022-03-07T16:22:58.166528Z"
    },
    "hidden": true
   },
   "outputs": [],
   "source": [
    "import numpy  as np\n",
    "import pandas as pd\n",
    "import boruta as bt\n",
    "import scikitplot as skplt\n",
    "import pickle\n",
    "\n",
    "import seaborn as sns\n",
    "\n",
    "from matplotlib import pyplot as plt\n",
    "\n",
    "from sklearn import preprocessing   as pp\n",
    "from sklearn import linear_model    as lm\n",
    "from sklearn import model_selection as ms\n",
    "from sklearn import ensemble        as en\n",
    "from sklearn import neighbors       as nh\n",
    "\n",
    "import warnings\n",
    "warnings.filterwarnings('ignore')"
   ]
  },
  {
   "cell_type": "code",
   "execution_count": 2,
   "id": "cd2060d8",
   "metadata": {
    "ExecuteTime": {
     "end_time": "2022-03-07T16:23:07.903108Z",
     "start_time": "2022-03-07T16:23:07.891412Z"
    },
    "hidden": true
   },
   "outputs": [],
   "source": [
    "pd.options.mode.chained_assignment = None  # default='warn'"
   ]
  },
  {
   "cell_type": "markdown",
   "id": "2b481191",
   "metadata": {
    "hidden": true
   },
   "source": [
    "## 0.1. Helper Function"
   ]
  },
  {
   "cell_type": "code",
   "execution_count": 3,
   "id": "96060c79",
   "metadata": {
    "ExecuteTime": {
     "end_time": "2022-03-07T16:23:07.964470Z",
     "start_time": "2022-03-07T16:23:07.913045Z"
    },
    "hidden": true
   },
   "outputs": [],
   "source": [
    "def jupyter_settings():\n",
    "    %matplotlib inline\n",
    "    %pylab inline\n",
    "    \n",
    "    plt.style.use( 'bmh' )\n",
    "    plt.rcParams['figure.figsize'] = [25, 12]\n",
    "    plt.rcParams['font.size'] = 24\n",
    "    \n",
    "    display( HTML( '<style>.container { width:100% !important; }</style>') )\n",
    "    pd.options.display.max_columns = None\n",
    "    pd.options.display.max_rows = None\n",
    "    pd.set_option( 'display.expand_frame_repr', False )\n",
    "    \n",
    "    sns.set()"
   ]
  },
  {
   "cell_type": "markdown",
   "id": "b6e45760",
   "metadata": {
    "ExecuteTime": {
     "end_time": "2022-02-28T21:33:09.513356Z",
     "start_time": "2022-02-28T21:33:09.332182Z"
    },
    "hidden": true
   },
   "source": [
    "## 0.2. Load dataset"
   ]
  },
  {
   "cell_type": "code",
   "execution_count": 4,
   "id": "c8f01e19",
   "metadata": {
    "ExecuteTime": {
     "end_time": "2022-03-07T16:23:08.135388Z",
     "start_time": "2022-03-07T16:23:07.976024Z"
    },
    "hidden": true
   },
   "outputs": [],
   "source": [
    "# Connect database\n",
    "import pandas   as pd\n",
    "import psycopg2 as pg"
   ]
  },
  {
   "cell_type": "code",
   "execution_count": 5,
   "id": "3324d97e",
   "metadata": {
    "ExecuteTime": {
     "end_time": "2022-03-07T16:23:33.062876Z",
     "start_time": "2022-03-07T16:23:08.146295Z"
    },
    "hidden": true
   },
   "outputs": [],
   "source": [
    "HOST = 'comunidade-ds-postgres.c50pcakiuwi3.us-east-1.rds.amazonaws.com'\n",
    "PORT = '5432'\n",
    "DATABASE = 'comunidadedsdb'\n",
    "USER = 'member'\n",
    "PASSWORD ='cdspa'\n",
    "\n",
    "conn = pg.connect(host=HOST,\n",
    "                  database=DATABASE,\n",
    "                  port=PORT,\n",
    "                  user=USER,\n",
    "                  password=PASSWORD)\n",
    "\n",
    "query = \"\"\"\n",
    "    SELECT *\n",
    "    FROM pa004.users u INNER JOIN pa004.vehicle v ON (u.id = v.id)\n",
    "                       INNER JOIN pa004.insurance i ON (u.id = i.id)\n",
    "\"\"\"\n",
    "\n",
    "data = pd.read_sql(query, conn)"
   ]
  },
  {
   "cell_type": "code",
   "execution_count": 6,
   "id": "e2840cd0",
   "metadata": {
    "ExecuteTime": {
     "end_time": "2022-03-07T16:23:33.283411Z",
     "start_time": "2022-03-07T16:23:33.075536Z"
    },
    "hidden": true
   },
   "outputs": [
    {
     "data": {
      "text/html": [
       "<div>\n",
       "<style scoped>\n",
       "    .dataframe tbody tr th:only-of-type {\n",
       "        vertical-align: middle;\n",
       "    }\n",
       "\n",
       "    .dataframe tbody tr th {\n",
       "        vertical-align: top;\n",
       "    }\n",
       "\n",
       "    .dataframe thead th {\n",
       "        text-align: right;\n",
       "    }\n",
       "</style>\n",
       "<table border=\"1\" class=\"dataframe\">\n",
       "  <thead>\n",
       "    <tr style=\"text-align: right;\">\n",
       "      <th></th>\n",
       "      <th>id</th>\n",
       "      <th>gender</th>\n",
       "      <th>age</th>\n",
       "      <th>region_code</th>\n",
       "      <th>policy_sales_channel</th>\n",
       "      <th>id</th>\n",
       "      <th>driving_license</th>\n",
       "      <th>vehicle_age</th>\n",
       "      <th>vehicle_damage</th>\n",
       "      <th>id</th>\n",
       "      <th>previously_insured</th>\n",
       "      <th>annual_premium</th>\n",
       "      <th>vintage</th>\n",
       "      <th>response</th>\n",
       "    </tr>\n",
       "  </thead>\n",
       "  <tbody>\n",
       "    <tr>\n",
       "      <th>0</th>\n",
       "      <td>7</td>\n",
       "      <td>Male</td>\n",
       "      <td>23</td>\n",
       "      <td>11.0</td>\n",
       "      <td>152.0</td>\n",
       "      <td>7</td>\n",
       "      <td>1</td>\n",
       "      <td>&lt; 1 Year</td>\n",
       "      <td>Yes</td>\n",
       "      <td>7</td>\n",
       "      <td>0</td>\n",
       "      <td>23367.0</td>\n",
       "      <td>249</td>\n",
       "      <td>0</td>\n",
       "    </tr>\n",
       "    <tr>\n",
       "      <th>1</th>\n",
       "      <td>13</td>\n",
       "      <td>Female</td>\n",
       "      <td>41</td>\n",
       "      <td>15.0</td>\n",
       "      <td>14.0</td>\n",
       "      <td>13</td>\n",
       "      <td>1</td>\n",
       "      <td>1-2 Year</td>\n",
       "      <td>No</td>\n",
       "      <td>13</td>\n",
       "      <td>1</td>\n",
       "      <td>31409.0</td>\n",
       "      <td>221</td>\n",
       "      <td>0</td>\n",
       "    </tr>\n",
       "    <tr>\n",
       "      <th>2</th>\n",
       "      <td>18</td>\n",
       "      <td>Female</td>\n",
       "      <td>25</td>\n",
       "      <td>35.0</td>\n",
       "      <td>152.0</td>\n",
       "      <td>18</td>\n",
       "      <td>1</td>\n",
       "      <td>&lt; 1 Year</td>\n",
       "      <td>No</td>\n",
       "      <td>18</td>\n",
       "      <td>1</td>\n",
       "      <td>46622.0</td>\n",
       "      <td>299</td>\n",
       "      <td>0</td>\n",
       "    </tr>\n",
       "    <tr>\n",
       "      <th>3</th>\n",
       "      <td>31</td>\n",
       "      <td>Female</td>\n",
       "      <td>26</td>\n",
       "      <td>8.0</td>\n",
       "      <td>160.0</td>\n",
       "      <td>31</td>\n",
       "      <td>1</td>\n",
       "      <td>&lt; 1 Year</td>\n",
       "      <td>No</td>\n",
       "      <td>31</td>\n",
       "      <td>0</td>\n",
       "      <td>2630.0</td>\n",
       "      <td>136</td>\n",
       "      <td>0</td>\n",
       "    </tr>\n",
       "    <tr>\n",
       "      <th>4</th>\n",
       "      <td>39</td>\n",
       "      <td>Male</td>\n",
       "      <td>45</td>\n",
       "      <td>8.0</td>\n",
       "      <td>124.0</td>\n",
       "      <td>39</td>\n",
       "      <td>1</td>\n",
       "      <td>1-2 Year</td>\n",
       "      <td>Yes</td>\n",
       "      <td>39</td>\n",
       "      <td>0</td>\n",
       "      <td>42297.0</td>\n",
       "      <td>264</td>\n",
       "      <td>0</td>\n",
       "    </tr>\n",
       "  </tbody>\n",
       "</table>\n",
       "</div>"
      ],
      "text/plain": [
       "   id  gender  age  region_code  policy_sales_channel  id  driving_license  \\\n",
       "0   7    Male   23         11.0                 152.0   7                1   \n",
       "1  13  Female   41         15.0                  14.0  13                1   \n",
       "2  18  Female   25         35.0                 152.0  18                1   \n",
       "3  31  Female   26          8.0                 160.0  31                1   \n",
       "4  39    Male   45          8.0                 124.0  39                1   \n",
       "\n",
       "  vehicle_age vehicle_damage  id  previously_insured  annual_premium  vintage  \\\n",
       "0    < 1 Year            Yes   7                   0         23367.0      249   \n",
       "1    1-2 Year             No  13                   1         31409.0      221   \n",
       "2    < 1 Year             No  18                   1         46622.0      299   \n",
       "3    < 1 Year             No  31                   0          2630.0      136   \n",
       "4    1-2 Year            Yes  39                   0         42297.0      264   \n",
       "\n",
       "   response  \n",
       "0         0  \n",
       "1         0  \n",
       "2         0  \n",
       "3         0  \n",
       "4         0  "
      ]
     },
     "execution_count": 6,
     "metadata": {},
     "output_type": "execute_result"
    }
   ],
   "source": [
    "data.head()"
   ]
  },
  {
   "cell_type": "code",
   "execution_count": 7,
   "id": "84dabcb4",
   "metadata": {
    "ExecuteTime": {
     "end_time": "2022-03-07T16:23:56.222234Z",
     "start_time": "2022-03-07T16:23:33.317485Z"
    },
    "hidden": true
   },
   "outputs": [],
   "source": [
    "data.to_csv('../data/raw/train.csv', index=False)"
   ]
  },
  {
   "cell_type": "code",
   "execution_count": 8,
   "id": "f96a4184",
   "metadata": {
    "ExecuteTime": {
     "end_time": "2022-03-07T16:23:58.748429Z",
     "start_time": "2022-03-07T16:23:56.241250Z"
    },
    "hidden": true
   },
   "outputs": [],
   "source": [
    "df_raw = pd.read_csv('../data/raw/train.csv')"
   ]
  },
  {
   "cell_type": "code",
   "execution_count": 9,
   "id": "b20ed65f",
   "metadata": {
    "ExecuteTime": {
     "end_time": "2022-03-07T16:23:58.974181Z",
     "start_time": "2022-03-07T16:23:58.760948Z"
    },
    "hidden": true
   },
   "outputs": [
    {
     "data": {
      "text/html": [
       "<div>\n",
       "<style scoped>\n",
       "    .dataframe tbody tr th:only-of-type {\n",
       "        vertical-align: middle;\n",
       "    }\n",
       "\n",
       "    .dataframe tbody tr th {\n",
       "        vertical-align: top;\n",
       "    }\n",
       "\n",
       "    .dataframe thead th {\n",
       "        text-align: right;\n",
       "    }\n",
       "</style>\n",
       "<table border=\"1\" class=\"dataframe\">\n",
       "  <thead>\n",
       "    <tr style=\"text-align: right;\">\n",
       "      <th></th>\n",
       "      <th>id</th>\n",
       "      <th>gender</th>\n",
       "      <th>age</th>\n",
       "      <th>region_code</th>\n",
       "      <th>policy_sales_channel</th>\n",
       "      <th>id.1</th>\n",
       "      <th>driving_license</th>\n",
       "      <th>vehicle_age</th>\n",
       "      <th>vehicle_damage</th>\n",
       "      <th>id.2</th>\n",
       "      <th>previously_insured</th>\n",
       "      <th>annual_premium</th>\n",
       "      <th>vintage</th>\n",
       "      <th>response</th>\n",
       "    </tr>\n",
       "  </thead>\n",
       "  <tbody>\n",
       "    <tr>\n",
       "      <th>0</th>\n",
       "      <td>7</td>\n",
       "      <td>Male</td>\n",
       "      <td>23</td>\n",
       "      <td>11.0</td>\n",
       "      <td>152.0</td>\n",
       "      <td>7</td>\n",
       "      <td>1</td>\n",
       "      <td>&lt; 1 Year</td>\n",
       "      <td>Yes</td>\n",
       "      <td>7</td>\n",
       "      <td>0</td>\n",
       "      <td>23367.0</td>\n",
       "      <td>249</td>\n",
       "      <td>0</td>\n",
       "    </tr>\n",
       "    <tr>\n",
       "      <th>1</th>\n",
       "      <td>13</td>\n",
       "      <td>Female</td>\n",
       "      <td>41</td>\n",
       "      <td>15.0</td>\n",
       "      <td>14.0</td>\n",
       "      <td>13</td>\n",
       "      <td>1</td>\n",
       "      <td>1-2 Year</td>\n",
       "      <td>No</td>\n",
       "      <td>13</td>\n",
       "      <td>1</td>\n",
       "      <td>31409.0</td>\n",
       "      <td>221</td>\n",
       "      <td>0</td>\n",
       "    </tr>\n",
       "    <tr>\n",
       "      <th>2</th>\n",
       "      <td>18</td>\n",
       "      <td>Female</td>\n",
       "      <td>25</td>\n",
       "      <td>35.0</td>\n",
       "      <td>152.0</td>\n",
       "      <td>18</td>\n",
       "      <td>1</td>\n",
       "      <td>&lt; 1 Year</td>\n",
       "      <td>No</td>\n",
       "      <td>18</td>\n",
       "      <td>1</td>\n",
       "      <td>46622.0</td>\n",
       "      <td>299</td>\n",
       "      <td>0</td>\n",
       "    </tr>\n",
       "    <tr>\n",
       "      <th>3</th>\n",
       "      <td>31</td>\n",
       "      <td>Female</td>\n",
       "      <td>26</td>\n",
       "      <td>8.0</td>\n",
       "      <td>160.0</td>\n",
       "      <td>31</td>\n",
       "      <td>1</td>\n",
       "      <td>&lt; 1 Year</td>\n",
       "      <td>No</td>\n",
       "      <td>31</td>\n",
       "      <td>0</td>\n",
       "      <td>2630.0</td>\n",
       "      <td>136</td>\n",
       "      <td>0</td>\n",
       "    </tr>\n",
       "    <tr>\n",
       "      <th>4</th>\n",
       "      <td>39</td>\n",
       "      <td>Male</td>\n",
       "      <td>45</td>\n",
       "      <td>8.0</td>\n",
       "      <td>124.0</td>\n",
       "      <td>39</td>\n",
       "      <td>1</td>\n",
       "      <td>1-2 Year</td>\n",
       "      <td>Yes</td>\n",
       "      <td>39</td>\n",
       "      <td>0</td>\n",
       "      <td>42297.0</td>\n",
       "      <td>264</td>\n",
       "      <td>0</td>\n",
       "    </tr>\n",
       "  </tbody>\n",
       "</table>\n",
       "</div>"
      ],
      "text/plain": [
       "   id  gender  age  region_code  policy_sales_channel  id.1  driving_license  \\\n",
       "0   7    Male   23         11.0                 152.0     7                1   \n",
       "1  13  Female   41         15.0                  14.0    13                1   \n",
       "2  18  Female   25         35.0                 152.0    18                1   \n",
       "3  31  Female   26          8.0                 160.0    31                1   \n",
       "4  39    Male   45          8.0                 124.0    39                1   \n",
       "\n",
       "  vehicle_age vehicle_damage  id.2  previously_insured  annual_premium  \\\n",
       "0    < 1 Year            Yes     7                   0         23367.0   \n",
       "1    1-2 Year             No    13                   1         31409.0   \n",
       "2    < 1 Year             No    18                   1         46622.0   \n",
       "3    < 1 Year             No    31                   0          2630.0   \n",
       "4    1-2 Year            Yes    39                   0         42297.0   \n",
       "\n",
       "   vintage  response  \n",
       "0      249         0  \n",
       "1      221         0  \n",
       "2      299         0  \n",
       "3      136         0  \n",
       "4      264         0  "
      ]
     },
     "execution_count": 9,
     "metadata": {},
     "output_type": "execute_result"
    }
   ],
   "source": [
    "df_raw.head()"
   ]
  },
  {
   "cell_type": "code",
   "execution_count": 10,
   "id": "79aaae57",
   "metadata": {
    "ExecuteTime": {
     "end_time": "2022-03-07T16:23:59.239768Z",
     "start_time": "2022-03-07T16:23:59.017139Z"
    },
    "hidden": true
   },
   "outputs": [
    {
     "data": {
      "text/html": [
       "<div>\n",
       "<style scoped>\n",
       "    .dataframe tbody tr th:only-of-type {\n",
       "        vertical-align: middle;\n",
       "    }\n",
       "\n",
       "    .dataframe tbody tr th {\n",
       "        vertical-align: top;\n",
       "    }\n",
       "\n",
       "    .dataframe thead th {\n",
       "        text-align: right;\n",
       "    }\n",
       "</style>\n",
       "<table border=\"1\" class=\"dataframe\">\n",
       "  <thead>\n",
       "    <tr style=\"text-align: right;\">\n",
       "      <th></th>\n",
       "      <th>id</th>\n",
       "      <th>gender</th>\n",
       "      <th>age</th>\n",
       "      <th>region_code</th>\n",
       "      <th>policy_sales_channel</th>\n",
       "      <th>driving_license</th>\n",
       "      <th>vehicle_age</th>\n",
       "      <th>vehicle_damage</th>\n",
       "      <th>previously_insured</th>\n",
       "      <th>annual_premium</th>\n",
       "      <th>vintage</th>\n",
       "      <th>response</th>\n",
       "    </tr>\n",
       "  </thead>\n",
       "  <tbody>\n",
       "    <tr>\n",
       "      <th>0</th>\n",
       "      <td>7</td>\n",
       "      <td>Male</td>\n",
       "      <td>23</td>\n",
       "      <td>11.0</td>\n",
       "      <td>152.0</td>\n",
       "      <td>1</td>\n",
       "      <td>&lt; 1 Year</td>\n",
       "      <td>Yes</td>\n",
       "      <td>0</td>\n",
       "      <td>23367.0</td>\n",
       "      <td>249</td>\n",
       "      <td>0</td>\n",
       "    </tr>\n",
       "    <tr>\n",
       "      <th>1</th>\n",
       "      <td>13</td>\n",
       "      <td>Female</td>\n",
       "      <td>41</td>\n",
       "      <td>15.0</td>\n",
       "      <td>14.0</td>\n",
       "      <td>1</td>\n",
       "      <td>1-2 Year</td>\n",
       "      <td>No</td>\n",
       "      <td>1</td>\n",
       "      <td>31409.0</td>\n",
       "      <td>221</td>\n",
       "      <td>0</td>\n",
       "    </tr>\n",
       "    <tr>\n",
       "      <th>2</th>\n",
       "      <td>18</td>\n",
       "      <td>Female</td>\n",
       "      <td>25</td>\n",
       "      <td>35.0</td>\n",
       "      <td>152.0</td>\n",
       "      <td>1</td>\n",
       "      <td>&lt; 1 Year</td>\n",
       "      <td>No</td>\n",
       "      <td>1</td>\n",
       "      <td>46622.0</td>\n",
       "      <td>299</td>\n",
       "      <td>0</td>\n",
       "    </tr>\n",
       "    <tr>\n",
       "      <th>3</th>\n",
       "      <td>31</td>\n",
       "      <td>Female</td>\n",
       "      <td>26</td>\n",
       "      <td>8.0</td>\n",
       "      <td>160.0</td>\n",
       "      <td>1</td>\n",
       "      <td>&lt; 1 Year</td>\n",
       "      <td>No</td>\n",
       "      <td>0</td>\n",
       "      <td>2630.0</td>\n",
       "      <td>136</td>\n",
       "      <td>0</td>\n",
       "    </tr>\n",
       "    <tr>\n",
       "      <th>4</th>\n",
       "      <td>39</td>\n",
       "      <td>Male</td>\n",
       "      <td>45</td>\n",
       "      <td>8.0</td>\n",
       "      <td>124.0</td>\n",
       "      <td>1</td>\n",
       "      <td>1-2 Year</td>\n",
       "      <td>Yes</td>\n",
       "      <td>0</td>\n",
       "      <td>42297.0</td>\n",
       "      <td>264</td>\n",
       "      <td>0</td>\n",
       "    </tr>\n",
       "  </tbody>\n",
       "</table>\n",
       "</div>"
      ],
      "text/plain": [
       "   id  gender  age  region_code  policy_sales_channel  driving_license  \\\n",
       "0   7    Male   23         11.0                 152.0                1   \n",
       "1  13  Female   41         15.0                  14.0                1   \n",
       "2  18  Female   25         35.0                 152.0                1   \n",
       "3  31  Female   26          8.0                 160.0                1   \n",
       "4  39    Male   45          8.0                 124.0                1   \n",
       "\n",
       "  vehicle_age vehicle_damage  previously_insured  annual_premium  vintage  \\\n",
       "0    < 1 Year            Yes                   0         23367.0      249   \n",
       "1    1-2 Year             No                   1         31409.0      221   \n",
       "2    < 1 Year             No                   1         46622.0      299   \n",
       "3    < 1 Year             No                   0          2630.0      136   \n",
       "4    1-2 Year            Yes                   0         42297.0      264   \n",
       "\n",
       "   response  \n",
       "0         0  \n",
       "1         0  \n",
       "2         0  \n",
       "3         0  \n",
       "4         0  "
      ]
     },
     "execution_count": 10,
     "metadata": {},
     "output_type": "execute_result"
    }
   ],
   "source": [
    "df_raw = df_raw.drop(df_raw.columns[[5, 9]], axis = 1)\n",
    "df_raw.head()"
   ]
  },
  {
   "cell_type": "markdown",
   "id": "1cbfdb0d",
   "metadata": {
    "heading_collapsed": true
   },
   "source": [
    "# 1.0. Data Description"
   ]
  },
  {
   "cell_type": "code",
   "execution_count": 11,
   "id": "a24dca9e",
   "metadata": {
    "ExecuteTime": {
     "end_time": "2022-03-07T16:23:59.296431Z",
     "start_time": "2022-03-07T16:23:59.252175Z"
    },
    "hidden": true
   },
   "outputs": [],
   "source": [
    "df1 = df_raw.copy()"
   ]
  },
  {
   "cell_type": "markdown",
   "id": "56f083f1",
   "metadata": {
    "hidden": true
   },
   "source": [
    "## 1.1. Rename Columns"
   ]
  },
  {
   "cell_type": "code",
   "execution_count": 12,
   "id": "09a2e50e",
   "metadata": {
    "ExecuteTime": {
     "end_time": "2022-03-07T16:23:59.339750Z",
     "start_time": "2022-03-07T16:23:59.309417Z"
    },
    "hidden": true
   },
   "outputs": [
    {
     "data": {
      "text/plain": [
       "Index(['id', 'gender', 'age', 'region_code', 'policy_sales_channel',\n",
       "       'driving_license', 'vehicle_age', 'vehicle_damage',\n",
       "       'previously_insured', 'annual_premium', 'vintage', 'response'],\n",
       "      dtype='object')"
      ]
     },
     "execution_count": 12,
     "metadata": {},
     "output_type": "execute_result"
    }
   ],
   "source": [
    "df1.columns"
   ]
  },
  {
   "cell_type": "markdown",
   "id": "a8564880",
   "metadata": {
    "hidden": true
   },
   "source": [
    "## 1.2. Data Dimensions"
   ]
  },
  {
   "cell_type": "code",
   "execution_count": 13,
   "id": "150d686b",
   "metadata": {
    "ExecuteTime": {
     "end_time": "2022-03-07T16:23:59.403006Z",
     "start_time": "2022-03-07T16:23:59.353589Z"
    },
    "hidden": true
   },
   "outputs": [
    {
     "name": "stdout",
     "output_type": "stream",
     "text": [
      "Number of Rows: 381109\n",
      "Number of Cols: 12\n"
     ]
    }
   ],
   "source": [
    "print(f'Number of Rows: {df1.shape[0]}')\n",
    "print(f'Number of Cols: {df1.shape[1]}')"
   ]
  },
  {
   "cell_type": "markdown",
   "id": "f0338a07",
   "metadata": {
    "hidden": true
   },
   "source": [
    "## 1.3. Data Types"
   ]
  },
  {
   "cell_type": "code",
   "execution_count": 14,
   "id": "3cb9f713",
   "metadata": {
    "ExecuteTime": {
     "end_time": "2022-03-07T16:23:59.484427Z",
     "start_time": "2022-03-07T16:23:59.421582Z"
    },
    "hidden": true
   },
   "outputs": [
    {
     "data": {
      "text/plain": [
       "id                        int64\n",
       "gender                   object\n",
       "age                       int64\n",
       "region_code             float64\n",
       "policy_sales_channel    float64\n",
       "driving_license           int64\n",
       "vehicle_age              object\n",
       "vehicle_damage           object\n",
       "previously_insured        int64\n",
       "annual_premium          float64\n",
       "vintage                   int64\n",
       "response                  int64\n",
       "dtype: object"
      ]
     },
     "execution_count": 14,
     "metadata": {},
     "output_type": "execute_result"
    }
   ],
   "source": [
    "df1.dtypes"
   ]
  },
  {
   "cell_type": "markdown",
   "id": "5e44ff67",
   "metadata": {
    "hidden": true
   },
   "source": [
    "## 1.4. Check NA"
   ]
  },
  {
   "cell_type": "code",
   "execution_count": 15,
   "id": "22412694",
   "metadata": {
    "ExecuteTime": {
     "end_time": "2022-03-07T16:24:01.372831Z",
     "start_time": "2022-03-07T16:23:59.500404Z"
    },
    "hidden": true
   },
   "outputs": [
    {
     "data": {
      "text/plain": [
       "id                      0\n",
       "gender                  0\n",
       "age                     0\n",
       "region_code             0\n",
       "policy_sales_channel    0\n",
       "driving_license         0\n",
       "vehicle_age             0\n",
       "vehicle_damage          0\n",
       "previously_insured      0\n",
       "annual_premium          0\n",
       "vintage                 0\n",
       "response                0\n",
       "dtype: int64"
      ]
     },
     "execution_count": 15,
     "metadata": {},
     "output_type": "execute_result"
    }
   ],
   "source": [
    "df1.isna().sum()"
   ]
  },
  {
   "cell_type": "markdown",
   "id": "8cf936fc",
   "metadata": {
    "hidden": true
   },
   "source": [
    "## 1.5. Data Descriptive"
   ]
  },
  {
   "cell_type": "code",
   "execution_count": 16,
   "id": "7b97c02c",
   "metadata": {
    "ExecuteTime": {
     "end_time": "2022-03-07T16:24:01.406898Z",
     "start_time": "2022-03-07T16:24:01.383909Z"
    },
    "hidden": true
   },
   "outputs": [],
   "source": [
    "num_attributes = df1.select_dtypes(include=['int64', 'float64'])\n",
    "cat_attributes = df1.select_dtypes(exclude=['int64', 'float64', 'datetime64[ns]'])"
   ]
  },
  {
   "cell_type": "markdown",
   "id": "4d4ce01a",
   "metadata": {
    "hidden": true
   },
   "source": [
    "### 1.5.1. Numerical Attributes"
   ]
  },
  {
   "cell_type": "code",
   "execution_count": 17,
   "id": "cdc68c25",
   "metadata": {
    "ExecuteTime": {
     "end_time": "2022-03-07T16:24:11.434925Z",
     "start_time": "2022-03-07T16:24:01.419259Z"
    },
    "hidden": true
   },
   "outputs": [
    {
     "data": {
      "text/html": [
       "<div>\n",
       "<style scoped>\n",
       "    .dataframe tbody tr th:only-of-type {\n",
       "        vertical-align: middle;\n",
       "    }\n",
       "\n",
       "    .dataframe tbody tr th {\n",
       "        vertical-align: top;\n",
       "    }\n",
       "\n",
       "    .dataframe thead th {\n",
       "        text-align: right;\n",
       "    }\n",
       "</style>\n",
       "<table border=\"1\" class=\"dataframe\">\n",
       "  <thead>\n",
       "    <tr style=\"text-align: right;\">\n",
       "      <th></th>\n",
       "      <th>attributes</th>\n",
       "      <th>min</th>\n",
       "      <th>max</th>\n",
       "      <th>range</th>\n",
       "      <th>mean</th>\n",
       "      <th>median</th>\n",
       "      <th>std</th>\n",
       "      <th>skew</th>\n",
       "      <th>kurtosis</th>\n",
       "    </tr>\n",
       "  </thead>\n",
       "  <tbody>\n",
       "    <tr>\n",
       "      <th>0</th>\n",
       "      <td>id</td>\n",
       "      <td>1.0</td>\n",
       "      <td>381109.0</td>\n",
       "      <td>381108.0</td>\n",
       "      <td>190555.000000</td>\n",
       "      <td>190555.0</td>\n",
       "      <td>110016.691870</td>\n",
       "      <td>-8.071174e-18</td>\n",
       "      <td>-1.200000</td>\n",
       "    </tr>\n",
       "    <tr>\n",
       "      <th>1</th>\n",
       "      <td>age</td>\n",
       "      <td>20.0</td>\n",
       "      <td>85.0</td>\n",
       "      <td>65.0</td>\n",
       "      <td>38.822584</td>\n",
       "      <td>36.0</td>\n",
       "      <td>15.511591</td>\n",
       "      <td>6.725390e-01</td>\n",
       "      <td>-0.565655</td>\n",
       "    </tr>\n",
       "    <tr>\n",
       "      <th>2</th>\n",
       "      <td>region_code</td>\n",
       "      <td>0.0</td>\n",
       "      <td>52.0</td>\n",
       "      <td>52.0</td>\n",
       "      <td>26.388807</td>\n",
       "      <td>28.0</td>\n",
       "      <td>13.229871</td>\n",
       "      <td>-1.152664e-01</td>\n",
       "      <td>-0.867857</td>\n",
       "    </tr>\n",
       "    <tr>\n",
       "      <th>3</th>\n",
       "      <td>policy_sales_channel</td>\n",
       "      <td>1.0</td>\n",
       "      <td>163.0</td>\n",
       "      <td>162.0</td>\n",
       "      <td>112.034295</td>\n",
       "      <td>133.0</td>\n",
       "      <td>54.203924</td>\n",
       "      <td>-9.000081e-01</td>\n",
       "      <td>-0.970810</td>\n",
       "    </tr>\n",
       "    <tr>\n",
       "      <th>4</th>\n",
       "      <td>driving_license</td>\n",
       "      <td>0.0</td>\n",
       "      <td>1.0</td>\n",
       "      <td>1.0</td>\n",
       "      <td>0.997869</td>\n",
       "      <td>1.0</td>\n",
       "      <td>0.046109</td>\n",
       "      <td>-2.159518e+01</td>\n",
       "      <td>464.354302</td>\n",
       "    </tr>\n",
       "    <tr>\n",
       "      <th>5</th>\n",
       "      <td>previously_insured</td>\n",
       "      <td>0.0</td>\n",
       "      <td>1.0</td>\n",
       "      <td>1.0</td>\n",
       "      <td>0.458210</td>\n",
       "      <td>0.0</td>\n",
       "      <td>0.498251</td>\n",
       "      <td>1.677471e-01</td>\n",
       "      <td>-1.971871</td>\n",
       "    </tr>\n",
       "    <tr>\n",
       "      <th>6</th>\n",
       "      <td>annual_premium</td>\n",
       "      <td>2630.0</td>\n",
       "      <td>540165.0</td>\n",
       "      <td>537535.0</td>\n",
       "      <td>30564.389581</td>\n",
       "      <td>31669.0</td>\n",
       "      <td>17213.132474</td>\n",
       "      <td>1.766087e+00</td>\n",
       "      <td>34.004569</td>\n",
       "    </tr>\n",
       "    <tr>\n",
       "      <th>7</th>\n",
       "      <td>vintage</td>\n",
       "      <td>10.0</td>\n",
       "      <td>299.0</td>\n",
       "      <td>289.0</td>\n",
       "      <td>154.347397</td>\n",
       "      <td>154.0</td>\n",
       "      <td>83.671194</td>\n",
       "      <td>3.029517e-03</td>\n",
       "      <td>-1.200688</td>\n",
       "    </tr>\n",
       "    <tr>\n",
       "      <th>8</th>\n",
       "      <td>response</td>\n",
       "      <td>0.0</td>\n",
       "      <td>1.0</td>\n",
       "      <td>1.0</td>\n",
       "      <td>0.122563</td>\n",
       "      <td>0.0</td>\n",
       "      <td>0.327935</td>\n",
       "      <td>2.301906e+00</td>\n",
       "      <td>3.298788</td>\n",
       "    </tr>\n",
       "  </tbody>\n",
       "</table>\n",
       "</div>"
      ],
      "text/plain": [
       "             attributes     min       max     range           mean    median  \\\n",
       "0                    id     1.0  381109.0  381108.0  190555.000000  190555.0   \n",
       "1                   age    20.0      85.0      65.0      38.822584      36.0   \n",
       "2           region_code     0.0      52.0      52.0      26.388807      28.0   \n",
       "3  policy_sales_channel     1.0     163.0     162.0     112.034295     133.0   \n",
       "4       driving_license     0.0       1.0       1.0       0.997869       1.0   \n",
       "5    previously_insured     0.0       1.0       1.0       0.458210       0.0   \n",
       "6        annual_premium  2630.0  540165.0  537535.0   30564.389581   31669.0   \n",
       "7               vintage    10.0     299.0     289.0     154.347397     154.0   \n",
       "8              response     0.0       1.0       1.0       0.122563       0.0   \n",
       "\n",
       "             std          skew    kurtosis  \n",
       "0  110016.691870 -8.071174e-18   -1.200000  \n",
       "1      15.511591  6.725390e-01   -0.565655  \n",
       "2      13.229871 -1.152664e-01   -0.867857  \n",
       "3      54.203924 -9.000081e-01   -0.970810  \n",
       "4       0.046109 -2.159518e+01  464.354302  \n",
       "5       0.498251  1.677471e-01   -1.971871  \n",
       "6   17213.132474  1.766087e+00   34.004569  \n",
       "7      83.671194  3.029517e-03   -1.200688  \n",
       "8       0.327935  2.301906e+00    3.298788  "
      ]
     },
     "execution_count": 17,
     "metadata": {},
     "output_type": "execute_result"
    }
   ],
   "source": [
    "# Central Tendency - Mean, Median\n",
    "ct1 = pd.DataFrame(num_attributes.apply(np.mean)).T\n",
    "ct2 = pd.DataFrame(num_attributes.apply(np.median)).T\n",
    "\n",
    "# dispersion - std, min, max, range, skew, kurtosis\n",
    "d1 = pd.DataFrame(num_attributes.apply(np.std)).T \n",
    "d2 = pd.DataFrame(num_attributes.apply(min)).T \n",
    "d3 = pd.DataFrame(num_attributes.apply(max)).T \n",
    "d4 = pd.DataFrame(num_attributes.apply(lambda x: x.max() - x.min())).T \n",
    "d5 = pd.DataFrame(num_attributes.apply(lambda x: x.skew())).T \n",
    "d6 = pd.DataFrame(num_attributes.apply(lambda x: x.kurtosis())).T \n",
    "\n",
    "# concatenar\n",
    "m = pd.concat([d2, d3, d4, ct1, ct2, d1, d5, d6]).T.reset_index()\n",
    "m.columns = ['attributes', 'min', 'max', 'range', 'mean', 'median', 'std', 'skew', 'kurtosis']\n",
    "m"
   ]
  },
  {
   "cell_type": "markdown",
   "id": "5b598994",
   "metadata": {
    "hidden": true
   },
   "source": [
    "### 1.5.2. Categorical Attributes"
   ]
  },
  {
   "cell_type": "code",
   "execution_count": 18,
   "id": "a23b2c3a",
   "metadata": {
    "ExecuteTime": {
     "end_time": "2022-03-07T16:24:11.552446Z",
     "start_time": "2022-03-07T16:24:11.453589Z"
    },
    "hidden": true,
    "scrolled": true
   },
   "outputs": [
    {
     "data": {
      "text/html": [
       "<div>\n",
       "<style scoped>\n",
       "    .dataframe tbody tr th:only-of-type {\n",
       "        vertical-align: middle;\n",
       "    }\n",
       "\n",
       "    .dataframe tbody tr th {\n",
       "        vertical-align: top;\n",
       "    }\n",
       "\n",
       "    .dataframe thead th {\n",
       "        text-align: right;\n",
       "    }\n",
       "</style>\n",
       "<table border=\"1\" class=\"dataframe\">\n",
       "  <thead>\n",
       "    <tr style=\"text-align: right;\">\n",
       "      <th></th>\n",
       "      <th>gender</th>\n",
       "      <th>vehicle_age</th>\n",
       "      <th>vehicle_damage</th>\n",
       "    </tr>\n",
       "  </thead>\n",
       "  <tbody>\n",
       "    <tr>\n",
       "      <th>0</th>\n",
       "      <td>Male</td>\n",
       "      <td>&lt; 1 Year</td>\n",
       "      <td>Yes</td>\n",
       "    </tr>\n",
       "    <tr>\n",
       "      <th>1</th>\n",
       "      <td>Female</td>\n",
       "      <td>1-2 Year</td>\n",
       "      <td>No</td>\n",
       "    </tr>\n",
       "    <tr>\n",
       "      <th>2</th>\n",
       "      <td>Female</td>\n",
       "      <td>&lt; 1 Year</td>\n",
       "      <td>No</td>\n",
       "    </tr>\n",
       "    <tr>\n",
       "      <th>3</th>\n",
       "      <td>Female</td>\n",
       "      <td>&lt; 1 Year</td>\n",
       "      <td>No</td>\n",
       "    </tr>\n",
       "    <tr>\n",
       "      <th>4</th>\n",
       "      <td>Male</td>\n",
       "      <td>1-2 Year</td>\n",
       "      <td>Yes</td>\n",
       "    </tr>\n",
       "    <tr>\n",
       "      <th>...</th>\n",
       "      <td>...</td>\n",
       "      <td>...</td>\n",
       "      <td>...</td>\n",
       "    </tr>\n",
       "    <tr>\n",
       "      <th>381104</th>\n",
       "      <td>Male</td>\n",
       "      <td>&lt; 1 Year</td>\n",
       "      <td>No</td>\n",
       "    </tr>\n",
       "    <tr>\n",
       "      <th>381105</th>\n",
       "      <td>Female</td>\n",
       "      <td>1-2 Year</td>\n",
       "      <td>Yes</td>\n",
       "    </tr>\n",
       "    <tr>\n",
       "      <th>381106</th>\n",
       "      <td>Female</td>\n",
       "      <td>1-2 Year</td>\n",
       "      <td>No</td>\n",
       "    </tr>\n",
       "    <tr>\n",
       "      <th>381107</th>\n",
       "      <td>Female</td>\n",
       "      <td>1-2 Year</td>\n",
       "      <td>Yes</td>\n",
       "    </tr>\n",
       "    <tr>\n",
       "      <th>381108</th>\n",
       "      <td>Female</td>\n",
       "      <td>1-2 Year</td>\n",
       "      <td>Yes</td>\n",
       "    </tr>\n",
       "  </tbody>\n",
       "</table>\n",
       "<p>381109 rows × 3 columns</p>\n",
       "</div>"
      ],
      "text/plain": [
       "        gender vehicle_age vehicle_damage\n",
       "0         Male    < 1 Year            Yes\n",
       "1       Female    1-2 Year             No\n",
       "2       Female    < 1 Year             No\n",
       "3       Female    < 1 Year             No\n",
       "4         Male    1-2 Year            Yes\n",
       "...        ...         ...            ...\n",
       "381104    Male    < 1 Year             No\n",
       "381105  Female    1-2 Year            Yes\n",
       "381106  Female    1-2 Year             No\n",
       "381107  Female    1-2 Year            Yes\n",
       "381108  Female    1-2 Year            Yes\n",
       "\n",
       "[381109 rows x 3 columns]"
      ]
     },
     "execution_count": 18,
     "metadata": {},
     "output_type": "execute_result"
    }
   ],
   "source": [
    "cat_attributes"
   ]
  },
  {
   "cell_type": "code",
   "execution_count": 19,
   "id": "bbd8bf4a",
   "metadata": {
    "ExecuteTime": {
     "end_time": "2022-03-07T16:24:28.550882Z",
     "start_time": "2022-03-07T16:24:11.567527Z"
    },
    "hidden": true
   },
   "outputs": [],
   "source": [
    "df1.to_csv('../data/interim/df1.csv', index=False)"
   ]
  },
  {
   "cell_type": "markdown",
   "id": "eab70903",
   "metadata": {
    "heading_collapsed": true
   },
   "source": [
    "# 2.0. Feature Engineering"
   ]
  },
  {
   "cell_type": "code",
   "execution_count": 20,
   "id": "a323fe92",
   "metadata": {
    "ExecuteTime": {
     "end_time": "2022-03-07T16:24:29.701158Z",
     "start_time": "2022-03-07T16:24:28.558286Z"
    },
    "hidden": true
   },
   "outputs": [],
   "source": [
    "df2 = pd.read_csv('../data/interim/df1.csv')"
   ]
  },
  {
   "cell_type": "code",
   "execution_count": 21,
   "id": "c9feee41",
   "metadata": {
    "ExecuteTime": {
     "end_time": "2022-03-07T16:24:30.690213Z",
     "start_time": "2022-03-07T16:24:29.709505Z"
    },
    "hidden": true
   },
   "outputs": [],
   "source": [
    "# Vehicle Damage Number - Binary Categorical -> Binary Numeric\n",
    "df2['vehicle_damage'] = df2['vehicle_damage'].apply(lambda x: \n",
    "                                                 1 if x == 'Yes' else\n",
    "                                                 0)\n",
    "\n",
    "# Vehicle Age\n",
    "df2['vehicle_age'] = df2['vehicle_age'].apply(lambda x:\n",
    "                            'over_2_years' if x == '> 2 Years' else\n",
    "                        'between_1_2_year' if x == '1-2 Year'  else\n",
    "                            'below_1_year')"
   ]
  },
  {
   "cell_type": "code",
   "execution_count": 22,
   "id": "8108ad64",
   "metadata": {
    "ExecuteTime": {
     "end_time": "2022-03-07T16:24:40.053155Z",
     "start_time": "2022-03-07T16:24:30.699558Z"
    },
    "hidden": true
   },
   "outputs": [],
   "source": [
    "df2.to_csv('../data/interim/df2.csv', index=False)"
   ]
  },
  {
   "cell_type": "markdown",
   "id": "c18bf217",
   "metadata": {
    "heading_collapsed": true
   },
   "source": [
    "# 3.0. Data Filtering"
   ]
  },
  {
   "cell_type": "code",
   "execution_count": 23,
   "id": "e6fd22ad",
   "metadata": {
    "ExecuteTime": {
     "end_time": "2022-03-07T16:24:41.465322Z",
     "start_time": "2022-03-07T16:24:40.064652Z"
    },
    "hidden": true
   },
   "outputs": [],
   "source": [
    "df3 = pd.read_csv('../data/interim/df2.csv')"
   ]
  },
  {
   "cell_type": "code",
   "execution_count": 24,
   "id": "d34876b8",
   "metadata": {
    "ExecuteTime": {
     "end_time": "2022-03-07T16:24:51.152995Z",
     "start_time": "2022-03-07T16:24:41.476702Z"
    },
    "hidden": true
   },
   "outputs": [],
   "source": [
    "df3.to_csv('../data/interim/df3.csv', index=False)"
   ]
  },
  {
   "cell_type": "markdown",
   "id": "b10ab934",
   "metadata": {
    "heading_collapsed": true
   },
   "source": [
    "# 4.0. Exploratoria Data Analysis"
   ]
  },
  {
   "cell_type": "code",
   "execution_count": 25,
   "id": "185b2f36",
   "metadata": {
    "ExecuteTime": {
     "end_time": "2022-03-07T16:24:52.231605Z",
     "start_time": "2022-03-07T16:24:51.160629Z"
    },
    "hidden": true
   },
   "outputs": [],
   "source": [
    "df4 = pd.read_csv('../data/interim/df3.csv')"
   ]
  },
  {
   "cell_type": "markdown",
   "id": "3d996731",
   "metadata": {
    "hidden": true
   },
   "source": [
    "## 4.1. Univariate Analysis"
   ]
  },
  {
   "cell_type": "markdown",
   "id": "1fd1c42d",
   "metadata": {
    "hidden": true
   },
   "source": [
    "We need to find variates that are separate in relation to response variable, so these variables helps the algorithm to classificate the data in a better way.\n",
    "\n",
    "If we have variables that merge some behavior of the features, these variables will not help the algorithm."
   ]
  },
  {
   "cell_type": "code",
   "execution_count": 26,
   "id": "72302bcd",
   "metadata": {
    "ExecuteTime": {
     "end_time": "2022-03-07T16:24:52.266746Z",
     "start_time": "2022-03-07T16:24:52.242927Z"
    },
    "hidden": true
   },
   "outputs": [
    {
     "data": {
      "text/plain": [
       "Index(['id', 'gender', 'age', 'region_code', 'policy_sales_channel',\n",
       "       'driving_license', 'vehicle_age', 'vehicle_damage',\n",
       "       'previously_insured', 'annual_premium', 'vintage', 'response'],\n",
       "      dtype='object')"
      ]
     },
     "execution_count": 26,
     "metadata": {},
     "output_type": "execute_result"
    }
   ],
   "source": [
    "df4.columns"
   ]
  },
  {
   "cell_type": "markdown",
   "id": "e2a67fa4",
   "metadata": {
    "hidden": true
   },
   "source": [
    "### 4.1.1 Age"
   ]
  },
  {
   "cell_type": "code",
   "execution_count": 27,
   "id": "be96a278",
   "metadata": {
    "ExecuteTime": {
     "end_time": "2022-03-07T16:24:53.162725Z",
     "start_time": "2022-03-07T16:24:52.279361Z"
    },
    "hidden": true,
    "scrolled": true
   },
   "outputs": [
    {
     "data": {
      "text/plain": [
       "<AxesSubplot:xlabel='response', ylabel='age'>"
      ]
     },
     "execution_count": 27,
     "metadata": {},
     "output_type": "execute_result"
    },
    {
     "data": {
      "image/png": "[encoded data removed]",
      "text/plain": [
       "<Figure size 432x288 with 1 Axes>"
      ]
     },
     "metadata": {
      "needs_background": "light"
     },
     "output_type": "display_data"
    }
   ],
   "source": [
    "sns.boxplot(x = 'response', y = 'age', data = df4)"
   ]
  },
  {
   "cell_type": "code",
   "execution_count": 28,
   "id": "2a7ebc23",
   "metadata": {
    "ExecuteTime": {
     "end_time": "2022-03-07T16:24:55.858863Z",
     "start_time": "2022-03-07T16:24:53.210026Z"
    },
    "cell_style": "split",
    "hidden": true,
    "scrolled": true
   },
   "outputs": [
    {
     "data": {
      "text/plain": [
       "<AxesSubplot:xlabel='age', ylabel='Count'>"
      ]
     },
     "execution_count": 28,
     "metadata": {},
     "output_type": "execute_result"
    },
    {
     "data": {
      "image/png": "[encoded data removed]",
      "text/plain": [
       "<Figure size 432x288 with 1 Axes>"
      ]
     },
     "metadata": {
      "needs_background": "light"
     },
     "output_type": "display_data"
    }
   ],
   "source": [
    "num_no = df4.loc[df4['response'] == 0, 'age']\n",
    "sns.histplot(num_no)"
   ]
  },
  {
   "cell_type": "code",
   "execution_count": 29,
   "id": "211f54c5",
   "metadata": {
    "ExecuteTime": {
     "end_time": "2022-03-07T16:24:57.363059Z",
     "start_time": "2022-03-07T16:24:55.866007Z"
    },
    "cell_style": "split",
    "hidden": true
   },
   "outputs": [
    {
     "data": {
      "text/plain": [
       "<AxesSubplot:xlabel='age', ylabel='Count'>"
      ]
     },
     "execution_count": 29,
     "metadata": {},
     "output_type": "execute_result"
    },
    {
     "data": {
      "image/png": "[encoded data removed]",
      "text/plain": [
       "<Figure size 432x288 with 1 Axes>"
      ]
     },
     "metadata": {
      "needs_background": "light"
     },
     "output_type": "display_data"
    }
   ],
   "source": [
    "num_yes = df4.loc[df4['response'] == 1, 'age']\n",
    "sns.histplot(num_yes)"
   ]
  },
  {
   "cell_type": "markdown",
   "id": "d38b9d57",
   "metadata": {
    "hidden": true
   },
   "source": [
    "### 4.1.2 Gender"
   ]
  },
  {
   "cell_type": "code",
   "execution_count": 30,
   "id": "face46fe",
   "metadata": {
    "ExecuteTime": {
     "end_time": "2022-03-07T16:24:58.415038Z",
     "start_time": "2022-03-07T16:24:57.370341Z"
    },
    "cell_style": "split",
    "hidden": true
   },
   "outputs": [
    {
     "data": {
      "text/plain": [
       "<AxesSubplot:xlabel='response', ylabel='gender'>"
      ]
     },
     "execution_count": 30,
     "metadata": {},
     "output_type": "execute_result"
    },
    {
     "data": {
      "image/png": "[encoded data removed]",
      "text/plain": [
       "<Figure size 432x288 with 1 Axes>"
      ]
     },
     "metadata": {
      "needs_background": "light"
     },
     "output_type": "display_data"
    }
   ],
   "source": [
    "gend_m = df4[df4['gender'] == 'Male']\n",
    "gend_m = gend_m[['gender', 'response']].groupby('response').count().reset_index()\n",
    "sns.barplot(x = 'response', y = 'gender', data = gend_m)"
   ]
  },
  {
   "cell_type": "code",
   "execution_count": 31,
   "id": "38c63f74",
   "metadata": {
    "ExecuteTime": {
     "end_time": "2022-03-07T16:24:59.515610Z",
     "start_time": "2022-03-07T16:24:58.423149Z"
    },
    "cell_style": "split",
    "hidden": true
   },
   "outputs": [
    {
     "data": {
      "text/plain": [
       "<AxesSubplot:xlabel='response', ylabel='gender'>"
      ]
     },
     "execution_count": 31,
     "metadata": {},
     "output_type": "execute_result"
    },
    {
     "data": {
      "image/png": "[encoded data removed]",
      "text/plain": [
       "<Figure size 432x288 with 1 Axes>"
      ]
     },
     "metadata": {
      "needs_background": "light"
     },
     "output_type": "display_data"
    }
   ],
   "source": [
    "gend_f = df4[df4['gender'] == 'Female']\n",
    "gend_f = gend_f[['gender', 'response']].groupby('response').count().reset_index()\n",
    "sns.barplot(x = 'response', y = 'gender', data = gend_f)"
   ]
  },
  {
   "cell_type": "markdown",
   "id": "14ae69fe",
   "metadata": {
    "hidden": true
   },
   "source": [
    "### 4.1.3 Region Code"
   ]
  },
  {
   "cell_type": "code",
   "execution_count": 32,
   "id": "bcafd573",
   "metadata": {
    "ExecuteTime": {
     "end_time": "2022-03-07T16:24:59.577019Z",
     "start_time": "2022-03-07T16:24:59.530209Z"
    },
    "hidden": true
   },
   "outputs": [
    {
     "data": {
      "text/plain": [
       "array([11., 15., 35.,  8., 28., 39., 29., 30., 25., 22., 36.,  0., 26.,\n",
       "        6., 48., 47., 33., 41., 46., 43.,  2., 37., 40.,  4., 10., 18.,\n",
       "        9.,  3., 50., 32., 24., 27., 34., 21., 45., 12.,  5., 49., 14.,\n",
       "       16., 13., 31., 23.,  1., 42.,  7., 17., 44., 19., 38., 20., 52.,\n",
       "       51.])"
      ]
     },
     "execution_count": 32,
     "metadata": {},
     "output_type": "execute_result"
    }
   ],
   "source": [
    "df4['region_code'].unique()"
   ]
  },
  {
   "cell_type": "code",
   "execution_count": 33,
   "id": "23d18511",
   "metadata": {
    "ExecuteTime": {
     "end_time": "2022-03-07T16:25:00.838634Z",
     "start_time": "2022-03-07T16:24:59.585797Z"
    },
    "hidden": true
   },
   "outputs": [
    {
     "data": {
      "text/plain": [
       "<AxesSubplot:xlabel='region_code', ylabel='id'>"
      ]
     },
     "execution_count": 33,
     "metadata": {},
     "output_type": "execute_result"
    },
    {
     "data": {
      "image/png": "[encoded data removed]",
      "text/plain": [
       "<Figure size 432x288 with 1 Axes>"
      ]
     },
     "metadata": {
      "needs_background": "light"
     },
     "output_type": "display_data"
    }
   ],
   "source": [
    "reg_cod = df4[['id', 'region_code', 'response']].groupby(['region_code', 'response']).count().reset_index()\n",
    "\n",
    "sns.scatterplot(x = 'region_code', y = 'id', hue = 'response', data = reg_cod)\n",
    "\n",
    "# region_code x vehicle_damage x previously_insured"
   ]
  },
  {
   "cell_type": "markdown",
   "id": "f40c9b59",
   "metadata": {
    "hidden": true
   },
   "source": [
    "### 4.1.4 Policy Sales Channel"
   ]
  },
  {
   "cell_type": "markdown",
   "id": "8ca57f9c",
   "metadata": {
    "hidden": true
   },
   "source": [
    "For 2nd cycle implement stacked percentage bar chart"
   ]
  },
  {
   "cell_type": "code",
   "execution_count": 34,
   "id": "59f5bb22",
   "metadata": {
    "ExecuteTime": {
     "end_time": "2022-03-07T16:25:00.979830Z",
     "start_time": "2022-03-07T16:25:00.847359Z"
    },
    "cell_style": "split",
    "hidden": true
   },
   "outputs": [
    {
     "data": {
      "text/html": [
       "<div>\n",
       "<style scoped>\n",
       "    .dataframe tbody tr th:only-of-type {\n",
       "        vertical-align: middle;\n",
       "    }\n",
       "\n",
       "    .dataframe tbody tr th {\n",
       "        vertical-align: top;\n",
       "    }\n",
       "\n",
       "    .dataframe thead th {\n",
       "        text-align: right;\n",
       "    }\n",
       "</style>\n",
       "<table border=\"1\" class=\"dataframe\">\n",
       "  <thead>\n",
       "    <tr style=\"text-align: right;\">\n",
       "      <th></th>\n",
       "      <th>response</th>\n",
       "    </tr>\n",
       "    <tr>\n",
       "      <th>policy_sales_channel</th>\n",
       "      <th></th>\n",
       "    </tr>\n",
       "  </thead>\n",
       "  <tbody>\n",
       "    <tr>\n",
       "      <th>1.0</th>\n",
       "      <td>1039</td>\n",
       "    </tr>\n",
       "    <tr>\n",
       "      <th>2.0</th>\n",
       "      <td>3</td>\n",
       "    </tr>\n",
       "    <tr>\n",
       "      <th>3.0</th>\n",
       "      <td>364</td>\n",
       "    </tr>\n",
       "    <tr>\n",
       "      <th>4.0</th>\n",
       "      <td>407</td>\n",
       "    </tr>\n",
       "    <tr>\n",
       "      <th>6.0</th>\n",
       "      <td>3</td>\n",
       "    </tr>\n",
       "  </tbody>\n",
       "</table>\n",
       "</div>"
      ],
      "text/plain": [
       "                      response\n",
       "policy_sales_channel          \n",
       "1.0                       1039\n",
       "2.0                          3\n",
       "3.0                        364\n",
       "4.0                        407\n",
       "6.0                          3"
      ]
     },
     "execution_count": 34,
     "metadata": {},
     "output_type": "execute_result"
    }
   ],
   "source": [
    "pol_sal_no = df4[df4['response'] == 0]\n",
    "pol_sal_no = pol_sal_no[['policy_sales_channel', 'response']].groupby('policy_sales_channel').count()\n",
    "pol_sal_no.head()"
   ]
  },
  {
   "cell_type": "code",
   "execution_count": 35,
   "id": "d1ebfd28",
   "metadata": {
    "ExecuteTime": {
     "end_time": "2022-03-07T16:25:01.063218Z",
     "start_time": "2022-03-07T16:25:00.990259Z"
    },
    "cell_style": "split",
    "hidden": true
   },
   "outputs": [
    {
     "data": {
      "text/html": [
       "<div>\n",
       "<style scoped>\n",
       "    .dataframe tbody tr th:only-of-type {\n",
       "        vertical-align: middle;\n",
       "    }\n",
       "\n",
       "    .dataframe tbody tr th {\n",
       "        vertical-align: top;\n",
       "    }\n",
       "\n",
       "    .dataframe thead th {\n",
       "        text-align: right;\n",
       "    }\n",
       "</style>\n",
       "<table border=\"1\" class=\"dataframe\">\n",
       "  <thead>\n",
       "    <tr style=\"text-align: right;\">\n",
       "      <th></th>\n",
       "      <th>response</th>\n",
       "    </tr>\n",
       "    <tr>\n",
       "      <th>policy_sales_channel</th>\n",
       "      <th></th>\n",
       "    </tr>\n",
       "  </thead>\n",
       "  <tbody>\n",
       "    <tr>\n",
       "      <th>1.0</th>\n",
       "      <td>35</td>\n",
       "    </tr>\n",
       "    <tr>\n",
       "      <th>2.0</th>\n",
       "      <td>1</td>\n",
       "    </tr>\n",
       "    <tr>\n",
       "      <th>3.0</th>\n",
       "      <td>159</td>\n",
       "    </tr>\n",
       "    <tr>\n",
       "      <th>4.0</th>\n",
       "      <td>102</td>\n",
       "    </tr>\n",
       "    <tr>\n",
       "      <th>7.0</th>\n",
       "      <td>182</td>\n",
       "    </tr>\n",
       "  </tbody>\n",
       "</table>\n",
       "</div>"
      ],
      "text/plain": [
       "                      response\n",
       "policy_sales_channel          \n",
       "1.0                         35\n",
       "2.0                          1\n",
       "3.0                        159\n",
       "4.0                        102\n",
       "7.0                        182"
      ]
     },
     "execution_count": 35,
     "metadata": {},
     "output_type": "execute_result"
    }
   ],
   "source": [
    "pol_sal_yes = df4[df4['response'] == 1]\n",
    "pol_sal_yes = pol_sal_yes[['policy_sales_channel', 'response']].groupby('policy_sales_channel').sum()\n",
    "pol_sal_yes.head()"
   ]
  },
  {
   "cell_type": "code",
   "execution_count": 36,
   "id": "979477c2",
   "metadata": {
    "ExecuteTime": {
     "end_time": "2022-03-07T16:25:01.215171Z",
     "start_time": "2022-03-07T16:25:01.072821Z"
    },
    "hidden": true,
    "scrolled": true
   },
   "outputs": [
    {
     "data": {
      "text/html": [
       "<div>\n",
       "<style scoped>\n",
       "    .dataframe tbody tr th:only-of-type {\n",
       "        vertical-align: middle;\n",
       "    }\n",
       "\n",
       "    .dataframe tbody tr th {\n",
       "        vertical-align: top;\n",
       "    }\n",
       "\n",
       "    .dataframe thead th {\n",
       "        text-align: right;\n",
       "    }\n",
       "</style>\n",
       "<table border=\"1\" class=\"dataframe\">\n",
       "  <thead>\n",
       "    <tr style=\"text-align: right;\">\n",
       "      <th></th>\n",
       "      <th>policy_sales_channel</th>\n",
       "      <th>response_0</th>\n",
       "      <th>response_1</th>\n",
       "      <th>total_responses</th>\n",
       "      <th>perc_response_1</th>\n",
       "    </tr>\n",
       "  </thead>\n",
       "  <tbody>\n",
       "    <tr>\n",
       "      <th>0</th>\n",
       "      <td>1.0</td>\n",
       "      <td>1039</td>\n",
       "      <td>35</td>\n",
       "      <td>1074</td>\n",
       "      <td>3.258845</td>\n",
       "    </tr>\n",
       "    <tr>\n",
       "      <th>1</th>\n",
       "      <td>2.0</td>\n",
       "      <td>3</td>\n",
       "      <td>1</td>\n",
       "      <td>4</td>\n",
       "      <td>25.000000</td>\n",
       "    </tr>\n",
       "    <tr>\n",
       "      <th>2</th>\n",
       "      <td>3.0</td>\n",
       "      <td>364</td>\n",
       "      <td>159</td>\n",
       "      <td>523</td>\n",
       "      <td>30.401530</td>\n",
       "    </tr>\n",
       "    <tr>\n",
       "      <th>3</th>\n",
       "      <td>4.0</td>\n",
       "      <td>407</td>\n",
       "      <td>102</td>\n",
       "      <td>509</td>\n",
       "      <td>20.039293</td>\n",
       "    </tr>\n",
       "    <tr>\n",
       "      <th>4</th>\n",
       "      <td>7.0</td>\n",
       "      <td>1416</td>\n",
       "      <td>182</td>\n",
       "      <td>1598</td>\n",
       "      <td>11.389237</td>\n",
       "    </tr>\n",
       "  </tbody>\n",
       "</table>\n",
       "</div>"
      ],
      "text/plain": [
       "   policy_sales_channel  response_0  response_1  total_responses  \\\n",
       "0                   1.0        1039          35             1074   \n",
       "1                   2.0           3           1                4   \n",
       "2                   3.0         364         159              523   \n",
       "3                   4.0         407         102              509   \n",
       "4                   7.0        1416         182             1598   \n",
       "\n",
       "   perc_response_1  \n",
       "0         3.258845  \n",
       "1        25.000000  \n",
       "2        30.401530  \n",
       "3        20.039293  \n",
       "4        11.389237  "
      ]
     },
     "execution_count": 36,
     "metadata": {},
     "output_type": "execute_result"
    }
   ],
   "source": [
    "pol_sal = pd.merge(pol_sal_no, pol_sal_yes, how = 'inner', on = 'policy_sales_channel')\n",
    "\n",
    "pol_sal = pol_sal.rename(columns = {'policy_sales_channel': 'policy_sales_channel', 'response_x':'response_0', 'response_y':'response_1'})\n",
    "\n",
    "pol_sal['total_responses'] = df4[['id', 'policy_sales_channel']].groupby('policy_sales_channel').size()\n",
    "\n",
    "pol_sal['perc_response_1'] = (pol_sal['response_1']/pol_sal['total_responses'])*100\n",
    "pol_sal = pol_sal.reset_index()\n",
    "pol_sal.head()"
   ]
  },
  {
   "cell_type": "code",
   "execution_count": 37,
   "id": "5f57fa44",
   "metadata": {
    "ExecuteTime": {
     "end_time": "2022-03-07T16:25:01.297581Z",
     "start_time": "2022-03-07T16:25:01.224296Z"
    },
    "hidden": true,
    "scrolled": false
   },
   "outputs": [
    {
     "data": {
      "text/html": [
       "<div>\n",
       "<style scoped>\n",
       "    .dataframe tbody tr th:only-of-type {\n",
       "        vertical-align: middle;\n",
       "    }\n",
       "\n",
       "    .dataframe tbody tr th {\n",
       "        vertical-align: top;\n",
       "    }\n",
       "\n",
       "    .dataframe thead th {\n",
       "        text-align: right;\n",
       "    }\n",
       "</style>\n",
       "<table border=\"1\" class=\"dataframe\">\n",
       "  <thead>\n",
       "    <tr style=\"text-align: right;\">\n",
       "      <th></th>\n",
       "      <th>policy_sales_channel</th>\n",
       "      <th>response_0</th>\n",
       "      <th>response_1</th>\n",
       "      <th>total_responses</th>\n",
       "      <th>perc_response_1</th>\n",
       "    </tr>\n",
       "  </thead>\n",
       "  <tbody>\n",
       "    <tr>\n",
       "      <th>112</th>\n",
       "      <td>155.0</td>\n",
       "      <td>839</td>\n",
       "      <td>395</td>\n",
       "      <td>1234</td>\n",
       "      <td>32.009724</td>\n",
       "    </tr>\n",
       "    <tr>\n",
       "      <th>118</th>\n",
       "      <td>163.0</td>\n",
       "      <td>2013</td>\n",
       "      <td>880</td>\n",
       "      <td>2893</td>\n",
       "      <td>30.418251</td>\n",
       "    </tr>\n",
       "    <tr>\n",
       "      <th>114</th>\n",
       "      <td>157.0</td>\n",
       "      <td>4890</td>\n",
       "      <td>1794</td>\n",
       "      <td>6684</td>\n",
       "      <td>26.840215</td>\n",
       "    </tr>\n",
       "    <tr>\n",
       "      <th>111</th>\n",
       "      <td>154.0</td>\n",
       "      <td>4519</td>\n",
       "      <td>1474</td>\n",
       "      <td>5993</td>\n",
       "      <td>24.595361</td>\n",
       "    </tr>\n",
       "    <tr>\n",
       "      <th>113</th>\n",
       "      <td>156.0</td>\n",
       "      <td>8364</td>\n",
       "      <td>2297</td>\n",
       "      <td>10661</td>\n",
       "      <td>21.545821</td>\n",
       "    </tr>\n",
       "    <tr>\n",
       "      <th>22</th>\n",
       "      <td>25.0</td>\n",
       "      <td>1479</td>\n",
       "      <td>369</td>\n",
       "      <td>1848</td>\n",
       "      <td>19.967532</td>\n",
       "    </tr>\n",
       "    <tr>\n",
       "      <th>23</th>\n",
       "      <td>26.0</td>\n",
       "      <td>63809</td>\n",
       "      <td>15891</td>\n",
       "      <td>79700</td>\n",
       "      <td>19.938519</td>\n",
       "    </tr>\n",
       "    <tr>\n",
       "      <th>90</th>\n",
       "      <td>124.0</td>\n",
       "      <td>59999</td>\n",
       "      <td>13996</td>\n",
       "      <td>73995</td>\n",
       "      <td>18.914792</td>\n",
       "    </tr>\n",
       "    <tr>\n",
       "      <th>89</th>\n",
       "      <td>122.0</td>\n",
       "      <td>8210</td>\n",
       "      <td>1720</td>\n",
       "      <td>9930</td>\n",
       "      <td>17.321249</td>\n",
       "    </tr>\n",
       "    <tr>\n",
       "      <th>45</th>\n",
       "      <td>55.0</td>\n",
       "      <td>1075</td>\n",
       "      <td>189</td>\n",
       "      <td>1264</td>\n",
       "      <td>14.952532</td>\n",
       "    </tr>\n",
       "    <tr>\n",
       "      <th>10</th>\n",
       "      <td>13.0</td>\n",
       "      <td>1590</td>\n",
       "      <td>275</td>\n",
       "      <td>1865</td>\n",
       "      <td>14.745308</td>\n",
       "    </tr>\n",
       "    <tr>\n",
       "      <th>91</th>\n",
       "      <td>125.0</td>\n",
       "      <td>899</td>\n",
       "      <td>127</td>\n",
       "      <td>1026</td>\n",
       "      <td>12.378168</td>\n",
       "    </tr>\n",
       "    <tr>\n",
       "      <th>4</th>\n",
       "      <td>7.0</td>\n",
       "      <td>1416</td>\n",
       "      <td>182</td>\n",
       "      <td>1598</td>\n",
       "      <td>11.389237</td>\n",
       "    </tr>\n",
       "    <tr>\n",
       "      <th>27</th>\n",
       "      <td>30.0</td>\n",
       "      <td>1254</td>\n",
       "      <td>156</td>\n",
       "      <td>1410</td>\n",
       "      <td>11.063830</td>\n",
       "    </tr>\n",
       "    <tr>\n",
       "      <th>42</th>\n",
       "      <td>52.0</td>\n",
       "      <td>940</td>\n",
       "      <td>115</td>\n",
       "      <td>1055</td>\n",
       "      <td>10.900474</td>\n",
       "    </tr>\n",
       "    <tr>\n",
       "      <th>8</th>\n",
       "      <td>11.0</td>\n",
       "      <td>1095</td>\n",
       "      <td>108</td>\n",
       "      <td>1203</td>\n",
       "      <td>8.977556</td>\n",
       "    </tr>\n",
       "    <tr>\n",
       "      <th>5</th>\n",
       "      <td>8.0</td>\n",
       "      <td>1390</td>\n",
       "      <td>125</td>\n",
       "      <td>1515</td>\n",
       "      <td>8.250825</td>\n",
       "    </tr>\n",
       "    <tr>\n",
       "      <th>0</th>\n",
       "      <td>1.0</td>\n",
       "      <td>1039</td>\n",
       "      <td>35</td>\n",
       "      <td>1074</td>\n",
       "      <td>3.258845</td>\n",
       "    </tr>\n",
       "    <tr>\n",
       "      <th>108</th>\n",
       "      <td>151.0</td>\n",
       "      <td>3763</td>\n",
       "      <td>122</td>\n",
       "      <td>3885</td>\n",
       "      <td>3.140283</td>\n",
       "    </tr>\n",
       "    <tr>\n",
       "      <th>109</th>\n",
       "      <td>152.0</td>\n",
       "      <td>130926</td>\n",
       "      <td>3858</td>\n",
       "      <td>134784</td>\n",
       "      <td>2.862358</td>\n",
       "    </tr>\n",
       "    <tr>\n",
       "      <th>117</th>\n",
       "      <td>160.0</td>\n",
       "      <td>21304</td>\n",
       "      <td>475</td>\n",
       "      <td>21779</td>\n",
       "      <td>2.181000</td>\n",
       "    </tr>\n",
       "  </tbody>\n",
       "</table>\n",
       "</div>"
      ],
      "text/plain": [
       "     policy_sales_channel  response_0  response_1  total_responses  \\\n",
       "112                 155.0         839         395             1234   \n",
       "118                 163.0        2013         880             2893   \n",
       "114                 157.0        4890        1794             6684   \n",
       "111                 154.0        4519        1474             5993   \n",
       "113                 156.0        8364        2297            10661   \n",
       "22                   25.0        1479         369             1848   \n",
       "23                   26.0       63809       15891            79700   \n",
       "90                  124.0       59999       13996            73995   \n",
       "89                  122.0        8210        1720             9930   \n",
       "45                   55.0        1075         189             1264   \n",
       "10                   13.0        1590         275             1865   \n",
       "91                  125.0         899         127             1026   \n",
       "4                     7.0        1416         182             1598   \n",
       "27                   30.0        1254         156             1410   \n",
       "42                   52.0         940         115             1055   \n",
       "8                    11.0        1095         108             1203   \n",
       "5                     8.0        1390         125             1515   \n",
       "0                     1.0        1039          35             1074   \n",
       "108                 151.0        3763         122             3885   \n",
       "109                 152.0      130926        3858           134784   \n",
       "117                 160.0       21304         475            21779   \n",
       "\n",
       "     perc_response_1  \n",
       "112        32.009724  \n",
       "118        30.418251  \n",
       "114        26.840215  \n",
       "111        24.595361  \n",
       "113        21.545821  \n",
       "22         19.967532  \n",
       "23         19.938519  \n",
       "90         18.914792  \n",
       "89         17.321249  \n",
       "45         14.952532  \n",
       "10         14.745308  \n",
       "91         12.378168  \n",
       "4          11.389237  \n",
       "27         11.063830  \n",
       "42         10.900474  \n",
       "8           8.977556  \n",
       "5           8.250825  \n",
       "0           3.258845  \n",
       "108         3.140283  \n",
       "109         2.862358  \n",
       "117         2.181000  "
      ]
     },
     "execution_count": 37,
     "metadata": {},
     "output_type": "execute_result"
    }
   ],
   "source": [
    "pol_sal_1000 = pol_sal[pol_sal['total_responses'] >= 1000]\n",
    "pol_sal_1000.sort_values(['perc_response_1'], ascending=False)"
   ]
  },
  {
   "cell_type": "code",
   "execution_count": 38,
   "id": "c9992b7b",
   "metadata": {
    "ExecuteTime": {
     "end_time": "2022-03-07T16:25:08.473094Z",
     "start_time": "2022-03-07T16:25:01.309242Z"
    },
    "hidden": true,
    "scrolled": false
   },
   "outputs": [
    {
     "data": {
      "image/png": "[encoded data removed]",
      "text/plain": [
       "<Figure size 1728x864 with 1 Axes>"
      ]
     },
     "metadata": {
      "needs_background": "light"
     },
     "output_type": "display_data"
    }
   ],
   "source": [
    "plt.figure(figsize = (24, 12))\n",
    "pol_sal = df4[['policy_sales_channel', 'response']].groupby('policy_sales_channel').sum().reset_index()\n",
    "sns.barplot(x = 'response', y = 'policy_sales_channel', data = pol_sal)\n",
    "plt.xticks(rotation=90);"
   ]
  },
  {
   "cell_type": "markdown",
   "id": "91e79973",
   "metadata": {
    "hidden": true
   },
   "source": [
    "### 4.1.5 Driving License"
   ]
  },
  {
   "cell_type": "code",
   "execution_count": 39,
   "id": "10756867",
   "metadata": {
    "ExecuteTime": {
     "end_time": "2022-03-07T16:25:08.528123Z",
     "start_time": "2022-03-07T16:25:08.482687Z"
    },
    "hidden": true
   },
   "outputs": [
    {
     "data": {
      "text/html": [
       "<div>\n",
       "<style scoped>\n",
       "    .dataframe tbody tr th:only-of-type {\n",
       "        vertical-align: middle;\n",
       "    }\n",
       "\n",
       "    .dataframe tbody tr th {\n",
       "        vertical-align: top;\n",
       "    }\n",
       "\n",
       "    .dataframe thead th {\n",
       "        text-align: right;\n",
       "    }\n",
       "</style>\n",
       "<table border=\"1\" class=\"dataframe\">\n",
       "  <thead>\n",
       "    <tr style=\"text-align: right;\">\n",
       "      <th></th>\n",
       "      <th>driving_license</th>\n",
       "      <th>response</th>\n",
       "    </tr>\n",
       "  </thead>\n",
       "  <tbody>\n",
       "    <tr>\n",
       "      <th>0</th>\n",
       "      <td>1</td>\n",
       "      <td>0</td>\n",
       "    </tr>\n",
       "    <tr>\n",
       "      <th>1</th>\n",
       "      <td>1</td>\n",
       "      <td>0</td>\n",
       "    </tr>\n",
       "    <tr>\n",
       "      <th>2</th>\n",
       "      <td>1</td>\n",
       "      <td>0</td>\n",
       "    </tr>\n",
       "    <tr>\n",
       "      <th>3</th>\n",
       "      <td>1</td>\n",
       "      <td>0</td>\n",
       "    </tr>\n",
       "    <tr>\n",
       "      <th>4</th>\n",
       "      <td>1</td>\n",
       "      <td>0</td>\n",
       "    </tr>\n",
       "  </tbody>\n",
       "</table>\n",
       "</div>"
      ],
      "text/plain": [
       "   driving_license  response\n",
       "0                1         0\n",
       "1                1         0\n",
       "2                1         0\n",
       "3                1         0\n",
       "4                1         0"
      ]
     },
     "execution_count": 39,
     "metadata": {},
     "output_type": "execute_result"
    }
   ],
   "source": [
    "df4[['driving_license', 'response']].head()"
   ]
  },
  {
   "cell_type": "code",
   "execution_count": 40,
   "id": "58365353",
   "metadata": {
    "ExecuteTime": {
     "end_time": "2022-03-07T16:25:08.570592Z",
     "start_time": "2022-03-07T16:25:08.535864Z"
    },
    "hidden": true
   },
   "outputs": [
    {
     "data": {
      "text/plain": [
       "array([1, 0])"
      ]
     },
     "execution_count": 40,
     "metadata": {},
     "output_type": "execute_result"
    }
   ],
   "source": [
    "df4['driving_license'].unique()"
   ]
  },
  {
   "cell_type": "code",
   "execution_count": 41,
   "id": "6436edcc",
   "metadata": {
    "ExecuteTime": {
     "end_time": "2022-03-07T16:25:09.215945Z",
     "start_time": "2022-03-07T16:25:08.588345Z"
    },
    "hidden": true,
    "scrolled": true
   },
   "outputs": [
    {
     "data": {
      "text/plain": [
       "<AxesSubplot:xlabel='response', ylabel='driving_license'>"
      ]
     },
     "execution_count": 41,
     "metadata": {},
     "output_type": "execute_result"
    },
    {
     "data": {
      "image/png": "[encoded data removed]",
      "text/plain": [
       "<Figure size 432x288 with 1 Axes>"
      ]
     },
     "metadata": {
      "needs_background": "light"
     },
     "output_type": "display_data"
    }
   ],
   "source": [
    "driv_lic = df4[['driving_license', 'response']].groupby('response').sum().reset_index()\n",
    "sns.barplot(x = 'response', y = 'driving_license', data = driv_lic)"
   ]
  },
  {
   "cell_type": "code",
   "execution_count": 42,
   "id": "1e77e5da",
   "metadata": {
    "ExecuteTime": {
     "end_time": "2022-03-07T16:25:09.276345Z",
     "start_time": "2022-03-07T16:25:09.225569Z"
    },
    "hidden": true
   },
   "outputs": [
    {
     "data": {
      "text/html": [
       "<div>\n",
       "<style scoped>\n",
       "    .dataframe tbody tr th:only-of-type {\n",
       "        vertical-align: middle;\n",
       "    }\n",
       "\n",
       "    .dataframe tbody tr th {\n",
       "        vertical-align: top;\n",
       "    }\n",
       "\n",
       "    .dataframe thead th {\n",
       "        text-align: right;\n",
       "    }\n",
       "</style>\n",
       "<table border=\"1\" class=\"dataframe\">\n",
       "  <thead>\n",
       "    <tr style=\"text-align: right;\">\n",
       "      <th></th>\n",
       "      <th>response</th>\n",
       "      <th>driving_license</th>\n",
       "      <th>driving_license_perc</th>\n",
       "    </tr>\n",
       "  </thead>\n",
       "  <tbody>\n",
       "    <tr>\n",
       "      <th>0</th>\n",
       "      <td>0</td>\n",
       "      <td>333628</td>\n",
       "      <td>0.877283</td>\n",
       "    </tr>\n",
       "    <tr>\n",
       "      <th>1</th>\n",
       "      <td>1</td>\n",
       "      <td>46669</td>\n",
       "      <td>0.122717</td>\n",
       "    </tr>\n",
       "  </tbody>\n",
       "</table>\n",
       "</div>"
      ],
      "text/plain": [
       "   response  driving_license  driving_license_perc\n",
       "0         0           333628              0.877283\n",
       "1         1            46669              0.122717"
      ]
     },
     "execution_count": 42,
     "metadata": {},
     "output_type": "execute_result"
    }
   ],
   "source": [
    "driv_lic['driving_license_perc'] = driv_lic['driving_license']/driv_lic['driving_license'].sum()\n",
    "driv_lic"
   ]
  },
  {
   "cell_type": "markdown",
   "id": "b641084f",
   "metadata": {
    "hidden": true
   },
   "source": [
    "### 4.1.6 Vehicle Age"
   ]
  },
  {
   "cell_type": "code",
   "execution_count": 43,
   "id": "de58b2ac",
   "metadata": {
    "ExecuteTime": {
     "end_time": "2022-03-07T16:25:09.558517Z",
     "start_time": "2022-03-07T16:25:09.286917Z"
    },
    "hidden": true
   },
   "outputs": [
    {
     "data": {
      "text/html": [
       "<div>\n",
       "<style scoped>\n",
       "    .dataframe tbody tr th:only-of-type {\n",
       "        vertical-align: middle;\n",
       "    }\n",
       "\n",
       "    .dataframe tbody tr th {\n",
       "        vertical-align: top;\n",
       "    }\n",
       "\n",
       "    .dataframe thead th {\n",
       "        text-align: right;\n",
       "    }\n",
       "</style>\n",
       "<table border=\"1\" class=\"dataframe\">\n",
       "  <thead>\n",
       "    <tr style=\"text-align: right;\">\n",
       "      <th></th>\n",
       "      <th>vehicle_age</th>\n",
       "      <th>response</th>\n",
       "      <th>0</th>\n",
       "    </tr>\n",
       "  </thead>\n",
       "  <tbody>\n",
       "    <tr>\n",
       "      <th>0</th>\n",
       "      <td>between_1_2_year</td>\n",
       "      <td>0</td>\n",
       "      <td>0.434285</td>\n",
       "    </tr>\n",
       "    <tr>\n",
       "      <th>1</th>\n",
       "      <td>below_1_year</td>\n",
       "      <td>0</td>\n",
       "      <td>0.413488</td>\n",
       "    </tr>\n",
       "    <tr>\n",
       "      <th>2</th>\n",
       "      <td>between_1_2_year</td>\n",
       "      <td>1</td>\n",
       "      <td>0.091328</td>\n",
       "    </tr>\n",
       "    <tr>\n",
       "      <th>3</th>\n",
       "      <td>over_2_years</td>\n",
       "      <td>0</td>\n",
       "      <td>0.029663</td>\n",
       "    </tr>\n",
       "    <tr>\n",
       "      <th>4</th>\n",
       "      <td>below_1_year</td>\n",
       "      <td>1</td>\n",
       "      <td>0.018897</td>\n",
       "    </tr>\n",
       "    <tr>\n",
       "      <th>5</th>\n",
       "      <td>over_2_years</td>\n",
       "      <td>1</td>\n",
       "      <td>0.012338</td>\n",
       "    </tr>\n",
       "  </tbody>\n",
       "</table>\n",
       "</div>"
      ],
      "text/plain": [
       "        vehicle_age  response         0\n",
       "0  between_1_2_year         0  0.434285\n",
       "1      below_1_year         0  0.413488\n",
       "2  between_1_2_year         1  0.091328\n",
       "3      over_2_years         0  0.029663\n",
       "4      below_1_year         1  0.018897\n",
       "5      over_2_years         1  0.012338"
      ]
     },
     "execution_count": 43,
     "metadata": {},
     "output_type": "execute_result"
    }
   ],
   "source": [
    "df4[['vehicle_age', 'response']].value_counts(normalize = True).reset_index()"
   ]
  },
  {
   "cell_type": "markdown",
   "id": "c68df917",
   "metadata": {
    "hidden": true
   },
   "source": [
    "### 4.1.7 Vehicle Damage"
   ]
  },
  {
   "cell_type": "code",
   "execution_count": 44,
   "id": "accdb083",
   "metadata": {
    "ExecuteTime": {
     "end_time": "2022-03-07T16:25:10.172662Z",
     "start_time": "2022-03-07T16:25:09.567204Z"
    },
    "hidden": true
   },
   "outputs": [
    {
     "data": {
      "text/plain": [
       "<AxesSubplot:xlabel='response', ylabel='vehicle_damage'>"
      ]
     },
     "execution_count": 44,
     "metadata": {},
     "output_type": "execute_result"
    },
    {
     "data": {
      "image/png": "[encoded data removed]",
      "text/plain": [
       "<Figure size 432x288 with 1 Axes>"
      ]
     },
     "metadata": {
      "needs_background": "light"
     },
     "output_type": "display_data"
    }
   ],
   "source": [
    "vehi_dam = df4[['vehicle_damage', 'response']].groupby('response').sum().reset_index()\n",
    "sns.barplot(x = 'response', y = 'vehicle_damage', data = vehi_dam)"
   ]
  },
  {
   "cell_type": "code",
   "execution_count": 45,
   "id": "04ae5531",
   "metadata": {
    "ExecuteTime": {
     "end_time": "2022-03-07T16:25:10.233438Z",
     "start_time": "2022-03-07T16:25:10.185067Z"
    },
    "hidden": true
   },
   "outputs": [
    {
     "data": {
      "text/html": [
       "<div>\n",
       "<style scoped>\n",
       "    .dataframe tbody tr th:only-of-type {\n",
       "        vertical-align: middle;\n",
       "    }\n",
       "\n",
       "    .dataframe tbody tr th {\n",
       "        vertical-align: top;\n",
       "    }\n",
       "\n",
       "    .dataframe thead th {\n",
       "        text-align: right;\n",
       "    }\n",
       "</style>\n",
       "<table border=\"1\" class=\"dataframe\">\n",
       "  <thead>\n",
       "    <tr style=\"text-align: right;\">\n",
       "      <th></th>\n",
       "      <th>response</th>\n",
       "      <th>vehicle_damage</th>\n",
       "    </tr>\n",
       "  </thead>\n",
       "  <tbody>\n",
       "    <tr>\n",
       "      <th>0</th>\n",
       "      <td>0</td>\n",
       "      <td>146685</td>\n",
       "    </tr>\n",
       "    <tr>\n",
       "      <th>1</th>\n",
       "      <td>1</td>\n",
       "      <td>45728</td>\n",
       "    </tr>\n",
       "  </tbody>\n",
       "</table>\n",
       "</div>"
      ],
      "text/plain": [
       "   response  vehicle_damage\n",
       "0         0          146685\n",
       "1         1           45728"
      ]
     },
     "execution_count": 45,
     "metadata": {},
     "output_type": "execute_result"
    }
   ],
   "source": [
    "vehi_dam"
   ]
  },
  {
   "cell_type": "markdown",
   "id": "8ea61302",
   "metadata": {
    "hidden": true
   },
   "source": [
    "### 4.1.8 Previously Insured"
   ]
  },
  {
   "cell_type": "markdown",
   "id": "1229882a",
   "metadata": {
    "hidden": true
   },
   "source": [
    "It need to be careful because this feature can tell to the model that people that already have vehicle insurance will not be interested in the offer of the company, that is not true. \n",
    "\n",
    "This would be a data lackage."
   ]
  },
  {
   "cell_type": "code",
   "execution_count": 46,
   "id": "91d8027b",
   "metadata": {
    "ExecuteTime": {
     "end_time": "2022-03-07T16:25:10.295703Z",
     "start_time": "2022-03-07T16:25:10.247359Z"
    },
    "hidden": true
   },
   "outputs": [
    {
     "data": {
      "text/plain": [
       "array([0, 1])"
      ]
     },
     "execution_count": 46,
     "metadata": {},
     "output_type": "execute_result"
    }
   ],
   "source": [
    "df4['previously_insured'].unique()"
   ]
  },
  {
   "cell_type": "code",
   "execution_count": 47,
   "id": "6fd001bd",
   "metadata": {
    "ExecuteTime": {
     "end_time": "2022-03-07T16:25:10.526395Z",
     "start_time": "2022-03-07T16:25:10.309566Z"
    },
    "hidden": true
   },
   "outputs": [
    {
     "data": {
      "text/html": [
       "<div>\n",
       "<style scoped>\n",
       "    .dataframe tbody tr th:only-of-type {\n",
       "        vertical-align: middle;\n",
       "    }\n",
       "\n",
       "    .dataframe tbody tr th {\n",
       "        vertical-align: top;\n",
       "    }\n",
       "\n",
       "    .dataframe thead th {\n",
       "        text-align: right;\n",
       "    }\n",
       "</style>\n",
       "<table border=\"1\" class=\"dataframe\">\n",
       "  <thead>\n",
       "    <tr style=\"text-align: right;\">\n",
       "      <th>response</th>\n",
       "      <th>0</th>\n",
       "      <th>1</th>\n",
       "    </tr>\n",
       "    <tr>\n",
       "      <th>previously_insured</th>\n",
       "      <th></th>\n",
       "      <th></th>\n",
       "    </tr>\n",
       "  </thead>\n",
       "  <tbody>\n",
       "    <tr>\n",
       "      <th>0</th>\n",
       "      <td>0.774546</td>\n",
       "      <td>0.225454</td>\n",
       "    </tr>\n",
       "    <tr>\n",
       "      <th>1</th>\n",
       "      <td>0.999095</td>\n",
       "      <td>0.000905</td>\n",
       "    </tr>\n",
       "  </tbody>\n",
       "</table>\n",
       "</div>"
      ],
      "text/plain": [
       "response                   0         1\n",
       "previously_insured                    \n",
       "0                   0.774546  0.225454\n",
       "1                   0.999095  0.000905"
      ]
     },
     "execution_count": 47,
     "metadata": {},
     "output_type": "execute_result"
    }
   ],
   "source": [
    "# Contingency table\n",
    "pd.crosstab(df4['previously_insured'], df4['response']).apply(lambda x: x/x.sum(), axis = 1)"
   ]
  },
  {
   "cell_type": "code",
   "execution_count": 48,
   "id": "39056a21",
   "metadata": {
    "ExecuteTime": {
     "end_time": "2022-03-07T16:25:11.754321Z",
     "start_time": "2022-03-07T16:25:10.544876Z"
    },
    "hidden": true,
    "scrolled": true
   },
   "outputs": [
    {
     "data": {
      "text/plain": [
       "<AxesSubplot:xlabel='previously_insured', ylabel='id'>"
      ]
     },
     "execution_count": 48,
     "metadata": {},
     "output_type": "execute_result"
    },
    {
     "data": {
      "image/png": "[encoded data removed]",
      "text/plain": [
       "<Figure size 432x288 with 1 Axes>"
      ]
     },
     "metadata": {
      "needs_background": "light"
     },
     "output_type": "display_data"
    }
   ],
   "source": [
    "pre_ins = df4[['id', 'previously_insured', 'response']].groupby(['previously_insured', 'response']).count().reset_index()\n",
    "\n",
    "sns.scatterplot(x = 'previously_insured', y = 'id', hue = 'response', data = pre_ins)"
   ]
  },
  {
   "cell_type": "code",
   "execution_count": 49,
   "id": "0fb211b5",
   "metadata": {
    "ExecuteTime": {
     "end_time": "2022-03-07T16:25:11.791326Z",
     "start_time": "2022-03-07T16:25:11.763162Z"
    },
    "hidden": true
   },
   "outputs": [
    {
     "data": {
      "text/plain": [
       "array([0, 1])"
      ]
     },
     "execution_count": 49,
     "metadata": {},
     "output_type": "execute_result"
    }
   ],
   "source": [
    "df4['response'].unique()"
   ]
  },
  {
   "cell_type": "markdown",
   "id": "7de742ba",
   "metadata": {
    "hidden": true
   },
   "source": [
    "### 4.1.9 Annual Premium"
   ]
  },
  {
   "cell_type": "code",
   "execution_count": 50,
   "id": "42a3ec2c",
   "metadata": {
    "ExecuteTime": {
     "end_time": "2022-03-07T16:25:12.638168Z",
     "start_time": "2022-03-07T16:25:11.800808Z"
    },
    "hidden": true
   },
   "outputs": [
    {
     "data": {
      "text/plain": [
       "<AxesSubplot:xlabel='response', ylabel='annual_premium'>"
      ]
     },
     "execution_count": 50,
     "metadata": {},
     "output_type": "execute_result"
    },
    {
     "data": {
      "image/png": "[encoded data removed]",
      "text/plain": [
       "<Figure size 432x288 with 1 Axes>"
      ]
     },
     "metadata": {
      "needs_background": "light"
     },
     "output_type": "display_data"
    }
   ],
   "source": [
    "ann_pre = df4[df4['annual_premium'] < 80000]\n",
    "sns.boxplot(x = 'response', y = 'annual_premium', data = ann_pre)"
   ]
  },
  {
   "cell_type": "code",
   "execution_count": 51,
   "id": "88ed6f91",
   "metadata": {
    "ExecuteTime": {
     "end_time": "2022-03-07T16:25:12.719098Z",
     "start_time": "2022-03-07T16:25:12.648156Z"
    },
    "hidden": true
   },
   "outputs": [],
   "source": [
    "df = df4[(df4['annual_premium'] > 10000) & (df4['annual_premium'] < 80000)]"
   ]
  },
  {
   "cell_type": "code",
   "execution_count": 52,
   "id": "b35c107f",
   "metadata": {
    "ExecuteTime": {
     "end_time": "2022-03-07T16:25:15.866740Z",
     "start_time": "2022-03-07T16:25:12.727740Z"
    },
    "cell_style": "split",
    "hidden": true
   },
   "outputs": [
    {
     "data": {
      "text/plain": [
       "<AxesSubplot:xlabel='annual_premium', ylabel='Count'>"
      ]
     },
     "execution_count": 52,
     "metadata": {},
     "output_type": "execute_result"
    },
    {
     "data": {
      "image/png": "[encoded data removed]",
      "text/plain": [
       "<Figure size 432x288 with 1 Axes>"
      ]
     },
     "metadata": {
      "needs_background": "light"
     },
     "output_type": "display_data"
    }
   ],
   "source": [
    "num_no = df.loc[df['response'] == 0, 'annual_premium']\n",
    "sns.histplot(num_no)"
   ]
  },
  {
   "cell_type": "code",
   "execution_count": 53,
   "id": "c788cdf1",
   "metadata": {
    "ExecuteTime": {
     "end_time": "2022-03-07T16:25:17.744928Z",
     "start_time": "2022-03-07T16:25:15.874231Z"
    },
    "cell_style": "split",
    "hidden": true
   },
   "outputs": [
    {
     "data": {
      "text/plain": [
       "<AxesSubplot:xlabel='annual_premium', ylabel='Count'>"
      ]
     },
     "execution_count": 53,
     "metadata": {},
     "output_type": "execute_result"
    },
    {
     "data": {
      "image/png": "[encoded data removed]",
      "text/plain": [
       "<Figure size 432x288 with 1 Axes>"
      ]
     },
     "metadata": {
      "needs_background": "light"
     },
     "output_type": "display_data"
    }
   ],
   "source": [
    "num_yes = df.loc[df['response'] == 1, 'annual_premium']\n",
    "sns.histplot(num_yes)"
   ]
  },
  {
   "cell_type": "markdown",
   "id": "16918415",
   "metadata": {
    "hidden": true
   },
   "source": [
    "### 4.1.10 Vintage"
   ]
  },
  {
   "cell_type": "code",
   "execution_count": 54,
   "id": "10fa38fe",
   "metadata": {
    "ExecuteTime": {
     "end_time": "2022-03-07T16:25:18.509187Z",
     "start_time": "2022-03-07T16:25:17.752766Z"
    },
    "hidden": true
   },
   "outputs": [
    {
     "data": {
      "text/plain": [
       "<AxesSubplot:xlabel='response', ylabel='vintage'>"
      ]
     },
     "execution_count": 54,
     "metadata": {},
     "output_type": "execute_result"
    },
    {
     "data": {
      "image/png": "[encoded data removed]",
      "text/plain": [
       "<Figure size 432x288 with 1 Axes>"
      ]
     },
     "metadata": {
      "needs_background": "light"
     },
     "output_type": "display_data"
    }
   ],
   "source": [
    "sns.boxplot(x = 'response', y = 'vintage', data = df4)"
   ]
  },
  {
   "cell_type": "code",
   "execution_count": 55,
   "id": "e84b5061",
   "metadata": {
    "ExecuteTime": {
     "end_time": "2022-03-07T16:25:20.564150Z",
     "start_time": "2022-03-07T16:25:18.517878Z"
    },
    "cell_style": "split",
    "hidden": true
   },
   "outputs": [
    {
     "data": {
      "text/plain": [
       "<AxesSubplot:xlabel='vintage', ylabel='Count'>"
      ]
     },
     "execution_count": 55,
     "metadata": {},
     "output_type": "execute_result"
    },
    {
     "data": {
      "image/png": "[encoded data removed]",
      "text/plain": [
       "<Figure size 432x288 with 1 Axes>"
      ]
     },
     "metadata": {
      "needs_background": "light"
     },
     "output_type": "display_data"
    }
   ],
   "source": [
    "vint_no = df4.loc[df4['response'] == 0, 'vintage']\n",
    "sns.histplot(vint_no)"
   ]
  },
  {
   "cell_type": "code",
   "execution_count": 56,
   "id": "9ff969b6",
   "metadata": {
    "ExecuteTime": {
     "end_time": "2022-03-07T16:25:21.933272Z",
     "start_time": "2022-03-07T16:25:20.573849Z"
    },
    "cell_style": "split",
    "hidden": true
   },
   "outputs": [
    {
     "data": {
      "text/plain": [
       "<AxesSubplot:xlabel='vintage', ylabel='Count'>"
      ]
     },
     "execution_count": 56,
     "metadata": {},
     "output_type": "execute_result"
    },
    {
     "data": {
      "image/png": "[encoded data removed]",
      "text/plain": [
       "<Figure size 432x288 with 1 Axes>"
      ]
     },
     "metadata": {
      "needs_background": "light"
     },
     "output_type": "display_data"
    }
   ],
   "source": [
    "vint_yes = df4.loc[df4['response'] == 1, 'vintage']\n",
    "sns.histplot(vint_yes)"
   ]
  },
  {
   "cell_type": "markdown",
   "id": "f28fbdde",
   "metadata": {
    "hidden": true
   },
   "source": [
    "## 4.2 Bivariate Analysis"
   ]
  },
  {
   "cell_type": "code",
   "execution_count": 57,
   "id": "23499f8a",
   "metadata": {
    "ExecuteTime": {
     "end_time": "2022-03-07T16:25:30.733287Z",
     "start_time": "2022-03-07T16:25:21.944719Z"
    },
    "hidden": true
   },
   "outputs": [],
   "source": [
    "df4.to_csv('../data/interim/df4.csv', index=False)"
   ]
  },
  {
   "cell_type": "markdown",
   "id": "cb0f9ed3",
   "metadata": {},
   "source": [
    "# 5.0 Data Preparation"
   ]
  },
  {
   "cell_type": "code",
   "execution_count": 58,
   "id": "d61e0d22",
   "metadata": {
    "ExecuteTime": {
     "end_time": "2022-03-07T16:25:31.927785Z",
     "start_time": "2022-03-07T16:25:30.741010Z"
    }
   },
   "outputs": [],
   "source": [
    "df5 = pd.read_csv('../data/interim/df4.csv')"
   ]
  },
  {
   "cell_type": "code",
   "execution_count": 59,
   "id": "d8d40d5c",
   "metadata": {
    "ExecuteTime": {
     "end_time": "2022-03-07T16:25:31.967905Z",
     "start_time": "2022-03-07T16:25:31.936453Z"
    }
   },
   "outputs": [
    {
     "data": {
      "text/plain": [
       "Index(['id', 'gender', 'age', 'region_code', 'policy_sales_channel',\n",
       "       'driving_license', 'vehicle_age', 'vehicle_damage',\n",
       "       'previously_insured', 'annual_premium', 'vintage', 'response'],\n",
       "      dtype='object')"
      ]
     },
     "execution_count": 59,
     "metadata": {},
     "output_type": "execute_result"
    }
   ],
   "source": [
    "df5.columns"
   ]
  },
  {
   "cell_type": "code",
   "execution_count": 60,
   "id": "eb10a4dc",
   "metadata": {
    "ExecuteTime": {
     "end_time": "2022-03-07T16:25:32.235798Z",
     "start_time": "2022-03-07T16:25:31.976739Z"
    }
   },
   "outputs": [],
   "source": [
    "# splitting the train dataset in train and validation\n",
    "X = df5.drop('response', axis=1)\n",
    "y = df5['response'].copy()\n",
    "\n",
    "x_train, x_validation, y_train, y_validation = ms.train_test_split(X, y, test_size = 0.20)\n",
    "\n",
    "df5 = pd.concat([x_train, y_train], axis=1)"
   ]
  },
  {
   "cell_type": "markdown",
   "id": "8f75def7",
   "metadata": {
    "heading_collapsed": true
   },
   "source": [
    "## 5.1 Standardization"
   ]
  },
  {
   "cell_type": "code",
   "execution_count": 61,
   "id": "534bb1c4",
   "metadata": {
    "ExecuteTime": {
     "end_time": "2022-03-07T16:25:32.291145Z",
     "start_time": "2022-03-07T16:25:32.243786Z"
    },
    "hidden": true
   },
   "outputs": [
    {
     "data": {
      "text/plain": [
       "array([[31497.],\n",
       "       [34538.],\n",
       "       [27756.],\n",
       "       ...,\n",
       "       [28698.],\n",
       "       [43387.],\n",
       "       [ 2630.]])"
      ]
     },
     "execution_count": 61,
     "metadata": {},
     "output_type": "execute_result"
    }
   ],
   "source": [
    "df5[['annual_premium']].values"
   ]
  },
  {
   "cell_type": "code",
   "execution_count": 62,
   "id": "13a27c57",
   "metadata": {
    "ExecuteTime": {
     "end_time": "2022-03-07T16:25:32.368925Z",
     "start_time": "2022-03-07T16:25:32.302034Z"
    },
    "hidden": true
   },
   "outputs": [
    {
     "data": {
      "text/plain": [
       "175310    0.054083\n",
       "126941    0.230595\n",
       "124169   -0.163060\n",
       "103028    0.139176\n",
       "309005   -0.160681\n",
       "            ...   \n",
       "241478   -1.621478\n",
       "276415    0.271748\n",
       "25970    -0.108383\n",
       "32361     0.744228\n",
       "156280   -1.621478\n",
       "Name: annual_premium, Length: 304887, dtype: float64"
      ]
     },
     "execution_count": 62,
     "metadata": {},
     "output_type": "execute_result"
    }
   ],
   "source": [
    "# annual_premium -> to be already like a normal distribution, in the first cycle the outliers will be maintained\n",
    "ss = pp.StandardScaler()\n",
    "\n",
    "df5['annual_premium'] = ss.fit_transform(df5[['annual_premium']].values)\n",
    "df5['annual_premium']"
   ]
  },
  {
   "cell_type": "markdown",
   "id": "5a9aaac8",
   "metadata": {
    "heading_collapsed": true
   },
   "source": [
    "## 5.2 Rescaling"
   ]
  },
  {
   "cell_type": "code",
   "execution_count": 63,
   "id": "1d1d26da",
   "metadata": {
    "ExecuteTime": {
     "end_time": "2022-03-07T16:25:32.458133Z",
     "start_time": "2022-03-07T16:25:32.389169Z"
    },
    "hidden": true,
    "scrolled": true
   },
   "outputs": [],
   "source": [
    "# Age -> because it isn't a normal distribution\n",
    "aux = df5['age']\n",
    "\n",
    "mms_age = pp.MinMaxScaler()\n",
    "\n",
    "df5['age'] = mms_age.fit_transform(df5[['age']].values)"
   ]
  },
  {
   "cell_type": "code",
   "execution_count": 64,
   "id": "7bb7c166",
   "metadata": {
    "ExecuteTime": {
     "end_time": "2022-03-07T16:25:35.106421Z",
     "start_time": "2022-03-07T16:25:32.470272Z"
    },
    "cell_style": "split",
    "hidden": true
   },
   "outputs": [
    {
     "data": {
      "text/plain": [
       "<AxesSubplot:xlabel='age', ylabel='Count'>"
      ]
     },
     "execution_count": 64,
     "metadata": {},
     "output_type": "execute_result"
    },
    {
     "data": {
      "image/png": "[encoded data removed]",
      "text/plain": [
       "<Figure size 432x288 with 1 Axes>"
      ]
     },
     "metadata": {
      "needs_background": "light"
     },
     "output_type": "display_data"
    }
   ],
   "source": [
    "sns.histplot(df5['age'])"
   ]
  },
  {
   "cell_type": "code",
   "execution_count": 65,
   "id": "f1933a97",
   "metadata": {
    "ExecuteTime": {
     "end_time": "2022-03-07T16:25:37.324111Z",
     "start_time": "2022-03-07T16:25:35.114819Z"
    },
    "cell_style": "split",
    "hidden": true
   },
   "outputs": [
    {
     "data": {
      "text/plain": [
       "<AxesSubplot:xlabel='age', ylabel='Count'>"
      ]
     },
     "execution_count": 65,
     "metadata": {},
     "output_type": "execute_result"
    },
    {
     "data": {
      "image/png": "[encoded data removed]",
      "text/plain": [
       "<Figure size 432x288 with 1 Axes>"
      ]
     },
     "metadata": {
      "needs_background": "light"
     },
     "output_type": "display_data"
    }
   ],
   "source": [
    "sns.histplot(aux)"
   ]
  },
  {
   "cell_type": "code",
   "execution_count": 66,
   "id": "c26c806f",
   "metadata": {
    "ExecuteTime": {
     "end_time": "2022-03-07T16:25:37.395751Z",
     "start_time": "2022-03-07T16:25:37.335139Z"
    },
    "hidden": true
   },
   "outputs": [],
   "source": [
    "# vintage\n",
    "aux = df5['vintage']\n",
    "\n",
    "mms_vintage = pp.MinMaxScaler()\n",
    "\n",
    "df5['vintage'] = mms_vintage.fit_transform(df5[['vintage']].values)"
   ]
  },
  {
   "cell_type": "code",
   "execution_count": 67,
   "id": "3b0c61fe",
   "metadata": {
    "ExecuteTime": {
     "end_time": "2022-03-07T16:25:39.508924Z",
     "start_time": "2022-03-07T16:25:37.408166Z"
    },
    "cell_style": "split",
    "hidden": true
   },
   "outputs": [
    {
     "data": {
      "text/plain": [
       "<AxesSubplot:xlabel='vintage', ylabel='Count'>"
      ]
     },
     "execution_count": 67,
     "metadata": {},
     "output_type": "execute_result"
    },
    {
     "data": {
      "image/png": "[encoded data removed]",
      "text/plain": [
       "<Figure size 432x288 with 1 Axes>"
      ]
     },
     "metadata": {
      "needs_background": "light"
     },
     "output_type": "display_data"
    }
   ],
   "source": [
    "sns.histplot(df5['vintage'])"
   ]
  },
  {
   "cell_type": "code",
   "execution_count": 68,
   "id": "9060b550",
   "metadata": {
    "ExecuteTime": {
     "end_time": "2022-03-07T16:25:41.532640Z",
     "start_time": "2022-03-07T16:25:39.518219Z"
    },
    "cell_style": "split",
    "hidden": true
   },
   "outputs": [
    {
     "data": {
      "text/plain": [
       "<AxesSubplot:xlabel='vintage', ylabel='Count'>"
      ]
     },
     "execution_count": 68,
     "metadata": {},
     "output_type": "execute_result"
    },
    {
     "data": {
      "image/png": "[encoded data removed]",
      "text/plain": [
       "<Figure size 432x288 with 1 Axes>"
      ]
     },
     "metadata": {
      "needs_background": "light"
     },
     "output_type": "display_data"
    }
   ],
   "source": [
    "sns.histplot(aux)"
   ]
  },
  {
   "cell_type": "markdown",
   "id": "2839e838",
   "metadata": {
    "heading_collapsed": true
   },
   "source": [
    "## 5.3 Transformation"
   ]
  },
  {
   "cell_type": "markdown",
   "id": "b53b1695",
   "metadata": {
    "heading_collapsed": true,
    "hidden": true
   },
   "source": [
    "### 5.3.1 Encoding"
   ]
  },
  {
   "cell_type": "code",
   "execution_count": 69,
   "id": "677afa1f",
   "metadata": {
    "ExecuteTime": {
     "end_time": "2022-03-07T16:25:41.556250Z",
     "start_time": "2022-03-07T16:25:41.545396Z"
    },
    "hidden": true
   },
   "outputs": [],
   "source": [
    "# driving_license: its already a code (0 or 1 -> label encoding)\n",
    "# previously_insured: its already a code (0 or 1 -> label encoding)\n",
    "# vehicle_damage: its already a code (0 or 1 -> label encoding)"
   ]
  },
  {
   "cell_type": "code",
   "execution_count": 70,
   "id": "9b0cebb5",
   "metadata": {
    "ExecuteTime": {
     "end_time": "2022-03-07T16:25:41.750497Z",
     "start_time": "2022-03-07T16:25:41.565057Z"
    },
    "hidden": true
   },
   "outputs": [],
   "source": [
    "# gender - One hot encoding / **Target encoding**\n",
    "target_encode_gender = df5.groupby('gender')['response'].mean()\n",
    "df5.loc[:, 'gender'] = df5['gender'].map(target_encode_gender)\n",
    "#target_encode_gender\n",
    "#df5['gender']"
   ]
  },
  {
   "cell_type": "code",
   "execution_count": 71,
   "id": "771e5b73",
   "metadata": {
    "ExecuteTime": {
     "end_time": "2022-03-07T16:25:41.846824Z",
     "start_time": "2022-03-07T16:25:41.758855Z"
    },
    "hidden": true
   },
   "outputs": [],
   "source": [
    "# region_code (it has so much levels) - **Target Encoding**/ Frequency Encoding\n",
    "target_encode_region_code = df5.groupby('region_code')['response'].mean()\n",
    "df5.loc[:, 'region_code'] = df5['region_code'].map(target_encode_region_code)\n",
    "#target_encode_region_code\n",
    "#df5['region_code']"
   ]
  },
  {
   "cell_type": "code",
   "execution_count": 72,
   "id": "ca87ea9d",
   "metadata": {
    "ExecuteTime": {
     "end_time": "2022-03-07T16:25:42.048554Z",
     "start_time": "2022-03-07T16:25:41.855352Z"
    },
    "hidden": true
   },
   "outputs": [],
   "source": [
    "# vehicle_age: if considered only two year as double of one year, cars that are 14 months old aren't doubly old than a car with 6 months (**One hot Encoding**/ Order Encoding/ Frequency Encoding)\n",
    "df_aux = pd.get_dummies(df5, prefix='vehicle_age', columns=['vehicle_age'])\n",
    "df5 = df_aux\n",
    "#df_aux"
   ]
  },
  {
   "cell_type": "code",
   "execution_count": 73,
   "id": "e484fe14",
   "metadata": {
    "ExecuteTime": {
     "end_time": "2022-03-07T16:25:42.149986Z",
     "start_time": "2022-03-07T16:25:42.056988Z"
    },
    "hidden": true
   },
   "outputs": [],
   "source": [
    "# policy_sales_channel: Targer Enconding/ **Frequency Encoding**\n",
    "fe_policy_sales_channel = df5.groupby('policy_sales_channel').size() / len(df5)\n",
    "df5.loc[:, 'policy_sales_channel'] = df5['policy_sales_channel'].map(fe_policy_sales_channel)\n",
    "#fe_policy_sales_channel\n",
    "#df5['policy_sales_channel']"
   ]
  },
  {
   "cell_type": "markdown",
   "id": "6f784e50",
   "metadata": {
    "heading_collapsed": true
   },
   "source": [
    "## 5.4 Preparation of Validation"
   ]
  },
  {
   "cell_type": "code",
   "execution_count": 74,
   "id": "1f6c061b",
   "metadata": {
    "ExecuteTime": {
     "end_time": "2022-03-07T16:25:42.449092Z",
     "start_time": "2022-03-07T16:25:42.157193Z"
    },
    "hidden": true
   },
   "outputs": [],
   "source": [
    "# gender\n",
    "x_validation.loc[:, 'gender'] = x_validation.loc[:, 'gender'].map(target_encode_gender)\n",
    "\n",
    "# age (applying just transform metho, so it don't add new measures of mean an std values to the feature that are different of the training dataset)\n",
    "x_validation.loc[:, 'age'] = mms_age.transform(x_validation[['age']].values)\n",
    "\n",
    "# region_code\n",
    "x_validation.loc[:, 'region_code'] = x_validation.loc[:, 'region_code'].map(target_encode_region_code)\n",
    "\n",
    "# vehicle_age\n",
    "x_validation = pd.get_dummies(x_validation, prefix='vehicle_age', columns=['vehicle_age'])\n",
    "\n",
    "# annual_premium\n",
    "x_validation.loc[:, 'annual_premium'] = ss.transform(x_validation[['annual_premium']].values)\n",
    "\n",
    "# policy_sales_channel\n",
    "x_validation.loc[:, 'policy_sales_channel'] = x_validation['policy_sales_channel'].map(fe_policy_sales_channel)\n",
    "\n",
    "# vintage\n",
    "x_validation.loc[:, 'vintage'] = mms_vintage.transform(x_validation[['vintage']].values)\n",
    "\n",
    "# fillna -> if there is any value tha is on validation but is not in train dataset\n",
    "x_validation = x_validation.fillna(0)"
   ]
  },
  {
   "cell_type": "code",
   "execution_count": 75,
   "id": "7d7a820a",
   "metadata": {
    "ExecuteTime": {
     "end_time": "2022-03-07T16:25:56.891933Z",
     "start_time": "2022-03-07T16:25:42.456908Z"
    },
    "hidden": true
   },
   "outputs": [],
   "source": [
    "df5.to_csv('../data/interim/df5.csv', index=False)"
   ]
  },
  {
   "cell_type": "markdown",
   "id": "d9452f35",
   "metadata": {},
   "source": [
    "# 6.0 Feature Selection"
   ]
  },
  {
   "cell_type": "code",
   "execution_count": 76,
   "id": "d6cf3b51",
   "metadata": {
    "ExecuteTime": {
     "end_time": "2022-03-07T16:25:58.506301Z",
     "start_time": "2022-03-07T16:25:56.907998Z"
    }
   },
   "outputs": [],
   "source": [
    "df6 = pd.read_csv('../data/interim/df5.csv')"
   ]
  },
  {
   "cell_type": "markdown",
   "id": "ac978fe9",
   "metadata": {},
   "source": [
    "## 6.1 Boruta Algorithm"
   ]
  },
  {
   "cell_type": "markdown",
   "id": "8515a46f",
   "metadata": {},
   "source": [
    "## 6.2 Features Importance"
   ]
  },
  {
   "cell_type": "code",
   "execution_count": 77,
   "id": "b1f597d0",
   "metadata": {
    "ExecuteTime": {
     "end_time": "2022-03-07T16:27:56.790745Z",
     "start_time": "2022-03-07T16:25:58.514451Z"
    }
   },
   "outputs": [
    {
     "data": {
      "text/plain": [
       "ExtraTreesClassifier(n_estimators=250, n_jobs=-1, random_state=0)"
      ]
     },
     "execution_count": 77,
     "metadata": {},
     "output_type": "execute_result"
    }
   ],
   "source": [
    "# model definition\n",
    "forest = en.ExtraTreesClassifier(n_estimators=250, random_state=0, n_jobs=-1)\n",
    "\n",
    "# data preparation\n",
    "x_train_n = df6.drop(['id', 'response'], axis=1)\n",
    "y_train_n = y_train.values\n",
    "forest.fit(x_train_n, y_train_n)"
   ]
  },
  {
   "cell_type": "code",
   "execution_count": 78,
   "id": "4356e47a",
   "metadata": {
    "ExecuteTime": {
     "end_time": "2022-03-07T16:28:00.052017Z",
     "start_time": "2022-03-07T16:27:56.805282Z"
    },
    "scrolled": true
   },
   "outputs": [
    {
     "name": "stdout",
     "output_type": "stream",
     "text": [
      "Feature ranking:\n",
      "                        feature  importance\n",
      "0                       vintage    0.274569\n",
      "0                annual_premium    0.245075\n",
      "0                           age    0.164615\n",
      "0                   region_code    0.104127\n",
      "0                vehicle_damage    0.066495\n",
      "0          policy_sales_channel    0.058908\n",
      "0            previously_insured    0.057681\n",
      "0      vehicle_age_below_1_year    0.014120\n",
      "0  vehicle_age_between_1_2_year    0.006812\n",
      "0                        gender    0.004829\n",
      "0      vehicle_age_over_2_years    0.002273\n",
      "0               driving_license    0.000496\n"
     ]
    },
    {
     "data": {
      "image/png": "[encoded data removed]",
      "text/plain": [
       "<Figure size 432x288 with 1 Axes>"
      ]
     },
     "metadata": {
      "needs_background": "light"
     },
     "output_type": "display_data"
    }
   ],
   "source": [
    "importances = forest.feature_importances_\n",
    "std = np.std([tree.feature_importances_ for tree in forest.estimators_], axis=0)\n",
    "indices = np.argsort(importances)[::-1]\n",
    "\n",
    "# Print the feature ranking\n",
    "print(\"Feature ranking:\")\n",
    "df = pd.DataFrame()\n",
    "for i, j in zip( x_train_n, forest.feature_importances_ ):\n",
    "    aux = pd.DataFrame( {'feature': i, 'importance': j}, index=[0] )\n",
    "    df = pd.concat( [df, aux], axis=0 )\n",
    "    \n",
    "print( df.sort_values( 'importance', ascending=False ) )\n",
    "\n",
    "# Plot the impurity-based feature importances of the forest\n",
    "plt.figure()\n",
    "plt.title(\"Feature importances\")\n",
    "plt.bar(range(x_train_n.shape[1]), importances[indices], color=\"r\", yerr=std[indices], align=\"center\")\n",
    "plt.xticks(range(x_train_n.shape[1]), indices)\n",
    "plt.xlim([-1, x_train_n.shape[1]])\n",
    "plt.show()"
   ]
  },
  {
   "cell_type": "code",
   "execution_count": 79,
   "id": "3bff3287",
   "metadata": {
    "ExecuteTime": {
     "end_time": "2022-03-07T16:28:20.087541Z",
     "start_time": "2022-03-07T16:28:00.061957Z"
    }
   },
   "outputs": [],
   "source": [
    "df6.to_csv('../data/interim/df6.csv', index=False)"
   ]
  },
  {
   "cell_type": "markdown",
   "id": "a2d46291",
   "metadata": {},
   "source": [
    "# 7.0 Machine Learning"
   ]
  },
  {
   "cell_type": "code",
   "execution_count": 80,
   "id": "c6168f40",
   "metadata": {
    "ExecuteTime": {
     "end_time": "2022-03-07T16:28:22.793110Z",
     "start_time": "2022-03-07T16:28:20.125211Z"
    }
   },
   "outputs": [],
   "source": [
    "df7 = pd.read_csv('../data/interim/df6.csv')"
   ]
  },
  {
   "cell_type": "code",
   "execution_count": 81,
   "id": "ab30503e",
   "metadata": {
    "ExecuteTime": {
     "end_time": "2022-03-07T16:28:22.819663Z",
     "start_time": "2022-03-07T16:28:22.806487Z"
    }
   },
   "outputs": [],
   "source": [
    "cols_selected_importance = ['vintage', 'annual_premium', 'age', 'region_code', 'policy_sales_channel']"
   ]
  },
  {
   "cell_type": "code",
   "execution_count": 82,
   "id": "34bb0693",
   "metadata": {
    "ExecuteTime": {
     "end_time": "2022-03-07T16:28:23.467759Z",
     "start_time": "2022-03-07T16:28:23.400596Z"
    }
   },
   "outputs": [],
   "source": [
    "x_train = df7[cols_selected_importance]\n",
    "\n",
    "x_val = x_validation[cols_selected_importance]\n",
    "y_val = y_validation"
   ]
  },
  {
   "cell_type": "markdown",
   "id": "95929c95",
   "metadata": {},
   "source": [
    "## 7.1 KNN Classifier"
   ]
  },
  {
   "cell_type": "code",
   "execution_count": 83,
   "id": "562b23c8",
   "metadata": {
    "ExecuteTime": {
     "end_time": "2022-03-07T16:28:41.982166Z",
     "start_time": "2022-03-07T16:28:23.478077Z"
    }
   },
   "outputs": [],
   "source": [
    "# model definition\n",
    "knn_model = nh.KNeighborsClassifier(n_neighbors=10)\n",
    "\n",
    "# model training\n",
    "knn_model.fit(x_train, y_train)\n",
    "\n",
    "# model prediction - Generalization\n",
    "yhat_knn = knn_model.predict_proba(x_val)"
   ]
  },
  {
   "cell_type": "markdown",
   "id": "200e3fb9",
   "metadata": {},
   "source": [
    "Because the problem is a ordened list we need some metrics of ordenation"
   ]
  },
  {
   "cell_type": "code",
   "execution_count": 84,
   "id": "885a459a",
   "metadata": {
    "ExecuteTime": {
     "end_time": "2022-03-07T16:28:43.462187Z",
     "start_time": "2022-03-07T16:28:41.997545Z"
    },
    "cell_style": "split",
    "hide_input": false
   },
   "outputs": [
    {
     "data": {
      "text/plain": [
       "<AxesSubplot:title={'center':'Cumulative Gains Curve'}, xlabel='Percentage of sample', ylabel='Gain'>"
      ]
     },
     "execution_count": 84,
     "metadata": {},
     "output_type": "execute_result"
    },
    {
     "data": {
      "image/png": "[encoded data removed]",
      "text/plain": [
       "<Figure size 432x288 with 1 Axes>"
      ]
     },
     "metadata": {
      "needs_background": "light"
     },
     "output_type": "display_data"
    }
   ],
   "source": [
    "# Accumulative Gain\n",
    "skplt.metrics.plot_cumulative_gain(y_val, yhat_knn)"
   ]
  },
  {
   "cell_type": "code",
   "execution_count": 85,
   "id": "20eec2aa",
   "metadata": {
    "ExecuteTime": {
     "end_time": "2022-03-07T16:28:45.122362Z",
     "start_time": "2022-03-07T16:28:43.474313Z"
    },
    "cell_style": "split",
    "hide_input": true
   },
   "outputs": [
    {
     "data": {
      "text/plain": [
       "<AxesSubplot:title={'center':'Lift Curve'}, xlabel='Percentage of sample', ylabel='Lift'>"
      ]
     },
     "execution_count": 85,
     "metadata": {},
     "output_type": "execute_result"
    },
    {
     "data": {
      "image/png": "[encoded data removed]",
      "text/plain": [
       "<Figure size 432x288 with 1 Axes>"
      ]
     },
     "metadata": {
      "needs_background": "light"
     },
     "output_type": "display_data"
    }
   ],
   "source": [
    "# says how much the prediction is better with the model im comparison with no model.\n",
    "skplt.metrics.plot_lift_curve(y_val, yhat_knn)"
   ]
  },
  {
   "cell_type": "markdown",
   "id": "528a954b",
   "metadata": {
    "heading_collapsed": true
   },
   "source": [
    "## 7.2 Logistic Regresion"
   ]
  },
  {
   "cell_type": "code",
   "execution_count": 86,
   "id": "dd08d2fc",
   "metadata": {
    "ExecuteTime": {
     "end_time": "2022-03-07T16:28:49.272002Z",
     "start_time": "2022-03-07T16:28:45.133581Z"
    },
    "hidden": true
   },
   "outputs": [],
   "source": [
    "# model definition\n",
    "lr_model = lm.LogisticRegression(random_state=60)\n",
    "\n",
    "# model training\n",
    "lr_model.fit(x_train, y_train)\n",
    "\n",
    "# model prediction\n",
    "yhat_lr = lr_model.predict_proba(x_val)"
   ]
  },
  {
   "cell_type": "code",
   "execution_count": 87,
   "id": "9b712e7a",
   "metadata": {
    "ExecuteTime": {
     "end_time": "2022-03-07T16:28:50.884391Z",
     "start_time": "2022-03-07T16:28:49.285727Z"
    },
    "cell_style": "split",
    "hidden": true
   },
   "outputs": [
    {
     "data": {
      "image/png": "[encoded data removed]",
      "text/plain": [
       "<Figure size 432x288 with 1 Axes>"
      ]
     },
     "metadata": {
      "needs_background": "light"
     },
     "output_type": "display_data"
    }
   ],
   "source": [
    "# Accumulative Gain\n",
    "skplt.metrics.plot_cumulative_gain(y_val, yhat_lr);"
   ]
  },
  {
   "cell_type": "code",
   "execution_count": 88,
   "id": "099d4ffd",
   "metadata": {
    "ExecuteTime": {
     "end_time": "2022-03-07T16:28:52.652434Z",
     "start_time": "2022-03-07T16:28:50.899765Z"
    },
    "cell_style": "split",
    "hidden": true,
    "scrolled": false
   },
   "outputs": [
    {
     "data": {
      "image/png": "[encoded data removed]",
      "text/plain": [
       "<Figure size 432x288 with 1 Axes>"
      ]
     },
     "metadata": {
      "needs_background": "light"
     },
     "output_type": "display_data"
    }
   ],
   "source": [
    "skplt.metrics.plot_lift_curve(y_val, yhat_lr);"
   ]
  },
  {
   "cell_type": "markdown",
   "id": "8d8571e9",
   "metadata": {},
   "source": [
    "## 7.3 Extra Trees Classifier"
   ]
  },
  {
   "cell_type": "code",
   "execution_count": 89,
   "id": "95afc642",
   "metadata": {
    "ExecuteTime": {
     "end_time": "2022-03-07T16:30:36.702115Z",
     "start_time": "2022-03-07T16:28:52.675085Z"
    }
   },
   "outputs": [],
   "source": [
    "# model definition\n",
    "et = en.ExtraTreesClassifier(n_estimators=100, n_jobs=-1, random_state=42)\n",
    "\n",
    "# model training\n",
    "et.fit(x_train, y_train)\n",
    "\n",
    "# model prediction\n",
    "yhat_et = et.predict_proba(x_val)"
   ]
  },
  {
   "cell_type": "code",
   "execution_count": 90,
   "id": "3ea90ebb",
   "metadata": {
    "ExecuteTime": {
     "end_time": "2022-03-07T16:30:37.670726Z",
     "start_time": "2022-03-07T16:30:36.713839Z"
    }
   },
   "outputs": [
    {
     "data": {
      "image/png": "[encoded data removed]",
      "text/plain": [
       "<Figure size 432x288 with 1 Axes>"
      ]
     },
     "metadata": {
      "needs_background": "light"
     },
     "output_type": "display_data"
    }
   ],
   "source": [
    "# Accumulative Gain\n",
    "skplt.metrics.plot_cumulative_gain(y_val, yhat_et);"
   ]
  },
  {
   "cell_type": "code",
   "execution_count": 91,
   "id": "6e6a046d",
   "metadata": {
    "ExecuteTime": {
     "end_time": "2022-03-07T16:30:38.923906Z",
     "start_time": "2022-03-07T16:30:37.682471Z"
    }
   },
   "outputs": [
    {
     "data": {
      "image/png": "[encoded data removed]",
      "text/plain": [
       "<Figure size 432x288 with 1 Axes>"
      ]
     },
     "metadata": {
      "needs_background": "light"
     },
     "output_type": "display_data"
    }
   ],
   "source": [
    "skplt.metrics.plot_lift_curve(y_val, yhat_et);"
   ]
  },
  {
   "cell_type": "markdown",
   "id": "f0b381c5",
   "metadata": {},
   "source": [
    "## 7.4 Random Forest"
   ]
  },
  {
   "cell_type": "code",
   "execution_count": 92,
   "id": "ca5f38a9",
   "metadata": {
    "ExecuteTime": {
     "end_time": "2022-03-07T16:33:39.604638Z",
     "start_time": "2022-03-07T16:30:38.943613Z"
    }
   },
   "outputs": [],
   "source": [
    "# model definition\n",
    "rf = en.RandomForestClassifier(n_estimators=100, n_jobs=-1, random_state=42) \n",
    "\n",
    "# model training\n",
    "rf.fit(x_train, y_train)\n",
    "\n",
    "# model prediction\n",
    "yhat_rf = et.predict_proba(x_val)"
   ]
  },
  {
   "cell_type": "code",
   "execution_count": 93,
   "id": "cb6e9ab2",
   "metadata": {
    "ExecuteTime": {
     "end_time": "2022-03-07T16:33:41.404075Z",
     "start_time": "2022-03-07T16:33:39.617054Z"
    }
   },
   "outputs": [
    {
     "data": {
      "image/png": "[encoded data removed]",
      "text/plain": [
       "<Figure size 432x288 with 1 Axes>"
      ]
     },
     "metadata": {
      "needs_background": "light"
     },
     "output_type": "display_data"
    }
   ],
   "source": [
    "# Accumulative Gain\n",
    "skplt.metrics.plot_cumulative_gain(y_val, yhat_rf);"
   ]
  },
  {
   "cell_type": "code",
   "execution_count": 94,
   "id": "d0e12371",
   "metadata": {
    "ExecuteTime": {
     "end_time": "2022-03-07T16:33:43.465064Z",
     "start_time": "2022-03-07T16:33:41.429675Z"
    }
   },
   "outputs": [
    {
     "data": {
      "image/png": "[encoded data removed]",
      "text/plain": [
       "<Figure size 432x288 with 1 Axes>"
      ]
     },
     "metadata": {
      "needs_background": "light"
     },
     "output_type": "display_data"
    }
   ],
   "source": [
    "skplt.metrics.plot_lift_curve(y_val, yhat_rf);"
   ]
  },
  {
   "cell_type": "markdown",
   "id": "f0123541",
   "metadata": {},
   "source": [
    "# 8.0 Model Performance"
   ]
  },
  {
   "cell_type": "code",
   "execution_count": 95,
   "id": "c3b6f8ae",
   "metadata": {
    "ExecuteTime": {
     "end_time": "2022-03-07T16:36:04.402604Z",
     "start_time": "2022-03-07T16:36:04.312616Z"
    }
   },
   "outputs": [],
   "source": [
    "df8 = x_validation.copy()"
   ]
  },
  {
   "cell_type": "code",
   "execution_count": 96,
   "id": "e822f5fa",
   "metadata": {
    "ExecuteTime": {
     "end_time": "2022-03-07T16:36:14.562593Z",
     "start_time": "2022-03-07T16:36:14.452568Z"
    }
   },
   "outputs": [
    {
     "data": {
      "text/html": [
       "<div>\n",
       "<style scoped>\n",
       "    .dataframe tbody tr th:only-of-type {\n",
       "        vertical-align: middle;\n",
       "    }\n",
       "\n",
       "    .dataframe tbody tr th {\n",
       "        vertical-align: top;\n",
       "    }\n",
       "\n",
       "    .dataframe thead th {\n",
       "        text-align: right;\n",
       "    }\n",
       "</style>\n",
       "<table border=\"1\" class=\"dataframe\">\n",
       "  <thead>\n",
       "    <tr style=\"text-align: right;\">\n",
       "      <th></th>\n",
       "      <th>id</th>\n",
       "      <th>gender</th>\n",
       "      <th>age</th>\n",
       "      <th>region_code</th>\n",
       "      <th>policy_sales_channel</th>\n",
       "      <th>driving_license</th>\n",
       "      <th>vehicle_damage</th>\n",
       "      <th>previously_insured</th>\n",
       "      <th>annual_premium</th>\n",
       "      <th>vintage</th>\n",
       "      <th>vehicle_age_below_1_year</th>\n",
       "      <th>vehicle_age_between_1_2_year</th>\n",
       "      <th>vehicle_age_over_2_years</th>\n",
       "    </tr>\n",
       "  </thead>\n",
       "  <tbody>\n",
       "    <tr>\n",
       "      <th>37087</th>\n",
       "      <td>296282</td>\n",
       "      <td>0.137991</td>\n",
       "      <td>0.046154</td>\n",
       "      <td>0.044608</td>\n",
       "      <td>0.354312</td>\n",
       "      <td>1</td>\n",
       "      <td>0</td>\n",
       "      <td>1</td>\n",
       "      <td>-0.051035</td>\n",
       "      <td>0.692042</td>\n",
       "      <td>1</td>\n",
       "      <td>0</td>\n",
       "      <td>0</td>\n",
       "    </tr>\n",
       "    <tr>\n",
       "      <th>312182</th>\n",
       "      <td>208577</td>\n",
       "      <td>0.137991</td>\n",
       "      <td>0.184615</td>\n",
       "      <td>0.131560</td>\n",
       "      <td>0.209087</td>\n",
       "      <td>1</td>\n",
       "      <td>0</td>\n",
       "      <td>1</td>\n",
       "      <td>-0.273925</td>\n",
       "      <td>0.138408</td>\n",
       "      <td>1</td>\n",
       "      <td>0</td>\n",
       "      <td>0</td>\n",
       "    </tr>\n",
       "    <tr>\n",
       "      <th>300504</th>\n",
       "      <td>114846</td>\n",
       "      <td>0.104467</td>\n",
       "      <td>0.276923</td>\n",
       "      <td>0.186528</td>\n",
       "      <td>0.209087</td>\n",
       "      <td>1</td>\n",
       "      <td>0</td>\n",
       "      <td>1</td>\n",
       "      <td>-0.390187</td>\n",
       "      <td>0.972318</td>\n",
       "      <td>0</td>\n",
       "      <td>1</td>\n",
       "      <td>0</td>\n",
       "    </tr>\n",
       "    <tr>\n",
       "      <th>157359</th>\n",
       "      <td>113803</td>\n",
       "      <td>0.137991</td>\n",
       "      <td>0.061538</td>\n",
       "      <td>0.087674</td>\n",
       "      <td>0.354312</td>\n",
       "      <td>1</td>\n",
       "      <td>1</td>\n",
       "      <td>0</td>\n",
       "      <td>0.270936</td>\n",
       "      <td>0.446367</td>\n",
       "      <td>1</td>\n",
       "      <td>0</td>\n",
       "      <td>0</td>\n",
       "    </tr>\n",
       "    <tr>\n",
       "      <th>188248</th>\n",
       "      <td>361131</td>\n",
       "      <td>0.137991</td>\n",
       "      <td>0.215385</td>\n",
       "      <td>0.186528</td>\n",
       "      <td>0.209087</td>\n",
       "      <td>1</td>\n",
       "      <td>1</td>\n",
       "      <td>0</td>\n",
       "      <td>0.481288</td>\n",
       "      <td>0.923875</td>\n",
       "      <td>0</td>\n",
       "      <td>1</td>\n",
       "      <td>0</td>\n",
       "    </tr>\n",
       "  </tbody>\n",
       "</table>\n",
       "</div>"
      ],
      "text/plain": [
       "            id    gender       age  region_code  policy_sales_channel  \\\n",
       "37087   296282  0.137991  0.046154     0.044608              0.354312   \n",
       "312182  208577  0.137991  0.184615     0.131560              0.209087   \n",
       "300504  114846  0.104467  0.276923     0.186528              0.209087   \n",
       "157359  113803  0.137991  0.061538     0.087674              0.354312   \n",
       "188248  361131  0.137991  0.215385     0.186528              0.209087   \n",
       "\n",
       "        driving_license  vehicle_damage  previously_insured  annual_premium  \\\n",
       "37087                 1               0                   1       -0.051035   \n",
       "312182                1               0                   1       -0.273925   \n",
       "300504                1               0                   1       -0.390187   \n",
       "157359                1               1                   0        0.270936   \n",
       "188248                1               1                   0        0.481288   \n",
       "\n",
       "         vintage  vehicle_age_below_1_year  vehicle_age_between_1_2_year  \\\n",
       "37087   0.692042                         1                             0   \n",
       "312182  0.138408                         1                             0   \n",
       "300504  0.972318                         0                             1   \n",
       "157359  0.446367                         1                             0   \n",
       "188248  0.923875                         0                             1   \n",
       "\n",
       "        vehicle_age_over_2_years  \n",
       "37087                          0  \n",
       "312182                         0  \n",
       "300504                         0  \n",
       "157359                         0  \n",
       "188248                         0  "
      ]
     },
     "execution_count": 96,
     "metadata": {},
     "output_type": "execute_result"
    }
   ],
   "source": [
    "df8.head()"
   ]
  },
  {
   "cell_type": "code",
   "execution_count": 97,
   "id": "9f5ef098",
   "metadata": {
    "ExecuteTime": {
     "end_time": "2022-03-07T16:38:00.358701Z",
     "start_time": "2022-03-07T16:38:00.304955Z"
    }
   },
   "outputs": [],
   "source": [
    "df8['response'] = y_validation.copy()"
   ]
  },
  {
   "cell_type": "code",
   "execution_count": 101,
   "id": "a970e786",
   "metadata": {
    "ExecuteTime": {
     "end_time": "2022-03-07T16:41:21.539915Z",
     "start_time": "2022-03-07T16:41:21.482299Z"
    }
   },
   "outputs": [],
   "source": [
    "# propensity score (just to order the base, after this is useless)\n",
    "df8['score'] = yhat_knn[:, 1].tolist()"
   ]
  },
  {
   "cell_type": "code",
   "execution_count": 103,
   "id": "c06de9c1",
   "metadata": {
    "ExecuteTime": {
     "end_time": "2022-03-07T16:59:12.583754Z",
     "start_time": "2022-03-07T16:59:12.462161Z"
    }
   },
   "outputs": [],
   "source": [
    "# sort clients by propensity score\n",
    "df8 = df8.sort_values('score', ascending=False)"
   ]
  },
  {
   "cell_type": "code",
   "execution_count": 104,
   "id": "e53e6267",
   "metadata": {
    "ExecuteTime": {
     "end_time": "2022-03-07T16:59:16.714156Z",
     "start_time": "2022-03-07T16:59:16.610528Z"
    }
   },
   "outputs": [
    {
     "data": {
      "text/html": [
       "<div>\n",
       "<style scoped>\n",
       "    .dataframe tbody tr th:only-of-type {\n",
       "        vertical-align: middle;\n",
       "    }\n",
       "\n",
       "    .dataframe tbody tr th {\n",
       "        vertical-align: top;\n",
       "    }\n",
       "\n",
       "    .dataframe thead th {\n",
       "        text-align: right;\n",
       "    }\n",
       "</style>\n",
       "<table border=\"1\" class=\"dataframe\">\n",
       "  <thead>\n",
       "    <tr style=\"text-align: right;\">\n",
       "      <th></th>\n",
       "      <th>id</th>\n",
       "      <th>gender</th>\n",
       "      <th>age</th>\n",
       "      <th>region_code</th>\n",
       "      <th>policy_sales_channel</th>\n",
       "      <th>driving_license</th>\n",
       "      <th>vehicle_damage</th>\n",
       "      <th>previously_insured</th>\n",
       "      <th>annual_premium</th>\n",
       "      <th>vintage</th>\n",
       "      <th>vehicle_age_below_1_year</th>\n",
       "      <th>vehicle_age_between_1_2_year</th>\n",
       "      <th>vehicle_age_over_2_years</th>\n",
       "      <th>response</th>\n",
       "      <th>score</th>\n",
       "    </tr>\n",
       "  </thead>\n",
       "  <tbody>\n",
       "    <tr>\n",
       "      <th>54861</th>\n",
       "      <td>56740</td>\n",
       "      <td>0.104467</td>\n",
       "      <td>0.184615</td>\n",
       "      <td>0.186528</td>\n",
       "      <td>0.193960</td>\n",
       "      <td>1</td>\n",
       "      <td>1</td>\n",
       "      <td>0</td>\n",
       "      <td>0.391958</td>\n",
       "      <td>0.217993</td>\n",
       "      <td>1</td>\n",
       "      <td>0</td>\n",
       "      <td>0</td>\n",
       "      <td>0</td>\n",
       "      <td>0.9</td>\n",
       "    </tr>\n",
       "    <tr>\n",
       "      <th>14897</th>\n",
       "      <td>119845</td>\n",
       "      <td>0.104467</td>\n",
       "      <td>0.153846</td>\n",
       "      <td>0.075414</td>\n",
       "      <td>0.193960</td>\n",
       "      <td>1</td>\n",
       "      <td>0</td>\n",
       "      <td>1</td>\n",
       "      <td>-0.382874</td>\n",
       "      <td>0.681661</td>\n",
       "      <td>0</td>\n",
       "      <td>1</td>\n",
       "      <td>0</td>\n",
       "      <td>0</td>\n",
       "      <td>0.9</td>\n",
       "    </tr>\n",
       "    <tr>\n",
       "      <th>139251</th>\n",
       "      <td>350943</td>\n",
       "      <td>0.137991</td>\n",
       "      <td>0.200000</td>\n",
       "      <td>0.186528</td>\n",
       "      <td>0.027889</td>\n",
       "      <td>1</td>\n",
       "      <td>1</td>\n",
       "      <td>0</td>\n",
       "      <td>-1.621478</td>\n",
       "      <td>0.750865</td>\n",
       "      <td>0</td>\n",
       "      <td>1</td>\n",
       "      <td>0</td>\n",
       "      <td>0</td>\n",
       "      <td>0.8</td>\n",
       "    </tr>\n",
       "    <tr>\n",
       "      <th>124833</th>\n",
       "      <td>234263</td>\n",
       "      <td>0.137991</td>\n",
       "      <td>0.215385</td>\n",
       "      <td>0.070457</td>\n",
       "      <td>0.003100</td>\n",
       "      <td>1</td>\n",
       "      <td>1</td>\n",
       "      <td>0</td>\n",
       "      <td>-1.621478</td>\n",
       "      <td>0.114187</td>\n",
       "      <td>1</td>\n",
       "      <td>0</td>\n",
       "      <td>0</td>\n",
       "      <td>1</td>\n",
       "      <td>0.8</td>\n",
       "    </tr>\n",
       "    <tr>\n",
       "      <th>239033</th>\n",
       "      <td>4672</td>\n",
       "      <td>0.137991</td>\n",
       "      <td>0.153846</td>\n",
       "      <td>0.075414</td>\n",
       "      <td>0.027889</td>\n",
       "      <td>1</td>\n",
       "      <td>1</td>\n",
       "      <td>0</td>\n",
       "      <td>-1.621478</td>\n",
       "      <td>0.536332</td>\n",
       "      <td>1</td>\n",
       "      <td>0</td>\n",
       "      <td>0</td>\n",
       "      <td>0</td>\n",
       "      <td>0.8</td>\n",
       "    </tr>\n",
       "    <tr>\n",
       "      <th>...</th>\n",
       "      <td>...</td>\n",
       "      <td>...</td>\n",
       "      <td>...</td>\n",
       "      <td>...</td>\n",
       "      <td>...</td>\n",
       "      <td>...</td>\n",
       "      <td>...</td>\n",
       "      <td>...</td>\n",
       "      <td>...</td>\n",
       "      <td>...</td>\n",
       "      <td>...</td>\n",
       "      <td>...</td>\n",
       "      <td>...</td>\n",
       "      <td>...</td>\n",
       "      <td>...</td>\n",
       "    </tr>\n",
       "    <tr>\n",
       "      <th>28933</th>\n",
       "      <td>231036</td>\n",
       "      <td>0.104467</td>\n",
       "      <td>0.030769</td>\n",
       "      <td>0.125381</td>\n",
       "      <td>0.354312</td>\n",
       "      <td>1</td>\n",
       "      <td>0</td>\n",
       "      <td>1</td>\n",
       "      <td>0.659948</td>\n",
       "      <td>0.370242</td>\n",
       "      <td>1</td>\n",
       "      <td>0</td>\n",
       "      <td>0</td>\n",
       "      <td>0</td>\n",
       "      <td>0.0</td>\n",
       "    </tr>\n",
       "    <tr>\n",
       "      <th>161187</th>\n",
       "      <td>144274</td>\n",
       "      <td>0.137991</td>\n",
       "      <td>0.246154</td>\n",
       "      <td>0.095819</td>\n",
       "      <td>0.017629</td>\n",
       "      <td>1</td>\n",
       "      <td>0</td>\n",
       "      <td>1</td>\n",
       "      <td>-1.621478</td>\n",
       "      <td>0.107266</td>\n",
       "      <td>0</td>\n",
       "      <td>1</td>\n",
       "      <td>0</td>\n",
       "      <td>0</td>\n",
       "      <td>0.0</td>\n",
       "    </tr>\n",
       "    <tr>\n",
       "      <th>257443</th>\n",
       "      <td>151980</td>\n",
       "      <td>0.137991</td>\n",
       "      <td>0.215385</td>\n",
       "      <td>0.101812</td>\n",
       "      <td>0.354312</td>\n",
       "      <td>1</td>\n",
       "      <td>0</td>\n",
       "      <td>1</td>\n",
       "      <td>0.026802</td>\n",
       "      <td>0.878893</td>\n",
       "      <td>0</td>\n",
       "      <td>1</td>\n",
       "      <td>0</td>\n",
       "      <td>0</td>\n",
       "      <td>0.0</td>\n",
       "    </tr>\n",
       "    <tr>\n",
       "      <th>797</th>\n",
       "      <td>6493</td>\n",
       "      <td>0.137991</td>\n",
       "      <td>0.107692</td>\n",
       "      <td>0.186528</td>\n",
       "      <td>0.354312</td>\n",
       "      <td>1</td>\n",
       "      <td>1</td>\n",
       "      <td>1</td>\n",
       "      <td>0.912150</td>\n",
       "      <td>0.415225</td>\n",
       "      <td>1</td>\n",
       "      <td>0</td>\n",
       "      <td>0</td>\n",
       "      <td>0</td>\n",
       "      <td>0.0</td>\n",
       "    </tr>\n",
       "    <tr>\n",
       "      <th>2199</th>\n",
       "      <td>17757</td>\n",
       "      <td>0.137991</td>\n",
       "      <td>0.046154</td>\n",
       "      <td>0.070185</td>\n",
       "      <td>0.354312</td>\n",
       "      <td>1</td>\n",
       "      <td>0</td>\n",
       "      <td>1</td>\n",
       "      <td>0.132849</td>\n",
       "      <td>0.719723</td>\n",
       "      <td>1</td>\n",
       "      <td>0</td>\n",
       "      <td>0</td>\n",
       "      <td>0</td>\n",
       "      <td>0.0</td>\n",
       "    </tr>\n",
       "  </tbody>\n",
       "</table>\n",
       "<p>76222 rows × 15 columns</p>\n",
       "</div>"
      ],
      "text/plain": [
       "            id    gender       age  region_code  policy_sales_channel  \\\n",
       "54861    56740  0.104467  0.184615     0.186528              0.193960   \n",
       "14897   119845  0.104467  0.153846     0.075414              0.193960   \n",
       "139251  350943  0.137991  0.200000     0.186528              0.027889   \n",
       "124833  234263  0.137991  0.215385     0.070457              0.003100   \n",
       "239033    4672  0.137991  0.153846     0.075414              0.027889   \n",
       "...        ...       ...       ...          ...                   ...   \n",
       "28933   231036  0.104467  0.030769     0.125381              0.354312   \n",
       "161187  144274  0.137991  0.246154     0.095819              0.017629   \n",
       "257443  151980  0.137991  0.215385     0.101812              0.354312   \n",
       "797       6493  0.137991  0.107692     0.186528              0.354312   \n",
       "2199     17757  0.137991  0.046154     0.070185              0.354312   \n",
       "\n",
       "        driving_license  vehicle_damage  previously_insured  annual_premium  \\\n",
       "54861                 1               1                   0        0.391958   \n",
       "14897                 1               0                   1       -0.382874   \n",
       "139251                1               1                   0       -1.621478   \n",
       "124833                1               1                   0       -1.621478   \n",
       "239033                1               1                   0       -1.621478   \n",
       "...                 ...             ...                 ...             ...   \n",
       "28933                 1               0                   1        0.659948   \n",
       "161187                1               0                   1       -1.621478   \n",
       "257443                1               0                   1        0.026802   \n",
       "797                   1               1                   1        0.912150   \n",
       "2199                  1               0                   1        0.132849   \n",
       "\n",
       "         vintage  vehicle_age_below_1_year  vehicle_age_between_1_2_year  \\\n",
       "54861   0.217993                         1                             0   \n",
       "14897   0.681661                         0                             1   \n",
       "139251  0.750865                         0                             1   \n",
       "124833  0.114187                         1                             0   \n",
       "239033  0.536332                         1                             0   \n",
       "...          ...                       ...                           ...   \n",
       "28933   0.370242                         1                             0   \n",
       "161187  0.107266                         0                             1   \n",
       "257443  0.878893                         0                             1   \n",
       "797     0.415225                         1                             0   \n",
       "2199    0.719723                         1                             0   \n",
       "\n",
       "        vehicle_age_over_2_years  response  score  \n",
       "54861                          0         0    0.9  \n",
       "14897                          0         0    0.9  \n",
       "139251                         0         0    0.8  \n",
       "124833                         0         1    0.8  \n",
       "239033                         0         0    0.8  \n",
       "...                          ...       ...    ...  \n",
       "28933                          0         0    0.0  \n",
       "161187                         0         0    0.0  \n",
       "257443                         0         0    0.0  \n",
       "797                            0         0    0.0  \n",
       "2199                           0         0    0.0  \n",
       "\n",
       "[76222 rows x 15 columns]"
      ]
     },
     "execution_count": 104,
     "metadata": {},
     "output_type": "execute_result"
    }
   ],
   "source": [
    "df8"
   ]
  },
  {
   "cell_type": "code",
   "execution_count": 109,
   "id": "c736a635",
   "metadata": {
    "ExecuteTime": {
     "end_time": "2022-03-07T17:15:38.961625Z",
     "start_time": "2022-03-07T17:15:38.932427Z"
    }
   },
   "outputs": [],
   "source": [
    "## reset index\n",
    "#df8 = df8.reset_index(drop = True)\n",
    "#\n",
    "## create ranking order\n",
    "#df8['ranking'] = df8.index + 1\n",
    "#\n",
    "#df8['precision_at_k'] = df8['response'].cumsum() / df8['ranking']\n",
    "#\n",
    "#df8[['id', 'response', 'score', 'ranking', 'precision_at_k']]\n",
    "\n",
    "def precision_at_k(data, k=10):\n",
    "    data = data.reset_index(drop=True)\n",
    "    data['ranking'] = data.index + 1\n",
    "    \n",
    "    data['precision_at_k'] = data['response'].cumsum() / data['ranking']\n",
    "    \n",
    "    return (data.loc[ k, 'precision_at_k'], data)"
   ]
  },
  {
   "cell_type": "code",
   "execution_count": 112,
   "id": "aec697ee",
   "metadata": {
    "ExecuteTime": {
     "end_time": "2022-03-07T17:22:46.718305Z",
     "start_time": "2022-03-07T17:22:46.688961Z"
    }
   },
   "outputs": [],
   "source": [
    "def recall_at_k(data, k=15):\n",
    "    data = data.reset_index(drop=True)\n",
    "    data['ranking'] = data.index + 1\n",
    "    # copu\n",
    "    data['recall_at_k'] = data['response'].cumsum() / data['response'].sum()\n",
    "    \n",
    "    return (data.loc[ k, 'recall_at_k'], data)"
   ]
  },
  {
   "cell_type": "code",
   "execution_count": 113,
   "id": "b44fb87d",
   "metadata": {
    "ExecuteTime": {
     "end_time": "2022-03-07T17:22:52.950866Z",
     "start_time": "2022-03-07T17:22:52.616562Z"
    }
   },
   "outputs": [
    {
     "name": "stdout",
     "output_type": "stream",
     "text": [
      "Precision at K:(0.2549019607843137,            id    gender       age  region_code  policy_sales_channel  \\\n",
      "0       56740  0.104467  0.184615     0.186528              0.193960   \n",
      "1      119845  0.104467  0.153846     0.075414              0.193960   \n",
      "2      350943  0.137991  0.200000     0.186528              0.027889   \n",
      "3      234263  0.137991  0.215385     0.070457              0.003100   \n",
      "4        4672  0.137991  0.153846     0.075414              0.027889   \n",
      "...       ...       ...       ...          ...                   ...   \n",
      "76217  231036  0.104467  0.030769     0.125381              0.354312   \n",
      "76218  144274  0.137991  0.246154     0.095819              0.017629   \n",
      "76219  151980  0.137991  0.215385     0.101812              0.354312   \n",
      "76220    6493  0.137991  0.107692     0.186528              0.354312   \n",
      "76221   17757  0.137991  0.046154     0.070185              0.354312   \n",
      "\n",
      "       driving_license  vehicle_damage  previously_insured  annual_premium  \\\n",
      "0                    1               1                   0        0.391958   \n",
      "1                    1               0                   1       -0.382874   \n",
      "2                    1               1                   0       -1.621478   \n",
      "3                    1               1                   0       -1.621478   \n",
      "4                    1               1                   0       -1.621478   \n",
      "...                ...             ...                 ...             ...   \n",
      "76217                1               0                   1        0.659948   \n",
      "76218                1               0                   1       -1.621478   \n",
      "76219                1               0                   1        0.026802   \n",
      "76220                1               1                   1        0.912150   \n",
      "76221                1               0                   1        0.132849   \n",
      "\n",
      "        vintage  vehicle_age_below_1_year  vehicle_age_between_1_2_year  \\\n",
      "0      0.217993                         1                             0   \n",
      "1      0.681661                         0                             1   \n",
      "2      0.750865                         0                             1   \n",
      "3      0.114187                         1                             0   \n",
      "4      0.536332                         1                             0   \n",
      "...         ...                       ...                           ...   \n",
      "76217  0.370242                         1                             0   \n",
      "76218  0.107266                         0                             1   \n",
      "76219  0.878893                         0                             1   \n",
      "76220  0.415225                         1                             0   \n",
      "76221  0.719723                         1                             0   \n",
      "\n",
      "       vehicle_age_over_2_years  response  score  ranking  precision_at_k  \n",
      "0                             0         0    0.9        1        0.000000  \n",
      "1                             0         0    0.9        2        0.000000  \n",
      "2                             0         0    0.8        3        0.000000  \n",
      "3                             0         1    0.8        4        0.250000  \n",
      "4                             0         0    0.8        5        0.200000  \n",
      "...                         ...       ...    ...      ...             ...  \n",
      "76217                         0         0    0.0    76218        0.122504  \n",
      "76218                         0         0    0.0    76219        0.122502  \n",
      "76219                         0         0    0.0    76220        0.122501  \n",
      "76220                         0         0    0.0    76221        0.122499  \n",
      "76221                         0         0    0.0    76222        0.122497  \n",
      "\n",
      "[76222 rows x 17 columns])\n",
      "Recall at K:(0.0013923101638641962,            id    gender       age  region_code  policy_sales_channel  \\\n",
      "0       56740  0.104467  0.184615     0.186528              0.193960   \n",
      "1      119845  0.104467  0.153846     0.075414              0.193960   \n",
      "2      350943  0.137991  0.200000     0.186528              0.027889   \n",
      "3      234263  0.137991  0.215385     0.070457              0.003100   \n",
      "4        4672  0.137991  0.153846     0.075414              0.027889   \n",
      "...       ...       ...       ...          ...                   ...   \n",
      "76217  231036  0.104467  0.030769     0.125381              0.354312   \n",
      "76218  144274  0.137991  0.246154     0.095819              0.017629   \n",
      "76219  151980  0.137991  0.215385     0.101812              0.354312   \n",
      "76220    6493  0.137991  0.107692     0.186528              0.354312   \n",
      "76221   17757  0.137991  0.046154     0.070185              0.354312   \n",
      "\n",
      "       driving_license  vehicle_damage  previously_insured  annual_premium  \\\n",
      "0                    1               1                   0        0.391958   \n",
      "1                    1               0                   1       -0.382874   \n",
      "2                    1               1                   0       -1.621478   \n",
      "3                    1               1                   0       -1.621478   \n",
      "4                    1               1                   0       -1.621478   \n",
      "...                ...             ...                 ...             ...   \n",
      "76217                1               0                   1        0.659948   \n",
      "76218                1               0                   1       -1.621478   \n",
      "76219                1               0                   1        0.026802   \n",
      "76220                1               1                   1        0.912150   \n",
      "76221                1               0                   1        0.132849   \n",
      "\n",
      "        vintage  vehicle_age_below_1_year  vehicle_age_between_1_2_year  \\\n",
      "0      0.217993                         1                             0   \n",
      "1      0.681661                         0                             1   \n",
      "2      0.750865                         0                             1   \n",
      "3      0.114187                         1                             0   \n",
      "4      0.536332                         1                             0   \n",
      "...         ...                       ...                           ...   \n",
      "76217  0.370242                         1                             0   \n",
      "76218  0.107266                         0                             1   \n",
      "76219  0.878893                         0                             1   \n",
      "76220  0.415225                         1                             0   \n",
      "76221  0.719723                         1                             0   \n",
      "\n",
      "       vehicle_age_over_2_years  response  score  ranking  precision_at_k  \\\n",
      "0                             0         0    0.9        1        0.000000   \n",
      "1                             0         0    0.9        2        0.000000   \n",
      "2                             0         0    0.8        3        0.000000   \n",
      "3                             0         1    0.8        4        0.250000   \n",
      "4                             0         0    0.8        5        0.200000   \n",
      "...                         ...       ...    ...      ...             ...   \n",
      "76217                         0         0    0.0    76218        0.122504   \n",
      "76218                         0         0    0.0    76219        0.122502   \n",
      "76219                         0         0    0.0    76220        0.122501   \n",
      "76220                         0         0    0.0    76221        0.122499   \n",
      "76221                         0         0    0.0    76222        0.122497   \n",
      "\n",
      "       recall_at_k  \n",
      "0         0.000000  \n",
      "1         0.000000  \n",
      "2         0.000000  \n",
      "3         0.000107  \n",
      "4         0.000107  \n",
      "...            ...  \n",
      "76217     1.000000  \n",
      "76218     1.000000  \n",
      "76219     1.000000  \n",
      "76220     1.000000  \n",
      "76221     1.000000  \n",
      "\n",
      "[76222 rows x 18 columns])\n"
     ]
    }
   ],
   "source": [
    "# compute precision at k\n",
    "precision_at_50 = precision_at_k(df8, k=50)\n",
    "print(f'Precision at K:{precision_at_50}')\n",
    "\n",
    "# compute recall at k\n",
    "recall_at_50 = recall_at_k(df8, k=50)\n",
    "print(f'Recall at K:{recall_at_50}')"
   ]
  },
  {
   "cell_type": "markdown",
   "id": "7c61fc67",
   "metadata": {},
   "source": [
    "# 9"
   ]
  },
  {
   "cell_type": "code",
   "execution_count": null,
   "id": "8921a8f5",
   "metadata": {},
   "outputs": [],
   "source": []
  },
  {
   "cell_type": "code",
   "execution_count": null,
   "id": "8f87bbdf",
   "metadata": {},
   "outputs": [],
   "source": []
  },
  {
   "cell_type": "code",
   "execution_count": null,
   "id": "14ba375f",
   "metadata": {},
   "outputs": [],
   "source": []
  }
 ],
 "metadata": {
  "kernelspec": {
   "display_name": "HealthInsurance",
   "language": "python",
   "name": "healthinsurance"
  },
  "language_info": {
   "codemirror_mode": {
    "name": "ipython",
    "version": 3
   },
   "file_extension": ".py",
   "mimetype": "text/x-python",
   "name": "python",
   "nbconvert_exporter": "python",
   "pygments_lexer": "ipython3",
   "version": "3.8.0"
  },
  "varInspector": {
   "cols": {
    "lenName": 16,
    "lenType": 16,
    "lenVar": 40
   },
   "kernels_config": {
    "python": {
     "delete_cmd_postfix": "",
     "delete_cmd_prefix": "del ",
     "library": "var_list.py",
     "varRefreshCmd": "print(var_dic_list())"
    },
    "r": {
     "delete_cmd_postfix": ") ",
     "delete_cmd_prefix": "rm(",
     "library": "var_list.r",
     "varRefreshCmd": "cat(var_dic_list()) "
    }
   },
   "types_to_exclude": [
    "module",
    "function",
    "builtin_function_or_method",
    "instance",
    "_Feature"
   ],
   "window_display": false
  }
 },
 "nbformat": 4,
 "nbformat_minor": 5
}
